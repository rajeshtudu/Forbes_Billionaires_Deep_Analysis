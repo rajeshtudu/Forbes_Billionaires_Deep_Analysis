{
  "cells": [
    {
      "cell_type": "markdown",
      "metadata": {
        "id": "A-hMdjU6uomc"
      },
      "source": [
        "## Import Modules"
      ]
    },
    {
      "cell_type": "code",
      "execution_count": 2,
      "metadata": {
        "id": "wO08s5hquT-g"
      },
      "outputs": [],
      "source": [
        "import pandas as pd\n",
        "import numpy as np\n",
        "import matplotlib.pyplot as plt\n",
        "import seaborn as sns\n",
        "import plotly.express as px\n",
        "\n",
        "import warnings\n",
        "warnings.filterwarnings('ignore')"
      ]
    },
    {
      "cell_type": "markdown",
      "metadata": {
        "id": "cTfFewaCvpo7"
      },
      "source": [
        "## Loading Dataset"
      ]
    },
    {
      "cell_type": "code",
      "execution_count": 9,
      "metadata": {
        "id": "2uERvq4SvGCr"
      },
      "outputs": [],
      "source": [
        "df = pd.read_csv(r'C:\\Users\\tudur\\OneDrive\\Desktop\\Forbes Billionaires Deep Analysis\\2022_forbes_billionaires.csv')"
      ]
    },
    {
      "cell_type": "code",
      "execution_count": 10,
      "metadata": {
        "colab": {
          "base_uri": "https://localhost:8080/",
          "height": 206
        },
        "id": "rFPKO2TjvvSA",
        "outputId": "2bbf0800-3b36-42f6-ebae-1634d18845d4"
      },
      "outputs": [
        {
          "data": {
            "text/html": [
              "<div>\n",
              "<style scoped>\n",
              "    .dataframe tbody tr th:only-of-type {\n",
              "        vertical-align: middle;\n",
              "    }\n",
              "\n",
              "    .dataframe tbody tr th {\n",
              "        vertical-align: top;\n",
              "    }\n",
              "\n",
              "    .dataframe thead th {\n",
              "        text-align: right;\n",
              "    }\n",
              "</style>\n",
              "<table border=\"1\" class=\"dataframe\">\n",
              "  <thead>\n",
              "    <tr style=\"text-align: right;\">\n",
              "      <th></th>\n",
              "      <th>Unnamed: 0</th>\n",
              "      <th>rank</th>\n",
              "      <th>name</th>\n",
              "      <th>networth</th>\n",
              "      <th>age</th>\n",
              "      <th>country</th>\n",
              "      <th>source</th>\n",
              "      <th>industry</th>\n",
              "    </tr>\n",
              "  </thead>\n",
              "  <tbody>\n",
              "    <tr>\n",
              "      <th>0</th>\n",
              "      <td>0</td>\n",
              "      <td>1</td>\n",
              "      <td>Elon Musk</td>\n",
              "      <td>$219 B</td>\n",
              "      <td>50</td>\n",
              "      <td>United States</td>\n",
              "      <td>Tesla, SpaceX</td>\n",
              "      <td>Automotive</td>\n",
              "    </tr>\n",
              "    <tr>\n",
              "      <th>1</th>\n",
              "      <td>1</td>\n",
              "      <td>2</td>\n",
              "      <td>Jeff Bezos</td>\n",
              "      <td>$171 B</td>\n",
              "      <td>58</td>\n",
              "      <td>United States</td>\n",
              "      <td>Amazon</td>\n",
              "      <td>Technology</td>\n",
              "    </tr>\n",
              "    <tr>\n",
              "      <th>2</th>\n",
              "      <td>2</td>\n",
              "      <td>3</td>\n",
              "      <td>Bernard Arnault &amp; family</td>\n",
              "      <td>$158 B</td>\n",
              "      <td>73</td>\n",
              "      <td>France</td>\n",
              "      <td>LVMH</td>\n",
              "      <td>Fashion &amp; Retail</td>\n",
              "    </tr>\n",
              "    <tr>\n",
              "      <th>3</th>\n",
              "      <td>3</td>\n",
              "      <td>4</td>\n",
              "      <td>Bill Gates</td>\n",
              "      <td>$129 B</td>\n",
              "      <td>66</td>\n",
              "      <td>United States</td>\n",
              "      <td>Microsoft</td>\n",
              "      <td>Technology</td>\n",
              "    </tr>\n",
              "    <tr>\n",
              "      <th>4</th>\n",
              "      <td>4</td>\n",
              "      <td>5</td>\n",
              "      <td>Warren Buffett</td>\n",
              "      <td>$118 B</td>\n",
              "      <td>91</td>\n",
              "      <td>United States</td>\n",
              "      <td>Berkshire Hathaway</td>\n",
              "      <td>Finance &amp; Investments</td>\n",
              "    </tr>\n",
              "  </tbody>\n",
              "</table>\n",
              "</div>"
            ],
            "text/plain": [
              "   Unnamed: 0  rank                       name networth  age        country  \\\n",
              "0           0     1                 Elon Musk    $219 B   50  United States   \n",
              "1           1     2                Jeff Bezos    $171 B   58  United States   \n",
              "2           2     3  Bernard Arnault & family    $158 B   73         France   \n",
              "3           3     4                Bill Gates    $129 B   66  United States   \n",
              "4           4     5            Warren Buffett    $118 B   91  United States   \n",
              "\n",
              "               source                industry  \n",
              "0       Tesla, SpaceX             Automotive   \n",
              "1              Amazon             Technology   \n",
              "2                LVMH       Fashion & Retail   \n",
              "3           Microsoft             Technology   \n",
              "4  Berkshire Hathaway  Finance & Investments   "
            ]
          },
          "execution_count": 10,
          "metadata": {},
          "output_type": "execute_result"
        }
      ],
      "source": [
        "df.head() # check top 5 rows"
      ]
    },
    {
      "cell_type": "code",
      "execution_count": 11,
      "metadata": {
        "colab": {
          "base_uri": "https://localhost:8080/"
        },
        "id": "bob_-nalv4nM",
        "outputId": "64cf207f-6849-4741-dfb3-d8d1a2756823"
      },
      "outputs": [
        {
          "data": {
            "text/plain": [
              "(2600, 8)"
            ]
          },
          "execution_count": 11,
          "metadata": {},
          "output_type": "execute_result"
        }
      ],
      "source": [
        "# no of rows and cols\n",
        "df.shape"
      ]
    },
    {
      "cell_type": "code",
      "execution_count": 12,
      "metadata": {
        "colab": {
          "base_uri": "https://localhost:8080/"
        },
        "id": "l8jE4IVNv_FH",
        "outputId": "f058c307-ab0b-4dbb-ee8d-230118bbd899"
      },
      "outputs": [
        {
          "name": "stdout",
          "output_type": "stream",
          "text": [
            "<class 'pandas.core.frame.DataFrame'>\n",
            "RangeIndex: 2600 entries, 0 to 2599\n",
            "Data columns (total 8 columns):\n",
            " #   Column      Non-Null Count  Dtype \n",
            "---  ------      --------------  ----- \n",
            " 0   Unnamed: 0  2600 non-null   int64 \n",
            " 1   rank        2600 non-null   int64 \n",
            " 2   name        2600 non-null   object\n",
            " 3   networth    2600 non-null   object\n",
            " 4   age         2600 non-null   int64 \n",
            " 5   country     2600 non-null   object\n",
            " 6   source      2600 non-null   object\n",
            " 7   industry    2600 non-null   object\n",
            "dtypes: int64(3), object(5)\n",
            "memory usage: 162.6+ KB\n"
          ]
        }
      ],
      "source": [
        "# summary of datatype and no-null values\n",
        "df.info()"
      ]
    },
    {
      "cell_type": "markdown",
      "metadata": {
        "id": "xYPls5rBwPbD"
      },
      "source": [
        "## Data Cleaning"
      ]
    },
    {
      "cell_type": "code",
      "execution_count": 13,
      "metadata": {
        "colab": {
          "base_uri": "https://localhost:8080/",
          "height": 335
        },
        "id": "5uXnUwYKwSjM",
        "outputId": "e2f8b9bf-9611-4688-f701-6d8d7bf1f968"
      },
      "outputs": [
        {
          "data": {
            "text/plain": [
              "Unnamed: 0    0\n",
              "rank          0\n",
              "name          0\n",
              "networth      0\n",
              "age           0\n",
              "country       0\n",
              "source        0\n",
              "industry      0\n",
              "dtype: int64"
            ]
          },
          "execution_count": 13,
          "metadata": {},
          "output_type": "execute_result"
        }
      ],
      "source": [
        "df.isnull().sum()"
      ]
    },
    {
      "cell_type": "markdown",
      "metadata": {
        "id": "jdczhwBPHnMr"
      },
      "source": [
        "The dataset is does not have any null values. Now let's see if it contains any duplicated values or not."
      ]
    },
    {
      "cell_type": "code",
      "execution_count": 14,
      "metadata": {
        "colab": {
          "base_uri": "https://localhost:8080/"
        },
        "id": "4xibHzDzwVUC",
        "outputId": "6b06b8b2-d216-4ade-e109-83efc02ed46d"
      },
      "outputs": [
        {
          "name": "stdout",
          "output_type": "stream",
          "text": [
            "Total Number of Duplicate Values: 0\n"
          ]
        }
      ],
      "source": [
        "# check for duplicates\n",
        "print(f'Total Number of Duplicate Values:', df.duplicated().sum())"
      ]
    },
    {
      "cell_type": "markdown",
      "metadata": {
        "id": "ncaRIVAwHqKz"
      },
      "source": [
        "There are no duplicated values and neither null values. It means that the dataset is already cleaned. Now let's drop the irrelevant columns from the dataset which is also a part of data cleaning."
      ]
    },
    {
      "cell_type": "code",
      "execution_count": 15,
      "metadata": {
        "id": "-wx-EP5OwsQC"
      },
      "outputs": [],
      "source": [
        "# remove the columns which are not needed\n",
        "df.drop(columns=['Unnamed: 0', 'rank'], axis = 'columns', inplace = True)"
      ]
    },
    {
      "cell_type": "markdown",
      "metadata": {
        "id": "xti_C0CJHs3L"
      },
      "source": [
        "The irrelevant columns are now dropped and now we have 6 useful columns remaining. We can see that the networth columns is of object type and contains a string so i'm going to stip them from the values inside networth column. Later i'll convert the networth datatype to float that is essential to do."
      ]
    },
    {
      "cell_type": "code",
      "execution_count": 16,
      "metadata": {
        "id": "hP7g1J9MxCb0"
      },
      "outputs": [],
      "source": [
        "df['networth'] = df['networth'].str.strip('$').str.strip('B')\n",
        "df['networth'] = df['networth'].astype(float)"
      ]
    },
    {
      "cell_type": "markdown",
      "metadata": {
        "id": "jrSVrMiBxYvT"
      },
      "source": [
        "## Exploratory Data Analysis"
      ]
    },
    {
      "cell_type": "code",
      "execution_count": 17,
      "metadata": {
        "colab": {
          "base_uri": "https://localhost:8080/",
          "height": 300
        },
        "id": "fPgsGeulwEoy",
        "outputId": "b9e0468e-7df5-472c-a786-647f4cf8283d"
      },
      "outputs": [
        {
          "data": {
            "text/html": [
              "<div>\n",
              "<style scoped>\n",
              "    .dataframe tbody tr th:only-of-type {\n",
              "        vertical-align: middle;\n",
              "    }\n",
              "\n",
              "    .dataframe tbody tr th {\n",
              "        vertical-align: top;\n",
              "    }\n",
              "\n",
              "    .dataframe thead th {\n",
              "        text-align: right;\n",
              "    }\n",
              "</style>\n",
              "<table border=\"1\" class=\"dataframe\">\n",
              "  <thead>\n",
              "    <tr style=\"text-align: right;\">\n",
              "      <th></th>\n",
              "      <th>networth</th>\n",
              "      <th>age</th>\n",
              "    </tr>\n",
              "  </thead>\n",
              "  <tbody>\n",
              "    <tr>\n",
              "      <th>count</th>\n",
              "      <td>2600.000000</td>\n",
              "      <td>2600.000000</td>\n",
              "    </tr>\n",
              "    <tr>\n",
              "      <th>mean</th>\n",
              "      <td>4.860750</td>\n",
              "      <td>64.271923</td>\n",
              "    </tr>\n",
              "    <tr>\n",
              "      <th>std</th>\n",
              "      <td>10.659671</td>\n",
              "      <td>13.220607</td>\n",
              "    </tr>\n",
              "    <tr>\n",
              "      <th>min</th>\n",
              "      <td>1.000000</td>\n",
              "      <td>19.000000</td>\n",
              "    </tr>\n",
              "    <tr>\n",
              "      <th>25%</th>\n",
              "      <td>1.500000</td>\n",
              "      <td>55.000000</td>\n",
              "    </tr>\n",
              "    <tr>\n",
              "      <th>50%</th>\n",
              "      <td>2.400000</td>\n",
              "      <td>64.000000</td>\n",
              "    </tr>\n",
              "    <tr>\n",
              "      <th>75%</th>\n",
              "      <td>4.500000</td>\n",
              "      <td>74.000000</td>\n",
              "    </tr>\n",
              "    <tr>\n",
              "      <th>max</th>\n",
              "      <td>219.000000</td>\n",
              "      <td>100.000000</td>\n",
              "    </tr>\n",
              "  </tbody>\n",
              "</table>\n",
              "</div>"
            ],
            "text/plain": [
              "          networth          age\n",
              "count  2600.000000  2600.000000\n",
              "mean      4.860750    64.271923\n",
              "std      10.659671    13.220607\n",
              "min       1.000000    19.000000\n",
              "25%       1.500000    55.000000\n",
              "50%       2.400000    64.000000\n",
              "75%       4.500000    74.000000\n",
              "max     219.000000   100.000000"
            ]
          },
          "execution_count": 17,
          "metadata": {},
          "output_type": "execute_result"
        }
      ],
      "source": [
        "# statistical description of numerical values\n",
        "df.describe()"
      ]
    },
    {
      "cell_type": "markdown",
      "metadata": {
        "id": "5nxh_awkHySl"
      },
      "source": [
        "Insights\n",
        "\n",
        "- The maxium networth of a billionaire is 219 B dollars and the minimum networth is 1 B. The networth on average is 4.8 B dollars.\n",
        "The maxium age of a billionaire is 100 years and the youngest age is 19. The age on average is 64 years."
      ]
    },
    {
      "cell_type": "markdown",
      "metadata": {
        "id": "zX_0yQ2iyOH5"
      },
      "source": [
        "### Analysis according to name and networth"
      ]
    },
    {
      "cell_type": "markdown",
      "metadata": {
        "id": "yC8seitRH2OJ"
      },
      "source": [
        "Who are top 10 billionanaires and their networth?"
      ]
    },
    {
      "cell_type": "code",
      "execution_count": 18,
      "metadata": {
        "colab": {
          "base_uri": "https://localhost:8080/",
          "height": 542
        },
        "id": "BDgzzqGbwJNe",
        "outputId": "57ef7c18-097b-4982-c045-72c9a69f39b1"
      },
      "outputs": [
        {
          "data": {
            "application/vnd.plotly.v1+json": {
              "config": {
                "plotlyServerURL": "https://plot.ly"
              },
              "data": [
                {
                  "hovertemplate": "name=%{x}<br>networth=%{marker.color}<extra></extra>",
                  "legendgroup": "",
                  "marker": {
                    "color": {
                      "bdata": "AAAAAABga0AAAAAAAGBlQAAAAAAAwGNAAAAAAAAgYEAAAAAAAIBdQAAAAAAAwFtAAAAAAADAWkAAAAAAAIBaQJqZmZmZ2VZAzczMzMysVkA=",
                      "dtype": "f8"
                    },
                    "coloraxis": "coloraxis",
                    "opacity": 0.8,
                    "pattern": {
                      "shape": ""
                    }
                  },
                  "name": "",
                  "orientation": "v",
                  "showlegend": false,
                  "textposition": "auto",
                  "type": "bar",
                  "x": [
                    "Elon Musk ",
                    "Jeff Bezos ",
                    "Bernard Arnault & family ",
                    "Bill Gates ",
                    "Warren Buffett ",
                    "Larry Page ",
                    "Sergey Brin ",
                    "Larry Ellison ",
                    "Steve Ballmer ",
                    "Mukesh Ambani "
                  ],
                  "xaxis": "x",
                  "y": {
                    "bdata": "AAAAAABga0AAAAAAAGBlQAAAAAAAwGNAAAAAAAAgYEAAAAAAAIBdQAAAAAAAwFtAAAAAAADAWkAAAAAAAIBaQJqZmZmZ2VZAzczMzMysVkA=",
                    "dtype": "f8"
                  },
                  "yaxis": "y"
                }
              ],
              "layout": {
                "barmode": "relative",
                "coloraxis": {
                  "colorbar": {
                    "title": {
                      "text": "networth"
                    }
                  },
                  "colorscale": [
                    [
                      0,
                      "#0d0887"
                    ],
                    [
                      0.1111111111111111,
                      "#46039f"
                    ],
                    [
                      0.2222222222222222,
                      "#7201a8"
                    ],
                    [
                      0.3333333333333333,
                      "#9c179e"
                    ],
                    [
                      0.4444444444444444,
                      "#bd3786"
                    ],
                    [
                      0.5555555555555556,
                      "#d8576b"
                    ],
                    [
                      0.6666666666666666,
                      "#ed7953"
                    ],
                    [
                      0.7777777777777778,
                      "#fb9f3a"
                    ],
                    [
                      0.8888888888888888,
                      "#fdca26"
                    ],
                    [
                      1,
                      "#f0f921"
                    ]
                  ]
                },
                "legend": {
                  "tracegroupgap": 0
                },
                "template": {
                  "data": {
                    "bar": [
                      {
                        "error_x": {
                          "color": "#f2f5fa"
                        },
                        "error_y": {
                          "color": "#f2f5fa"
                        },
                        "marker": {
                          "line": {
                            "color": "rgb(17,17,17)",
                            "width": 0.5
                          },
                          "pattern": {
                            "fillmode": "overlay",
                            "size": 10,
                            "solidity": 0.2
                          }
                        },
                        "type": "bar"
                      }
                    ],
                    "barpolar": [
                      {
                        "marker": {
                          "line": {
                            "color": "rgb(17,17,17)",
                            "width": 0.5
                          },
                          "pattern": {
                            "fillmode": "overlay",
                            "size": 10,
                            "solidity": 0.2
                          }
                        },
                        "type": "barpolar"
                      }
                    ],
                    "carpet": [
                      {
                        "aaxis": {
                          "endlinecolor": "#A2B1C6",
                          "gridcolor": "#506784",
                          "linecolor": "#506784",
                          "minorgridcolor": "#506784",
                          "startlinecolor": "#A2B1C6"
                        },
                        "baxis": {
                          "endlinecolor": "#A2B1C6",
                          "gridcolor": "#506784",
                          "linecolor": "#506784",
                          "minorgridcolor": "#506784",
                          "startlinecolor": "#A2B1C6"
                        },
                        "type": "carpet"
                      }
                    ],
                    "choropleth": [
                      {
                        "colorbar": {
                          "outlinewidth": 0,
                          "ticks": ""
                        },
                        "type": "choropleth"
                      }
                    ],
                    "contour": [
                      {
                        "colorbar": {
                          "outlinewidth": 0,
                          "ticks": ""
                        },
                        "colorscale": [
                          [
                            0,
                            "#0d0887"
                          ],
                          [
                            0.1111111111111111,
                            "#46039f"
                          ],
                          [
                            0.2222222222222222,
                            "#7201a8"
                          ],
                          [
                            0.3333333333333333,
                            "#9c179e"
                          ],
                          [
                            0.4444444444444444,
                            "#bd3786"
                          ],
                          [
                            0.5555555555555556,
                            "#d8576b"
                          ],
                          [
                            0.6666666666666666,
                            "#ed7953"
                          ],
                          [
                            0.7777777777777778,
                            "#fb9f3a"
                          ],
                          [
                            0.8888888888888888,
                            "#fdca26"
                          ],
                          [
                            1,
                            "#f0f921"
                          ]
                        ],
                        "type": "contour"
                      }
                    ],
                    "contourcarpet": [
                      {
                        "colorbar": {
                          "outlinewidth": 0,
                          "ticks": ""
                        },
                        "type": "contourcarpet"
                      }
                    ],
                    "heatmap": [
                      {
                        "colorbar": {
                          "outlinewidth": 0,
                          "ticks": ""
                        },
                        "colorscale": [
                          [
                            0,
                            "#0d0887"
                          ],
                          [
                            0.1111111111111111,
                            "#46039f"
                          ],
                          [
                            0.2222222222222222,
                            "#7201a8"
                          ],
                          [
                            0.3333333333333333,
                            "#9c179e"
                          ],
                          [
                            0.4444444444444444,
                            "#bd3786"
                          ],
                          [
                            0.5555555555555556,
                            "#d8576b"
                          ],
                          [
                            0.6666666666666666,
                            "#ed7953"
                          ],
                          [
                            0.7777777777777778,
                            "#fb9f3a"
                          ],
                          [
                            0.8888888888888888,
                            "#fdca26"
                          ],
                          [
                            1,
                            "#f0f921"
                          ]
                        ],
                        "type": "heatmap"
                      }
                    ],
                    "histogram": [
                      {
                        "marker": {
                          "pattern": {
                            "fillmode": "overlay",
                            "size": 10,
                            "solidity": 0.2
                          }
                        },
                        "type": "histogram"
                      }
                    ],
                    "histogram2d": [
                      {
                        "colorbar": {
                          "outlinewidth": 0,
                          "ticks": ""
                        },
                        "colorscale": [
                          [
                            0,
                            "#0d0887"
                          ],
                          [
                            0.1111111111111111,
                            "#46039f"
                          ],
                          [
                            0.2222222222222222,
                            "#7201a8"
                          ],
                          [
                            0.3333333333333333,
                            "#9c179e"
                          ],
                          [
                            0.4444444444444444,
                            "#bd3786"
                          ],
                          [
                            0.5555555555555556,
                            "#d8576b"
                          ],
                          [
                            0.6666666666666666,
                            "#ed7953"
                          ],
                          [
                            0.7777777777777778,
                            "#fb9f3a"
                          ],
                          [
                            0.8888888888888888,
                            "#fdca26"
                          ],
                          [
                            1,
                            "#f0f921"
                          ]
                        ],
                        "type": "histogram2d"
                      }
                    ],
                    "histogram2dcontour": [
                      {
                        "colorbar": {
                          "outlinewidth": 0,
                          "ticks": ""
                        },
                        "colorscale": [
                          [
                            0,
                            "#0d0887"
                          ],
                          [
                            0.1111111111111111,
                            "#46039f"
                          ],
                          [
                            0.2222222222222222,
                            "#7201a8"
                          ],
                          [
                            0.3333333333333333,
                            "#9c179e"
                          ],
                          [
                            0.4444444444444444,
                            "#bd3786"
                          ],
                          [
                            0.5555555555555556,
                            "#d8576b"
                          ],
                          [
                            0.6666666666666666,
                            "#ed7953"
                          ],
                          [
                            0.7777777777777778,
                            "#fb9f3a"
                          ],
                          [
                            0.8888888888888888,
                            "#fdca26"
                          ],
                          [
                            1,
                            "#f0f921"
                          ]
                        ],
                        "type": "histogram2dcontour"
                      }
                    ],
                    "mesh3d": [
                      {
                        "colorbar": {
                          "outlinewidth": 0,
                          "ticks": ""
                        },
                        "type": "mesh3d"
                      }
                    ],
                    "parcoords": [
                      {
                        "line": {
                          "colorbar": {
                            "outlinewidth": 0,
                            "ticks": ""
                          }
                        },
                        "type": "parcoords"
                      }
                    ],
                    "pie": [
                      {
                        "automargin": true,
                        "type": "pie"
                      }
                    ],
                    "scatter": [
                      {
                        "marker": {
                          "line": {
                            "color": "#283442"
                          }
                        },
                        "type": "scatter"
                      }
                    ],
                    "scatter3d": [
                      {
                        "line": {
                          "colorbar": {
                            "outlinewidth": 0,
                            "ticks": ""
                          }
                        },
                        "marker": {
                          "colorbar": {
                            "outlinewidth": 0,
                            "ticks": ""
                          }
                        },
                        "type": "scatter3d"
                      }
                    ],
                    "scattercarpet": [
                      {
                        "marker": {
                          "colorbar": {
                            "outlinewidth": 0,
                            "ticks": ""
                          }
                        },
                        "type": "scattercarpet"
                      }
                    ],
                    "scattergeo": [
                      {
                        "marker": {
                          "colorbar": {
                            "outlinewidth": 0,
                            "ticks": ""
                          }
                        },
                        "type": "scattergeo"
                      }
                    ],
                    "scattergl": [
                      {
                        "marker": {
                          "line": {
                            "color": "#283442"
                          }
                        },
                        "type": "scattergl"
                      }
                    ],
                    "scattermap": [
                      {
                        "marker": {
                          "colorbar": {
                            "outlinewidth": 0,
                            "ticks": ""
                          }
                        },
                        "type": "scattermap"
                      }
                    ],
                    "scattermapbox": [
                      {
                        "marker": {
                          "colorbar": {
                            "outlinewidth": 0,
                            "ticks": ""
                          }
                        },
                        "type": "scattermapbox"
                      }
                    ],
                    "scatterpolar": [
                      {
                        "marker": {
                          "colorbar": {
                            "outlinewidth": 0,
                            "ticks": ""
                          }
                        },
                        "type": "scatterpolar"
                      }
                    ],
                    "scatterpolargl": [
                      {
                        "marker": {
                          "colorbar": {
                            "outlinewidth": 0,
                            "ticks": ""
                          }
                        },
                        "type": "scatterpolargl"
                      }
                    ],
                    "scatterternary": [
                      {
                        "marker": {
                          "colorbar": {
                            "outlinewidth": 0,
                            "ticks": ""
                          }
                        },
                        "type": "scatterternary"
                      }
                    ],
                    "surface": [
                      {
                        "colorbar": {
                          "outlinewidth": 0,
                          "ticks": ""
                        },
                        "colorscale": [
                          [
                            0,
                            "#0d0887"
                          ],
                          [
                            0.1111111111111111,
                            "#46039f"
                          ],
                          [
                            0.2222222222222222,
                            "#7201a8"
                          ],
                          [
                            0.3333333333333333,
                            "#9c179e"
                          ],
                          [
                            0.4444444444444444,
                            "#bd3786"
                          ],
                          [
                            0.5555555555555556,
                            "#d8576b"
                          ],
                          [
                            0.6666666666666666,
                            "#ed7953"
                          ],
                          [
                            0.7777777777777778,
                            "#fb9f3a"
                          ],
                          [
                            0.8888888888888888,
                            "#fdca26"
                          ],
                          [
                            1,
                            "#f0f921"
                          ]
                        ],
                        "type": "surface"
                      }
                    ],
                    "table": [
                      {
                        "cells": {
                          "fill": {
                            "color": "#506784"
                          },
                          "line": {
                            "color": "rgb(17,17,17)"
                          }
                        },
                        "header": {
                          "fill": {
                            "color": "#2a3f5f"
                          },
                          "line": {
                            "color": "rgb(17,17,17)"
                          }
                        },
                        "type": "table"
                      }
                    ]
                  },
                  "layout": {
                    "annotationdefaults": {
                      "arrowcolor": "#f2f5fa",
                      "arrowhead": 0,
                      "arrowwidth": 1
                    },
                    "autotypenumbers": "strict",
                    "coloraxis": {
                      "colorbar": {
                        "outlinewidth": 0,
                        "ticks": ""
                      }
                    },
                    "colorscale": {
                      "diverging": [
                        [
                          0,
                          "#8e0152"
                        ],
                        [
                          0.1,
                          "#c51b7d"
                        ],
                        [
                          0.2,
                          "#de77ae"
                        ],
                        [
                          0.3,
                          "#f1b6da"
                        ],
                        [
                          0.4,
                          "#fde0ef"
                        ],
                        [
                          0.5,
                          "#f7f7f7"
                        ],
                        [
                          0.6,
                          "#e6f5d0"
                        ],
                        [
                          0.7,
                          "#b8e186"
                        ],
                        [
                          0.8,
                          "#7fbc41"
                        ],
                        [
                          0.9,
                          "#4d9221"
                        ],
                        [
                          1,
                          "#276419"
                        ]
                      ],
                      "sequential": [
                        [
                          0,
                          "#0d0887"
                        ],
                        [
                          0.1111111111111111,
                          "#46039f"
                        ],
                        [
                          0.2222222222222222,
                          "#7201a8"
                        ],
                        [
                          0.3333333333333333,
                          "#9c179e"
                        ],
                        [
                          0.4444444444444444,
                          "#bd3786"
                        ],
                        [
                          0.5555555555555556,
                          "#d8576b"
                        ],
                        [
                          0.6666666666666666,
                          "#ed7953"
                        ],
                        [
                          0.7777777777777778,
                          "#fb9f3a"
                        ],
                        [
                          0.8888888888888888,
                          "#fdca26"
                        ],
                        [
                          1,
                          "#f0f921"
                        ]
                      ],
                      "sequentialminus": [
                        [
                          0,
                          "#0d0887"
                        ],
                        [
                          0.1111111111111111,
                          "#46039f"
                        ],
                        [
                          0.2222222222222222,
                          "#7201a8"
                        ],
                        [
                          0.3333333333333333,
                          "#9c179e"
                        ],
                        [
                          0.4444444444444444,
                          "#bd3786"
                        ],
                        [
                          0.5555555555555556,
                          "#d8576b"
                        ],
                        [
                          0.6666666666666666,
                          "#ed7953"
                        ],
                        [
                          0.7777777777777778,
                          "#fb9f3a"
                        ],
                        [
                          0.8888888888888888,
                          "#fdca26"
                        ],
                        [
                          1,
                          "#f0f921"
                        ]
                      ]
                    },
                    "colorway": [
                      "#636efa",
                      "#EF553B",
                      "#00cc96",
                      "#ab63fa",
                      "#FFA15A",
                      "#19d3f3",
                      "#FF6692",
                      "#B6E880",
                      "#FF97FF",
                      "#FECB52"
                    ],
                    "font": {
                      "color": "#f2f5fa"
                    },
                    "geo": {
                      "bgcolor": "rgb(17,17,17)",
                      "lakecolor": "rgb(17,17,17)",
                      "landcolor": "rgb(17,17,17)",
                      "showlakes": true,
                      "showland": true,
                      "subunitcolor": "#506784"
                    },
                    "hoverlabel": {
                      "align": "left"
                    },
                    "hovermode": "closest",
                    "mapbox": {
                      "style": "dark"
                    },
                    "paper_bgcolor": "rgb(17,17,17)",
                    "plot_bgcolor": "rgb(17,17,17)",
                    "polar": {
                      "angularaxis": {
                        "gridcolor": "#506784",
                        "linecolor": "#506784",
                        "ticks": ""
                      },
                      "bgcolor": "rgb(17,17,17)",
                      "radialaxis": {
                        "gridcolor": "#506784",
                        "linecolor": "#506784",
                        "ticks": ""
                      }
                    },
                    "scene": {
                      "xaxis": {
                        "backgroundcolor": "rgb(17,17,17)",
                        "gridcolor": "#506784",
                        "gridwidth": 2,
                        "linecolor": "#506784",
                        "showbackground": true,
                        "ticks": "",
                        "zerolinecolor": "#C8D4E3"
                      },
                      "yaxis": {
                        "backgroundcolor": "rgb(17,17,17)",
                        "gridcolor": "#506784",
                        "gridwidth": 2,
                        "linecolor": "#506784",
                        "showbackground": true,
                        "ticks": "",
                        "zerolinecolor": "#C8D4E3"
                      },
                      "zaxis": {
                        "backgroundcolor": "rgb(17,17,17)",
                        "gridcolor": "#506784",
                        "gridwidth": 2,
                        "linecolor": "#506784",
                        "showbackground": true,
                        "ticks": "",
                        "zerolinecolor": "#C8D4E3"
                      }
                    },
                    "shapedefaults": {
                      "line": {
                        "color": "#f2f5fa"
                      }
                    },
                    "sliderdefaults": {
                      "bgcolor": "#C8D4E3",
                      "bordercolor": "rgb(17,17,17)",
                      "borderwidth": 1,
                      "tickwidth": 0
                    },
                    "ternary": {
                      "aaxis": {
                        "gridcolor": "#506784",
                        "linecolor": "#506784",
                        "ticks": ""
                      },
                      "baxis": {
                        "gridcolor": "#506784",
                        "linecolor": "#506784",
                        "ticks": ""
                      },
                      "bgcolor": "rgb(17,17,17)",
                      "caxis": {
                        "gridcolor": "#506784",
                        "linecolor": "#506784",
                        "ticks": ""
                      }
                    },
                    "title": {
                      "x": 0.05
                    },
                    "updatemenudefaults": {
                      "bgcolor": "#506784",
                      "borderwidth": 0
                    },
                    "xaxis": {
                      "automargin": true,
                      "gridcolor": "#283442",
                      "linecolor": "#506784",
                      "ticks": "",
                      "title": {
                        "standoff": 15
                      },
                      "zerolinecolor": "#283442",
                      "zerolinewidth": 2
                    },
                    "yaxis": {
                      "automargin": true,
                      "gridcolor": "#283442",
                      "linecolor": "#506784",
                      "ticks": "",
                      "title": {
                        "standoff": 15
                      },
                      "zerolinecolor": "#283442",
                      "zerolinewidth": 2
                    }
                  }
                },
                "title": {
                  "text": "<b>Top 10 billionanaires and their networth"
                },
                "xaxis": {
                  "anchor": "y",
                  "domain": [
                    0,
                    1
                  ],
                  "title": {
                    "text": "name"
                  }
                },
                "yaxis": {
                  "anchor": "x",
                  "domain": [
                    0,
                    1
                  ],
                  "title": {
                    "text": "networth"
                  }
                }
              }
            }
          },
          "metadata": {},
          "output_type": "display_data"
        }
      ],
      "source": [
        "# top 10 billionanaires and their networth\n",
        "fig = px.bar(df.sort_values(\n",
        "    by = 'networth',\n",
        "    ascending = False)[:10],\n",
        "    x = 'name',\n",
        "    y = 'networth',\n",
        "    template = 'plotly_dark',\n",
        "    color = 'networth',\n",
        "    opacity = 0.8,\n",
        "    title='<b>Top 10 billionanaires and their networth')\n",
        "fig.show()"
      ]
    },
    {
      "cell_type": "markdown",
      "metadata": {
        "id": "nZFifcUmH38s"
      },
      "source": [
        "Insights\n",
        "\n",
        "- Elon Must has the highest networth of 219 B dollars.\n",
        "Steve Ballmer has the lowest networth of 90.4 B dollars in top 10 billionaires."
      ]
    },
    {
      "cell_type": "markdown",
      "metadata": {
        "id": "XFQw9YKrH7ZD"
      },
      "source": [
        "What are the countries of top 10 billionaires?"
      ]
    },
    {
      "cell_type": "code",
      "execution_count": 19,
      "metadata": {
        "colab": {
          "base_uri": "https://localhost:8080/",
          "height": 542
        },
        "id": "9k2XYOWhzLJ-",
        "outputId": "0c35c5eb-7b33-47d6-9329-09b54a1cdd57"
      },
      "outputs": [
        {
          "data": {
            "application/vnd.plotly.v1+json": {
              "config": {
                "plotlyServerURL": "https://plot.ly"
              },
              "data": [
                {
                  "hovertemplate": "country=United States<br>name=%{x}<br>networth=%{marker.size}<extra></extra>",
                  "legendgroup": "United States",
                  "marker": {
                    "color": "#636efa",
                    "opacity": 0.85,
                    "size": {
                      "bdata": "AAAAAABga0AAAAAAAGBlQAAAAAAAIGBAAAAAAACAXUAAAAAAAMBbQAAAAAAAwFpAAAAAAACAWkCamZmZmdlWQA==",
                      "dtype": "f8"
                    },
                    "sizemode": "area",
                    "sizeref": 0.5475,
                    "symbol": "circle"
                  },
                  "mode": "markers",
                  "name": "United States",
                  "orientation": "v",
                  "showlegend": true,
                  "type": "scatter",
                  "x": [
                    "Elon Musk ",
                    "Jeff Bezos ",
                    "Bill Gates ",
                    "Warren Buffett ",
                    "Larry Page ",
                    "Sergey Brin ",
                    "Larry Ellison ",
                    "Steve Ballmer "
                  ],
                  "xaxis": "x",
                  "y": {
                    "bdata": "AAAAAABga0AAAAAAAGBlQAAAAAAAIGBAAAAAAACAXUAAAAAAAMBbQAAAAAAAwFpAAAAAAACAWkCamZmZmdlWQA==",
                    "dtype": "f8"
                  },
                  "yaxis": "y"
                },
                {
                  "hovertemplate": "country=France<br>name=%{x}<br>networth=%{marker.size}<extra></extra>",
                  "legendgroup": "France",
                  "marker": {
                    "color": "#EF553B",
                    "opacity": 0.85,
                    "size": {
                      "bdata": "AAAAAADAY0A=",
                      "dtype": "f8"
                    },
                    "sizemode": "area",
                    "sizeref": 0.5475,
                    "symbol": "circle"
                  },
                  "mode": "markers",
                  "name": "France",
                  "orientation": "v",
                  "showlegend": true,
                  "type": "scatter",
                  "x": [
                    "Bernard Arnault & family "
                  ],
                  "xaxis": "x",
                  "y": {
                    "bdata": "AAAAAADAY0A=",
                    "dtype": "f8"
                  },
                  "yaxis": "y"
                },
                {
                  "hovertemplate": "country=India<br>name=%{x}<br>networth=%{marker.size}<extra></extra>",
                  "legendgroup": "India",
                  "marker": {
                    "color": "#00cc96",
                    "opacity": 0.85,
                    "size": {
                      "bdata": "zczMzMysVkA=",
                      "dtype": "f8"
                    },
                    "sizemode": "area",
                    "sizeref": 0.5475,
                    "symbol": "circle"
                  },
                  "mode": "markers",
                  "name": "India",
                  "orientation": "v",
                  "showlegend": true,
                  "type": "scatter",
                  "x": [
                    "Mukesh Ambani "
                  ],
                  "xaxis": "x",
                  "y": {
                    "bdata": "zczMzMysVkA=",
                    "dtype": "f8"
                  },
                  "yaxis": "y"
                }
              ],
              "layout": {
                "legend": {
                  "itemsizing": "constant",
                  "title": {
                    "text": "country"
                  },
                  "tracegroupgap": 0
                },
                "template": {
                  "data": {
                    "bar": [
                      {
                        "error_x": {
                          "color": "#f2f5fa"
                        },
                        "error_y": {
                          "color": "#f2f5fa"
                        },
                        "marker": {
                          "line": {
                            "color": "rgb(17,17,17)",
                            "width": 0.5
                          },
                          "pattern": {
                            "fillmode": "overlay",
                            "size": 10,
                            "solidity": 0.2
                          }
                        },
                        "type": "bar"
                      }
                    ],
                    "barpolar": [
                      {
                        "marker": {
                          "line": {
                            "color": "rgb(17,17,17)",
                            "width": 0.5
                          },
                          "pattern": {
                            "fillmode": "overlay",
                            "size": 10,
                            "solidity": 0.2
                          }
                        },
                        "type": "barpolar"
                      }
                    ],
                    "carpet": [
                      {
                        "aaxis": {
                          "endlinecolor": "#A2B1C6",
                          "gridcolor": "#506784",
                          "linecolor": "#506784",
                          "minorgridcolor": "#506784",
                          "startlinecolor": "#A2B1C6"
                        },
                        "baxis": {
                          "endlinecolor": "#A2B1C6",
                          "gridcolor": "#506784",
                          "linecolor": "#506784",
                          "minorgridcolor": "#506784",
                          "startlinecolor": "#A2B1C6"
                        },
                        "type": "carpet"
                      }
                    ],
                    "choropleth": [
                      {
                        "colorbar": {
                          "outlinewidth": 0,
                          "ticks": ""
                        },
                        "type": "choropleth"
                      }
                    ],
                    "contour": [
                      {
                        "colorbar": {
                          "outlinewidth": 0,
                          "ticks": ""
                        },
                        "colorscale": [
                          [
                            0,
                            "#0d0887"
                          ],
                          [
                            0.1111111111111111,
                            "#46039f"
                          ],
                          [
                            0.2222222222222222,
                            "#7201a8"
                          ],
                          [
                            0.3333333333333333,
                            "#9c179e"
                          ],
                          [
                            0.4444444444444444,
                            "#bd3786"
                          ],
                          [
                            0.5555555555555556,
                            "#d8576b"
                          ],
                          [
                            0.6666666666666666,
                            "#ed7953"
                          ],
                          [
                            0.7777777777777778,
                            "#fb9f3a"
                          ],
                          [
                            0.8888888888888888,
                            "#fdca26"
                          ],
                          [
                            1,
                            "#f0f921"
                          ]
                        ],
                        "type": "contour"
                      }
                    ],
                    "contourcarpet": [
                      {
                        "colorbar": {
                          "outlinewidth": 0,
                          "ticks": ""
                        },
                        "type": "contourcarpet"
                      }
                    ],
                    "heatmap": [
                      {
                        "colorbar": {
                          "outlinewidth": 0,
                          "ticks": ""
                        },
                        "colorscale": [
                          [
                            0,
                            "#0d0887"
                          ],
                          [
                            0.1111111111111111,
                            "#46039f"
                          ],
                          [
                            0.2222222222222222,
                            "#7201a8"
                          ],
                          [
                            0.3333333333333333,
                            "#9c179e"
                          ],
                          [
                            0.4444444444444444,
                            "#bd3786"
                          ],
                          [
                            0.5555555555555556,
                            "#d8576b"
                          ],
                          [
                            0.6666666666666666,
                            "#ed7953"
                          ],
                          [
                            0.7777777777777778,
                            "#fb9f3a"
                          ],
                          [
                            0.8888888888888888,
                            "#fdca26"
                          ],
                          [
                            1,
                            "#f0f921"
                          ]
                        ],
                        "type": "heatmap"
                      }
                    ],
                    "histogram": [
                      {
                        "marker": {
                          "pattern": {
                            "fillmode": "overlay",
                            "size": 10,
                            "solidity": 0.2
                          }
                        },
                        "type": "histogram"
                      }
                    ],
                    "histogram2d": [
                      {
                        "colorbar": {
                          "outlinewidth": 0,
                          "ticks": ""
                        },
                        "colorscale": [
                          [
                            0,
                            "#0d0887"
                          ],
                          [
                            0.1111111111111111,
                            "#46039f"
                          ],
                          [
                            0.2222222222222222,
                            "#7201a8"
                          ],
                          [
                            0.3333333333333333,
                            "#9c179e"
                          ],
                          [
                            0.4444444444444444,
                            "#bd3786"
                          ],
                          [
                            0.5555555555555556,
                            "#d8576b"
                          ],
                          [
                            0.6666666666666666,
                            "#ed7953"
                          ],
                          [
                            0.7777777777777778,
                            "#fb9f3a"
                          ],
                          [
                            0.8888888888888888,
                            "#fdca26"
                          ],
                          [
                            1,
                            "#f0f921"
                          ]
                        ],
                        "type": "histogram2d"
                      }
                    ],
                    "histogram2dcontour": [
                      {
                        "colorbar": {
                          "outlinewidth": 0,
                          "ticks": ""
                        },
                        "colorscale": [
                          [
                            0,
                            "#0d0887"
                          ],
                          [
                            0.1111111111111111,
                            "#46039f"
                          ],
                          [
                            0.2222222222222222,
                            "#7201a8"
                          ],
                          [
                            0.3333333333333333,
                            "#9c179e"
                          ],
                          [
                            0.4444444444444444,
                            "#bd3786"
                          ],
                          [
                            0.5555555555555556,
                            "#d8576b"
                          ],
                          [
                            0.6666666666666666,
                            "#ed7953"
                          ],
                          [
                            0.7777777777777778,
                            "#fb9f3a"
                          ],
                          [
                            0.8888888888888888,
                            "#fdca26"
                          ],
                          [
                            1,
                            "#f0f921"
                          ]
                        ],
                        "type": "histogram2dcontour"
                      }
                    ],
                    "mesh3d": [
                      {
                        "colorbar": {
                          "outlinewidth": 0,
                          "ticks": ""
                        },
                        "type": "mesh3d"
                      }
                    ],
                    "parcoords": [
                      {
                        "line": {
                          "colorbar": {
                            "outlinewidth": 0,
                            "ticks": ""
                          }
                        },
                        "type": "parcoords"
                      }
                    ],
                    "pie": [
                      {
                        "automargin": true,
                        "type": "pie"
                      }
                    ],
                    "scatter": [
                      {
                        "marker": {
                          "line": {
                            "color": "#283442"
                          }
                        },
                        "type": "scatter"
                      }
                    ],
                    "scatter3d": [
                      {
                        "line": {
                          "colorbar": {
                            "outlinewidth": 0,
                            "ticks": ""
                          }
                        },
                        "marker": {
                          "colorbar": {
                            "outlinewidth": 0,
                            "ticks": ""
                          }
                        },
                        "type": "scatter3d"
                      }
                    ],
                    "scattercarpet": [
                      {
                        "marker": {
                          "colorbar": {
                            "outlinewidth": 0,
                            "ticks": ""
                          }
                        },
                        "type": "scattercarpet"
                      }
                    ],
                    "scattergeo": [
                      {
                        "marker": {
                          "colorbar": {
                            "outlinewidth": 0,
                            "ticks": ""
                          }
                        },
                        "type": "scattergeo"
                      }
                    ],
                    "scattergl": [
                      {
                        "marker": {
                          "line": {
                            "color": "#283442"
                          }
                        },
                        "type": "scattergl"
                      }
                    ],
                    "scattermap": [
                      {
                        "marker": {
                          "colorbar": {
                            "outlinewidth": 0,
                            "ticks": ""
                          }
                        },
                        "type": "scattermap"
                      }
                    ],
                    "scattermapbox": [
                      {
                        "marker": {
                          "colorbar": {
                            "outlinewidth": 0,
                            "ticks": ""
                          }
                        },
                        "type": "scattermapbox"
                      }
                    ],
                    "scatterpolar": [
                      {
                        "marker": {
                          "colorbar": {
                            "outlinewidth": 0,
                            "ticks": ""
                          }
                        },
                        "type": "scatterpolar"
                      }
                    ],
                    "scatterpolargl": [
                      {
                        "marker": {
                          "colorbar": {
                            "outlinewidth": 0,
                            "ticks": ""
                          }
                        },
                        "type": "scatterpolargl"
                      }
                    ],
                    "scatterternary": [
                      {
                        "marker": {
                          "colorbar": {
                            "outlinewidth": 0,
                            "ticks": ""
                          }
                        },
                        "type": "scatterternary"
                      }
                    ],
                    "surface": [
                      {
                        "colorbar": {
                          "outlinewidth": 0,
                          "ticks": ""
                        },
                        "colorscale": [
                          [
                            0,
                            "#0d0887"
                          ],
                          [
                            0.1111111111111111,
                            "#46039f"
                          ],
                          [
                            0.2222222222222222,
                            "#7201a8"
                          ],
                          [
                            0.3333333333333333,
                            "#9c179e"
                          ],
                          [
                            0.4444444444444444,
                            "#bd3786"
                          ],
                          [
                            0.5555555555555556,
                            "#d8576b"
                          ],
                          [
                            0.6666666666666666,
                            "#ed7953"
                          ],
                          [
                            0.7777777777777778,
                            "#fb9f3a"
                          ],
                          [
                            0.8888888888888888,
                            "#fdca26"
                          ],
                          [
                            1,
                            "#f0f921"
                          ]
                        ],
                        "type": "surface"
                      }
                    ],
                    "table": [
                      {
                        "cells": {
                          "fill": {
                            "color": "#506784"
                          },
                          "line": {
                            "color": "rgb(17,17,17)"
                          }
                        },
                        "header": {
                          "fill": {
                            "color": "#2a3f5f"
                          },
                          "line": {
                            "color": "rgb(17,17,17)"
                          }
                        },
                        "type": "table"
                      }
                    ]
                  },
                  "layout": {
                    "annotationdefaults": {
                      "arrowcolor": "#f2f5fa",
                      "arrowhead": 0,
                      "arrowwidth": 1
                    },
                    "autotypenumbers": "strict",
                    "coloraxis": {
                      "colorbar": {
                        "outlinewidth": 0,
                        "ticks": ""
                      }
                    },
                    "colorscale": {
                      "diverging": [
                        [
                          0,
                          "#8e0152"
                        ],
                        [
                          0.1,
                          "#c51b7d"
                        ],
                        [
                          0.2,
                          "#de77ae"
                        ],
                        [
                          0.3,
                          "#f1b6da"
                        ],
                        [
                          0.4,
                          "#fde0ef"
                        ],
                        [
                          0.5,
                          "#f7f7f7"
                        ],
                        [
                          0.6,
                          "#e6f5d0"
                        ],
                        [
                          0.7,
                          "#b8e186"
                        ],
                        [
                          0.8,
                          "#7fbc41"
                        ],
                        [
                          0.9,
                          "#4d9221"
                        ],
                        [
                          1,
                          "#276419"
                        ]
                      ],
                      "sequential": [
                        [
                          0,
                          "#0d0887"
                        ],
                        [
                          0.1111111111111111,
                          "#46039f"
                        ],
                        [
                          0.2222222222222222,
                          "#7201a8"
                        ],
                        [
                          0.3333333333333333,
                          "#9c179e"
                        ],
                        [
                          0.4444444444444444,
                          "#bd3786"
                        ],
                        [
                          0.5555555555555556,
                          "#d8576b"
                        ],
                        [
                          0.6666666666666666,
                          "#ed7953"
                        ],
                        [
                          0.7777777777777778,
                          "#fb9f3a"
                        ],
                        [
                          0.8888888888888888,
                          "#fdca26"
                        ],
                        [
                          1,
                          "#f0f921"
                        ]
                      ],
                      "sequentialminus": [
                        [
                          0,
                          "#0d0887"
                        ],
                        [
                          0.1111111111111111,
                          "#46039f"
                        ],
                        [
                          0.2222222222222222,
                          "#7201a8"
                        ],
                        [
                          0.3333333333333333,
                          "#9c179e"
                        ],
                        [
                          0.4444444444444444,
                          "#bd3786"
                        ],
                        [
                          0.5555555555555556,
                          "#d8576b"
                        ],
                        [
                          0.6666666666666666,
                          "#ed7953"
                        ],
                        [
                          0.7777777777777778,
                          "#fb9f3a"
                        ],
                        [
                          0.8888888888888888,
                          "#fdca26"
                        ],
                        [
                          1,
                          "#f0f921"
                        ]
                      ]
                    },
                    "colorway": [
                      "#636efa",
                      "#EF553B",
                      "#00cc96",
                      "#ab63fa",
                      "#FFA15A",
                      "#19d3f3",
                      "#FF6692",
                      "#B6E880",
                      "#FF97FF",
                      "#FECB52"
                    ],
                    "font": {
                      "color": "#f2f5fa"
                    },
                    "geo": {
                      "bgcolor": "rgb(17,17,17)",
                      "lakecolor": "rgb(17,17,17)",
                      "landcolor": "rgb(17,17,17)",
                      "showlakes": true,
                      "showland": true,
                      "subunitcolor": "#506784"
                    },
                    "hoverlabel": {
                      "align": "left"
                    },
                    "hovermode": "closest",
                    "mapbox": {
                      "style": "dark"
                    },
                    "paper_bgcolor": "rgb(17,17,17)",
                    "plot_bgcolor": "rgb(17,17,17)",
                    "polar": {
                      "angularaxis": {
                        "gridcolor": "#506784",
                        "linecolor": "#506784",
                        "ticks": ""
                      },
                      "bgcolor": "rgb(17,17,17)",
                      "radialaxis": {
                        "gridcolor": "#506784",
                        "linecolor": "#506784",
                        "ticks": ""
                      }
                    },
                    "scene": {
                      "xaxis": {
                        "backgroundcolor": "rgb(17,17,17)",
                        "gridcolor": "#506784",
                        "gridwidth": 2,
                        "linecolor": "#506784",
                        "showbackground": true,
                        "ticks": "",
                        "zerolinecolor": "#C8D4E3"
                      },
                      "yaxis": {
                        "backgroundcolor": "rgb(17,17,17)",
                        "gridcolor": "#506784",
                        "gridwidth": 2,
                        "linecolor": "#506784",
                        "showbackground": true,
                        "ticks": "",
                        "zerolinecolor": "#C8D4E3"
                      },
                      "zaxis": {
                        "backgroundcolor": "rgb(17,17,17)",
                        "gridcolor": "#506784",
                        "gridwidth": 2,
                        "linecolor": "#506784",
                        "showbackground": true,
                        "ticks": "",
                        "zerolinecolor": "#C8D4E3"
                      }
                    },
                    "shapedefaults": {
                      "line": {
                        "color": "#f2f5fa"
                      }
                    },
                    "sliderdefaults": {
                      "bgcolor": "#C8D4E3",
                      "bordercolor": "rgb(17,17,17)",
                      "borderwidth": 1,
                      "tickwidth": 0
                    },
                    "ternary": {
                      "aaxis": {
                        "gridcolor": "#506784",
                        "linecolor": "#506784",
                        "ticks": ""
                      },
                      "baxis": {
                        "gridcolor": "#506784",
                        "linecolor": "#506784",
                        "ticks": ""
                      },
                      "bgcolor": "rgb(17,17,17)",
                      "caxis": {
                        "gridcolor": "#506784",
                        "linecolor": "#506784",
                        "ticks": ""
                      }
                    },
                    "title": {
                      "x": 0.05
                    },
                    "updatemenudefaults": {
                      "bgcolor": "#506784",
                      "borderwidth": 0
                    },
                    "xaxis": {
                      "automargin": true,
                      "gridcolor": "#283442",
                      "linecolor": "#506784",
                      "ticks": "",
                      "title": {
                        "standoff": 15
                      },
                      "zerolinecolor": "#283442",
                      "zerolinewidth": 2
                    },
                    "yaxis": {
                      "automargin": true,
                      "gridcolor": "#283442",
                      "linecolor": "#506784",
                      "ticks": "",
                      "title": {
                        "standoff": 15
                      },
                      "zerolinecolor": "#283442",
                      "zerolinewidth": 2
                    }
                  }
                },
                "title": {
                  "text": "<b>Countries of top 10 billionaires"
                },
                "xaxis": {
                  "anchor": "y",
                  "domain": [
                    0,
                    1
                  ],
                  "title": {
                    "text": "name"
                  }
                },
                "yaxis": {
                  "anchor": "x",
                  "domain": [
                    0,
                    1
                  ],
                  "title": {
                    "text": "networth"
                  }
                }
              }
            }
          },
          "metadata": {},
          "output_type": "display_data"
        }
      ],
      "source": [
        "# the countries of top 10 billionaires\n",
        "px.scatter(df.sort_values(\n",
        "    by='networth',\n",
        "    ascending = False)[:10],\n",
        "    x = 'name',\n",
        "    y='networth',\n",
        "    template = 'plotly_dark',\n",
        "    size = 'networth',\n",
        "    color = 'country',\n",
        "    opacity = 0.85,\n",
        "    title = '<b>Countries of top 10 billionaires')"
      ]
    },
    {
      "cell_type": "markdown",
      "metadata": {
        "id": "JR5ZpYLaH-eD"
      },
      "source": [
        "Insights\n",
        "\n",
        "- Most of the top 10 billionaires belongs from Unites States with massive networths.\n",
        "- The richest billionaire Elon Musk is also from Unites States with a networth of 219 B dollars.\n",
        "- Only two billionaires in top 10 are not from Unites States. One is Bernard Amault and Family from France with a networth of 158 B dollars. The other is Mukhes Ambani from India with a networth of 90.7 B dollars."
      ]
    },
    {
      "cell_type": "markdown",
      "metadata": {
        "id": "E_Ci2SQGIE0k"
      },
      "source": [
        "What are the industries of top 10 billionairs?"
      ]
    },
    {
      "cell_type": "code",
      "execution_count": 20,
      "metadata": {
        "colab": {
          "base_uri": "https://localhost:8080/",
          "height": 542
        },
        "id": "2RKEwKBNzcqV",
        "outputId": "274b77de-039d-48e9-afd6-5fed89e380e2"
      },
      "outputs": [
        {
          "data": {
            "application/vnd.plotly.v1+json": {
              "config": {
                "plotlyServerURL": "https://plot.ly"
              },
              "data": [
                {
                  "hovertemplate": "industry=Automotive <br>name=%{x}<br>networth=%{marker.size}<extra></extra>",
                  "legendgroup": "Automotive ",
                  "marker": {
                    "color": "#636efa",
                    "opacity": 0.85,
                    "size": {
                      "bdata": "AAAAAABga0A=",
                      "dtype": "f8"
                    },
                    "sizemode": "area",
                    "sizeref": 0.5475,
                    "symbol": "circle"
                  },
                  "mode": "markers",
                  "name": "Automotive ",
                  "orientation": "v",
                  "showlegend": true,
                  "type": "scatter",
                  "x": [
                    "Elon Musk "
                  ],
                  "xaxis": "x",
                  "y": {
                    "bdata": "AAAAAABga0A=",
                    "dtype": "f8"
                  },
                  "yaxis": "y"
                },
                {
                  "hovertemplate": "industry=Technology <br>name=%{x}<br>networth=%{marker.size}<extra></extra>",
                  "legendgroup": "Technology ",
                  "marker": {
                    "color": "#EF553B",
                    "opacity": 0.85,
                    "size": {
                      "bdata": "AAAAAABgZUAAAAAAACBgQAAAAAAAwFtAAAAAAADAWkAAAAAAAIBaQJqZmZmZ2VZA",
                      "dtype": "f8"
                    },
                    "sizemode": "area",
                    "sizeref": 0.5475,
                    "symbol": "circle"
                  },
                  "mode": "markers",
                  "name": "Technology ",
                  "orientation": "v",
                  "showlegend": true,
                  "type": "scatter",
                  "x": [
                    "Jeff Bezos ",
                    "Bill Gates ",
                    "Larry Page ",
                    "Sergey Brin ",
                    "Larry Ellison ",
                    "Steve Ballmer "
                  ],
                  "xaxis": "x",
                  "y": {
                    "bdata": "AAAAAABgZUAAAAAAACBgQAAAAAAAwFtAAAAAAADAWkAAAAAAAIBaQJqZmZmZ2VZA",
                    "dtype": "f8"
                  },
                  "yaxis": "y"
                },
                {
                  "hovertemplate": "industry=Fashion & Retail <br>name=%{x}<br>networth=%{marker.size}<extra></extra>",
                  "legendgroup": "Fashion & Retail ",
                  "marker": {
                    "color": "#00cc96",
                    "opacity": 0.85,
                    "size": {
                      "bdata": "AAAAAADAY0A=",
                      "dtype": "f8"
                    },
                    "sizemode": "area",
                    "sizeref": 0.5475,
                    "symbol": "circle"
                  },
                  "mode": "markers",
                  "name": "Fashion & Retail ",
                  "orientation": "v",
                  "showlegend": true,
                  "type": "scatter",
                  "x": [
                    "Bernard Arnault & family "
                  ],
                  "xaxis": "x",
                  "y": {
                    "bdata": "AAAAAADAY0A=",
                    "dtype": "f8"
                  },
                  "yaxis": "y"
                },
                {
                  "hovertemplate": "industry=Finance & Investments <br>name=%{x}<br>networth=%{marker.size}<extra></extra>",
                  "legendgroup": "Finance & Investments ",
                  "marker": {
                    "color": "#ab63fa",
                    "opacity": 0.85,
                    "size": {
                      "bdata": "AAAAAACAXUA=",
                      "dtype": "f8"
                    },
                    "sizemode": "area",
                    "sizeref": 0.5475,
                    "symbol": "circle"
                  },
                  "mode": "markers",
                  "name": "Finance & Investments ",
                  "orientation": "v",
                  "showlegend": true,
                  "type": "scatter",
                  "x": [
                    "Warren Buffett "
                  ],
                  "xaxis": "x",
                  "y": {
                    "bdata": "AAAAAACAXUA=",
                    "dtype": "f8"
                  },
                  "yaxis": "y"
                },
                {
                  "hovertemplate": "industry=Diversified <br>name=%{x}<br>networth=%{marker.size}<extra></extra>",
                  "legendgroup": "Diversified ",
                  "marker": {
                    "color": "#FFA15A",
                    "opacity": 0.85,
                    "size": {
                      "bdata": "zczMzMysVkA=",
                      "dtype": "f8"
                    },
                    "sizemode": "area",
                    "sizeref": 0.5475,
                    "symbol": "circle"
                  },
                  "mode": "markers",
                  "name": "Diversified ",
                  "orientation": "v",
                  "showlegend": true,
                  "type": "scatter",
                  "x": [
                    "Mukesh Ambani "
                  ],
                  "xaxis": "x",
                  "y": {
                    "bdata": "zczMzMysVkA=",
                    "dtype": "f8"
                  },
                  "yaxis": "y"
                }
              ],
              "layout": {
                "legend": {
                  "itemsizing": "constant",
                  "title": {
                    "text": "industry"
                  },
                  "tracegroupgap": 0
                },
                "template": {
                  "data": {
                    "bar": [
                      {
                        "error_x": {
                          "color": "#f2f5fa"
                        },
                        "error_y": {
                          "color": "#f2f5fa"
                        },
                        "marker": {
                          "line": {
                            "color": "rgb(17,17,17)",
                            "width": 0.5
                          },
                          "pattern": {
                            "fillmode": "overlay",
                            "size": 10,
                            "solidity": 0.2
                          }
                        },
                        "type": "bar"
                      }
                    ],
                    "barpolar": [
                      {
                        "marker": {
                          "line": {
                            "color": "rgb(17,17,17)",
                            "width": 0.5
                          },
                          "pattern": {
                            "fillmode": "overlay",
                            "size": 10,
                            "solidity": 0.2
                          }
                        },
                        "type": "barpolar"
                      }
                    ],
                    "carpet": [
                      {
                        "aaxis": {
                          "endlinecolor": "#A2B1C6",
                          "gridcolor": "#506784",
                          "linecolor": "#506784",
                          "minorgridcolor": "#506784",
                          "startlinecolor": "#A2B1C6"
                        },
                        "baxis": {
                          "endlinecolor": "#A2B1C6",
                          "gridcolor": "#506784",
                          "linecolor": "#506784",
                          "minorgridcolor": "#506784",
                          "startlinecolor": "#A2B1C6"
                        },
                        "type": "carpet"
                      }
                    ],
                    "choropleth": [
                      {
                        "colorbar": {
                          "outlinewidth": 0,
                          "ticks": ""
                        },
                        "type": "choropleth"
                      }
                    ],
                    "contour": [
                      {
                        "colorbar": {
                          "outlinewidth": 0,
                          "ticks": ""
                        },
                        "colorscale": [
                          [
                            0,
                            "#0d0887"
                          ],
                          [
                            0.1111111111111111,
                            "#46039f"
                          ],
                          [
                            0.2222222222222222,
                            "#7201a8"
                          ],
                          [
                            0.3333333333333333,
                            "#9c179e"
                          ],
                          [
                            0.4444444444444444,
                            "#bd3786"
                          ],
                          [
                            0.5555555555555556,
                            "#d8576b"
                          ],
                          [
                            0.6666666666666666,
                            "#ed7953"
                          ],
                          [
                            0.7777777777777778,
                            "#fb9f3a"
                          ],
                          [
                            0.8888888888888888,
                            "#fdca26"
                          ],
                          [
                            1,
                            "#f0f921"
                          ]
                        ],
                        "type": "contour"
                      }
                    ],
                    "contourcarpet": [
                      {
                        "colorbar": {
                          "outlinewidth": 0,
                          "ticks": ""
                        },
                        "type": "contourcarpet"
                      }
                    ],
                    "heatmap": [
                      {
                        "colorbar": {
                          "outlinewidth": 0,
                          "ticks": ""
                        },
                        "colorscale": [
                          [
                            0,
                            "#0d0887"
                          ],
                          [
                            0.1111111111111111,
                            "#46039f"
                          ],
                          [
                            0.2222222222222222,
                            "#7201a8"
                          ],
                          [
                            0.3333333333333333,
                            "#9c179e"
                          ],
                          [
                            0.4444444444444444,
                            "#bd3786"
                          ],
                          [
                            0.5555555555555556,
                            "#d8576b"
                          ],
                          [
                            0.6666666666666666,
                            "#ed7953"
                          ],
                          [
                            0.7777777777777778,
                            "#fb9f3a"
                          ],
                          [
                            0.8888888888888888,
                            "#fdca26"
                          ],
                          [
                            1,
                            "#f0f921"
                          ]
                        ],
                        "type": "heatmap"
                      }
                    ],
                    "histogram": [
                      {
                        "marker": {
                          "pattern": {
                            "fillmode": "overlay",
                            "size": 10,
                            "solidity": 0.2
                          }
                        },
                        "type": "histogram"
                      }
                    ],
                    "histogram2d": [
                      {
                        "colorbar": {
                          "outlinewidth": 0,
                          "ticks": ""
                        },
                        "colorscale": [
                          [
                            0,
                            "#0d0887"
                          ],
                          [
                            0.1111111111111111,
                            "#46039f"
                          ],
                          [
                            0.2222222222222222,
                            "#7201a8"
                          ],
                          [
                            0.3333333333333333,
                            "#9c179e"
                          ],
                          [
                            0.4444444444444444,
                            "#bd3786"
                          ],
                          [
                            0.5555555555555556,
                            "#d8576b"
                          ],
                          [
                            0.6666666666666666,
                            "#ed7953"
                          ],
                          [
                            0.7777777777777778,
                            "#fb9f3a"
                          ],
                          [
                            0.8888888888888888,
                            "#fdca26"
                          ],
                          [
                            1,
                            "#f0f921"
                          ]
                        ],
                        "type": "histogram2d"
                      }
                    ],
                    "histogram2dcontour": [
                      {
                        "colorbar": {
                          "outlinewidth": 0,
                          "ticks": ""
                        },
                        "colorscale": [
                          [
                            0,
                            "#0d0887"
                          ],
                          [
                            0.1111111111111111,
                            "#46039f"
                          ],
                          [
                            0.2222222222222222,
                            "#7201a8"
                          ],
                          [
                            0.3333333333333333,
                            "#9c179e"
                          ],
                          [
                            0.4444444444444444,
                            "#bd3786"
                          ],
                          [
                            0.5555555555555556,
                            "#d8576b"
                          ],
                          [
                            0.6666666666666666,
                            "#ed7953"
                          ],
                          [
                            0.7777777777777778,
                            "#fb9f3a"
                          ],
                          [
                            0.8888888888888888,
                            "#fdca26"
                          ],
                          [
                            1,
                            "#f0f921"
                          ]
                        ],
                        "type": "histogram2dcontour"
                      }
                    ],
                    "mesh3d": [
                      {
                        "colorbar": {
                          "outlinewidth": 0,
                          "ticks": ""
                        },
                        "type": "mesh3d"
                      }
                    ],
                    "parcoords": [
                      {
                        "line": {
                          "colorbar": {
                            "outlinewidth": 0,
                            "ticks": ""
                          }
                        },
                        "type": "parcoords"
                      }
                    ],
                    "pie": [
                      {
                        "automargin": true,
                        "type": "pie"
                      }
                    ],
                    "scatter": [
                      {
                        "marker": {
                          "line": {
                            "color": "#283442"
                          }
                        },
                        "type": "scatter"
                      }
                    ],
                    "scatter3d": [
                      {
                        "line": {
                          "colorbar": {
                            "outlinewidth": 0,
                            "ticks": ""
                          }
                        },
                        "marker": {
                          "colorbar": {
                            "outlinewidth": 0,
                            "ticks": ""
                          }
                        },
                        "type": "scatter3d"
                      }
                    ],
                    "scattercarpet": [
                      {
                        "marker": {
                          "colorbar": {
                            "outlinewidth": 0,
                            "ticks": ""
                          }
                        },
                        "type": "scattercarpet"
                      }
                    ],
                    "scattergeo": [
                      {
                        "marker": {
                          "colorbar": {
                            "outlinewidth": 0,
                            "ticks": ""
                          }
                        },
                        "type": "scattergeo"
                      }
                    ],
                    "scattergl": [
                      {
                        "marker": {
                          "line": {
                            "color": "#283442"
                          }
                        },
                        "type": "scattergl"
                      }
                    ],
                    "scattermap": [
                      {
                        "marker": {
                          "colorbar": {
                            "outlinewidth": 0,
                            "ticks": ""
                          }
                        },
                        "type": "scattermap"
                      }
                    ],
                    "scattermapbox": [
                      {
                        "marker": {
                          "colorbar": {
                            "outlinewidth": 0,
                            "ticks": ""
                          }
                        },
                        "type": "scattermapbox"
                      }
                    ],
                    "scatterpolar": [
                      {
                        "marker": {
                          "colorbar": {
                            "outlinewidth": 0,
                            "ticks": ""
                          }
                        },
                        "type": "scatterpolar"
                      }
                    ],
                    "scatterpolargl": [
                      {
                        "marker": {
                          "colorbar": {
                            "outlinewidth": 0,
                            "ticks": ""
                          }
                        },
                        "type": "scatterpolargl"
                      }
                    ],
                    "scatterternary": [
                      {
                        "marker": {
                          "colorbar": {
                            "outlinewidth": 0,
                            "ticks": ""
                          }
                        },
                        "type": "scatterternary"
                      }
                    ],
                    "surface": [
                      {
                        "colorbar": {
                          "outlinewidth": 0,
                          "ticks": ""
                        },
                        "colorscale": [
                          [
                            0,
                            "#0d0887"
                          ],
                          [
                            0.1111111111111111,
                            "#46039f"
                          ],
                          [
                            0.2222222222222222,
                            "#7201a8"
                          ],
                          [
                            0.3333333333333333,
                            "#9c179e"
                          ],
                          [
                            0.4444444444444444,
                            "#bd3786"
                          ],
                          [
                            0.5555555555555556,
                            "#d8576b"
                          ],
                          [
                            0.6666666666666666,
                            "#ed7953"
                          ],
                          [
                            0.7777777777777778,
                            "#fb9f3a"
                          ],
                          [
                            0.8888888888888888,
                            "#fdca26"
                          ],
                          [
                            1,
                            "#f0f921"
                          ]
                        ],
                        "type": "surface"
                      }
                    ],
                    "table": [
                      {
                        "cells": {
                          "fill": {
                            "color": "#506784"
                          },
                          "line": {
                            "color": "rgb(17,17,17)"
                          }
                        },
                        "header": {
                          "fill": {
                            "color": "#2a3f5f"
                          },
                          "line": {
                            "color": "rgb(17,17,17)"
                          }
                        },
                        "type": "table"
                      }
                    ]
                  },
                  "layout": {
                    "annotationdefaults": {
                      "arrowcolor": "#f2f5fa",
                      "arrowhead": 0,
                      "arrowwidth": 1
                    },
                    "autotypenumbers": "strict",
                    "coloraxis": {
                      "colorbar": {
                        "outlinewidth": 0,
                        "ticks": ""
                      }
                    },
                    "colorscale": {
                      "diverging": [
                        [
                          0,
                          "#8e0152"
                        ],
                        [
                          0.1,
                          "#c51b7d"
                        ],
                        [
                          0.2,
                          "#de77ae"
                        ],
                        [
                          0.3,
                          "#f1b6da"
                        ],
                        [
                          0.4,
                          "#fde0ef"
                        ],
                        [
                          0.5,
                          "#f7f7f7"
                        ],
                        [
                          0.6,
                          "#e6f5d0"
                        ],
                        [
                          0.7,
                          "#b8e186"
                        ],
                        [
                          0.8,
                          "#7fbc41"
                        ],
                        [
                          0.9,
                          "#4d9221"
                        ],
                        [
                          1,
                          "#276419"
                        ]
                      ],
                      "sequential": [
                        [
                          0,
                          "#0d0887"
                        ],
                        [
                          0.1111111111111111,
                          "#46039f"
                        ],
                        [
                          0.2222222222222222,
                          "#7201a8"
                        ],
                        [
                          0.3333333333333333,
                          "#9c179e"
                        ],
                        [
                          0.4444444444444444,
                          "#bd3786"
                        ],
                        [
                          0.5555555555555556,
                          "#d8576b"
                        ],
                        [
                          0.6666666666666666,
                          "#ed7953"
                        ],
                        [
                          0.7777777777777778,
                          "#fb9f3a"
                        ],
                        [
                          0.8888888888888888,
                          "#fdca26"
                        ],
                        [
                          1,
                          "#f0f921"
                        ]
                      ],
                      "sequentialminus": [
                        [
                          0,
                          "#0d0887"
                        ],
                        [
                          0.1111111111111111,
                          "#46039f"
                        ],
                        [
                          0.2222222222222222,
                          "#7201a8"
                        ],
                        [
                          0.3333333333333333,
                          "#9c179e"
                        ],
                        [
                          0.4444444444444444,
                          "#bd3786"
                        ],
                        [
                          0.5555555555555556,
                          "#d8576b"
                        ],
                        [
                          0.6666666666666666,
                          "#ed7953"
                        ],
                        [
                          0.7777777777777778,
                          "#fb9f3a"
                        ],
                        [
                          0.8888888888888888,
                          "#fdca26"
                        ],
                        [
                          1,
                          "#f0f921"
                        ]
                      ]
                    },
                    "colorway": [
                      "#636efa",
                      "#EF553B",
                      "#00cc96",
                      "#ab63fa",
                      "#FFA15A",
                      "#19d3f3",
                      "#FF6692",
                      "#B6E880",
                      "#FF97FF",
                      "#FECB52"
                    ],
                    "font": {
                      "color": "#f2f5fa"
                    },
                    "geo": {
                      "bgcolor": "rgb(17,17,17)",
                      "lakecolor": "rgb(17,17,17)",
                      "landcolor": "rgb(17,17,17)",
                      "showlakes": true,
                      "showland": true,
                      "subunitcolor": "#506784"
                    },
                    "hoverlabel": {
                      "align": "left"
                    },
                    "hovermode": "closest",
                    "mapbox": {
                      "style": "dark"
                    },
                    "paper_bgcolor": "rgb(17,17,17)",
                    "plot_bgcolor": "rgb(17,17,17)",
                    "polar": {
                      "angularaxis": {
                        "gridcolor": "#506784",
                        "linecolor": "#506784",
                        "ticks": ""
                      },
                      "bgcolor": "rgb(17,17,17)",
                      "radialaxis": {
                        "gridcolor": "#506784",
                        "linecolor": "#506784",
                        "ticks": ""
                      }
                    },
                    "scene": {
                      "xaxis": {
                        "backgroundcolor": "rgb(17,17,17)",
                        "gridcolor": "#506784",
                        "gridwidth": 2,
                        "linecolor": "#506784",
                        "showbackground": true,
                        "ticks": "",
                        "zerolinecolor": "#C8D4E3"
                      },
                      "yaxis": {
                        "backgroundcolor": "rgb(17,17,17)",
                        "gridcolor": "#506784",
                        "gridwidth": 2,
                        "linecolor": "#506784",
                        "showbackground": true,
                        "ticks": "",
                        "zerolinecolor": "#C8D4E3"
                      },
                      "zaxis": {
                        "backgroundcolor": "rgb(17,17,17)",
                        "gridcolor": "#506784",
                        "gridwidth": 2,
                        "linecolor": "#506784",
                        "showbackground": true,
                        "ticks": "",
                        "zerolinecolor": "#C8D4E3"
                      }
                    },
                    "shapedefaults": {
                      "line": {
                        "color": "#f2f5fa"
                      }
                    },
                    "sliderdefaults": {
                      "bgcolor": "#C8D4E3",
                      "bordercolor": "rgb(17,17,17)",
                      "borderwidth": 1,
                      "tickwidth": 0
                    },
                    "ternary": {
                      "aaxis": {
                        "gridcolor": "#506784",
                        "linecolor": "#506784",
                        "ticks": ""
                      },
                      "baxis": {
                        "gridcolor": "#506784",
                        "linecolor": "#506784",
                        "ticks": ""
                      },
                      "bgcolor": "rgb(17,17,17)",
                      "caxis": {
                        "gridcolor": "#506784",
                        "linecolor": "#506784",
                        "ticks": ""
                      }
                    },
                    "title": {
                      "x": 0.05
                    },
                    "updatemenudefaults": {
                      "bgcolor": "#506784",
                      "borderwidth": 0
                    },
                    "xaxis": {
                      "automargin": true,
                      "gridcolor": "#283442",
                      "linecolor": "#506784",
                      "ticks": "",
                      "title": {
                        "standoff": 15
                      },
                      "zerolinecolor": "#283442",
                      "zerolinewidth": 2
                    },
                    "yaxis": {
                      "automargin": true,
                      "gridcolor": "#283442",
                      "linecolor": "#506784",
                      "ticks": "",
                      "title": {
                        "standoff": 15
                      },
                      "zerolinecolor": "#283442",
                      "zerolinewidth": 2
                    }
                  }
                },
                "title": {
                  "text": "<b>Industries of top 10 billionaires"
                },
                "xaxis": {
                  "anchor": "y",
                  "domain": [
                    0,
                    1
                  ],
                  "title": {
                    "text": "name"
                  }
                },
                "yaxis": {
                  "anchor": "x",
                  "domain": [
                    0,
                    1
                  ],
                  "title": {
                    "text": "networth"
                  }
                }
              }
            }
          },
          "metadata": {},
          "output_type": "display_data"
        }
      ],
      "source": [
        "# industries of top 10 billionairs\n",
        "px.scatter(df.sort_values(\n",
        "    by='networth',\n",
        "    ascending = False)[:10],\n",
        "    y='networth',\n",
        "    x='name',\n",
        "    template='plotly_dark',\n",
        "    size='networth',\n",
        "    color='industry',\n",
        "    opacity=0.85,\n",
        "    title='<b>Industries of top 10 billionaires')"
      ]
    },
    {
      "cell_type": "markdown",
      "metadata": {
        "id": "gf20DcSRILfN"
      },
      "source": [
        "Insights\n",
        "\n",
        "- Most of the top 10 billionaires belongs from industry of Technology with massive networths.\n",
        "- The richest billionaire Elon Musk has it's 219 B dollar networth coming from the industry of Automotive.\n",
        "- Warren Buffet has it's 118 B dollar networth coming from the industry of Finance and Investment.\n",
        "- Bernard Amault and Family are working in Fashion and retail industry with a networth of 158 B dollars.\n",
        "- The industry category of Mukhes Ambani is diversified with a networth of 90.7 B dollars."
      ]
    },
    {
      "cell_type": "markdown",
      "metadata": {
        "id": "_KRvg4i7ITHT"
      },
      "source": [
        "What are the sources of top 10 billionaires?"
      ]
    },
    {
      "cell_type": "code",
      "execution_count": 21,
      "metadata": {
        "colab": {
          "base_uri": "https://localhost:8080/",
          "height": 542
        },
        "id": "8NQ-91GE2276",
        "outputId": "c0eca7ba-8d14-4a24-e779-35b5a55c14e2"
      },
      "outputs": [
        {
          "data": {
            "application/vnd.plotly.v1+json": {
              "config": {
                "plotlyServerURL": "https://plot.ly"
              },
              "data": [
                {
                  "hovertemplate": "source=Tesla, SpaceX<br>name=%{x}<br>networth=%{marker.size}<extra></extra>",
                  "legendgroup": "Tesla, SpaceX",
                  "marker": {
                    "color": "#636efa",
                    "opacity": 0.85,
                    "size": {
                      "bdata": "AAAAAABga0A=",
                      "dtype": "f8"
                    },
                    "sizemode": "area",
                    "sizeref": 0.5475,
                    "symbol": "circle"
                  },
                  "mode": "markers",
                  "name": "Tesla, SpaceX",
                  "orientation": "v",
                  "showlegend": true,
                  "type": "scatter",
                  "x": [
                    "Elon Musk "
                  ],
                  "xaxis": "x",
                  "y": {
                    "bdata": "AAAAAABga0A=",
                    "dtype": "f8"
                  },
                  "yaxis": "y"
                },
                {
                  "hovertemplate": "source=Amazon<br>name=%{x}<br>networth=%{marker.size}<extra></extra>",
                  "legendgroup": "Amazon",
                  "marker": {
                    "color": "#EF553B",
                    "opacity": 0.85,
                    "size": {
                      "bdata": "AAAAAABgZUA=",
                      "dtype": "f8"
                    },
                    "sizemode": "area",
                    "sizeref": 0.5475,
                    "symbol": "circle"
                  },
                  "mode": "markers",
                  "name": "Amazon",
                  "orientation": "v",
                  "showlegend": true,
                  "type": "scatter",
                  "x": [
                    "Jeff Bezos "
                  ],
                  "xaxis": "x",
                  "y": {
                    "bdata": "AAAAAABgZUA=",
                    "dtype": "f8"
                  },
                  "yaxis": "y"
                },
                {
                  "hovertemplate": "source=LVMH<br>name=%{x}<br>networth=%{marker.size}<extra></extra>",
                  "legendgroup": "LVMH",
                  "marker": {
                    "color": "#00cc96",
                    "opacity": 0.85,
                    "size": {
                      "bdata": "AAAAAADAY0A=",
                      "dtype": "f8"
                    },
                    "sizemode": "area",
                    "sizeref": 0.5475,
                    "symbol": "circle"
                  },
                  "mode": "markers",
                  "name": "LVMH",
                  "orientation": "v",
                  "showlegend": true,
                  "type": "scatter",
                  "x": [
                    "Bernard Arnault & family "
                  ],
                  "xaxis": "x",
                  "y": {
                    "bdata": "AAAAAADAY0A=",
                    "dtype": "f8"
                  },
                  "yaxis": "y"
                },
                {
                  "hovertemplate": "source=Microsoft<br>name=%{x}<br>networth=%{marker.size}<extra></extra>",
                  "legendgroup": "Microsoft",
                  "marker": {
                    "color": "#ab63fa",
                    "opacity": 0.85,
                    "size": {
                      "bdata": "AAAAAAAgYECamZmZmdlWQA==",
                      "dtype": "f8"
                    },
                    "sizemode": "area",
                    "sizeref": 0.5475,
                    "symbol": "circle"
                  },
                  "mode": "markers",
                  "name": "Microsoft",
                  "orientation": "v",
                  "showlegend": true,
                  "type": "scatter",
                  "x": [
                    "Bill Gates ",
                    "Steve Ballmer "
                  ],
                  "xaxis": "x",
                  "y": {
                    "bdata": "AAAAAAAgYECamZmZmdlWQA==",
                    "dtype": "f8"
                  },
                  "yaxis": "y"
                },
                {
                  "hovertemplate": "source=Berkshire Hathaway<br>name=%{x}<br>networth=%{marker.size}<extra></extra>",
                  "legendgroup": "Berkshire Hathaway",
                  "marker": {
                    "color": "#FFA15A",
                    "opacity": 0.85,
                    "size": {
                      "bdata": "AAAAAACAXUA=",
                      "dtype": "f8"
                    },
                    "sizemode": "area",
                    "sizeref": 0.5475,
                    "symbol": "circle"
                  },
                  "mode": "markers",
                  "name": "Berkshire Hathaway",
                  "orientation": "v",
                  "showlegend": true,
                  "type": "scatter",
                  "x": [
                    "Warren Buffett "
                  ],
                  "xaxis": "x",
                  "y": {
                    "bdata": "AAAAAACAXUA=",
                    "dtype": "f8"
                  },
                  "yaxis": "y"
                },
                {
                  "hovertemplate": "source=Google<br>name=%{x}<br>networth=%{marker.size}<extra></extra>",
                  "legendgroup": "Google",
                  "marker": {
                    "color": "#19d3f3",
                    "opacity": 0.85,
                    "size": {
                      "bdata": "AAAAAADAW0AAAAAAAMBaQA==",
                      "dtype": "f8"
                    },
                    "sizemode": "area",
                    "sizeref": 0.5475,
                    "symbol": "circle"
                  },
                  "mode": "markers",
                  "name": "Google",
                  "orientation": "v",
                  "showlegend": true,
                  "type": "scatter",
                  "x": [
                    "Larry Page ",
                    "Sergey Brin "
                  ],
                  "xaxis": "x",
                  "y": {
                    "bdata": "AAAAAADAW0AAAAAAAMBaQA==",
                    "dtype": "f8"
                  },
                  "yaxis": "y"
                },
                {
                  "hovertemplate": "source=software<br>name=%{x}<br>networth=%{marker.size}<extra></extra>",
                  "legendgroup": "software",
                  "marker": {
                    "color": "#FF6692",
                    "opacity": 0.85,
                    "size": {
                      "bdata": "AAAAAACAWkA=",
                      "dtype": "f8"
                    },
                    "sizemode": "area",
                    "sizeref": 0.5475,
                    "symbol": "circle"
                  },
                  "mode": "markers",
                  "name": "software",
                  "orientation": "v",
                  "showlegend": true,
                  "type": "scatter",
                  "x": [
                    "Larry Ellison "
                  ],
                  "xaxis": "x",
                  "y": {
                    "bdata": "AAAAAACAWkA=",
                    "dtype": "f8"
                  },
                  "yaxis": "y"
                },
                {
                  "hovertemplate": "source=diversified<br>name=%{x}<br>networth=%{marker.size}<extra></extra>",
                  "legendgroup": "diversified",
                  "marker": {
                    "color": "#B6E880",
                    "opacity": 0.85,
                    "size": {
                      "bdata": "zczMzMysVkA=",
                      "dtype": "f8"
                    },
                    "sizemode": "area",
                    "sizeref": 0.5475,
                    "symbol": "circle"
                  },
                  "mode": "markers",
                  "name": "diversified",
                  "orientation": "v",
                  "showlegend": true,
                  "type": "scatter",
                  "x": [
                    "Mukesh Ambani "
                  ],
                  "xaxis": "x",
                  "y": {
                    "bdata": "zczMzMysVkA=",
                    "dtype": "f8"
                  },
                  "yaxis": "y"
                }
              ],
              "layout": {
                "legend": {
                  "itemsizing": "constant",
                  "title": {
                    "text": "source"
                  },
                  "tracegroupgap": 0
                },
                "template": {
                  "data": {
                    "bar": [
                      {
                        "error_x": {
                          "color": "#f2f5fa"
                        },
                        "error_y": {
                          "color": "#f2f5fa"
                        },
                        "marker": {
                          "line": {
                            "color": "rgb(17,17,17)",
                            "width": 0.5
                          },
                          "pattern": {
                            "fillmode": "overlay",
                            "size": 10,
                            "solidity": 0.2
                          }
                        },
                        "type": "bar"
                      }
                    ],
                    "barpolar": [
                      {
                        "marker": {
                          "line": {
                            "color": "rgb(17,17,17)",
                            "width": 0.5
                          },
                          "pattern": {
                            "fillmode": "overlay",
                            "size": 10,
                            "solidity": 0.2
                          }
                        },
                        "type": "barpolar"
                      }
                    ],
                    "carpet": [
                      {
                        "aaxis": {
                          "endlinecolor": "#A2B1C6",
                          "gridcolor": "#506784",
                          "linecolor": "#506784",
                          "minorgridcolor": "#506784",
                          "startlinecolor": "#A2B1C6"
                        },
                        "baxis": {
                          "endlinecolor": "#A2B1C6",
                          "gridcolor": "#506784",
                          "linecolor": "#506784",
                          "minorgridcolor": "#506784",
                          "startlinecolor": "#A2B1C6"
                        },
                        "type": "carpet"
                      }
                    ],
                    "choropleth": [
                      {
                        "colorbar": {
                          "outlinewidth": 0,
                          "ticks": ""
                        },
                        "type": "choropleth"
                      }
                    ],
                    "contour": [
                      {
                        "colorbar": {
                          "outlinewidth": 0,
                          "ticks": ""
                        },
                        "colorscale": [
                          [
                            0,
                            "#0d0887"
                          ],
                          [
                            0.1111111111111111,
                            "#46039f"
                          ],
                          [
                            0.2222222222222222,
                            "#7201a8"
                          ],
                          [
                            0.3333333333333333,
                            "#9c179e"
                          ],
                          [
                            0.4444444444444444,
                            "#bd3786"
                          ],
                          [
                            0.5555555555555556,
                            "#d8576b"
                          ],
                          [
                            0.6666666666666666,
                            "#ed7953"
                          ],
                          [
                            0.7777777777777778,
                            "#fb9f3a"
                          ],
                          [
                            0.8888888888888888,
                            "#fdca26"
                          ],
                          [
                            1,
                            "#f0f921"
                          ]
                        ],
                        "type": "contour"
                      }
                    ],
                    "contourcarpet": [
                      {
                        "colorbar": {
                          "outlinewidth": 0,
                          "ticks": ""
                        },
                        "type": "contourcarpet"
                      }
                    ],
                    "heatmap": [
                      {
                        "colorbar": {
                          "outlinewidth": 0,
                          "ticks": ""
                        },
                        "colorscale": [
                          [
                            0,
                            "#0d0887"
                          ],
                          [
                            0.1111111111111111,
                            "#46039f"
                          ],
                          [
                            0.2222222222222222,
                            "#7201a8"
                          ],
                          [
                            0.3333333333333333,
                            "#9c179e"
                          ],
                          [
                            0.4444444444444444,
                            "#bd3786"
                          ],
                          [
                            0.5555555555555556,
                            "#d8576b"
                          ],
                          [
                            0.6666666666666666,
                            "#ed7953"
                          ],
                          [
                            0.7777777777777778,
                            "#fb9f3a"
                          ],
                          [
                            0.8888888888888888,
                            "#fdca26"
                          ],
                          [
                            1,
                            "#f0f921"
                          ]
                        ],
                        "type": "heatmap"
                      }
                    ],
                    "histogram": [
                      {
                        "marker": {
                          "pattern": {
                            "fillmode": "overlay",
                            "size": 10,
                            "solidity": 0.2
                          }
                        },
                        "type": "histogram"
                      }
                    ],
                    "histogram2d": [
                      {
                        "colorbar": {
                          "outlinewidth": 0,
                          "ticks": ""
                        },
                        "colorscale": [
                          [
                            0,
                            "#0d0887"
                          ],
                          [
                            0.1111111111111111,
                            "#46039f"
                          ],
                          [
                            0.2222222222222222,
                            "#7201a8"
                          ],
                          [
                            0.3333333333333333,
                            "#9c179e"
                          ],
                          [
                            0.4444444444444444,
                            "#bd3786"
                          ],
                          [
                            0.5555555555555556,
                            "#d8576b"
                          ],
                          [
                            0.6666666666666666,
                            "#ed7953"
                          ],
                          [
                            0.7777777777777778,
                            "#fb9f3a"
                          ],
                          [
                            0.8888888888888888,
                            "#fdca26"
                          ],
                          [
                            1,
                            "#f0f921"
                          ]
                        ],
                        "type": "histogram2d"
                      }
                    ],
                    "histogram2dcontour": [
                      {
                        "colorbar": {
                          "outlinewidth": 0,
                          "ticks": ""
                        },
                        "colorscale": [
                          [
                            0,
                            "#0d0887"
                          ],
                          [
                            0.1111111111111111,
                            "#46039f"
                          ],
                          [
                            0.2222222222222222,
                            "#7201a8"
                          ],
                          [
                            0.3333333333333333,
                            "#9c179e"
                          ],
                          [
                            0.4444444444444444,
                            "#bd3786"
                          ],
                          [
                            0.5555555555555556,
                            "#d8576b"
                          ],
                          [
                            0.6666666666666666,
                            "#ed7953"
                          ],
                          [
                            0.7777777777777778,
                            "#fb9f3a"
                          ],
                          [
                            0.8888888888888888,
                            "#fdca26"
                          ],
                          [
                            1,
                            "#f0f921"
                          ]
                        ],
                        "type": "histogram2dcontour"
                      }
                    ],
                    "mesh3d": [
                      {
                        "colorbar": {
                          "outlinewidth": 0,
                          "ticks": ""
                        },
                        "type": "mesh3d"
                      }
                    ],
                    "parcoords": [
                      {
                        "line": {
                          "colorbar": {
                            "outlinewidth": 0,
                            "ticks": ""
                          }
                        },
                        "type": "parcoords"
                      }
                    ],
                    "pie": [
                      {
                        "automargin": true,
                        "type": "pie"
                      }
                    ],
                    "scatter": [
                      {
                        "marker": {
                          "line": {
                            "color": "#283442"
                          }
                        },
                        "type": "scatter"
                      }
                    ],
                    "scatter3d": [
                      {
                        "line": {
                          "colorbar": {
                            "outlinewidth": 0,
                            "ticks": ""
                          }
                        },
                        "marker": {
                          "colorbar": {
                            "outlinewidth": 0,
                            "ticks": ""
                          }
                        },
                        "type": "scatter3d"
                      }
                    ],
                    "scattercarpet": [
                      {
                        "marker": {
                          "colorbar": {
                            "outlinewidth": 0,
                            "ticks": ""
                          }
                        },
                        "type": "scattercarpet"
                      }
                    ],
                    "scattergeo": [
                      {
                        "marker": {
                          "colorbar": {
                            "outlinewidth": 0,
                            "ticks": ""
                          }
                        },
                        "type": "scattergeo"
                      }
                    ],
                    "scattergl": [
                      {
                        "marker": {
                          "line": {
                            "color": "#283442"
                          }
                        },
                        "type": "scattergl"
                      }
                    ],
                    "scattermap": [
                      {
                        "marker": {
                          "colorbar": {
                            "outlinewidth": 0,
                            "ticks": ""
                          }
                        },
                        "type": "scattermap"
                      }
                    ],
                    "scattermapbox": [
                      {
                        "marker": {
                          "colorbar": {
                            "outlinewidth": 0,
                            "ticks": ""
                          }
                        },
                        "type": "scattermapbox"
                      }
                    ],
                    "scatterpolar": [
                      {
                        "marker": {
                          "colorbar": {
                            "outlinewidth": 0,
                            "ticks": ""
                          }
                        },
                        "type": "scatterpolar"
                      }
                    ],
                    "scatterpolargl": [
                      {
                        "marker": {
                          "colorbar": {
                            "outlinewidth": 0,
                            "ticks": ""
                          }
                        },
                        "type": "scatterpolargl"
                      }
                    ],
                    "scatterternary": [
                      {
                        "marker": {
                          "colorbar": {
                            "outlinewidth": 0,
                            "ticks": ""
                          }
                        },
                        "type": "scatterternary"
                      }
                    ],
                    "surface": [
                      {
                        "colorbar": {
                          "outlinewidth": 0,
                          "ticks": ""
                        },
                        "colorscale": [
                          [
                            0,
                            "#0d0887"
                          ],
                          [
                            0.1111111111111111,
                            "#46039f"
                          ],
                          [
                            0.2222222222222222,
                            "#7201a8"
                          ],
                          [
                            0.3333333333333333,
                            "#9c179e"
                          ],
                          [
                            0.4444444444444444,
                            "#bd3786"
                          ],
                          [
                            0.5555555555555556,
                            "#d8576b"
                          ],
                          [
                            0.6666666666666666,
                            "#ed7953"
                          ],
                          [
                            0.7777777777777778,
                            "#fb9f3a"
                          ],
                          [
                            0.8888888888888888,
                            "#fdca26"
                          ],
                          [
                            1,
                            "#f0f921"
                          ]
                        ],
                        "type": "surface"
                      }
                    ],
                    "table": [
                      {
                        "cells": {
                          "fill": {
                            "color": "#506784"
                          },
                          "line": {
                            "color": "rgb(17,17,17)"
                          }
                        },
                        "header": {
                          "fill": {
                            "color": "#2a3f5f"
                          },
                          "line": {
                            "color": "rgb(17,17,17)"
                          }
                        },
                        "type": "table"
                      }
                    ]
                  },
                  "layout": {
                    "annotationdefaults": {
                      "arrowcolor": "#f2f5fa",
                      "arrowhead": 0,
                      "arrowwidth": 1
                    },
                    "autotypenumbers": "strict",
                    "coloraxis": {
                      "colorbar": {
                        "outlinewidth": 0,
                        "ticks": ""
                      }
                    },
                    "colorscale": {
                      "diverging": [
                        [
                          0,
                          "#8e0152"
                        ],
                        [
                          0.1,
                          "#c51b7d"
                        ],
                        [
                          0.2,
                          "#de77ae"
                        ],
                        [
                          0.3,
                          "#f1b6da"
                        ],
                        [
                          0.4,
                          "#fde0ef"
                        ],
                        [
                          0.5,
                          "#f7f7f7"
                        ],
                        [
                          0.6,
                          "#e6f5d0"
                        ],
                        [
                          0.7,
                          "#b8e186"
                        ],
                        [
                          0.8,
                          "#7fbc41"
                        ],
                        [
                          0.9,
                          "#4d9221"
                        ],
                        [
                          1,
                          "#276419"
                        ]
                      ],
                      "sequential": [
                        [
                          0,
                          "#0d0887"
                        ],
                        [
                          0.1111111111111111,
                          "#46039f"
                        ],
                        [
                          0.2222222222222222,
                          "#7201a8"
                        ],
                        [
                          0.3333333333333333,
                          "#9c179e"
                        ],
                        [
                          0.4444444444444444,
                          "#bd3786"
                        ],
                        [
                          0.5555555555555556,
                          "#d8576b"
                        ],
                        [
                          0.6666666666666666,
                          "#ed7953"
                        ],
                        [
                          0.7777777777777778,
                          "#fb9f3a"
                        ],
                        [
                          0.8888888888888888,
                          "#fdca26"
                        ],
                        [
                          1,
                          "#f0f921"
                        ]
                      ],
                      "sequentialminus": [
                        [
                          0,
                          "#0d0887"
                        ],
                        [
                          0.1111111111111111,
                          "#46039f"
                        ],
                        [
                          0.2222222222222222,
                          "#7201a8"
                        ],
                        [
                          0.3333333333333333,
                          "#9c179e"
                        ],
                        [
                          0.4444444444444444,
                          "#bd3786"
                        ],
                        [
                          0.5555555555555556,
                          "#d8576b"
                        ],
                        [
                          0.6666666666666666,
                          "#ed7953"
                        ],
                        [
                          0.7777777777777778,
                          "#fb9f3a"
                        ],
                        [
                          0.8888888888888888,
                          "#fdca26"
                        ],
                        [
                          1,
                          "#f0f921"
                        ]
                      ]
                    },
                    "colorway": [
                      "#636efa",
                      "#EF553B",
                      "#00cc96",
                      "#ab63fa",
                      "#FFA15A",
                      "#19d3f3",
                      "#FF6692",
                      "#B6E880",
                      "#FF97FF",
                      "#FECB52"
                    ],
                    "font": {
                      "color": "#f2f5fa"
                    },
                    "geo": {
                      "bgcolor": "rgb(17,17,17)",
                      "lakecolor": "rgb(17,17,17)",
                      "landcolor": "rgb(17,17,17)",
                      "showlakes": true,
                      "showland": true,
                      "subunitcolor": "#506784"
                    },
                    "hoverlabel": {
                      "align": "left"
                    },
                    "hovermode": "closest",
                    "mapbox": {
                      "style": "dark"
                    },
                    "paper_bgcolor": "rgb(17,17,17)",
                    "plot_bgcolor": "rgb(17,17,17)",
                    "polar": {
                      "angularaxis": {
                        "gridcolor": "#506784",
                        "linecolor": "#506784",
                        "ticks": ""
                      },
                      "bgcolor": "rgb(17,17,17)",
                      "radialaxis": {
                        "gridcolor": "#506784",
                        "linecolor": "#506784",
                        "ticks": ""
                      }
                    },
                    "scene": {
                      "xaxis": {
                        "backgroundcolor": "rgb(17,17,17)",
                        "gridcolor": "#506784",
                        "gridwidth": 2,
                        "linecolor": "#506784",
                        "showbackground": true,
                        "ticks": "",
                        "zerolinecolor": "#C8D4E3"
                      },
                      "yaxis": {
                        "backgroundcolor": "rgb(17,17,17)",
                        "gridcolor": "#506784",
                        "gridwidth": 2,
                        "linecolor": "#506784",
                        "showbackground": true,
                        "ticks": "",
                        "zerolinecolor": "#C8D4E3"
                      },
                      "zaxis": {
                        "backgroundcolor": "rgb(17,17,17)",
                        "gridcolor": "#506784",
                        "gridwidth": 2,
                        "linecolor": "#506784",
                        "showbackground": true,
                        "ticks": "",
                        "zerolinecolor": "#C8D4E3"
                      }
                    },
                    "shapedefaults": {
                      "line": {
                        "color": "#f2f5fa"
                      }
                    },
                    "sliderdefaults": {
                      "bgcolor": "#C8D4E3",
                      "bordercolor": "rgb(17,17,17)",
                      "borderwidth": 1,
                      "tickwidth": 0
                    },
                    "ternary": {
                      "aaxis": {
                        "gridcolor": "#506784",
                        "linecolor": "#506784",
                        "ticks": ""
                      },
                      "baxis": {
                        "gridcolor": "#506784",
                        "linecolor": "#506784",
                        "ticks": ""
                      },
                      "bgcolor": "rgb(17,17,17)",
                      "caxis": {
                        "gridcolor": "#506784",
                        "linecolor": "#506784",
                        "ticks": ""
                      }
                    },
                    "title": {
                      "x": 0.05
                    },
                    "updatemenudefaults": {
                      "bgcolor": "#506784",
                      "borderwidth": 0
                    },
                    "xaxis": {
                      "automargin": true,
                      "gridcolor": "#283442",
                      "linecolor": "#506784",
                      "ticks": "",
                      "title": {
                        "standoff": 15
                      },
                      "zerolinecolor": "#283442",
                      "zerolinewidth": 2
                    },
                    "yaxis": {
                      "automargin": true,
                      "gridcolor": "#283442",
                      "linecolor": "#506784",
                      "ticks": "",
                      "title": {
                        "standoff": 15
                      },
                      "zerolinecolor": "#283442",
                      "zerolinewidth": 2
                    }
                  }
                },
                "title": {
                  "text": "<b>Industries of top 10 billionaires"
                },
                "xaxis": {
                  "anchor": "y",
                  "domain": [
                    0,
                    1
                  ],
                  "title": {
                    "text": "name"
                  }
                },
                "yaxis": {
                  "anchor": "x",
                  "domain": [
                    0,
                    1
                  ],
                  "title": {
                    "text": "networth"
                  }
                }
              }
            }
          },
          "metadata": {},
          "output_type": "display_data"
        }
      ],
      "source": [
        "# sources of top 10 billionaires\n",
        "px.scatter(df.sort_values(\n",
        "    by='networth',\n",
        "    ascending = False)[:10],\n",
        "    y='networth',\n",
        "    x='name',\n",
        "    template='plotly_dark',\n",
        "    size='networth',\n",
        "    color='source',\n",
        "    opacity=0.85,\n",
        "    title='<b>Industries of top 10 billionaires')"
      ]
    },
    {
      "cell_type": "markdown",
      "metadata": {
        "id": "tMKkV3p1IXI9"
      },
      "source": [
        "Insights\n",
        "\n",
        "- The richest billionaire Elon Musk has it's 219 B dollars networth coming from the source of Tesla, SpaceX.\n",
        "- The second richest billionaire Jeff Bezos has it's 171 B dollars networth coming from the source of Amazon.\n",
        "- Steve Ballmer with a networth of 91.4 B dollars and Bill Gates with a networth of 129 B dollars have the common source of Microsoft.\n",
        "- Sergy Brin with a networth of 107 B dollars and Lary Page with a networth of 111 B dollars have the common source of Google."
      ]
    },
    {
      "cell_type": "markdown",
      "metadata": {
        "id": "LeHbEdZE6ArE"
      },
      "source": [
        "## Analysis according to age"
      ]
    },
    {
      "cell_type": "markdown",
      "metadata": {
        "id": "23FRv0UpImnb"
      },
      "source": [
        "What is the distribution of age in billionaires?"
      ]
    },
    {
      "cell_type": "code",
      "execution_count": 22,
      "metadata": {
        "colab": {
          "base_uri": "https://localhost:8080/",
          "height": 542
        },
        "id": "cPmE1pgR5l1s",
        "outputId": "7c616db7-48ae-4048-fbd2-a9a8cf4fdd74"
      },
      "outputs": [
        {
          "data": {
            "application/vnd.plotly.v1+json": {
              "config": {
                "plotlyServerURL": "https://plot.ly"
              },
              "data": [
                {
                  "bingroup": "x",
                  "hovertemplate": "age=%{x}<br>count=%{y}<extra></extra>",
                  "legendgroup": "50",
                  "marker": {
                    "color": "#636efa",
                    "opacity": 0.9,
                    "pattern": {
                      "shape": ""
                    }
                  },
                  "name": "50",
                  "orientation": "v",
                  "showlegend": true,
                  "type": "histogram",
                  "x": {
                    "bdata": "MjIyMjIyMjIyMjIyMjIyMjIyMjIyMjIyMjIyMjIyMjIyMjIyMjI=",
                    "dtype": "i1"
                  },
                  "xaxis": "x",
                  "yaxis": "y"
                },
                {
                  "bingroup": "x",
                  "hovertemplate": "age=%{x}<br>count=%{y}<extra></extra>",
                  "legendgroup": "58",
                  "marker": {
                    "color": "#EF553B",
                    "opacity": 0.9,
                    "pattern": {
                      "shape": ""
                    }
                  },
                  "name": "58",
                  "orientation": "v",
                  "showlegend": true,
                  "type": "histogram",
                  "x": {
                    "bdata": "Ojo6Ojo6Ojo6Ojo6Ojo6Ojo6Ojo6Ojo6Ojo6Ojo6Ojo6Ojo6Ojo6Ojo6Ojo6Ojo6Ojo6Ojo6Ojo6Ojo6Ojo6Ojo6Ojo6Ojo6Ojo6Ojo6Og==",
                    "dtype": "i1"
                  },
                  "xaxis": "x",
                  "yaxis": "y"
                },
                {
                  "bingroup": "x",
                  "hovertemplate": "age=%{x}<br>count=%{y}<extra></extra>",
                  "legendgroup": "73",
                  "marker": {
                    "color": "#00cc96",
                    "opacity": 0.9,
                    "pattern": {
                      "shape": ""
                    }
                  },
                  "name": "73",
                  "orientation": "v",
                  "showlegend": true,
                  "type": "histogram",
                  "x": {
                    "bdata": "SUlJSUlJSUlJSUlJSUlJSUlJSUlJSUlJSUlJSUlJSUlJSUlJSUlJSUlJSUlJSUlJSUlJ",
                    "dtype": "i1"
                  },
                  "xaxis": "x",
                  "yaxis": "y"
                },
                {
                  "bingroup": "x",
                  "hovertemplate": "age=%{x}<br>count=%{y}<extra></extra>",
                  "legendgroup": "66",
                  "marker": {
                    "color": "#ab63fa",
                    "opacity": 0.9,
                    "pattern": {
                      "shape": ""
                    }
                  },
                  "name": "66",
                  "orientation": "v",
                  "showlegend": true,
                  "type": "histogram",
                  "x": {
                    "bdata": "QkJCQkJCQkJCQkJCQkJCQkJCQkJCQkJCQkJCQkJCQkJCQkJCQkJCQkJCQkJCQkJCQkJCQkJCQkJCQkJCQkJCQkJCQkI=",
                    "dtype": "i1"
                  },
                  "xaxis": "x",
                  "yaxis": "y"
                },
                {
                  "bingroup": "x",
                  "hovertemplate": "age=%{x}<br>count=%{y}<extra></extra>",
                  "legendgroup": "91",
                  "marker": {
                    "color": "#FFA15A",
                    "opacity": 0.9,
                    "pattern": {
                      "shape": ""
                    }
                  },
                  "name": "91",
                  "orientation": "v",
                  "showlegend": true,
                  "type": "histogram",
                  "x": {
                    "bdata": "W1tbW1tbW1tbWw==",
                    "dtype": "i1"
                  },
                  "xaxis": "x",
                  "yaxis": "y"
                },
                {
                  "bingroup": "x",
                  "hovertemplate": "age=%{x}<br>count=%{y}<extra></extra>",
                  "legendgroup": "49",
                  "marker": {
                    "color": "#19d3f3",
                    "opacity": 0.9,
                    "pattern": {
                      "shape": ""
                    }
                  },
                  "name": "49",
                  "orientation": "v",
                  "showlegend": true,
                  "type": "histogram",
                  "x": {
                    "bdata": "MTExMTExMTExMTExMTExMTExMTExMTExMTExMTExMTExMTExMTExMQ==",
                    "dtype": "i1"
                  },
                  "xaxis": "x",
                  "yaxis": "y"
                },
                {
                  "bingroup": "x",
                  "hovertemplate": "age=%{x}<br>count=%{y}<extra></extra>",
                  "legendgroup": "48",
                  "marker": {
                    "color": "#FF6692",
                    "opacity": 0.9,
                    "pattern": {
                      "shape": ""
                    }
                  },
                  "name": "48",
                  "orientation": "v",
                  "showlegend": true,
                  "type": "histogram",
                  "x": {
                    "bdata": "MDAwMDAwMDAwMDAwMDAwMDAwMDAwMDAwMDAwMDAwMDAwMDAwMDAw",
                    "dtype": "i1"
                  },
                  "xaxis": "x",
                  "yaxis": "y"
                },
                {
                  "bingroup": "x",
                  "hovertemplate": "age=%{x}<br>count=%{y}<extra></extra>",
                  "legendgroup": "77",
                  "marker": {
                    "color": "#B6E880",
                    "opacity": 0.9,
                    "pattern": {
                      "shape": ""
                    }
                  },
                  "name": "77",
                  "orientation": "v",
                  "showlegend": true,
                  "type": "histogram",
                  "x": {
                    "bdata": "TU1NTU1NTU1NTU1NTU1NTU1NTU1NTU1NTU1NTU1NTU1NTU1NTU1NTU1NTU1NTU1NTU1NTQ==",
                    "dtype": "i1"
                  },
                  "xaxis": "x",
                  "yaxis": "y"
                },
                {
                  "bingroup": "x",
                  "hovertemplate": "age=%{x}<br>count=%{y}<extra></extra>",
                  "legendgroup": "64",
                  "marker": {
                    "color": "#FF97FF",
                    "opacity": 0.9,
                    "pattern": {
                      "shape": ""
                    }
                  },
                  "name": "64",
                  "orientation": "v",
                  "showlegend": true,
                  "type": "histogram",
                  "x": {
                    "bdata": "QEBAQEBAQEBAQEBAQEBAQEBAQEBAQEBAQEBAQEBAQEBAQEBAQEBAQEBAQEBAQEBAQEBAQEBAQEBAQEBAQEBAQEBAQEBAQEBAQEBAQEBAQEBAQEBAQEBAQEBAQEBAQEBAQEBAQEBAQEBAQEBAQEBAQEBAQEBAQEBAQEBAQEBAQEBAQEBAQEBAQEBAQEBAQEBAQEBAQEBAQEA=",
                    "dtype": "i1"
                  },
                  "xaxis": "x",
                  "yaxis": "y"
                },
                {
                  "bingroup": "x",
                  "hovertemplate": "age=%{x}<br>count=%{y}<extra></extra>",
                  "legendgroup": "59",
                  "marker": {
                    "color": "#FECB52",
                    "opacity": 0.9,
                    "pattern": {
                      "shape": ""
                    }
                  },
                  "name": "59",
                  "orientation": "v",
                  "showlegend": true,
                  "type": "histogram",
                  "x": {
                    "bdata": "Ozs7Ozs7Ozs7Ozs7Ozs7Ozs7Ozs7Ozs7Ozs7Ozs7Ozs7Ozs7Ozs7Ozs7Ozs7Ozs7Ozs7Ozs7Ozs7Ozs7Ozs7Ozs7Ozs7Ozs7Ozs7Ozs7",
                    "dtype": "i1"
                  },
                  "xaxis": "x",
                  "yaxis": "y"
                },
                {
                  "bingroup": "x",
                  "hovertemplate": "age=%{x}<br>count=%{y}<extra></extra>",
                  "legendgroup": "80",
                  "marker": {
                    "color": "#636efa",
                    "opacity": 0.9,
                    "pattern": {
                      "shape": ""
                    }
                  },
                  "name": "80",
                  "orientation": "v",
                  "showlegend": true,
                  "type": "histogram",
                  "x": {
                    "bdata": "UFBQUFBQUFBQUFBQUFBQUFBQUFBQUFBQUFBQUFBQUFBQUFBQUFBQUFBQUFA=",
                    "dtype": "i1"
                  },
                  "xaxis": "x",
                  "yaxis": "y"
                },
                {
                  "bingroup": "x",
                  "hovertemplate": "age=%{x}<br>count=%{y}<extra></extra>",
                  "legendgroup": "82",
                  "marker": {
                    "color": "#EF553B",
                    "opacity": 0.9,
                    "pattern": {
                      "shape": ""
                    }
                  },
                  "name": "82",
                  "orientation": "v",
                  "showlegend": true,
                  "type": "histogram",
                  "x": {
                    "bdata": "UlJSUlJSUlJSUlJSUlJSUlJSUlJSUlJSUlJSUlJSUlJS",
                    "dtype": "i1"
                  },
                  "xaxis": "x",
                  "yaxis": "y"
                },
                {
                  "bingroup": "x",
                  "hovertemplate": "age=%{x}<br>count=%{y}<extra></extra>",
                  "legendgroup": "68",
                  "marker": {
                    "color": "#00cc96",
                    "opacity": 0.9,
                    "pattern": {
                      "shape": ""
                    }
                  },
                  "name": "68",
                  "orientation": "v",
                  "showlegend": true,
                  "type": "histogram",
                  "x": {
                    "bdata": "RERERERERERERERERERERERERERERERERERERERERERERERERERERERERERERERERERERERERERERERERERERERE",
                    "dtype": "i1"
                  },
                  "xaxis": "x",
                  "yaxis": "y"
                },
                {
                  "bingroup": "x",
                  "hovertemplate": "age=%{x}<br>count=%{y}<extra></extra>",
                  "legendgroup": "37",
                  "marker": {
                    "color": "#ab63fa",
                    "opacity": 0.9,
                    "pattern": {
                      "shape": ""
                    }
                  },
                  "name": "37",
                  "orientation": "v",
                  "showlegend": true,
                  "type": "histogram",
                  "x": {
                    "bdata": "JSUlJSUlJSUl",
                    "dtype": "i1"
                  },
                  "xaxis": "x",
                  "yaxis": "y"
                },
                {
                  "bingroup": "x",
                  "hovertemplate": "age=%{x}<br>count=%{y}<extra></extra>",
                  "legendgroup": "67",
                  "marker": {
                    "color": "#FFA15A",
                    "opacity": 0.9,
                    "pattern": {
                      "shape": ""
                    }
                  },
                  "name": "67",
                  "orientation": "v",
                  "showlegend": true,
                  "type": "histogram",
                  "x": {
                    "bdata": "Q0NDQ0NDQ0NDQ0NDQ0NDQ0NDQ0NDQ0NDQ0NDQ0NDQ0NDQ0NDQ0NDQ0NDQ0NDQ0NDQ0NDQ0NDQ0NDQ0NDQ0NDQ0NDQ0M=",
                    "dtype": "i1"
                  },
                  "xaxis": "x",
                  "yaxis": "y"
                },
                {
                  "bingroup": "x",
                  "hovertemplate": "age=%{x}<br>count=%{y}<extra></extra>",
                  "legendgroup": "72",
                  "marker": {
                    "color": "#19d3f3",
                    "opacity": 0.9,
                    "pattern": {
                      "shape": ""
                    }
                  },
                  "name": "72",
                  "orientation": "v",
                  "showlegend": true,
                  "type": "histogram",
                  "x": {
                    "bdata": "SEhISEhISEhISEhISEhISEhISEhISEhISEhISEhISEhISEhISEhISEhISEhISEhISEhISEhISEhISEhISEhISEhISEhISEhISEhI",
                    "dtype": "i1"
                  },
                  "xaxis": "x",
                  "yaxis": "y"
                },
                {
                  "bingroup": "x",
                  "hovertemplate": "age=%{x}<br>count=%{y}<extra></extra>",
                  "legendgroup": "44",
                  "marker": {
                    "color": "#FF6692",
                    "opacity": 0.9,
                    "pattern": {
                      "shape": ""
                    }
                  },
                  "name": "44",
                  "orientation": "v",
                  "showlegend": true,
                  "type": "histogram",
                  "x": {
                    "bdata": "LCwsLCwsLCwsLCwsLCwsLCws",
                    "dtype": "i1"
                  },
                  "xaxis": "x",
                  "yaxis": "y"
                },
                {
                  "bingroup": "x",
                  "hovertemplate": "age=%{x}<br>count=%{y}<extra></extra>",
                  "legendgroup": "86",
                  "marker": {
                    "color": "#B6E880",
                    "opacity": 0.9,
                    "pattern": {
                      "shape": ""
                    }
                  },
                  "name": "86",
                  "orientation": "v",
                  "showlegend": true,
                  "type": "histogram",
                  "x": {
                    "bdata": "VlZWVlZWVlZWVlZWVlZWVlZWVlZWVlZWVlZWVlZWVlZW",
                    "dtype": "i1"
                  },
                  "xaxis": "x",
                  "yaxis": "y"
                },
                {
                  "bingroup": "x",
                  "hovertemplate": "age=%{x}<br>count=%{y}<extra></extra>",
                  "legendgroup": "57",
                  "marker": {
                    "color": "#FF97FF",
                    "opacity": 0.9,
                    "pattern": {
                      "shape": ""
                    }
                  },
                  "name": "57",
                  "orientation": "v",
                  "showlegend": true,
                  "type": "histogram",
                  "x": {
                    "bdata": "OTk5OTk5OTk5OTk5OTk5OTk5OTk5OTk5OTk5OTk5OTk5OTk5OTk5OTk5OTk5OTk5OTk5OTk5OTk5OTk5OTk5OTk5OTk5OTk5OTk5OTk=",
                    "dtype": "i1"
                  },
                  "xaxis": "x",
                  "yaxis": "y"
                },
                {
                  "bingroup": "x",
                  "hovertemplate": "age=%{x}<br>count=%{y}<extra></extra>",
                  "legendgroup": "38",
                  "marker": {
                    "color": "#FECB52",
                    "opacity": 0.9,
                    "pattern": {
                      "shape": ""
                    }
                  },
                  "name": "38",
                  "orientation": "v",
                  "showlegend": true,
                  "type": "histogram",
                  "x": {
                    "bdata": "JiYmJiYmJiYm",
                    "dtype": "i1"
                  },
                  "xaxis": "x",
                  "yaxis": "y"
                },
                {
                  "bingroup": "x",
                  "hovertemplate": "age=%{x}<br>count=%{y}<extra></extra>",
                  "legendgroup": "84",
                  "marker": {
                    "color": "#636efa",
                    "opacity": 0.9,
                    "pattern": {
                      "shape": ""
                    }
                  },
                  "name": "84",
                  "orientation": "v",
                  "showlegend": true,
                  "type": "histogram",
                  "x": {
                    "bdata": "VFRUVFRUVFRUVFRUVFRUVFRUVFRUVFRUVFRUVFQ=",
                    "dtype": "i1"
                  },
                  "xaxis": "x",
                  "yaxis": "y"
                },
                {
                  "bingroup": "x",
                  "hovertemplate": "age=%{x}<br>count=%{y}<extra></extra>",
                  "legendgroup": "53",
                  "marker": {
                    "color": "#EF553B",
                    "opacity": 0.9,
                    "pattern": {
                      "shape": ""
                    }
                  },
                  "name": "53",
                  "orientation": "v",
                  "showlegend": true,
                  "type": "histogram",
                  "x": {
                    "bdata": "NTU1NTU1NTU1NTU1NTU1NTU1NTU1NTU1NTU1NTU1NTU1NTU1NTU1NTU1NTU1NTU1NTU1NTU1NQ==",
                    "dtype": "i1"
                  },
                  "xaxis": "x",
                  "yaxis": "y"
                },
                {
                  "bingroup": "x",
                  "hovertemplate": "age=%{x}<br>count=%{y}<extra></extra>",
                  "legendgroup": "51",
                  "marker": {
                    "color": "#00cc96",
                    "opacity": 0.9,
                    "pattern": {
                      "shape": ""
                    }
                  },
                  "name": "51",
                  "orientation": "v",
                  "showlegend": true,
                  "type": "histogram",
                  "x": {
                    "bdata": "MzMzMzMzMzMzMzMzMzMzMzMzMzMzMzMzMzMzMzMzMzMzMzMzMzMzMzMzMzMzMzMzMzMz",
                    "dtype": "i1"
                  },
                  "xaxis": "x",
                  "yaxis": "y"
                },
                {
                  "bingroup": "x",
                  "hovertemplate": "age=%{x}<br>count=%{y}<extra></extra>",
                  "legendgroup": "52",
                  "marker": {
                    "color": "#ab63fa",
                    "opacity": 0.9,
                    "pattern": {
                      "shape": ""
                    }
                  },
                  "name": "52",
                  "orientation": "v",
                  "showlegend": true,
                  "type": "histogram",
                  "x": {
                    "bdata": "NDQ0NDQ0NDQ0NDQ0NDQ0NDQ0NDQ0NDQ0NDQ0NDQ0NDQ0NDQ0NDQ0NDQ0NDQ0NDQ0NDQ0NDQ0NDQ0NDQ=",
                    "dtype": "i1"
                  },
                  "xaxis": "x",
                  "yaxis": "y"
                },
                {
                  "bingroup": "x",
                  "hovertemplate": "age=%{x}<br>count=%{y}<extra></extra>",
                  "legendgroup": "85",
                  "marker": {
                    "color": "#FFA15A",
                    "opacity": 0.9,
                    "pattern": {
                      "shape": ""
                    }
                  },
                  "name": "85",
                  "orientation": "v",
                  "showlegend": true,
                  "type": "histogram",
                  "x": {
                    "bdata": "VVVVVVVVVVVVVVVVVVVVVVU=",
                    "dtype": "i1"
                  },
                  "xaxis": "x",
                  "yaxis": "y"
                },
                {
                  "bingroup": "x",
                  "hovertemplate": "age=%{x}<br>count=%{y}<extra></extra>",
                  "legendgroup": "93",
                  "marker": {
                    "color": "#19d3f3",
                    "opacity": 0.9,
                    "pattern": {
                      "shape": ""
                    }
                  },
                  "name": "93",
                  "orientation": "v",
                  "showlegend": true,
                  "type": "histogram",
                  "x": {
                    "bdata": "XV1dXV1dXV1dXV1d",
                    "dtype": "i1"
                  },
                  "xaxis": "x",
                  "yaxis": "y"
                },
                {
                  "bingroup": "x",
                  "hovertemplate": "age=%{x}<br>count=%{y}<extra></extra>",
                  "legendgroup": "75",
                  "marker": {
                    "color": "#FF6692",
                    "opacity": 0.9,
                    "pattern": {
                      "shape": ""
                    }
                  },
                  "name": "75",
                  "orientation": "v",
                  "showlegend": true,
                  "type": "histogram",
                  "x": {
                    "bdata": "S0tLS0tLS0tLS0tLS0tLS0tLS0tLS0tLS0tLS0tLS0tLS0tLS0tLS0tLS0tLS0tLS0tLSw==",
                    "dtype": "i1"
                  },
                  "xaxis": "x",
                  "yaxis": "y"
                },
                {
                  "bingroup": "x",
                  "hovertemplate": "age=%{x}<br>count=%{y}<extra></extra>",
                  "legendgroup": "94",
                  "marker": {
                    "color": "#B6E880",
                    "opacity": 0.9,
                    "pattern": {
                      "shape": ""
                    }
                  },
                  "name": "94",
                  "orientation": "v",
                  "showlegend": true,
                  "type": "histogram",
                  "x": {
                    "bdata": "Xl5eXl5eXl5e",
                    "dtype": "i1"
                  },
                  "xaxis": "x",
                  "yaxis": "y"
                },
                {
                  "bingroup": "x",
                  "hovertemplate": "age=%{x}<br>count=%{y}<extra></extra>",
                  "legendgroup": "71",
                  "marker": {
                    "color": "#FF97FF",
                    "opacity": 0.9,
                    "pattern": {
                      "shape": ""
                    }
                  },
                  "name": "71",
                  "orientation": "v",
                  "showlegend": true,
                  "type": "histogram",
                  "x": {
                    "bdata": "R0dHR0dHR0dHR0dHR0dHR0dHR0dHR0dHR0dHR0dHR0dHR0dHR0dHR0dHR0dHR0dHR0dHR0dHR0dHR0dHR0c=",
                    "dtype": "i1"
                  },
                  "xaxis": "x",
                  "yaxis": "y"
                },
                {
                  "bingroup": "x",
                  "hovertemplate": "age=%{x}<br>count=%{y}<extra></extra>",
                  "legendgroup": "76",
                  "marker": {
                    "color": "#FECB52",
                    "opacity": 0.9,
                    "pattern": {
                      "shape": ""
                    }
                  },
                  "name": "76",
                  "orientation": "v",
                  "showlegend": true,
                  "type": "histogram",
                  "x": {
                    "bdata": "TExMTExMTExMTExMTExMTExMTExMTExMTExMTExMTExMTExMTExMTExMTExMTExMTExMTExMTExMTA==",
                    "dtype": "i1"
                  },
                  "xaxis": "x",
                  "yaxis": "y"
                },
                {
                  "bingroup": "x",
                  "hovertemplate": "age=%{x}<br>count=%{y}<extra></extra>",
                  "legendgroup": "83",
                  "marker": {
                    "color": "#636efa",
                    "opacity": 0.9,
                    "pattern": {
                      "shape": ""
                    }
                  },
                  "name": "83",
                  "orientation": "v",
                  "showlegend": true,
                  "type": "histogram",
                  "x": {
                    "bdata": "U1NTU1NTU1NTU1NTU1NTU1NTU1NT",
                    "dtype": "i1"
                  },
                  "xaxis": "x",
                  "yaxis": "y"
                },
                {
                  "bingroup": "x",
                  "hovertemplate": "age=%{x}<br>count=%{y}<extra></extra>",
                  "legendgroup": "79",
                  "marker": {
                    "color": "#EF553B",
                    "opacity": 0.9,
                    "pattern": {
                      "shape": ""
                    }
                  },
                  "name": "79",
                  "orientation": "v",
                  "showlegend": true,
                  "type": "histogram",
                  "x": {
                    "bdata": "T09PT09PT09PT09PT09PT09PT09PT09PT09PT09PT09PT09PT09PT09PT08=",
                    "dtype": "i1"
                  },
                  "xaxis": "x",
                  "yaxis": "y"
                },
                {
                  "bingroup": "x",
                  "hovertemplate": "age=%{x}<br>count=%{y}<extra></extra>",
                  "legendgroup": "56",
                  "marker": {
                    "color": "#00cc96",
                    "opacity": 0.9,
                    "pattern": {
                      "shape": ""
                    }
                  },
                  "name": "56",
                  "orientation": "v",
                  "showlegend": true,
                  "type": "histogram",
                  "x": {
                    "bdata": "ODg4ODg4ODg4ODg4ODg4ODg4ODg4ODg4ODg4ODg4ODg4ODg4ODg4ODg4ODg4ODg4ODg4ODg4ODg4ODg4ODg4ODg4ODg4ODg4ODg4",
                    "dtype": "i1"
                  },
                  "xaxis": "x",
                  "yaxis": "y"
                },
                {
                  "bingroup": "x",
                  "hovertemplate": "age=%{x}<br>count=%{y}<extra></extra>",
                  "legendgroup": "30",
                  "marker": {
                    "color": "#ab63fa",
                    "opacity": 0.9,
                    "pattern": {
                      "shape": ""
                    }
                  },
                  "name": "30",
                  "orientation": "v",
                  "showlegend": true,
                  "type": "histogram",
                  "x": {
                    "bdata": "Hh4e",
                    "dtype": "i1"
                  },
                  "xaxis": "x",
                  "yaxis": "y"
                },
                {
                  "bingroup": "x",
                  "hovertemplate": "age=%{x}<br>count=%{y}<extra></extra>",
                  "legendgroup": "81",
                  "marker": {
                    "color": "#FFA15A",
                    "opacity": 0.9,
                    "pattern": {
                      "shape": ""
                    }
                  },
                  "name": "81",
                  "orientation": "v",
                  "showlegend": true,
                  "type": "histogram",
                  "x": {
                    "bdata": "UVFRUVFRUVFRUVFRUVFRUVFRUVFRUVFRUVFRUVFRUVFRUVFRUVFRUVFRUVFRUVFRUQ==",
                    "dtype": "i1"
                  },
                  "xaxis": "x",
                  "yaxis": "y"
                },
                {
                  "bingroup": "x",
                  "hovertemplate": "age=%{x}<br>count=%{y}<extra></extra>",
                  "legendgroup": "89",
                  "marker": {
                    "color": "#19d3f3",
                    "opacity": 0.9,
                    "pattern": {
                      "shape": ""
                    }
                  },
                  "name": "89",
                  "orientation": "v",
                  "showlegend": true,
                  "type": "histogram",
                  "x": {
                    "bdata": "WVlZWVlZWVlZWVlZWVlZWVlZWVk=",
                    "dtype": "i1"
                  },
                  "xaxis": "x",
                  "yaxis": "y"
                },
                {
                  "bingroup": "x",
                  "hovertemplate": "age=%{x}<br>count=%{y}<extra></extra>",
                  "legendgroup": "40",
                  "marker": {
                    "color": "#FF6692",
                    "opacity": 0.9,
                    "pattern": {
                      "shape": ""
                    }
                  },
                  "name": "40",
                  "orientation": "v",
                  "showlegend": true,
                  "type": "histogram",
                  "x": {
                    "bdata": "KCgoKCgoKCgoKCgoKCgoKCgoKCgoKA==",
                    "dtype": "i1"
                  },
                  "xaxis": "x",
                  "yaxis": "y"
                },
                {
                  "bingroup": "x",
                  "hovertemplate": "age=%{x}<br>count=%{y}<extra></extra>",
                  "legendgroup": "60",
                  "marker": {
                    "color": "#B6E880",
                    "opacity": 0.9,
                    "pattern": {
                      "shape": ""
                    }
                  },
                  "name": "60",
                  "orientation": "v",
                  "showlegend": true,
                  "type": "histogram",
                  "x": {
                    "bdata": "PDw8PDw8PDw8PDw8PDw8PDw8PDw8PDw8PDw8PDw8PDw8PDw8PDw8PDw8PDw8PDw8PDw8PDw8PDw8PDw8PDw8PDw8PDw8PDw8PDw=",
                    "dtype": "i1"
                  },
                  "xaxis": "x",
                  "yaxis": "y"
                },
                {
                  "bingroup": "x",
                  "hovertemplate": "age=%{x}<br>count=%{y}<extra></extra>",
                  "legendgroup": "55",
                  "marker": {
                    "color": "#FF97FF",
                    "opacity": 0.9,
                    "pattern": {
                      "shape": ""
                    }
                  },
                  "name": "55",
                  "orientation": "v",
                  "showlegend": true,
                  "type": "histogram",
                  "x": {
                    "bdata": "Nzc3Nzc3Nzc3Nzc3Nzc3Nzc3Nzc3Nzc3Nzc3Nzc3Nzc3Nzc3Nzc3Nzc3Nzc3Nzc3Nzc3Nzc3Nzc3Nzc3Nw==",
                    "dtype": "i1"
                  },
                  "xaxis": "x",
                  "yaxis": "y"
                },
                {
                  "bingroup": "x",
                  "hovertemplate": "age=%{x}<br>count=%{y}<extra></extra>",
                  "legendgroup": "65",
                  "marker": {
                    "color": "#FECB52",
                    "opacity": 0.9,
                    "pattern": {
                      "shape": ""
                    }
                  },
                  "name": "65",
                  "orientation": "v",
                  "showlegend": true,
                  "type": "histogram",
                  "x": {
                    "bdata": "QUFBQUFBQUFBQUFBQUFBQUFBQUFBQUFBQUFBQUFBQUFBQUFBQUFBQUFBQUFBQUFBQUFBQUFBQUFBQUFBQUFBQUFBQUFBQUFB",
                    "dtype": "i1"
                  },
                  "xaxis": "x",
                  "yaxis": "y"
                },
                {
                  "bingroup": "x",
                  "hovertemplate": "age=%{x}<br>count=%{y}<extra></extra>",
                  "legendgroup": "54",
                  "marker": {
                    "color": "#636efa",
                    "opacity": 0.9,
                    "pattern": {
                      "shape": ""
                    }
                  },
                  "name": "54",
                  "orientation": "v",
                  "showlegend": true,
                  "type": "histogram",
                  "x": {
                    "bdata": "NjY2NjY2NjY2NjY2NjY2NjY2NjY2NjY2NjY2NjY2NjY2NjY2NjY2NjY2NjY2NjY2NjY2NjY2NjY2NjY2NjY2NjY2NjY2NjY2NjY2NjY=",
                    "dtype": "i1"
                  },
                  "xaxis": "x",
                  "yaxis": "y"
                },
                {
                  "bingroup": "x",
                  "hovertemplate": "age=%{x}<br>count=%{y}<extra></extra>",
                  "legendgroup": "74",
                  "marker": {
                    "color": "#EF553B",
                    "opacity": 0.9,
                    "pattern": {
                      "shape": ""
                    }
                  },
                  "name": "74",
                  "orientation": "v",
                  "showlegend": true,
                  "type": "histogram",
                  "x": {
                    "bdata": "SkpKSkpKSkpKSkpKSkpKSkpKSkpKSkpKSkpKSkpKSkpKSkpKSkpKSkpKSkpKSkpKSkpKSg==",
                    "dtype": "i1"
                  },
                  "xaxis": "x",
                  "yaxis": "y"
                },
                {
                  "bingroup": "x",
                  "hovertemplate": "age=%{x}<br>count=%{y}<extra></extra>",
                  "legendgroup": "61",
                  "marker": {
                    "color": "#00cc96",
                    "opacity": 0.9,
                    "pattern": {
                      "shape": ""
                    }
                  },
                  "name": "61",
                  "orientation": "v",
                  "showlegend": true,
                  "type": "histogram",
                  "x": {
                    "bdata": "PT09PT09PT09PT09PT09PT09PT09PT09PT09PT09PT09PT09PT09PT09PT09PT09PT09PT09PT09",
                    "dtype": "i1"
                  },
                  "xaxis": "x",
                  "yaxis": "y"
                },
                {
                  "bingroup": "x",
                  "hovertemplate": "age=%{x}<br>count=%{y}<extra></extra>",
                  "legendgroup": "63",
                  "marker": {
                    "color": "#ab63fa",
                    "opacity": 0.9,
                    "pattern": {
                      "shape": ""
                    }
                  },
                  "name": "63",
                  "orientation": "v",
                  "showlegend": true,
                  "type": "histogram",
                  "x": {
                    "bdata": "Pz8/Pz8/Pz8/Pz8/Pz8/Pz8/Pz8/Pz8/Pz8/Pz8/Pz8/Pz8/Pz8/Pz8/Pz8/Pz8/Pz8/Pz8/Pw==",
                    "dtype": "i1"
                  },
                  "xaxis": "x",
                  "yaxis": "y"
                },
                {
                  "bingroup": "x",
                  "hovertemplate": "age=%{x}<br>count=%{y}<extra></extra>",
                  "legendgroup": "35",
                  "marker": {
                    "color": "#FFA15A",
                    "opacity": 0.9,
                    "pattern": {
                      "shape": ""
                    }
                  },
                  "name": "35",
                  "orientation": "v",
                  "showlegend": true,
                  "type": "histogram",
                  "x": {
                    "bdata": "IyMjIyMjIw==",
                    "dtype": "i1"
                  },
                  "xaxis": "x",
                  "yaxis": "y"
                },
                {
                  "bingroup": "x",
                  "hovertemplate": "age=%{x}<br>count=%{y}<extra></extra>",
                  "legendgroup": "69",
                  "marker": {
                    "color": "#19d3f3",
                    "opacity": 0.9,
                    "pattern": {
                      "shape": ""
                    }
                  },
                  "name": "69",
                  "orientation": "v",
                  "showlegend": true,
                  "type": "histogram",
                  "x": {
                    "bdata": "RUVFRUVFRUVFRUVFRUVFRUVFRUVFRUVFRUVFRUVFRUVFRUVFRUVFRUVFRUVFRUVFRUVFRUVFRUVFRUVFRQ==",
                    "dtype": "i1"
                  },
                  "xaxis": "x",
                  "yaxis": "y"
                },
                {
                  "bingroup": "x",
                  "hovertemplate": "age=%{x}<br>count=%{y}<extra></extra>",
                  "legendgroup": "42",
                  "marker": {
                    "color": "#FF6692",
                    "opacity": 0.9,
                    "pattern": {
                      "shape": ""
                    }
                  },
                  "name": "42",
                  "orientation": "v",
                  "showlegend": true,
                  "type": "histogram",
                  "x": {
                    "bdata": "KioqKioqKioqKioqKioqKioqKg==",
                    "dtype": "i1"
                  },
                  "xaxis": "x",
                  "yaxis": "y"
                },
                {
                  "bingroup": "x",
                  "hovertemplate": "age=%{x}<br>count=%{y}<extra></extra>",
                  "legendgroup": "92",
                  "marker": {
                    "color": "#B6E880",
                    "opacity": 0.9,
                    "pattern": {
                      "shape": ""
                    }
                  },
                  "name": "92",
                  "orientation": "v",
                  "showlegend": true,
                  "type": "histogram",
                  "x": {
                    "bdata": "XFxcXFxcXFxc",
                    "dtype": "i1"
                  },
                  "xaxis": "x",
                  "yaxis": "y"
                },
                {
                  "bingroup": "x",
                  "hovertemplate": "age=%{x}<br>count=%{y}<extra></extra>",
                  "legendgroup": "70",
                  "marker": {
                    "color": "#FF97FF",
                    "opacity": 0.9,
                    "pattern": {
                      "shape": ""
                    }
                  },
                  "name": "70",
                  "orientation": "v",
                  "showlegend": true,
                  "type": "histogram",
                  "x": {
                    "bdata": "RkZGRkZGRkZGRkZGRkZGRkZGRkZGRkZGRkZGRkZGRkZGRkZGRkZGRkZGRkZGRkZGRkZGRkZGRkZGRkZG",
                    "dtype": "i1"
                  },
                  "xaxis": "x",
                  "yaxis": "y"
                },
                {
                  "bingroup": "x",
                  "hovertemplate": "age=%{x}<br>count=%{y}<extra></extra>",
                  "legendgroup": "98",
                  "marker": {
                    "color": "#FECB52",
                    "opacity": 0.9,
                    "pattern": {
                      "shape": ""
                    }
                  },
                  "name": "98",
                  "orientation": "v",
                  "showlegend": true,
                  "type": "histogram",
                  "x": {
                    "bdata": "YmJi",
                    "dtype": "i1"
                  },
                  "xaxis": "x",
                  "yaxis": "y"
                },
                {
                  "bingroup": "x",
                  "hovertemplate": "age=%{x}<br>count=%{y}<extra></extra>",
                  "legendgroup": "62",
                  "marker": {
                    "color": "#636efa",
                    "opacity": 0.9,
                    "pattern": {
                      "shape": ""
                    }
                  },
                  "name": "62",
                  "orientation": "v",
                  "showlegend": true,
                  "type": "histogram",
                  "x": {
                    "bdata": "Pj4+Pj4+Pj4+Pj4+Pj4+Pj4+Pj4+Pj4+Pj4+Pj4+Pj4+Pj4+Pj4+Pj4+Pj4+Pj4+Pj4+Pj4+Pj4=",
                    "dtype": "i1"
                  },
                  "xaxis": "x",
                  "yaxis": "y"
                },
                {
                  "bingroup": "x",
                  "hovertemplate": "age=%{x}<br>count=%{y}<extra></extra>",
                  "legendgroup": "43",
                  "marker": {
                    "color": "#EF553B",
                    "opacity": 0.9,
                    "pattern": {
                      "shape": ""
                    }
                  },
                  "name": "43",
                  "orientation": "v",
                  "showlegend": true,
                  "type": "histogram",
                  "x": {
                    "bdata": "KysrKysrKysrKysrKysrKys=",
                    "dtype": "i1"
                  },
                  "xaxis": "x",
                  "yaxis": "y"
                },
                {
                  "bingroup": "x",
                  "hovertemplate": "age=%{x}<br>count=%{y}<extra></extra>",
                  "legendgroup": "46",
                  "marker": {
                    "color": "#00cc96",
                    "opacity": 0.9,
                    "pattern": {
                      "shape": ""
                    }
                  },
                  "name": "46",
                  "orientation": "v",
                  "showlegend": true,
                  "type": "histogram",
                  "x": {
                    "bdata": "Li4uLi4uLi4uLi4uLi4uLi4uLi4uLi4=",
                    "dtype": "i1"
                  },
                  "xaxis": "x",
                  "yaxis": "y"
                },
                {
                  "bingroup": "x",
                  "hovertemplate": "age=%{x}<br>count=%{y}<extra></extra>",
                  "legendgroup": "31",
                  "marker": {
                    "color": "#ab63fa",
                    "opacity": 0.9,
                    "pattern": {
                      "shape": ""
                    }
                  },
                  "name": "31",
                  "orientation": "v",
                  "showlegend": true,
                  "type": "histogram",
                  "x": {
                    "bdata": "Hx8fHx8=",
                    "dtype": "i1"
                  },
                  "xaxis": "x",
                  "yaxis": "y"
                },
                {
                  "bingroup": "x",
                  "hovertemplate": "age=%{x}<br>count=%{y}<extra></extra>",
                  "legendgroup": "33",
                  "marker": {
                    "color": "#FFA15A",
                    "opacity": 0.9,
                    "pattern": {
                      "shape": ""
                    }
                  },
                  "name": "33",
                  "orientation": "v",
                  "showlegend": true,
                  "type": "histogram",
                  "x": {
                    "bdata": "ISEh",
                    "dtype": "i1"
                  },
                  "xaxis": "x",
                  "yaxis": "y"
                },
                {
                  "bingroup": "x",
                  "hovertemplate": "age=%{x}<br>count=%{y}<extra></extra>",
                  "legendgroup": "78",
                  "marker": {
                    "color": "#19d3f3",
                    "opacity": 0.9,
                    "pattern": {
                      "shape": ""
                    }
                  },
                  "name": "78",
                  "orientation": "v",
                  "showlegend": true,
                  "type": "histogram",
                  "x": {
                    "bdata": "Tk5OTk5OTk5OTk5OTk5OTk5OTk5OTk5OTk5OTk5OTk5OTk5OTk5OTk5OTk4=",
                    "dtype": "i1"
                  },
                  "xaxis": "x",
                  "yaxis": "y"
                },
                {
                  "bingroup": "x",
                  "hovertemplate": "age=%{x}<br>count=%{y}<extra></extra>",
                  "legendgroup": "88",
                  "marker": {
                    "color": "#FF6692",
                    "opacity": 0.9,
                    "pattern": {
                      "shape": ""
                    }
                  },
                  "name": "88",
                  "orientation": "v",
                  "showlegend": true,
                  "type": "histogram",
                  "x": {
                    "bdata": "WFhYWFhYWFhYWFhY",
                    "dtype": "i1"
                  },
                  "xaxis": "x",
                  "yaxis": "y"
                },
                {
                  "bingroup": "x",
                  "hovertemplate": "age=%{x}<br>count=%{y}<extra></extra>",
                  "legendgroup": "90",
                  "marker": {
                    "color": "#B6E880",
                    "opacity": 0.9,
                    "pattern": {
                      "shape": ""
                    }
                  },
                  "name": "90",
                  "orientation": "v",
                  "showlegend": true,
                  "type": "histogram",
                  "x": {
                    "bdata": "WlpaWlpaWlpaWlpa",
                    "dtype": "i1"
                  },
                  "xaxis": "x",
                  "yaxis": "y"
                },
                {
                  "bingroup": "x",
                  "hovertemplate": "age=%{x}<br>count=%{y}<extra></extra>",
                  "legendgroup": "41",
                  "marker": {
                    "color": "#FF97FF",
                    "opacity": 0.9,
                    "pattern": {
                      "shape": ""
                    }
                  },
                  "name": "41",
                  "orientation": "v",
                  "showlegend": true,
                  "type": "histogram",
                  "x": {
                    "bdata": "KSkpKSkpKSkpKSkpKQ==",
                    "dtype": "i1"
                  },
                  "xaxis": "x",
                  "yaxis": "y"
                },
                {
                  "bingroup": "x",
                  "hovertemplate": "age=%{x}<br>count=%{y}<extra></extra>",
                  "legendgroup": "36",
                  "marker": {
                    "color": "#FECB52",
                    "opacity": 0.9,
                    "pattern": {
                      "shape": ""
                    }
                  },
                  "name": "36",
                  "orientation": "v",
                  "showlegend": true,
                  "type": "histogram",
                  "x": {
                    "bdata": "JCQkJCQkJCQk",
                    "dtype": "i1"
                  },
                  "xaxis": "x",
                  "yaxis": "y"
                },
                {
                  "bingroup": "x",
                  "hovertemplate": "age=%{x}<br>count=%{y}<extra></extra>",
                  "legendgroup": "87",
                  "marker": {
                    "color": "#636efa",
                    "opacity": 0.9,
                    "pattern": {
                      "shape": ""
                    }
                  },
                  "name": "87",
                  "orientation": "v",
                  "showlegend": true,
                  "type": "histogram",
                  "x": {
                    "bdata": "V1dXV1dXV1dXV1dXV1dXV1dXV1dX",
                    "dtype": "i1"
                  },
                  "xaxis": "x",
                  "yaxis": "y"
                },
                {
                  "bingroup": "x",
                  "hovertemplate": "age=%{x}<br>count=%{y}<extra></extra>",
                  "legendgroup": "39",
                  "marker": {
                    "color": "#EF553B",
                    "opacity": 0.9,
                    "pattern": {
                      "shape": ""
                    }
                  },
                  "name": "39",
                  "orientation": "v",
                  "showlegend": true,
                  "type": "histogram",
                  "x": {
                    "bdata": "JycnJycnJycnJycnJycnJycnJyc=",
                    "dtype": "i1"
                  },
                  "xaxis": "x",
                  "yaxis": "y"
                },
                {
                  "bingroup": "x",
                  "hovertemplate": "age=%{x}<br>count=%{y}<extra></extra>",
                  "legendgroup": "34",
                  "marker": {
                    "color": "#00cc96",
                    "opacity": 0.9,
                    "pattern": {
                      "shape": ""
                    }
                  },
                  "name": "34",
                  "orientation": "v",
                  "showlegend": true,
                  "type": "histogram",
                  "x": {
                    "bdata": "IiIiIiIiIg==",
                    "dtype": "i1"
                  },
                  "xaxis": "x",
                  "yaxis": "y"
                },
                {
                  "bingroup": "x",
                  "hovertemplate": "age=%{x}<br>count=%{y}<extra></extra>",
                  "legendgroup": "95",
                  "marker": {
                    "color": "#ab63fa",
                    "opacity": 0.9,
                    "pattern": {
                      "shape": ""
                    }
                  },
                  "name": "95",
                  "orientation": "v",
                  "showlegend": true,
                  "type": "histogram",
                  "x": {
                    "bdata": "X19fX19fXw==",
                    "dtype": "i1"
                  },
                  "xaxis": "x",
                  "yaxis": "y"
                },
                {
                  "bingroup": "x",
                  "hovertemplate": "age=%{x}<br>count=%{y}<extra></extra>",
                  "legendgroup": "45",
                  "marker": {
                    "color": "#FFA15A",
                    "opacity": 0.9,
                    "pattern": {
                      "shape": ""
                    }
                  },
                  "name": "45",
                  "orientation": "v",
                  "showlegend": true,
                  "type": "histogram",
                  "x": {
                    "bdata": "LS0tLS0tLS0tLS0tLS0tLS0tLS0tLS0tLQ==",
                    "dtype": "i1"
                  },
                  "xaxis": "x",
                  "yaxis": "y"
                },
                {
                  "bingroup": "x",
                  "hovertemplate": "age=%{x}<br>count=%{y}<extra></extra>",
                  "legendgroup": "28",
                  "marker": {
                    "color": "#19d3f3",
                    "opacity": 0.9,
                    "pattern": {
                      "shape": ""
                    }
                  },
                  "name": "28",
                  "orientation": "v",
                  "showlegend": true,
                  "type": "histogram",
                  "x": {
                    "bdata": "HBw=",
                    "dtype": "i1"
                  },
                  "xaxis": "x",
                  "yaxis": "y"
                },
                {
                  "bingroup": "x",
                  "hovertemplate": "age=%{x}<br>count=%{y}<extra></extra>",
                  "legendgroup": "47",
                  "marker": {
                    "color": "#FF6692",
                    "opacity": 0.9,
                    "pattern": {
                      "shape": ""
                    }
                  },
                  "name": "47",
                  "orientation": "v",
                  "showlegend": true,
                  "type": "histogram",
                  "x": {
                    "bdata": "Ly8vLy8vLy8vLy8vLy8vLy8v",
                    "dtype": "i1"
                  },
                  "xaxis": "x",
                  "yaxis": "y"
                },
                {
                  "bingroup": "x",
                  "hovertemplate": "age=%{x}<br>count=%{y}<extra></extra>",
                  "legendgroup": "97",
                  "marker": {
                    "color": "#B6E880",
                    "opacity": 0.9,
                    "pattern": {
                      "shape": ""
                    }
                  },
                  "name": "97",
                  "orientation": "v",
                  "showlegend": true,
                  "type": "histogram",
                  "x": {
                    "bdata": "YWFh",
                    "dtype": "i1"
                  },
                  "xaxis": "x",
                  "yaxis": "y"
                },
                {
                  "bingroup": "x",
                  "hovertemplate": "age=%{x}<br>count=%{y}<extra></extra>",
                  "legendgroup": "96",
                  "marker": {
                    "color": "#FF97FF",
                    "opacity": 0.9,
                    "pattern": {
                      "shape": ""
                    }
                  },
                  "name": "96",
                  "orientation": "v",
                  "showlegend": true,
                  "type": "histogram",
                  "x": {
                    "bdata": "YGBgYGA=",
                    "dtype": "i1"
                  },
                  "xaxis": "x",
                  "yaxis": "y"
                },
                {
                  "bingroup": "x",
                  "hovertemplate": "age=%{x}<br>count=%{y}<extra></extra>",
                  "legendgroup": "32",
                  "marker": {
                    "color": "#FECB52",
                    "opacity": 0.9,
                    "pattern": {
                      "shape": ""
                    }
                  },
                  "name": "32",
                  "orientation": "v",
                  "showlegend": true,
                  "type": "histogram",
                  "x": {
                    "bdata": "ICAg",
                    "dtype": "i1"
                  },
                  "xaxis": "x",
                  "yaxis": "y"
                },
                {
                  "bingroup": "x",
                  "hovertemplate": "age=%{x}<br>count=%{y}<extra></extra>",
                  "legendgroup": "19",
                  "marker": {
                    "color": "#636efa",
                    "opacity": 0.9,
                    "pattern": {
                      "shape": ""
                    }
                  },
                  "name": "19",
                  "orientation": "v",
                  "showlegend": true,
                  "type": "histogram",
                  "x": {
                    "bdata": "Ew==",
                    "dtype": "i1"
                  },
                  "xaxis": "x",
                  "yaxis": "y"
                },
                {
                  "bingroup": "x",
                  "hovertemplate": "age=%{x}<br>count=%{y}<extra></extra>",
                  "legendgroup": "27",
                  "marker": {
                    "color": "#EF553B",
                    "opacity": 0.9,
                    "pattern": {
                      "shape": ""
                    }
                  },
                  "name": "27",
                  "orientation": "v",
                  "showlegend": true,
                  "type": "histogram",
                  "x": {
                    "bdata": "Gxs=",
                    "dtype": "i1"
                  },
                  "xaxis": "x",
                  "yaxis": "y"
                },
                {
                  "bingroup": "x",
                  "hovertemplate": "age=%{x}<br>count=%{y}<extra></extra>",
                  "legendgroup": "100",
                  "marker": {
                    "color": "#00cc96",
                    "opacity": 0.9,
                    "pattern": {
                      "shape": ""
                    }
                  },
                  "name": "100",
                  "orientation": "v",
                  "showlegend": true,
                  "type": "histogram",
                  "x": {
                    "bdata": "ZA==",
                    "dtype": "i1"
                  },
                  "xaxis": "x",
                  "yaxis": "y"
                },
                {
                  "bingroup": "x",
                  "hovertemplate": "age=%{x}<br>count=%{y}<extra></extra>",
                  "legendgroup": "26",
                  "marker": {
                    "color": "#ab63fa",
                    "opacity": 0.9,
                    "pattern": {
                      "shape": ""
                    }
                  },
                  "name": "26",
                  "orientation": "v",
                  "showlegend": true,
                  "type": "histogram",
                  "x": {
                    "bdata": "Gho=",
                    "dtype": "i1"
                  },
                  "xaxis": "x",
                  "yaxis": "y"
                },
                {
                  "bingroup": "x",
                  "hovertemplate": "age=%{x}<br>count=%{y}<extra></extra>",
                  "legendgroup": "25",
                  "marker": {
                    "color": "#FFA15A",
                    "opacity": 0.9,
                    "pattern": {
                      "shape": ""
                    }
                  },
                  "name": "25",
                  "orientation": "v",
                  "showlegend": true,
                  "type": "histogram",
                  "x": {
                    "bdata": "GRkZ",
                    "dtype": "i1"
                  },
                  "xaxis": "x",
                  "yaxis": "y"
                },
                {
                  "bingroup": "x",
                  "hovertemplate": "age=%{x}<br>count=%{y}<extra></extra>",
                  "legendgroup": "29",
                  "marker": {
                    "color": "#19d3f3",
                    "opacity": 0.9,
                    "pattern": {
                      "shape": ""
                    }
                  },
                  "name": "29",
                  "orientation": "v",
                  "showlegend": true,
                  "type": "histogram",
                  "x": {
                    "bdata": "HR0=",
                    "dtype": "i1"
                  },
                  "xaxis": "x",
                  "yaxis": "y"
                }
              ],
              "layout": {
                "barmode": "relative",
                "legend": {
                  "title": {
                    "text": "age"
                  },
                  "tracegroupgap": 0
                },
                "template": {
                  "data": {
                    "bar": [
                      {
                        "error_x": {
                          "color": "#f2f5fa"
                        },
                        "error_y": {
                          "color": "#f2f5fa"
                        },
                        "marker": {
                          "line": {
                            "color": "rgb(17,17,17)",
                            "width": 0.5
                          },
                          "pattern": {
                            "fillmode": "overlay",
                            "size": 10,
                            "solidity": 0.2
                          }
                        },
                        "type": "bar"
                      }
                    ],
                    "barpolar": [
                      {
                        "marker": {
                          "line": {
                            "color": "rgb(17,17,17)",
                            "width": 0.5
                          },
                          "pattern": {
                            "fillmode": "overlay",
                            "size": 10,
                            "solidity": 0.2
                          }
                        },
                        "type": "barpolar"
                      }
                    ],
                    "carpet": [
                      {
                        "aaxis": {
                          "endlinecolor": "#A2B1C6",
                          "gridcolor": "#506784",
                          "linecolor": "#506784",
                          "minorgridcolor": "#506784",
                          "startlinecolor": "#A2B1C6"
                        },
                        "baxis": {
                          "endlinecolor": "#A2B1C6",
                          "gridcolor": "#506784",
                          "linecolor": "#506784",
                          "minorgridcolor": "#506784",
                          "startlinecolor": "#A2B1C6"
                        },
                        "type": "carpet"
                      }
                    ],
                    "choropleth": [
                      {
                        "colorbar": {
                          "outlinewidth": 0,
                          "ticks": ""
                        },
                        "type": "choropleth"
                      }
                    ],
                    "contour": [
                      {
                        "colorbar": {
                          "outlinewidth": 0,
                          "ticks": ""
                        },
                        "colorscale": [
                          [
                            0,
                            "#0d0887"
                          ],
                          [
                            0.1111111111111111,
                            "#46039f"
                          ],
                          [
                            0.2222222222222222,
                            "#7201a8"
                          ],
                          [
                            0.3333333333333333,
                            "#9c179e"
                          ],
                          [
                            0.4444444444444444,
                            "#bd3786"
                          ],
                          [
                            0.5555555555555556,
                            "#d8576b"
                          ],
                          [
                            0.6666666666666666,
                            "#ed7953"
                          ],
                          [
                            0.7777777777777778,
                            "#fb9f3a"
                          ],
                          [
                            0.8888888888888888,
                            "#fdca26"
                          ],
                          [
                            1,
                            "#f0f921"
                          ]
                        ],
                        "type": "contour"
                      }
                    ],
                    "contourcarpet": [
                      {
                        "colorbar": {
                          "outlinewidth": 0,
                          "ticks": ""
                        },
                        "type": "contourcarpet"
                      }
                    ],
                    "heatmap": [
                      {
                        "colorbar": {
                          "outlinewidth": 0,
                          "ticks": ""
                        },
                        "colorscale": [
                          [
                            0,
                            "#0d0887"
                          ],
                          [
                            0.1111111111111111,
                            "#46039f"
                          ],
                          [
                            0.2222222222222222,
                            "#7201a8"
                          ],
                          [
                            0.3333333333333333,
                            "#9c179e"
                          ],
                          [
                            0.4444444444444444,
                            "#bd3786"
                          ],
                          [
                            0.5555555555555556,
                            "#d8576b"
                          ],
                          [
                            0.6666666666666666,
                            "#ed7953"
                          ],
                          [
                            0.7777777777777778,
                            "#fb9f3a"
                          ],
                          [
                            0.8888888888888888,
                            "#fdca26"
                          ],
                          [
                            1,
                            "#f0f921"
                          ]
                        ],
                        "type": "heatmap"
                      }
                    ],
                    "histogram": [
                      {
                        "marker": {
                          "pattern": {
                            "fillmode": "overlay",
                            "size": 10,
                            "solidity": 0.2
                          }
                        },
                        "type": "histogram"
                      }
                    ],
                    "histogram2d": [
                      {
                        "colorbar": {
                          "outlinewidth": 0,
                          "ticks": ""
                        },
                        "colorscale": [
                          [
                            0,
                            "#0d0887"
                          ],
                          [
                            0.1111111111111111,
                            "#46039f"
                          ],
                          [
                            0.2222222222222222,
                            "#7201a8"
                          ],
                          [
                            0.3333333333333333,
                            "#9c179e"
                          ],
                          [
                            0.4444444444444444,
                            "#bd3786"
                          ],
                          [
                            0.5555555555555556,
                            "#d8576b"
                          ],
                          [
                            0.6666666666666666,
                            "#ed7953"
                          ],
                          [
                            0.7777777777777778,
                            "#fb9f3a"
                          ],
                          [
                            0.8888888888888888,
                            "#fdca26"
                          ],
                          [
                            1,
                            "#f0f921"
                          ]
                        ],
                        "type": "histogram2d"
                      }
                    ],
                    "histogram2dcontour": [
                      {
                        "colorbar": {
                          "outlinewidth": 0,
                          "ticks": ""
                        },
                        "colorscale": [
                          [
                            0,
                            "#0d0887"
                          ],
                          [
                            0.1111111111111111,
                            "#46039f"
                          ],
                          [
                            0.2222222222222222,
                            "#7201a8"
                          ],
                          [
                            0.3333333333333333,
                            "#9c179e"
                          ],
                          [
                            0.4444444444444444,
                            "#bd3786"
                          ],
                          [
                            0.5555555555555556,
                            "#d8576b"
                          ],
                          [
                            0.6666666666666666,
                            "#ed7953"
                          ],
                          [
                            0.7777777777777778,
                            "#fb9f3a"
                          ],
                          [
                            0.8888888888888888,
                            "#fdca26"
                          ],
                          [
                            1,
                            "#f0f921"
                          ]
                        ],
                        "type": "histogram2dcontour"
                      }
                    ],
                    "mesh3d": [
                      {
                        "colorbar": {
                          "outlinewidth": 0,
                          "ticks": ""
                        },
                        "type": "mesh3d"
                      }
                    ],
                    "parcoords": [
                      {
                        "line": {
                          "colorbar": {
                            "outlinewidth": 0,
                            "ticks": ""
                          }
                        },
                        "type": "parcoords"
                      }
                    ],
                    "pie": [
                      {
                        "automargin": true,
                        "type": "pie"
                      }
                    ],
                    "scatter": [
                      {
                        "marker": {
                          "line": {
                            "color": "#283442"
                          }
                        },
                        "type": "scatter"
                      }
                    ],
                    "scatter3d": [
                      {
                        "line": {
                          "colorbar": {
                            "outlinewidth": 0,
                            "ticks": ""
                          }
                        },
                        "marker": {
                          "colorbar": {
                            "outlinewidth": 0,
                            "ticks": ""
                          }
                        },
                        "type": "scatter3d"
                      }
                    ],
                    "scattercarpet": [
                      {
                        "marker": {
                          "colorbar": {
                            "outlinewidth": 0,
                            "ticks": ""
                          }
                        },
                        "type": "scattercarpet"
                      }
                    ],
                    "scattergeo": [
                      {
                        "marker": {
                          "colorbar": {
                            "outlinewidth": 0,
                            "ticks": ""
                          }
                        },
                        "type": "scattergeo"
                      }
                    ],
                    "scattergl": [
                      {
                        "marker": {
                          "line": {
                            "color": "#283442"
                          }
                        },
                        "type": "scattergl"
                      }
                    ],
                    "scattermap": [
                      {
                        "marker": {
                          "colorbar": {
                            "outlinewidth": 0,
                            "ticks": ""
                          }
                        },
                        "type": "scattermap"
                      }
                    ],
                    "scattermapbox": [
                      {
                        "marker": {
                          "colorbar": {
                            "outlinewidth": 0,
                            "ticks": ""
                          }
                        },
                        "type": "scattermapbox"
                      }
                    ],
                    "scatterpolar": [
                      {
                        "marker": {
                          "colorbar": {
                            "outlinewidth": 0,
                            "ticks": ""
                          }
                        },
                        "type": "scatterpolar"
                      }
                    ],
                    "scatterpolargl": [
                      {
                        "marker": {
                          "colorbar": {
                            "outlinewidth": 0,
                            "ticks": ""
                          }
                        },
                        "type": "scatterpolargl"
                      }
                    ],
                    "scatterternary": [
                      {
                        "marker": {
                          "colorbar": {
                            "outlinewidth": 0,
                            "ticks": ""
                          }
                        },
                        "type": "scatterternary"
                      }
                    ],
                    "surface": [
                      {
                        "colorbar": {
                          "outlinewidth": 0,
                          "ticks": ""
                        },
                        "colorscale": [
                          [
                            0,
                            "#0d0887"
                          ],
                          [
                            0.1111111111111111,
                            "#46039f"
                          ],
                          [
                            0.2222222222222222,
                            "#7201a8"
                          ],
                          [
                            0.3333333333333333,
                            "#9c179e"
                          ],
                          [
                            0.4444444444444444,
                            "#bd3786"
                          ],
                          [
                            0.5555555555555556,
                            "#d8576b"
                          ],
                          [
                            0.6666666666666666,
                            "#ed7953"
                          ],
                          [
                            0.7777777777777778,
                            "#fb9f3a"
                          ],
                          [
                            0.8888888888888888,
                            "#fdca26"
                          ],
                          [
                            1,
                            "#f0f921"
                          ]
                        ],
                        "type": "surface"
                      }
                    ],
                    "table": [
                      {
                        "cells": {
                          "fill": {
                            "color": "#506784"
                          },
                          "line": {
                            "color": "rgb(17,17,17)"
                          }
                        },
                        "header": {
                          "fill": {
                            "color": "#2a3f5f"
                          },
                          "line": {
                            "color": "rgb(17,17,17)"
                          }
                        },
                        "type": "table"
                      }
                    ]
                  },
                  "layout": {
                    "annotationdefaults": {
                      "arrowcolor": "#f2f5fa",
                      "arrowhead": 0,
                      "arrowwidth": 1
                    },
                    "autotypenumbers": "strict",
                    "coloraxis": {
                      "colorbar": {
                        "outlinewidth": 0,
                        "ticks": ""
                      }
                    },
                    "colorscale": {
                      "diverging": [
                        [
                          0,
                          "#8e0152"
                        ],
                        [
                          0.1,
                          "#c51b7d"
                        ],
                        [
                          0.2,
                          "#de77ae"
                        ],
                        [
                          0.3,
                          "#f1b6da"
                        ],
                        [
                          0.4,
                          "#fde0ef"
                        ],
                        [
                          0.5,
                          "#f7f7f7"
                        ],
                        [
                          0.6,
                          "#e6f5d0"
                        ],
                        [
                          0.7,
                          "#b8e186"
                        ],
                        [
                          0.8,
                          "#7fbc41"
                        ],
                        [
                          0.9,
                          "#4d9221"
                        ],
                        [
                          1,
                          "#276419"
                        ]
                      ],
                      "sequential": [
                        [
                          0,
                          "#0d0887"
                        ],
                        [
                          0.1111111111111111,
                          "#46039f"
                        ],
                        [
                          0.2222222222222222,
                          "#7201a8"
                        ],
                        [
                          0.3333333333333333,
                          "#9c179e"
                        ],
                        [
                          0.4444444444444444,
                          "#bd3786"
                        ],
                        [
                          0.5555555555555556,
                          "#d8576b"
                        ],
                        [
                          0.6666666666666666,
                          "#ed7953"
                        ],
                        [
                          0.7777777777777778,
                          "#fb9f3a"
                        ],
                        [
                          0.8888888888888888,
                          "#fdca26"
                        ],
                        [
                          1,
                          "#f0f921"
                        ]
                      ],
                      "sequentialminus": [
                        [
                          0,
                          "#0d0887"
                        ],
                        [
                          0.1111111111111111,
                          "#46039f"
                        ],
                        [
                          0.2222222222222222,
                          "#7201a8"
                        ],
                        [
                          0.3333333333333333,
                          "#9c179e"
                        ],
                        [
                          0.4444444444444444,
                          "#bd3786"
                        ],
                        [
                          0.5555555555555556,
                          "#d8576b"
                        ],
                        [
                          0.6666666666666666,
                          "#ed7953"
                        ],
                        [
                          0.7777777777777778,
                          "#fb9f3a"
                        ],
                        [
                          0.8888888888888888,
                          "#fdca26"
                        ],
                        [
                          1,
                          "#f0f921"
                        ]
                      ]
                    },
                    "colorway": [
                      "#636efa",
                      "#EF553B",
                      "#00cc96",
                      "#ab63fa",
                      "#FFA15A",
                      "#19d3f3",
                      "#FF6692",
                      "#B6E880",
                      "#FF97FF",
                      "#FECB52"
                    ],
                    "font": {
                      "color": "#f2f5fa"
                    },
                    "geo": {
                      "bgcolor": "rgb(17,17,17)",
                      "lakecolor": "rgb(17,17,17)",
                      "landcolor": "rgb(17,17,17)",
                      "showlakes": true,
                      "showland": true,
                      "subunitcolor": "#506784"
                    },
                    "hoverlabel": {
                      "align": "left"
                    },
                    "hovermode": "closest",
                    "mapbox": {
                      "style": "dark"
                    },
                    "paper_bgcolor": "rgb(17,17,17)",
                    "plot_bgcolor": "rgb(17,17,17)",
                    "polar": {
                      "angularaxis": {
                        "gridcolor": "#506784",
                        "linecolor": "#506784",
                        "ticks": ""
                      },
                      "bgcolor": "rgb(17,17,17)",
                      "radialaxis": {
                        "gridcolor": "#506784",
                        "linecolor": "#506784",
                        "ticks": ""
                      }
                    },
                    "scene": {
                      "xaxis": {
                        "backgroundcolor": "rgb(17,17,17)",
                        "gridcolor": "#506784",
                        "gridwidth": 2,
                        "linecolor": "#506784",
                        "showbackground": true,
                        "ticks": "",
                        "zerolinecolor": "#C8D4E3"
                      },
                      "yaxis": {
                        "backgroundcolor": "rgb(17,17,17)",
                        "gridcolor": "#506784",
                        "gridwidth": 2,
                        "linecolor": "#506784",
                        "showbackground": true,
                        "ticks": "",
                        "zerolinecolor": "#C8D4E3"
                      },
                      "zaxis": {
                        "backgroundcolor": "rgb(17,17,17)",
                        "gridcolor": "#506784",
                        "gridwidth": 2,
                        "linecolor": "#506784",
                        "showbackground": true,
                        "ticks": "",
                        "zerolinecolor": "#C8D4E3"
                      }
                    },
                    "shapedefaults": {
                      "line": {
                        "color": "#f2f5fa"
                      }
                    },
                    "sliderdefaults": {
                      "bgcolor": "#C8D4E3",
                      "bordercolor": "rgb(17,17,17)",
                      "borderwidth": 1,
                      "tickwidth": 0
                    },
                    "ternary": {
                      "aaxis": {
                        "gridcolor": "#506784",
                        "linecolor": "#506784",
                        "ticks": ""
                      },
                      "baxis": {
                        "gridcolor": "#506784",
                        "linecolor": "#506784",
                        "ticks": ""
                      },
                      "bgcolor": "rgb(17,17,17)",
                      "caxis": {
                        "gridcolor": "#506784",
                        "linecolor": "#506784",
                        "ticks": ""
                      }
                    },
                    "title": {
                      "x": 0.05
                    },
                    "updatemenudefaults": {
                      "bgcolor": "#506784",
                      "borderwidth": 0
                    },
                    "xaxis": {
                      "automargin": true,
                      "gridcolor": "#283442",
                      "linecolor": "#506784",
                      "ticks": "",
                      "title": {
                        "standoff": 15
                      },
                      "zerolinecolor": "#283442",
                      "zerolinewidth": 2
                    },
                    "yaxis": {
                      "automargin": true,
                      "gridcolor": "#283442",
                      "linecolor": "#506784",
                      "ticks": "",
                      "title": {
                        "standoff": 15
                      },
                      "zerolinecolor": "#283442",
                      "zerolinewidth": 2
                    }
                  }
                },
                "title": {
                  "text": "<b>Distribution of age in billionaires"
                },
                "xaxis": {
                  "anchor": "y",
                  "categoryarray": [
                    50,
                    58,
                    73,
                    66,
                    91,
                    49,
                    48,
                    77,
                    64,
                    59,
                    80,
                    82,
                    68,
                    37,
                    67,
                    72,
                    44,
                    86,
                    57,
                    38,
                    84,
                    53,
                    51,
                    52,
                    85,
                    93,
                    75,
                    94,
                    71,
                    76,
                    83,
                    79,
                    56,
                    30,
                    81,
                    89,
                    40,
                    60,
                    55,
                    65,
                    54,
                    74,
                    61,
                    63,
                    35,
                    69,
                    42,
                    92,
                    70,
                    98,
                    62,
                    43,
                    46,
                    31,
                    33,
                    78,
                    88,
                    90,
                    41,
                    36,
                    87,
                    39,
                    34,
                    95,
                    45,
                    28,
                    47,
                    97,
                    96,
                    32,
                    19,
                    27,
                    100,
                    26,
                    25,
                    29
                  ],
                  "categoryorder": "array",
                  "domain": [
                    0,
                    1
                  ],
                  "title": {
                    "text": "age"
                  }
                },
                "yaxis": {
                  "anchor": "x",
                  "domain": [
                    0,
                    1
                  ],
                  "title": {
                    "text": "count"
                  }
                }
              }
            }
          },
          "metadata": {},
          "output_type": "display_data"
        }
      ],
      "source": [
        "# distribution of age in billionaires\n",
        "fig = px.histogram(\n",
        "    df,\n",
        "    x = 'age',\n",
        "    template = 'plotly_dark',\n",
        "    color = 'age',\n",
        "    opacity = 0.9,\n",
        "    title = '<b>Distribution of age in billionaires')\n",
        "fig.show()"
      ]
    },
    {
      "cell_type": "markdown",
      "metadata": {
        "id": "VjzFxAJnIo7r"
      },
      "source": [
        "Insights\n",
        "\n",
        "- Most of the top billionaires have the age of 64.\n",
        "- The distribution is almost equally skewed. It shows that we have younger and old billionaires equal in numbers.\n",
        "- The youngest billionaires has the age of 19.\n",
        "- The oldest billionaires has the age of 100."
      ]
    },
    {
      "cell_type": "markdown",
      "metadata": {
        "id": "bMUFDLIhIxzj"
      },
      "source": [
        "What is the age of top 10 billionairs?"
      ]
    },
    {
      "cell_type": "code",
      "execution_count": 23,
      "metadata": {
        "colab": {
          "base_uri": "https://localhost:8080/",
          "height": 542
        },
        "id": "ra6WTFaH6McU",
        "outputId": "60c74003-220e-452a-8bc2-6483f9638a42"
      },
      "outputs": [
        {
          "data": {
            "application/vnd.plotly.v1+json": {
              "config": {
                "plotlyServerURL": "https://plot.ly"
              },
              "data": [
                {
                  "hovertemplate": "name=%{x}<br>age=%{marker.color}<extra></extra>",
                  "legendgroup": "",
                  "marker": {
                    "color": {
                      "bdata": "MjpJQlsxME1CQA==",
                      "dtype": "i1"
                    },
                    "coloraxis": "coloraxis",
                    "opacity": 0.8,
                    "pattern": {
                      "shape": ""
                    }
                  },
                  "name": "",
                  "orientation": "v",
                  "showlegend": false,
                  "textposition": "auto",
                  "type": "bar",
                  "x": [
                    "Elon Musk ",
                    "Jeff Bezos ",
                    "Bernard Arnault & family ",
                    "Bill Gates ",
                    "Warren Buffett ",
                    "Larry Page ",
                    "Sergey Brin ",
                    "Larry Ellison ",
                    "Steve Ballmer ",
                    "Mukesh Ambani "
                  ],
                  "xaxis": "x",
                  "y": {
                    "bdata": "MjpJQlsxME1CQA==",
                    "dtype": "i1"
                  },
                  "yaxis": "y"
                }
              ],
              "layout": {
                "barmode": "relative",
                "coloraxis": {
                  "colorbar": {
                    "title": {
                      "text": "age"
                    }
                  },
                  "colorscale": [
                    [
                      0,
                      "#0d0887"
                    ],
                    [
                      0.1111111111111111,
                      "#46039f"
                    ],
                    [
                      0.2222222222222222,
                      "#7201a8"
                    ],
                    [
                      0.3333333333333333,
                      "#9c179e"
                    ],
                    [
                      0.4444444444444444,
                      "#bd3786"
                    ],
                    [
                      0.5555555555555556,
                      "#d8576b"
                    ],
                    [
                      0.6666666666666666,
                      "#ed7953"
                    ],
                    [
                      0.7777777777777778,
                      "#fb9f3a"
                    ],
                    [
                      0.8888888888888888,
                      "#fdca26"
                    ],
                    [
                      1,
                      "#f0f921"
                    ]
                  ]
                },
                "legend": {
                  "tracegroupgap": 0
                },
                "template": {
                  "data": {
                    "bar": [
                      {
                        "error_x": {
                          "color": "#f2f5fa"
                        },
                        "error_y": {
                          "color": "#f2f5fa"
                        },
                        "marker": {
                          "line": {
                            "color": "rgb(17,17,17)",
                            "width": 0.5
                          },
                          "pattern": {
                            "fillmode": "overlay",
                            "size": 10,
                            "solidity": 0.2
                          }
                        },
                        "type": "bar"
                      }
                    ],
                    "barpolar": [
                      {
                        "marker": {
                          "line": {
                            "color": "rgb(17,17,17)",
                            "width": 0.5
                          },
                          "pattern": {
                            "fillmode": "overlay",
                            "size": 10,
                            "solidity": 0.2
                          }
                        },
                        "type": "barpolar"
                      }
                    ],
                    "carpet": [
                      {
                        "aaxis": {
                          "endlinecolor": "#A2B1C6",
                          "gridcolor": "#506784",
                          "linecolor": "#506784",
                          "minorgridcolor": "#506784",
                          "startlinecolor": "#A2B1C6"
                        },
                        "baxis": {
                          "endlinecolor": "#A2B1C6",
                          "gridcolor": "#506784",
                          "linecolor": "#506784",
                          "minorgridcolor": "#506784",
                          "startlinecolor": "#A2B1C6"
                        },
                        "type": "carpet"
                      }
                    ],
                    "choropleth": [
                      {
                        "colorbar": {
                          "outlinewidth": 0,
                          "ticks": ""
                        },
                        "type": "choropleth"
                      }
                    ],
                    "contour": [
                      {
                        "colorbar": {
                          "outlinewidth": 0,
                          "ticks": ""
                        },
                        "colorscale": [
                          [
                            0,
                            "#0d0887"
                          ],
                          [
                            0.1111111111111111,
                            "#46039f"
                          ],
                          [
                            0.2222222222222222,
                            "#7201a8"
                          ],
                          [
                            0.3333333333333333,
                            "#9c179e"
                          ],
                          [
                            0.4444444444444444,
                            "#bd3786"
                          ],
                          [
                            0.5555555555555556,
                            "#d8576b"
                          ],
                          [
                            0.6666666666666666,
                            "#ed7953"
                          ],
                          [
                            0.7777777777777778,
                            "#fb9f3a"
                          ],
                          [
                            0.8888888888888888,
                            "#fdca26"
                          ],
                          [
                            1,
                            "#f0f921"
                          ]
                        ],
                        "type": "contour"
                      }
                    ],
                    "contourcarpet": [
                      {
                        "colorbar": {
                          "outlinewidth": 0,
                          "ticks": ""
                        },
                        "type": "contourcarpet"
                      }
                    ],
                    "heatmap": [
                      {
                        "colorbar": {
                          "outlinewidth": 0,
                          "ticks": ""
                        },
                        "colorscale": [
                          [
                            0,
                            "#0d0887"
                          ],
                          [
                            0.1111111111111111,
                            "#46039f"
                          ],
                          [
                            0.2222222222222222,
                            "#7201a8"
                          ],
                          [
                            0.3333333333333333,
                            "#9c179e"
                          ],
                          [
                            0.4444444444444444,
                            "#bd3786"
                          ],
                          [
                            0.5555555555555556,
                            "#d8576b"
                          ],
                          [
                            0.6666666666666666,
                            "#ed7953"
                          ],
                          [
                            0.7777777777777778,
                            "#fb9f3a"
                          ],
                          [
                            0.8888888888888888,
                            "#fdca26"
                          ],
                          [
                            1,
                            "#f0f921"
                          ]
                        ],
                        "type": "heatmap"
                      }
                    ],
                    "histogram": [
                      {
                        "marker": {
                          "pattern": {
                            "fillmode": "overlay",
                            "size": 10,
                            "solidity": 0.2
                          }
                        },
                        "type": "histogram"
                      }
                    ],
                    "histogram2d": [
                      {
                        "colorbar": {
                          "outlinewidth": 0,
                          "ticks": ""
                        },
                        "colorscale": [
                          [
                            0,
                            "#0d0887"
                          ],
                          [
                            0.1111111111111111,
                            "#46039f"
                          ],
                          [
                            0.2222222222222222,
                            "#7201a8"
                          ],
                          [
                            0.3333333333333333,
                            "#9c179e"
                          ],
                          [
                            0.4444444444444444,
                            "#bd3786"
                          ],
                          [
                            0.5555555555555556,
                            "#d8576b"
                          ],
                          [
                            0.6666666666666666,
                            "#ed7953"
                          ],
                          [
                            0.7777777777777778,
                            "#fb9f3a"
                          ],
                          [
                            0.8888888888888888,
                            "#fdca26"
                          ],
                          [
                            1,
                            "#f0f921"
                          ]
                        ],
                        "type": "histogram2d"
                      }
                    ],
                    "histogram2dcontour": [
                      {
                        "colorbar": {
                          "outlinewidth": 0,
                          "ticks": ""
                        },
                        "colorscale": [
                          [
                            0,
                            "#0d0887"
                          ],
                          [
                            0.1111111111111111,
                            "#46039f"
                          ],
                          [
                            0.2222222222222222,
                            "#7201a8"
                          ],
                          [
                            0.3333333333333333,
                            "#9c179e"
                          ],
                          [
                            0.4444444444444444,
                            "#bd3786"
                          ],
                          [
                            0.5555555555555556,
                            "#d8576b"
                          ],
                          [
                            0.6666666666666666,
                            "#ed7953"
                          ],
                          [
                            0.7777777777777778,
                            "#fb9f3a"
                          ],
                          [
                            0.8888888888888888,
                            "#fdca26"
                          ],
                          [
                            1,
                            "#f0f921"
                          ]
                        ],
                        "type": "histogram2dcontour"
                      }
                    ],
                    "mesh3d": [
                      {
                        "colorbar": {
                          "outlinewidth": 0,
                          "ticks": ""
                        },
                        "type": "mesh3d"
                      }
                    ],
                    "parcoords": [
                      {
                        "line": {
                          "colorbar": {
                            "outlinewidth": 0,
                            "ticks": ""
                          }
                        },
                        "type": "parcoords"
                      }
                    ],
                    "pie": [
                      {
                        "automargin": true,
                        "type": "pie"
                      }
                    ],
                    "scatter": [
                      {
                        "marker": {
                          "line": {
                            "color": "#283442"
                          }
                        },
                        "type": "scatter"
                      }
                    ],
                    "scatter3d": [
                      {
                        "line": {
                          "colorbar": {
                            "outlinewidth": 0,
                            "ticks": ""
                          }
                        },
                        "marker": {
                          "colorbar": {
                            "outlinewidth": 0,
                            "ticks": ""
                          }
                        },
                        "type": "scatter3d"
                      }
                    ],
                    "scattercarpet": [
                      {
                        "marker": {
                          "colorbar": {
                            "outlinewidth": 0,
                            "ticks": ""
                          }
                        },
                        "type": "scattercarpet"
                      }
                    ],
                    "scattergeo": [
                      {
                        "marker": {
                          "colorbar": {
                            "outlinewidth": 0,
                            "ticks": ""
                          }
                        },
                        "type": "scattergeo"
                      }
                    ],
                    "scattergl": [
                      {
                        "marker": {
                          "line": {
                            "color": "#283442"
                          }
                        },
                        "type": "scattergl"
                      }
                    ],
                    "scattermap": [
                      {
                        "marker": {
                          "colorbar": {
                            "outlinewidth": 0,
                            "ticks": ""
                          }
                        },
                        "type": "scattermap"
                      }
                    ],
                    "scattermapbox": [
                      {
                        "marker": {
                          "colorbar": {
                            "outlinewidth": 0,
                            "ticks": ""
                          }
                        },
                        "type": "scattermapbox"
                      }
                    ],
                    "scatterpolar": [
                      {
                        "marker": {
                          "colorbar": {
                            "outlinewidth": 0,
                            "ticks": ""
                          }
                        },
                        "type": "scatterpolar"
                      }
                    ],
                    "scatterpolargl": [
                      {
                        "marker": {
                          "colorbar": {
                            "outlinewidth": 0,
                            "ticks": ""
                          }
                        },
                        "type": "scatterpolargl"
                      }
                    ],
                    "scatterternary": [
                      {
                        "marker": {
                          "colorbar": {
                            "outlinewidth": 0,
                            "ticks": ""
                          }
                        },
                        "type": "scatterternary"
                      }
                    ],
                    "surface": [
                      {
                        "colorbar": {
                          "outlinewidth": 0,
                          "ticks": ""
                        },
                        "colorscale": [
                          [
                            0,
                            "#0d0887"
                          ],
                          [
                            0.1111111111111111,
                            "#46039f"
                          ],
                          [
                            0.2222222222222222,
                            "#7201a8"
                          ],
                          [
                            0.3333333333333333,
                            "#9c179e"
                          ],
                          [
                            0.4444444444444444,
                            "#bd3786"
                          ],
                          [
                            0.5555555555555556,
                            "#d8576b"
                          ],
                          [
                            0.6666666666666666,
                            "#ed7953"
                          ],
                          [
                            0.7777777777777778,
                            "#fb9f3a"
                          ],
                          [
                            0.8888888888888888,
                            "#fdca26"
                          ],
                          [
                            1,
                            "#f0f921"
                          ]
                        ],
                        "type": "surface"
                      }
                    ],
                    "table": [
                      {
                        "cells": {
                          "fill": {
                            "color": "#506784"
                          },
                          "line": {
                            "color": "rgb(17,17,17)"
                          }
                        },
                        "header": {
                          "fill": {
                            "color": "#2a3f5f"
                          },
                          "line": {
                            "color": "rgb(17,17,17)"
                          }
                        },
                        "type": "table"
                      }
                    ]
                  },
                  "layout": {
                    "annotationdefaults": {
                      "arrowcolor": "#f2f5fa",
                      "arrowhead": 0,
                      "arrowwidth": 1
                    },
                    "autotypenumbers": "strict",
                    "coloraxis": {
                      "colorbar": {
                        "outlinewidth": 0,
                        "ticks": ""
                      }
                    },
                    "colorscale": {
                      "diverging": [
                        [
                          0,
                          "#8e0152"
                        ],
                        [
                          0.1,
                          "#c51b7d"
                        ],
                        [
                          0.2,
                          "#de77ae"
                        ],
                        [
                          0.3,
                          "#f1b6da"
                        ],
                        [
                          0.4,
                          "#fde0ef"
                        ],
                        [
                          0.5,
                          "#f7f7f7"
                        ],
                        [
                          0.6,
                          "#e6f5d0"
                        ],
                        [
                          0.7,
                          "#b8e186"
                        ],
                        [
                          0.8,
                          "#7fbc41"
                        ],
                        [
                          0.9,
                          "#4d9221"
                        ],
                        [
                          1,
                          "#276419"
                        ]
                      ],
                      "sequential": [
                        [
                          0,
                          "#0d0887"
                        ],
                        [
                          0.1111111111111111,
                          "#46039f"
                        ],
                        [
                          0.2222222222222222,
                          "#7201a8"
                        ],
                        [
                          0.3333333333333333,
                          "#9c179e"
                        ],
                        [
                          0.4444444444444444,
                          "#bd3786"
                        ],
                        [
                          0.5555555555555556,
                          "#d8576b"
                        ],
                        [
                          0.6666666666666666,
                          "#ed7953"
                        ],
                        [
                          0.7777777777777778,
                          "#fb9f3a"
                        ],
                        [
                          0.8888888888888888,
                          "#fdca26"
                        ],
                        [
                          1,
                          "#f0f921"
                        ]
                      ],
                      "sequentialminus": [
                        [
                          0,
                          "#0d0887"
                        ],
                        [
                          0.1111111111111111,
                          "#46039f"
                        ],
                        [
                          0.2222222222222222,
                          "#7201a8"
                        ],
                        [
                          0.3333333333333333,
                          "#9c179e"
                        ],
                        [
                          0.4444444444444444,
                          "#bd3786"
                        ],
                        [
                          0.5555555555555556,
                          "#d8576b"
                        ],
                        [
                          0.6666666666666666,
                          "#ed7953"
                        ],
                        [
                          0.7777777777777778,
                          "#fb9f3a"
                        ],
                        [
                          0.8888888888888888,
                          "#fdca26"
                        ],
                        [
                          1,
                          "#f0f921"
                        ]
                      ]
                    },
                    "colorway": [
                      "#636efa",
                      "#EF553B",
                      "#00cc96",
                      "#ab63fa",
                      "#FFA15A",
                      "#19d3f3",
                      "#FF6692",
                      "#B6E880",
                      "#FF97FF",
                      "#FECB52"
                    ],
                    "font": {
                      "color": "#f2f5fa"
                    },
                    "geo": {
                      "bgcolor": "rgb(17,17,17)",
                      "lakecolor": "rgb(17,17,17)",
                      "landcolor": "rgb(17,17,17)",
                      "showlakes": true,
                      "showland": true,
                      "subunitcolor": "#506784"
                    },
                    "hoverlabel": {
                      "align": "left"
                    },
                    "hovermode": "closest",
                    "mapbox": {
                      "style": "dark"
                    },
                    "paper_bgcolor": "rgb(17,17,17)",
                    "plot_bgcolor": "rgb(17,17,17)",
                    "polar": {
                      "angularaxis": {
                        "gridcolor": "#506784",
                        "linecolor": "#506784",
                        "ticks": ""
                      },
                      "bgcolor": "rgb(17,17,17)",
                      "radialaxis": {
                        "gridcolor": "#506784",
                        "linecolor": "#506784",
                        "ticks": ""
                      }
                    },
                    "scene": {
                      "xaxis": {
                        "backgroundcolor": "rgb(17,17,17)",
                        "gridcolor": "#506784",
                        "gridwidth": 2,
                        "linecolor": "#506784",
                        "showbackground": true,
                        "ticks": "",
                        "zerolinecolor": "#C8D4E3"
                      },
                      "yaxis": {
                        "backgroundcolor": "rgb(17,17,17)",
                        "gridcolor": "#506784",
                        "gridwidth": 2,
                        "linecolor": "#506784",
                        "showbackground": true,
                        "ticks": "",
                        "zerolinecolor": "#C8D4E3"
                      },
                      "zaxis": {
                        "backgroundcolor": "rgb(17,17,17)",
                        "gridcolor": "#506784",
                        "gridwidth": 2,
                        "linecolor": "#506784",
                        "showbackground": true,
                        "ticks": "",
                        "zerolinecolor": "#C8D4E3"
                      }
                    },
                    "shapedefaults": {
                      "line": {
                        "color": "#f2f5fa"
                      }
                    },
                    "sliderdefaults": {
                      "bgcolor": "#C8D4E3",
                      "bordercolor": "rgb(17,17,17)",
                      "borderwidth": 1,
                      "tickwidth": 0
                    },
                    "ternary": {
                      "aaxis": {
                        "gridcolor": "#506784",
                        "linecolor": "#506784",
                        "ticks": ""
                      },
                      "baxis": {
                        "gridcolor": "#506784",
                        "linecolor": "#506784",
                        "ticks": ""
                      },
                      "bgcolor": "rgb(17,17,17)",
                      "caxis": {
                        "gridcolor": "#506784",
                        "linecolor": "#506784",
                        "ticks": ""
                      }
                    },
                    "title": {
                      "x": 0.05
                    },
                    "updatemenudefaults": {
                      "bgcolor": "#506784",
                      "borderwidth": 0
                    },
                    "xaxis": {
                      "automargin": true,
                      "gridcolor": "#283442",
                      "linecolor": "#506784",
                      "ticks": "",
                      "title": {
                        "standoff": 15
                      },
                      "zerolinecolor": "#283442",
                      "zerolinewidth": 2
                    },
                    "yaxis": {
                      "automargin": true,
                      "gridcolor": "#283442",
                      "linecolor": "#506784",
                      "ticks": "",
                      "title": {
                        "standoff": 15
                      },
                      "zerolinecolor": "#283442",
                      "zerolinewidth": 2
                    }
                  }
                },
                "title": {
                  "text": "<b>Top 10 billionaires and their age"
                },
                "xaxis": {
                  "anchor": "y",
                  "domain": [
                    0,
                    1
                  ],
                  "title": {
                    "text": "name"
                  }
                },
                "yaxis": {
                  "anchor": "x",
                  "domain": [
                    0,
                    1
                  ],
                  "title": {
                    "text": "age"
                  }
                }
              }
            }
          },
          "metadata": {},
          "output_type": "display_data"
        }
      ],
      "source": [
        "# age of top 10 billionairs\n",
        "fig = px.bar(df.sort_values(\n",
        "    by = 'networth',\n",
        "    ascending = False)[:10],\n",
        "    x = 'name',\n",
        "    y = 'age',\n",
        "    template = 'plotly_dark',\n",
        "    color = 'age',\n",
        "    opacity = 0.8,\n",
        "    title = '<b>Top 10 billionaires and their age')\n",
        "fig.show()"
      ]
    },
    {
      "cell_type": "markdown",
      "metadata": {
        "id": "bEnqtijoI1jr"
      },
      "source": [
        "Insights\n",
        "\n",
        "- The richest billionaire Elon Musk has the age of 50.\n",
        "- The 10th richest billionaire Steve Ballmer has the age of 66.\n",
        "- Warren Buffet is the oldest billionaire in top 10 billionaires with the age of 91.\n",
        "- Sergey Brin is the youngest billionaire in top 10 billionaires with the age of 48."
      ]
    },
    {
      "cell_type": "markdown",
      "metadata": {
        "id": "hUP53zjYI8fL"
      },
      "source": [
        "Who are youngest top 10 billionaires?"
      ]
    },
    {
      "cell_type": "code",
      "execution_count": 24,
      "metadata": {
        "colab": {
          "base_uri": "https://localhost:8080/",
          "height": 542
        },
        "id": "OhyYlSoC7Yar",
        "outputId": "2a20e99b-47cb-45ca-e46c-b7fef74af628"
      },
      "outputs": [
        {
          "data": {
            "application/vnd.plotly.v1+json": {
              "config": {
                "plotlyServerURL": "https://plot.ly"
              },
              "data": [
                {
                  "hovertemplate": "name=%{x}<br>networth=%{y}<br>age=%{marker.color}<extra></extra>",
                  "legendgroup": "",
                  "marker": {
                    "color": {
                      "bdata": "ExkZGRoaGxscHA==",
                      "dtype": "i1"
                    },
                    "coloraxis": "coloraxis",
                    "opacity": 0.8,
                    "pattern": {
                      "shape": ""
                    }
                  },
                  "name": "",
                  "orientation": "v",
                  "showlegend": false,
                  "textposition": "auto",
                  "type": "bar",
                  "x": [
                    "Kevin David Lehmann ",
                    "Pedro Franceschi ",
                    "Wang Zelong ",
                    "Alexandra Andresen ",
                    "Katharina Andresen ",
                    "Henrique Dubugras ",
                    "Austin Russell ",
                    "Ryan Breslow ",
                    "Gustav Magnar Witzoe ",
                    "Gary Wang "
                  ],
                  "xaxis": "x",
                  "y": {
                    "bdata": "MzMzMzMzA0AAAAAAAAD4PwAAAAAAAPg/zczMzMzM9D/NzMzMzMz0PwAAAAAAAPg/mpmZmZmZ+T8AAAAAAAAAQAAAAAAAABJAmpmZmZmZF0A=",
                    "dtype": "f8"
                  },
                  "yaxis": "y"
                }
              ],
              "layout": {
                "barmode": "relative",
                "coloraxis": {
                  "colorbar": {
                    "title": {
                      "text": "age"
                    }
                  },
                  "colorscale": [
                    [
                      0,
                      "#0d0887"
                    ],
                    [
                      0.1111111111111111,
                      "#46039f"
                    ],
                    [
                      0.2222222222222222,
                      "#7201a8"
                    ],
                    [
                      0.3333333333333333,
                      "#9c179e"
                    ],
                    [
                      0.4444444444444444,
                      "#bd3786"
                    ],
                    [
                      0.5555555555555556,
                      "#d8576b"
                    ],
                    [
                      0.6666666666666666,
                      "#ed7953"
                    ],
                    [
                      0.7777777777777778,
                      "#fb9f3a"
                    ],
                    [
                      0.8888888888888888,
                      "#fdca26"
                    ],
                    [
                      1,
                      "#f0f921"
                    ]
                  ]
                },
                "legend": {
                  "tracegroupgap": 0
                },
                "template": {
                  "data": {
                    "bar": [
                      {
                        "error_x": {
                          "color": "#f2f5fa"
                        },
                        "error_y": {
                          "color": "#f2f5fa"
                        },
                        "marker": {
                          "line": {
                            "color": "rgb(17,17,17)",
                            "width": 0.5
                          },
                          "pattern": {
                            "fillmode": "overlay",
                            "size": 10,
                            "solidity": 0.2
                          }
                        },
                        "type": "bar"
                      }
                    ],
                    "barpolar": [
                      {
                        "marker": {
                          "line": {
                            "color": "rgb(17,17,17)",
                            "width": 0.5
                          },
                          "pattern": {
                            "fillmode": "overlay",
                            "size": 10,
                            "solidity": 0.2
                          }
                        },
                        "type": "barpolar"
                      }
                    ],
                    "carpet": [
                      {
                        "aaxis": {
                          "endlinecolor": "#A2B1C6",
                          "gridcolor": "#506784",
                          "linecolor": "#506784",
                          "minorgridcolor": "#506784",
                          "startlinecolor": "#A2B1C6"
                        },
                        "baxis": {
                          "endlinecolor": "#A2B1C6",
                          "gridcolor": "#506784",
                          "linecolor": "#506784",
                          "minorgridcolor": "#506784",
                          "startlinecolor": "#A2B1C6"
                        },
                        "type": "carpet"
                      }
                    ],
                    "choropleth": [
                      {
                        "colorbar": {
                          "outlinewidth": 0,
                          "ticks": ""
                        },
                        "type": "choropleth"
                      }
                    ],
                    "contour": [
                      {
                        "colorbar": {
                          "outlinewidth": 0,
                          "ticks": ""
                        },
                        "colorscale": [
                          [
                            0,
                            "#0d0887"
                          ],
                          [
                            0.1111111111111111,
                            "#46039f"
                          ],
                          [
                            0.2222222222222222,
                            "#7201a8"
                          ],
                          [
                            0.3333333333333333,
                            "#9c179e"
                          ],
                          [
                            0.4444444444444444,
                            "#bd3786"
                          ],
                          [
                            0.5555555555555556,
                            "#d8576b"
                          ],
                          [
                            0.6666666666666666,
                            "#ed7953"
                          ],
                          [
                            0.7777777777777778,
                            "#fb9f3a"
                          ],
                          [
                            0.8888888888888888,
                            "#fdca26"
                          ],
                          [
                            1,
                            "#f0f921"
                          ]
                        ],
                        "type": "contour"
                      }
                    ],
                    "contourcarpet": [
                      {
                        "colorbar": {
                          "outlinewidth": 0,
                          "ticks": ""
                        },
                        "type": "contourcarpet"
                      }
                    ],
                    "heatmap": [
                      {
                        "colorbar": {
                          "outlinewidth": 0,
                          "ticks": ""
                        },
                        "colorscale": [
                          [
                            0,
                            "#0d0887"
                          ],
                          [
                            0.1111111111111111,
                            "#46039f"
                          ],
                          [
                            0.2222222222222222,
                            "#7201a8"
                          ],
                          [
                            0.3333333333333333,
                            "#9c179e"
                          ],
                          [
                            0.4444444444444444,
                            "#bd3786"
                          ],
                          [
                            0.5555555555555556,
                            "#d8576b"
                          ],
                          [
                            0.6666666666666666,
                            "#ed7953"
                          ],
                          [
                            0.7777777777777778,
                            "#fb9f3a"
                          ],
                          [
                            0.8888888888888888,
                            "#fdca26"
                          ],
                          [
                            1,
                            "#f0f921"
                          ]
                        ],
                        "type": "heatmap"
                      }
                    ],
                    "histogram": [
                      {
                        "marker": {
                          "pattern": {
                            "fillmode": "overlay",
                            "size": 10,
                            "solidity": 0.2
                          }
                        },
                        "type": "histogram"
                      }
                    ],
                    "histogram2d": [
                      {
                        "colorbar": {
                          "outlinewidth": 0,
                          "ticks": ""
                        },
                        "colorscale": [
                          [
                            0,
                            "#0d0887"
                          ],
                          [
                            0.1111111111111111,
                            "#46039f"
                          ],
                          [
                            0.2222222222222222,
                            "#7201a8"
                          ],
                          [
                            0.3333333333333333,
                            "#9c179e"
                          ],
                          [
                            0.4444444444444444,
                            "#bd3786"
                          ],
                          [
                            0.5555555555555556,
                            "#d8576b"
                          ],
                          [
                            0.6666666666666666,
                            "#ed7953"
                          ],
                          [
                            0.7777777777777778,
                            "#fb9f3a"
                          ],
                          [
                            0.8888888888888888,
                            "#fdca26"
                          ],
                          [
                            1,
                            "#f0f921"
                          ]
                        ],
                        "type": "histogram2d"
                      }
                    ],
                    "histogram2dcontour": [
                      {
                        "colorbar": {
                          "outlinewidth": 0,
                          "ticks": ""
                        },
                        "colorscale": [
                          [
                            0,
                            "#0d0887"
                          ],
                          [
                            0.1111111111111111,
                            "#46039f"
                          ],
                          [
                            0.2222222222222222,
                            "#7201a8"
                          ],
                          [
                            0.3333333333333333,
                            "#9c179e"
                          ],
                          [
                            0.4444444444444444,
                            "#bd3786"
                          ],
                          [
                            0.5555555555555556,
                            "#d8576b"
                          ],
                          [
                            0.6666666666666666,
                            "#ed7953"
                          ],
                          [
                            0.7777777777777778,
                            "#fb9f3a"
                          ],
                          [
                            0.8888888888888888,
                            "#fdca26"
                          ],
                          [
                            1,
                            "#f0f921"
                          ]
                        ],
                        "type": "histogram2dcontour"
                      }
                    ],
                    "mesh3d": [
                      {
                        "colorbar": {
                          "outlinewidth": 0,
                          "ticks": ""
                        },
                        "type": "mesh3d"
                      }
                    ],
                    "parcoords": [
                      {
                        "line": {
                          "colorbar": {
                            "outlinewidth": 0,
                            "ticks": ""
                          }
                        },
                        "type": "parcoords"
                      }
                    ],
                    "pie": [
                      {
                        "automargin": true,
                        "type": "pie"
                      }
                    ],
                    "scatter": [
                      {
                        "marker": {
                          "line": {
                            "color": "#283442"
                          }
                        },
                        "type": "scatter"
                      }
                    ],
                    "scatter3d": [
                      {
                        "line": {
                          "colorbar": {
                            "outlinewidth": 0,
                            "ticks": ""
                          }
                        },
                        "marker": {
                          "colorbar": {
                            "outlinewidth": 0,
                            "ticks": ""
                          }
                        },
                        "type": "scatter3d"
                      }
                    ],
                    "scattercarpet": [
                      {
                        "marker": {
                          "colorbar": {
                            "outlinewidth": 0,
                            "ticks": ""
                          }
                        },
                        "type": "scattercarpet"
                      }
                    ],
                    "scattergeo": [
                      {
                        "marker": {
                          "colorbar": {
                            "outlinewidth": 0,
                            "ticks": ""
                          }
                        },
                        "type": "scattergeo"
                      }
                    ],
                    "scattergl": [
                      {
                        "marker": {
                          "line": {
                            "color": "#283442"
                          }
                        },
                        "type": "scattergl"
                      }
                    ],
                    "scattermap": [
                      {
                        "marker": {
                          "colorbar": {
                            "outlinewidth": 0,
                            "ticks": ""
                          }
                        },
                        "type": "scattermap"
                      }
                    ],
                    "scattermapbox": [
                      {
                        "marker": {
                          "colorbar": {
                            "outlinewidth": 0,
                            "ticks": ""
                          }
                        },
                        "type": "scattermapbox"
                      }
                    ],
                    "scatterpolar": [
                      {
                        "marker": {
                          "colorbar": {
                            "outlinewidth": 0,
                            "ticks": ""
                          }
                        },
                        "type": "scatterpolar"
                      }
                    ],
                    "scatterpolargl": [
                      {
                        "marker": {
                          "colorbar": {
                            "outlinewidth": 0,
                            "ticks": ""
                          }
                        },
                        "type": "scatterpolargl"
                      }
                    ],
                    "scatterternary": [
                      {
                        "marker": {
                          "colorbar": {
                            "outlinewidth": 0,
                            "ticks": ""
                          }
                        },
                        "type": "scatterternary"
                      }
                    ],
                    "surface": [
                      {
                        "colorbar": {
                          "outlinewidth": 0,
                          "ticks": ""
                        },
                        "colorscale": [
                          [
                            0,
                            "#0d0887"
                          ],
                          [
                            0.1111111111111111,
                            "#46039f"
                          ],
                          [
                            0.2222222222222222,
                            "#7201a8"
                          ],
                          [
                            0.3333333333333333,
                            "#9c179e"
                          ],
                          [
                            0.4444444444444444,
                            "#bd3786"
                          ],
                          [
                            0.5555555555555556,
                            "#d8576b"
                          ],
                          [
                            0.6666666666666666,
                            "#ed7953"
                          ],
                          [
                            0.7777777777777778,
                            "#fb9f3a"
                          ],
                          [
                            0.8888888888888888,
                            "#fdca26"
                          ],
                          [
                            1,
                            "#f0f921"
                          ]
                        ],
                        "type": "surface"
                      }
                    ],
                    "table": [
                      {
                        "cells": {
                          "fill": {
                            "color": "#506784"
                          },
                          "line": {
                            "color": "rgb(17,17,17)"
                          }
                        },
                        "header": {
                          "fill": {
                            "color": "#2a3f5f"
                          },
                          "line": {
                            "color": "rgb(17,17,17)"
                          }
                        },
                        "type": "table"
                      }
                    ]
                  },
                  "layout": {
                    "annotationdefaults": {
                      "arrowcolor": "#f2f5fa",
                      "arrowhead": 0,
                      "arrowwidth": 1
                    },
                    "autotypenumbers": "strict",
                    "coloraxis": {
                      "colorbar": {
                        "outlinewidth": 0,
                        "ticks": ""
                      }
                    },
                    "colorscale": {
                      "diverging": [
                        [
                          0,
                          "#8e0152"
                        ],
                        [
                          0.1,
                          "#c51b7d"
                        ],
                        [
                          0.2,
                          "#de77ae"
                        ],
                        [
                          0.3,
                          "#f1b6da"
                        ],
                        [
                          0.4,
                          "#fde0ef"
                        ],
                        [
                          0.5,
                          "#f7f7f7"
                        ],
                        [
                          0.6,
                          "#e6f5d0"
                        ],
                        [
                          0.7,
                          "#b8e186"
                        ],
                        [
                          0.8,
                          "#7fbc41"
                        ],
                        [
                          0.9,
                          "#4d9221"
                        ],
                        [
                          1,
                          "#276419"
                        ]
                      ],
                      "sequential": [
                        [
                          0,
                          "#0d0887"
                        ],
                        [
                          0.1111111111111111,
                          "#46039f"
                        ],
                        [
                          0.2222222222222222,
                          "#7201a8"
                        ],
                        [
                          0.3333333333333333,
                          "#9c179e"
                        ],
                        [
                          0.4444444444444444,
                          "#bd3786"
                        ],
                        [
                          0.5555555555555556,
                          "#d8576b"
                        ],
                        [
                          0.6666666666666666,
                          "#ed7953"
                        ],
                        [
                          0.7777777777777778,
                          "#fb9f3a"
                        ],
                        [
                          0.8888888888888888,
                          "#fdca26"
                        ],
                        [
                          1,
                          "#f0f921"
                        ]
                      ],
                      "sequentialminus": [
                        [
                          0,
                          "#0d0887"
                        ],
                        [
                          0.1111111111111111,
                          "#46039f"
                        ],
                        [
                          0.2222222222222222,
                          "#7201a8"
                        ],
                        [
                          0.3333333333333333,
                          "#9c179e"
                        ],
                        [
                          0.4444444444444444,
                          "#bd3786"
                        ],
                        [
                          0.5555555555555556,
                          "#d8576b"
                        ],
                        [
                          0.6666666666666666,
                          "#ed7953"
                        ],
                        [
                          0.7777777777777778,
                          "#fb9f3a"
                        ],
                        [
                          0.8888888888888888,
                          "#fdca26"
                        ],
                        [
                          1,
                          "#f0f921"
                        ]
                      ]
                    },
                    "colorway": [
                      "#636efa",
                      "#EF553B",
                      "#00cc96",
                      "#ab63fa",
                      "#FFA15A",
                      "#19d3f3",
                      "#FF6692",
                      "#B6E880",
                      "#FF97FF",
                      "#FECB52"
                    ],
                    "font": {
                      "color": "#f2f5fa"
                    },
                    "geo": {
                      "bgcolor": "rgb(17,17,17)",
                      "lakecolor": "rgb(17,17,17)",
                      "landcolor": "rgb(17,17,17)",
                      "showlakes": true,
                      "showland": true,
                      "subunitcolor": "#506784"
                    },
                    "hoverlabel": {
                      "align": "left"
                    },
                    "hovermode": "closest",
                    "mapbox": {
                      "style": "dark"
                    },
                    "paper_bgcolor": "rgb(17,17,17)",
                    "plot_bgcolor": "rgb(17,17,17)",
                    "polar": {
                      "angularaxis": {
                        "gridcolor": "#506784",
                        "linecolor": "#506784",
                        "ticks": ""
                      },
                      "bgcolor": "rgb(17,17,17)",
                      "radialaxis": {
                        "gridcolor": "#506784",
                        "linecolor": "#506784",
                        "ticks": ""
                      }
                    },
                    "scene": {
                      "xaxis": {
                        "backgroundcolor": "rgb(17,17,17)",
                        "gridcolor": "#506784",
                        "gridwidth": 2,
                        "linecolor": "#506784",
                        "showbackground": true,
                        "ticks": "",
                        "zerolinecolor": "#C8D4E3"
                      },
                      "yaxis": {
                        "backgroundcolor": "rgb(17,17,17)",
                        "gridcolor": "#506784",
                        "gridwidth": 2,
                        "linecolor": "#506784",
                        "showbackground": true,
                        "ticks": "",
                        "zerolinecolor": "#C8D4E3"
                      },
                      "zaxis": {
                        "backgroundcolor": "rgb(17,17,17)",
                        "gridcolor": "#506784",
                        "gridwidth": 2,
                        "linecolor": "#506784",
                        "showbackground": true,
                        "ticks": "",
                        "zerolinecolor": "#C8D4E3"
                      }
                    },
                    "shapedefaults": {
                      "line": {
                        "color": "#f2f5fa"
                      }
                    },
                    "sliderdefaults": {
                      "bgcolor": "#C8D4E3",
                      "bordercolor": "rgb(17,17,17)",
                      "borderwidth": 1,
                      "tickwidth": 0
                    },
                    "ternary": {
                      "aaxis": {
                        "gridcolor": "#506784",
                        "linecolor": "#506784",
                        "ticks": ""
                      },
                      "baxis": {
                        "gridcolor": "#506784",
                        "linecolor": "#506784",
                        "ticks": ""
                      },
                      "bgcolor": "rgb(17,17,17)",
                      "caxis": {
                        "gridcolor": "#506784",
                        "linecolor": "#506784",
                        "ticks": ""
                      }
                    },
                    "title": {
                      "x": 0.05
                    },
                    "updatemenudefaults": {
                      "bgcolor": "#506784",
                      "borderwidth": 0
                    },
                    "xaxis": {
                      "automargin": true,
                      "gridcolor": "#283442",
                      "linecolor": "#506784",
                      "ticks": "",
                      "title": {
                        "standoff": 15
                      },
                      "zerolinecolor": "#283442",
                      "zerolinewidth": 2
                    },
                    "yaxis": {
                      "automargin": true,
                      "gridcolor": "#283442",
                      "linecolor": "#506784",
                      "ticks": "",
                      "title": {
                        "standoff": 15
                      },
                      "zerolinecolor": "#283442",
                      "zerolinewidth": 2
                    }
                  }
                },
                "title": {
                  "text": "<b>Top 10 youngest billionairs"
                },
                "xaxis": {
                  "anchor": "y",
                  "domain": [
                    0,
                    1
                  ],
                  "title": {
                    "text": "name"
                  }
                },
                "yaxis": {
                  "anchor": "x",
                  "domain": [
                    0,
                    1
                  ],
                  "title": {
                    "text": "networth"
                  }
                }
              }
            }
          },
          "metadata": {},
          "output_type": "display_data"
        }
      ],
      "source": [
        "# youngest top 10 billionaires\n",
        "fig = px.bar(df.sort_values(\n",
        "    'age',\n",
        "    ascending = True)[:10],\n",
        "    x = 'name',\n",
        "    y = 'networth',\n",
        "    template = 'plotly_dark',\n",
        "    color = 'age',\n",
        "    opacity = 0.8,\n",
        "    title = '<b>Top 10 youngest billionairs')\n",
        "fig.show()"
      ]
    },
    {
      "cell_type": "markdown",
      "metadata": {
        "id": "jWqD21bTJCuU"
      },
      "source": [
        "Insights\n",
        "\n",
        "- The youngest billionaire in top 10 billionaires is Kevin David Lehmann with the age of 19 and a netoworth of 2.4 B dollars.\n",
        "- The oldest billionaire in top 10 youngest billionaires is Gary Wang with the age of 28 and a netoworth of 5.9 B dollars.\n",
        "- Most of the top 10 youngest billionaires have an age of 25 and a networth of around 1.5 B dollars."
      ]
    },
    {
      "cell_type": "markdown",
      "metadata": {
        "id": "yTjhd_9YJHmc"
      },
      "source": [
        "Who are top 10 oldest billionaires?"
      ]
    },
    {
      "cell_type": "code",
      "execution_count": 25,
      "metadata": {
        "colab": {
          "base_uri": "https://localhost:8080/",
          "height": 542
        },
        "id": "Jj3w6ENJ8ndP",
        "outputId": "d6f44b80-4273-42cd-9a9a-b723e53e96c7"
      },
      "outputs": [
        {
          "data": {
            "application/vnd.plotly.v1+json": {
              "config": {
                "plotlyServerURL": "https://plot.ly"
              },
              "data": [
                {
                  "hovertemplate": "name=%{x}<br>networth=%{y}<br>age=%{marker.color}<extra></extra>",
                  "legendgroup": "",
                  "marker": {
                    "color": {
                      "bdata": "ZGJiYmFhYWBgYA==",
                      "dtype": "i1"
                    },
                    "coloraxis": "coloraxis",
                    "opacity": 0.8,
                    "pattern": {
                      "shape": ""
                    }
                  },
                  "name": "",
                  "orientation": "v",
                  "showlegend": false,
                  "textposition": "auto",
                  "type": "bar",
                  "x": [
                    "George Joseph ",
                    "Charles Munger ",
                    "David Murdock ",
                    "Robert Kuok ",
                    "S. Daniel Abraham ",
                    "Ana Maria Brescia Cafferata ",
                    "Masatoshi Ito ",
                    "John Farber ",
                    "Stephen Jarislowsky ",
                    "Nobutoshi Shimamura "
                  ],
                  "xaxis": "x",
                  "y": {
                    "bdata": "zczMzMzM/D8AAAAAAAAEQGZmZmZmZgJAZmZmZmZmJ0AAAAAAAAAAQAAAAAAAAPg/ZmZmZmZmEkAAAAAAAAD4P83MzMzMzPw/zczMzMzM9D8=",
                    "dtype": "f8"
                  },
                  "yaxis": "y"
                }
              ],
              "layout": {
                "barmode": "relative",
                "coloraxis": {
                  "colorbar": {
                    "title": {
                      "text": "age"
                    }
                  },
                  "colorscale": [
                    [
                      0,
                      "#0d0887"
                    ],
                    [
                      0.1111111111111111,
                      "#46039f"
                    ],
                    [
                      0.2222222222222222,
                      "#7201a8"
                    ],
                    [
                      0.3333333333333333,
                      "#9c179e"
                    ],
                    [
                      0.4444444444444444,
                      "#bd3786"
                    ],
                    [
                      0.5555555555555556,
                      "#d8576b"
                    ],
                    [
                      0.6666666666666666,
                      "#ed7953"
                    ],
                    [
                      0.7777777777777778,
                      "#fb9f3a"
                    ],
                    [
                      0.8888888888888888,
                      "#fdca26"
                    ],
                    [
                      1,
                      "#f0f921"
                    ]
                  ]
                },
                "legend": {
                  "tracegroupgap": 0
                },
                "template": {
                  "data": {
                    "bar": [
                      {
                        "error_x": {
                          "color": "#f2f5fa"
                        },
                        "error_y": {
                          "color": "#f2f5fa"
                        },
                        "marker": {
                          "line": {
                            "color": "rgb(17,17,17)",
                            "width": 0.5
                          },
                          "pattern": {
                            "fillmode": "overlay",
                            "size": 10,
                            "solidity": 0.2
                          }
                        },
                        "type": "bar"
                      }
                    ],
                    "barpolar": [
                      {
                        "marker": {
                          "line": {
                            "color": "rgb(17,17,17)",
                            "width": 0.5
                          },
                          "pattern": {
                            "fillmode": "overlay",
                            "size": 10,
                            "solidity": 0.2
                          }
                        },
                        "type": "barpolar"
                      }
                    ],
                    "carpet": [
                      {
                        "aaxis": {
                          "endlinecolor": "#A2B1C6",
                          "gridcolor": "#506784",
                          "linecolor": "#506784",
                          "minorgridcolor": "#506784",
                          "startlinecolor": "#A2B1C6"
                        },
                        "baxis": {
                          "endlinecolor": "#A2B1C6",
                          "gridcolor": "#506784",
                          "linecolor": "#506784",
                          "minorgridcolor": "#506784",
                          "startlinecolor": "#A2B1C6"
                        },
                        "type": "carpet"
                      }
                    ],
                    "choropleth": [
                      {
                        "colorbar": {
                          "outlinewidth": 0,
                          "ticks": ""
                        },
                        "type": "choropleth"
                      }
                    ],
                    "contour": [
                      {
                        "colorbar": {
                          "outlinewidth": 0,
                          "ticks": ""
                        },
                        "colorscale": [
                          [
                            0,
                            "#0d0887"
                          ],
                          [
                            0.1111111111111111,
                            "#46039f"
                          ],
                          [
                            0.2222222222222222,
                            "#7201a8"
                          ],
                          [
                            0.3333333333333333,
                            "#9c179e"
                          ],
                          [
                            0.4444444444444444,
                            "#bd3786"
                          ],
                          [
                            0.5555555555555556,
                            "#d8576b"
                          ],
                          [
                            0.6666666666666666,
                            "#ed7953"
                          ],
                          [
                            0.7777777777777778,
                            "#fb9f3a"
                          ],
                          [
                            0.8888888888888888,
                            "#fdca26"
                          ],
                          [
                            1,
                            "#f0f921"
                          ]
                        ],
                        "type": "contour"
                      }
                    ],
                    "contourcarpet": [
                      {
                        "colorbar": {
                          "outlinewidth": 0,
                          "ticks": ""
                        },
                        "type": "contourcarpet"
                      }
                    ],
                    "heatmap": [
                      {
                        "colorbar": {
                          "outlinewidth": 0,
                          "ticks": ""
                        },
                        "colorscale": [
                          [
                            0,
                            "#0d0887"
                          ],
                          [
                            0.1111111111111111,
                            "#46039f"
                          ],
                          [
                            0.2222222222222222,
                            "#7201a8"
                          ],
                          [
                            0.3333333333333333,
                            "#9c179e"
                          ],
                          [
                            0.4444444444444444,
                            "#bd3786"
                          ],
                          [
                            0.5555555555555556,
                            "#d8576b"
                          ],
                          [
                            0.6666666666666666,
                            "#ed7953"
                          ],
                          [
                            0.7777777777777778,
                            "#fb9f3a"
                          ],
                          [
                            0.8888888888888888,
                            "#fdca26"
                          ],
                          [
                            1,
                            "#f0f921"
                          ]
                        ],
                        "type": "heatmap"
                      }
                    ],
                    "histogram": [
                      {
                        "marker": {
                          "pattern": {
                            "fillmode": "overlay",
                            "size": 10,
                            "solidity": 0.2
                          }
                        },
                        "type": "histogram"
                      }
                    ],
                    "histogram2d": [
                      {
                        "colorbar": {
                          "outlinewidth": 0,
                          "ticks": ""
                        },
                        "colorscale": [
                          [
                            0,
                            "#0d0887"
                          ],
                          [
                            0.1111111111111111,
                            "#46039f"
                          ],
                          [
                            0.2222222222222222,
                            "#7201a8"
                          ],
                          [
                            0.3333333333333333,
                            "#9c179e"
                          ],
                          [
                            0.4444444444444444,
                            "#bd3786"
                          ],
                          [
                            0.5555555555555556,
                            "#d8576b"
                          ],
                          [
                            0.6666666666666666,
                            "#ed7953"
                          ],
                          [
                            0.7777777777777778,
                            "#fb9f3a"
                          ],
                          [
                            0.8888888888888888,
                            "#fdca26"
                          ],
                          [
                            1,
                            "#f0f921"
                          ]
                        ],
                        "type": "histogram2d"
                      }
                    ],
                    "histogram2dcontour": [
                      {
                        "colorbar": {
                          "outlinewidth": 0,
                          "ticks": ""
                        },
                        "colorscale": [
                          [
                            0,
                            "#0d0887"
                          ],
                          [
                            0.1111111111111111,
                            "#46039f"
                          ],
                          [
                            0.2222222222222222,
                            "#7201a8"
                          ],
                          [
                            0.3333333333333333,
                            "#9c179e"
                          ],
                          [
                            0.4444444444444444,
                            "#bd3786"
                          ],
                          [
                            0.5555555555555556,
                            "#d8576b"
                          ],
                          [
                            0.6666666666666666,
                            "#ed7953"
                          ],
                          [
                            0.7777777777777778,
                            "#fb9f3a"
                          ],
                          [
                            0.8888888888888888,
                            "#fdca26"
                          ],
                          [
                            1,
                            "#f0f921"
                          ]
                        ],
                        "type": "histogram2dcontour"
                      }
                    ],
                    "mesh3d": [
                      {
                        "colorbar": {
                          "outlinewidth": 0,
                          "ticks": ""
                        },
                        "type": "mesh3d"
                      }
                    ],
                    "parcoords": [
                      {
                        "line": {
                          "colorbar": {
                            "outlinewidth": 0,
                            "ticks": ""
                          }
                        },
                        "type": "parcoords"
                      }
                    ],
                    "pie": [
                      {
                        "automargin": true,
                        "type": "pie"
                      }
                    ],
                    "scatter": [
                      {
                        "marker": {
                          "line": {
                            "color": "#283442"
                          }
                        },
                        "type": "scatter"
                      }
                    ],
                    "scatter3d": [
                      {
                        "line": {
                          "colorbar": {
                            "outlinewidth": 0,
                            "ticks": ""
                          }
                        },
                        "marker": {
                          "colorbar": {
                            "outlinewidth": 0,
                            "ticks": ""
                          }
                        },
                        "type": "scatter3d"
                      }
                    ],
                    "scattercarpet": [
                      {
                        "marker": {
                          "colorbar": {
                            "outlinewidth": 0,
                            "ticks": ""
                          }
                        },
                        "type": "scattercarpet"
                      }
                    ],
                    "scattergeo": [
                      {
                        "marker": {
                          "colorbar": {
                            "outlinewidth": 0,
                            "ticks": ""
                          }
                        },
                        "type": "scattergeo"
                      }
                    ],
                    "scattergl": [
                      {
                        "marker": {
                          "line": {
                            "color": "#283442"
                          }
                        },
                        "type": "scattergl"
                      }
                    ],
                    "scattermap": [
                      {
                        "marker": {
                          "colorbar": {
                            "outlinewidth": 0,
                            "ticks": ""
                          }
                        },
                        "type": "scattermap"
                      }
                    ],
                    "scattermapbox": [
                      {
                        "marker": {
                          "colorbar": {
                            "outlinewidth": 0,
                            "ticks": ""
                          }
                        },
                        "type": "scattermapbox"
                      }
                    ],
                    "scatterpolar": [
                      {
                        "marker": {
                          "colorbar": {
                            "outlinewidth": 0,
                            "ticks": ""
                          }
                        },
                        "type": "scatterpolar"
                      }
                    ],
                    "scatterpolargl": [
                      {
                        "marker": {
                          "colorbar": {
                            "outlinewidth": 0,
                            "ticks": ""
                          }
                        },
                        "type": "scatterpolargl"
                      }
                    ],
                    "scatterternary": [
                      {
                        "marker": {
                          "colorbar": {
                            "outlinewidth": 0,
                            "ticks": ""
                          }
                        },
                        "type": "scatterternary"
                      }
                    ],
                    "surface": [
                      {
                        "colorbar": {
                          "outlinewidth": 0,
                          "ticks": ""
                        },
                        "colorscale": [
                          [
                            0,
                            "#0d0887"
                          ],
                          [
                            0.1111111111111111,
                            "#46039f"
                          ],
                          [
                            0.2222222222222222,
                            "#7201a8"
                          ],
                          [
                            0.3333333333333333,
                            "#9c179e"
                          ],
                          [
                            0.4444444444444444,
                            "#bd3786"
                          ],
                          [
                            0.5555555555555556,
                            "#d8576b"
                          ],
                          [
                            0.6666666666666666,
                            "#ed7953"
                          ],
                          [
                            0.7777777777777778,
                            "#fb9f3a"
                          ],
                          [
                            0.8888888888888888,
                            "#fdca26"
                          ],
                          [
                            1,
                            "#f0f921"
                          ]
                        ],
                        "type": "surface"
                      }
                    ],
                    "table": [
                      {
                        "cells": {
                          "fill": {
                            "color": "#506784"
                          },
                          "line": {
                            "color": "rgb(17,17,17)"
                          }
                        },
                        "header": {
                          "fill": {
                            "color": "#2a3f5f"
                          },
                          "line": {
                            "color": "rgb(17,17,17)"
                          }
                        },
                        "type": "table"
                      }
                    ]
                  },
                  "layout": {
                    "annotationdefaults": {
                      "arrowcolor": "#f2f5fa",
                      "arrowhead": 0,
                      "arrowwidth": 1
                    },
                    "autotypenumbers": "strict",
                    "coloraxis": {
                      "colorbar": {
                        "outlinewidth": 0,
                        "ticks": ""
                      }
                    },
                    "colorscale": {
                      "diverging": [
                        [
                          0,
                          "#8e0152"
                        ],
                        [
                          0.1,
                          "#c51b7d"
                        ],
                        [
                          0.2,
                          "#de77ae"
                        ],
                        [
                          0.3,
                          "#f1b6da"
                        ],
                        [
                          0.4,
                          "#fde0ef"
                        ],
                        [
                          0.5,
                          "#f7f7f7"
                        ],
                        [
                          0.6,
                          "#e6f5d0"
                        ],
                        [
                          0.7,
                          "#b8e186"
                        ],
                        [
                          0.8,
                          "#7fbc41"
                        ],
                        [
                          0.9,
                          "#4d9221"
                        ],
                        [
                          1,
                          "#276419"
                        ]
                      ],
                      "sequential": [
                        [
                          0,
                          "#0d0887"
                        ],
                        [
                          0.1111111111111111,
                          "#46039f"
                        ],
                        [
                          0.2222222222222222,
                          "#7201a8"
                        ],
                        [
                          0.3333333333333333,
                          "#9c179e"
                        ],
                        [
                          0.4444444444444444,
                          "#bd3786"
                        ],
                        [
                          0.5555555555555556,
                          "#d8576b"
                        ],
                        [
                          0.6666666666666666,
                          "#ed7953"
                        ],
                        [
                          0.7777777777777778,
                          "#fb9f3a"
                        ],
                        [
                          0.8888888888888888,
                          "#fdca26"
                        ],
                        [
                          1,
                          "#f0f921"
                        ]
                      ],
                      "sequentialminus": [
                        [
                          0,
                          "#0d0887"
                        ],
                        [
                          0.1111111111111111,
                          "#46039f"
                        ],
                        [
                          0.2222222222222222,
                          "#7201a8"
                        ],
                        [
                          0.3333333333333333,
                          "#9c179e"
                        ],
                        [
                          0.4444444444444444,
                          "#bd3786"
                        ],
                        [
                          0.5555555555555556,
                          "#d8576b"
                        ],
                        [
                          0.6666666666666666,
                          "#ed7953"
                        ],
                        [
                          0.7777777777777778,
                          "#fb9f3a"
                        ],
                        [
                          0.8888888888888888,
                          "#fdca26"
                        ],
                        [
                          1,
                          "#f0f921"
                        ]
                      ]
                    },
                    "colorway": [
                      "#636efa",
                      "#EF553B",
                      "#00cc96",
                      "#ab63fa",
                      "#FFA15A",
                      "#19d3f3",
                      "#FF6692",
                      "#B6E880",
                      "#FF97FF",
                      "#FECB52"
                    ],
                    "font": {
                      "color": "#f2f5fa"
                    },
                    "geo": {
                      "bgcolor": "rgb(17,17,17)",
                      "lakecolor": "rgb(17,17,17)",
                      "landcolor": "rgb(17,17,17)",
                      "showlakes": true,
                      "showland": true,
                      "subunitcolor": "#506784"
                    },
                    "hoverlabel": {
                      "align": "left"
                    },
                    "hovermode": "closest",
                    "mapbox": {
                      "style": "dark"
                    },
                    "paper_bgcolor": "rgb(17,17,17)",
                    "plot_bgcolor": "rgb(17,17,17)",
                    "polar": {
                      "angularaxis": {
                        "gridcolor": "#506784",
                        "linecolor": "#506784",
                        "ticks": ""
                      },
                      "bgcolor": "rgb(17,17,17)",
                      "radialaxis": {
                        "gridcolor": "#506784",
                        "linecolor": "#506784",
                        "ticks": ""
                      }
                    },
                    "scene": {
                      "xaxis": {
                        "backgroundcolor": "rgb(17,17,17)",
                        "gridcolor": "#506784",
                        "gridwidth": 2,
                        "linecolor": "#506784",
                        "showbackground": true,
                        "ticks": "",
                        "zerolinecolor": "#C8D4E3"
                      },
                      "yaxis": {
                        "backgroundcolor": "rgb(17,17,17)",
                        "gridcolor": "#506784",
                        "gridwidth": 2,
                        "linecolor": "#506784",
                        "showbackground": true,
                        "ticks": "",
                        "zerolinecolor": "#C8D4E3"
                      },
                      "zaxis": {
                        "backgroundcolor": "rgb(17,17,17)",
                        "gridcolor": "#506784",
                        "gridwidth": 2,
                        "linecolor": "#506784",
                        "showbackground": true,
                        "ticks": "",
                        "zerolinecolor": "#C8D4E3"
                      }
                    },
                    "shapedefaults": {
                      "line": {
                        "color": "#f2f5fa"
                      }
                    },
                    "sliderdefaults": {
                      "bgcolor": "#C8D4E3",
                      "bordercolor": "rgb(17,17,17)",
                      "borderwidth": 1,
                      "tickwidth": 0
                    },
                    "ternary": {
                      "aaxis": {
                        "gridcolor": "#506784",
                        "linecolor": "#506784",
                        "ticks": ""
                      },
                      "baxis": {
                        "gridcolor": "#506784",
                        "linecolor": "#506784",
                        "ticks": ""
                      },
                      "bgcolor": "rgb(17,17,17)",
                      "caxis": {
                        "gridcolor": "#506784",
                        "linecolor": "#506784",
                        "ticks": ""
                      }
                    },
                    "title": {
                      "x": 0.05
                    },
                    "updatemenudefaults": {
                      "bgcolor": "#506784",
                      "borderwidth": 0
                    },
                    "xaxis": {
                      "automargin": true,
                      "gridcolor": "#283442",
                      "linecolor": "#506784",
                      "ticks": "",
                      "title": {
                        "standoff": 15
                      },
                      "zerolinecolor": "#283442",
                      "zerolinewidth": 2
                    },
                    "yaxis": {
                      "automargin": true,
                      "gridcolor": "#283442",
                      "linecolor": "#506784",
                      "ticks": "",
                      "title": {
                        "standoff": 15
                      },
                      "zerolinecolor": "#283442",
                      "zerolinewidth": 2
                    }
                  }
                },
                "title": {
                  "text": "<b>Top 10 oldest billionairs"
                },
                "xaxis": {
                  "anchor": "y",
                  "domain": [
                    0,
                    1
                  ],
                  "title": {
                    "text": "name"
                  }
                },
                "yaxis": {
                  "anchor": "x",
                  "domain": [
                    0,
                    1
                  ],
                  "title": {
                    "text": "networth"
                  }
                }
              }
            }
          },
          "metadata": {},
          "output_type": "display_data"
        }
      ],
      "source": [
        "# top 10 oldest billionaires\n",
        "fig = px.bar(df.sort_values(\n",
        "    'age',ascending = False)[:10],\n",
        "    x = 'name',\n",
        "    y = 'networth',\n",
        "    template = 'plotly_dark',\n",
        "    color = 'age',\n",
        "    opacity = 0.8,\n",
        "    title = '<b>Top 10 oldest billionairs')\n",
        "fig.show()"
      ]
    },
    {
      "cell_type": "markdown",
      "metadata": {
        "id": "xzia03elJKCD"
      },
      "source": [
        "Insights\n",
        "\n",
        "- The oldest billionaire in top 10 oldest billionaires is George Joseph with the age of 100 and a netoworth of 1.8 B dollars.\n",
        "- The richest billionaire in top 10 oldest billionaires is Robert Kuok with the age of 98 and a netoworth of 11.7 B dollars.\n",
        "- The 10th billionaire in top 10 oldest billionaire is Nobutoshi Shimamura with the age of 96 and a netoworth of 1.3 B dollars.\n",
        "- Most of the top 10 oldest billionaires have an age of around 96 and a networth of around 2 B dollars."
      ]
    },
    {
      "cell_type": "markdown",
      "metadata": {
        "id": "wAnf9MQt-cjd"
      },
      "source": [
        "## Analysis according to country"
      ]
    },
    {
      "cell_type": "markdown",
      "metadata": {
        "id": "_y1i0hdfJOvc"
      },
      "source": [
        "What is the total networth of billionaires in top 10 countries?"
      ]
    },
    {
      "cell_type": "code",
      "execution_count": 26,
      "metadata": {
        "colab": {
          "base_uri": "https://localhost:8080/",
          "height": 542
        },
        "id": "GbT62Yz39x3r",
        "outputId": "0eb95d5b-0f29-4677-e7bb-8a311a857963"
      },
      "outputs": [
        {
          "data": {
            "application/vnd.plotly.v1+json": {
              "config": {
                "plotlyServerURL": "https://plot.ly"
              },
              "data": [
                {
                  "hovertemplate": "country=%{x}<br>networth=%{marker.size}<extra></extra>",
                  "legendgroup": "United States",
                  "marker": {
                    "color": "#636efa",
                    "opacity": 0.85,
                    "size": {
                      "bdata": "mpmZmRlNskA=",
                      "dtype": "f8"
                    },
                    "sizemode": "area",
                    "sizeref": 11.712750000000002,
                    "symbol": "circle"
                  },
                  "mode": "markers",
                  "name": "United States",
                  "orientation": "v",
                  "showlegend": true,
                  "type": "scatter",
                  "x": [
                    "United States"
                  ],
                  "xaxis": "x",
                  "y": {
                    "bdata": "mpmZmRlNskA=",
                    "dtype": "f8"
                  },
                  "yaxis": "y"
                },
                {
                  "hovertemplate": "country=%{x}<br>networth=%{marker.size}<extra></extra>",
                  "legendgroup": "China",
                  "marker": {
                    "color": "#EF553B",
                    "opacity": 0.85,
                    "size": {
                      "bdata": "zczMzMxJnkA=",
                      "dtype": "f8"
                    },
                    "sizemode": "area",
                    "sizeref": 11.712750000000002,
                    "symbol": "circle"
                  },
                  "mode": "markers",
                  "name": "China",
                  "orientation": "v",
                  "showlegend": true,
                  "type": "scatter",
                  "x": [
                    "China"
                  ],
                  "xaxis": "x",
                  "y": {
                    "bdata": "zczMzMxJnkA=",
                    "dtype": "f8"
                  },
                  "yaxis": "y"
                },
                {
                  "hovertemplate": "country=%{x}<br>networth=%{marker.size}<extra></extra>",
                  "legendgroup": "India",
                  "marker": {
                    "color": "#00cc96",
                    "opacity": 0.85,
                    "size": {
                      "bdata": "ZmZmZmZGh0A=",
                      "dtype": "f8"
                    },
                    "sizemode": "area",
                    "sizeref": 11.712750000000002,
                    "symbol": "circle"
                  },
                  "mode": "markers",
                  "name": "India",
                  "orientation": "v",
                  "showlegend": true,
                  "type": "scatter",
                  "x": [
                    "India"
                  ],
                  "xaxis": "x",
                  "y": {
                    "bdata": "ZmZmZmZGh0A=",
                    "dtype": "f8"
                  },
                  "yaxis": "y"
                },
                {
                  "hovertemplate": "country=%{x}<br>networth=%{marker.size}<extra></extra>",
                  "legendgroup": "Germany",
                  "marker": {
                    "color": "#ab63fa",
                    "opacity": 0.85,
                    "size": {
                      "bdata": "AAAAAADggkA=",
                      "dtype": "f8"
                    },
                    "sizemode": "area",
                    "sizeref": 11.712750000000002,
                    "symbol": "circle"
                  },
                  "mode": "markers",
                  "name": "Germany",
                  "orientation": "v",
                  "showlegend": true,
                  "type": "scatter",
                  "x": [
                    "Germany"
                  ],
                  "xaxis": "x",
                  "y": {
                    "bdata": "AAAAAADggkA=",
                    "dtype": "f8"
                  },
                  "yaxis": "y"
                },
                {
                  "hovertemplate": "country=%{x}<br>networth=%{marker.size}<extra></extra>",
                  "legendgroup": "France",
                  "marker": {
                    "color": "#FFA15A",
                    "opacity": 0.85,
                    "size": {
                      "bdata": "AAAAAAAwgUA=",
                      "dtype": "f8"
                    },
                    "sizemode": "area",
                    "sizeref": 11.712750000000002,
                    "symbol": "circle"
                  },
                  "mode": "markers",
                  "name": "France",
                  "orientation": "v",
                  "showlegend": true,
                  "type": "scatter",
                  "x": [
                    "France"
                  ],
                  "xaxis": "x",
                  "y": {
                    "bdata": "AAAAAAAwgUA=",
                    "dtype": "f8"
                  },
                  "yaxis": "y"
                },
                {
                  "hovertemplate": "country=%{x}<br>networth=%{marker.size}<extra></extra>",
                  "legendgroup": "Hong Kong",
                  "marker": {
                    "color": "#19d3f3",
                    "opacity": 0.85,
                    "size": {
                      "bdata": "ZmZmZmb2d0A=",
                      "dtype": "f8"
                    },
                    "sizemode": "area",
                    "sizeref": 11.712750000000002,
                    "symbol": "circle"
                  },
                  "mode": "markers",
                  "name": "Hong Kong",
                  "orientation": "v",
                  "showlegend": true,
                  "type": "scatter",
                  "x": [
                    "Hong Kong"
                  ],
                  "xaxis": "x",
                  "y": {
                    "bdata": "ZmZmZmb2d0A=",
                    "dtype": "f8"
                  },
                  "yaxis": "y"
                },
                {
                  "hovertemplate": "country=%{x}<br>networth=%{marker.size}<extra></extra>",
                  "legendgroup": "Russia",
                  "marker": {
                    "color": "#FF6692",
                    "opacity": 0.85,
                    "size": {
                      "bdata": "MzMzMzPjc0A=",
                      "dtype": "f8"
                    },
                    "sizemode": "area",
                    "sizeref": 11.712750000000002,
                    "symbol": "circle"
                  },
                  "mode": "markers",
                  "name": "Russia",
                  "orientation": "v",
                  "showlegend": true,
                  "type": "scatter",
                  "x": [
                    "Russia"
                  ],
                  "xaxis": "x",
                  "y": {
                    "bdata": "MzMzMzPjc0A=",
                    "dtype": "f8"
                  },
                  "yaxis": "y"
                },
                {
                  "hovertemplate": "country=%{x}<br>networth=%{marker.size}<extra></extra>",
                  "legendgroup": "Canada",
                  "marker": {
                    "color": "#B6E880",
                    "opacity": 0.85,
                    "size": {
                      "bdata": "ZmZmZmY+c0A=",
                      "dtype": "f8"
                    },
                    "sizemode": "area",
                    "sizeref": 11.712750000000002,
                    "symbol": "circle"
                  },
                  "mode": "markers",
                  "name": "Canada",
                  "orientation": "v",
                  "showlegend": true,
                  "type": "scatter",
                  "x": [
                    "Canada"
                  ],
                  "xaxis": "x",
                  "y": {
                    "bdata": "ZmZmZmY+c0A=",
                    "dtype": "f8"
                  },
                  "yaxis": "y"
                },
                {
                  "hovertemplate": "country=%{x}<br>networth=%{marker.size}<extra></extra>",
                  "legendgroup": "Australia",
                  "marker": {
                    "color": "#FF97FF",
                    "opacity": 0.85,
                    "size": {
                      "bdata": "MzMzMzOjaUA=",
                      "dtype": "f8"
                    },
                    "sizemode": "area",
                    "sizeref": 11.712750000000002,
                    "symbol": "circle"
                  },
                  "mode": "markers",
                  "name": "Australia",
                  "orientation": "v",
                  "showlegend": true,
                  "type": "scatter",
                  "x": [
                    "Australia"
                  ],
                  "xaxis": "x",
                  "y": {
                    "bdata": "MzMzMzOjaUA=",
                    "dtype": "f8"
                  },
                  "yaxis": "y"
                },
                {
                  "hovertemplate": "country=%{x}<br>networth=%{marker.size}<extra></extra>",
                  "legendgroup": "United Kingdom",
                  "marker": {
                    "color": "#FECB52",
                    "opacity": 0.85,
                    "size": {
                      "bdata": "MzMzMzPjaEA=",
                      "dtype": "f8"
                    },
                    "sizemode": "area",
                    "sizeref": 11.712750000000002,
                    "symbol": "circle"
                  },
                  "mode": "markers",
                  "name": "United Kingdom",
                  "orientation": "v",
                  "showlegend": true,
                  "type": "scatter",
                  "x": [
                    "United Kingdom"
                  ],
                  "xaxis": "x",
                  "y": {
                    "bdata": "MzMzMzPjaEA=",
                    "dtype": "f8"
                  },
                  "yaxis": "y"
                }
              ],
              "layout": {
                "legend": {
                  "itemsizing": "constant",
                  "title": {
                    "text": "country"
                  },
                  "tracegroupgap": 0
                },
                "template": {
                  "data": {
                    "bar": [
                      {
                        "error_x": {
                          "color": "#f2f5fa"
                        },
                        "error_y": {
                          "color": "#f2f5fa"
                        },
                        "marker": {
                          "line": {
                            "color": "rgb(17,17,17)",
                            "width": 0.5
                          },
                          "pattern": {
                            "fillmode": "overlay",
                            "size": 10,
                            "solidity": 0.2
                          }
                        },
                        "type": "bar"
                      }
                    ],
                    "barpolar": [
                      {
                        "marker": {
                          "line": {
                            "color": "rgb(17,17,17)",
                            "width": 0.5
                          },
                          "pattern": {
                            "fillmode": "overlay",
                            "size": 10,
                            "solidity": 0.2
                          }
                        },
                        "type": "barpolar"
                      }
                    ],
                    "carpet": [
                      {
                        "aaxis": {
                          "endlinecolor": "#A2B1C6",
                          "gridcolor": "#506784",
                          "linecolor": "#506784",
                          "minorgridcolor": "#506784",
                          "startlinecolor": "#A2B1C6"
                        },
                        "baxis": {
                          "endlinecolor": "#A2B1C6",
                          "gridcolor": "#506784",
                          "linecolor": "#506784",
                          "minorgridcolor": "#506784",
                          "startlinecolor": "#A2B1C6"
                        },
                        "type": "carpet"
                      }
                    ],
                    "choropleth": [
                      {
                        "colorbar": {
                          "outlinewidth": 0,
                          "ticks": ""
                        },
                        "type": "choropleth"
                      }
                    ],
                    "contour": [
                      {
                        "colorbar": {
                          "outlinewidth": 0,
                          "ticks": ""
                        },
                        "colorscale": [
                          [
                            0,
                            "#0d0887"
                          ],
                          [
                            0.1111111111111111,
                            "#46039f"
                          ],
                          [
                            0.2222222222222222,
                            "#7201a8"
                          ],
                          [
                            0.3333333333333333,
                            "#9c179e"
                          ],
                          [
                            0.4444444444444444,
                            "#bd3786"
                          ],
                          [
                            0.5555555555555556,
                            "#d8576b"
                          ],
                          [
                            0.6666666666666666,
                            "#ed7953"
                          ],
                          [
                            0.7777777777777778,
                            "#fb9f3a"
                          ],
                          [
                            0.8888888888888888,
                            "#fdca26"
                          ],
                          [
                            1,
                            "#f0f921"
                          ]
                        ],
                        "type": "contour"
                      }
                    ],
                    "contourcarpet": [
                      {
                        "colorbar": {
                          "outlinewidth": 0,
                          "ticks": ""
                        },
                        "type": "contourcarpet"
                      }
                    ],
                    "heatmap": [
                      {
                        "colorbar": {
                          "outlinewidth": 0,
                          "ticks": ""
                        },
                        "colorscale": [
                          [
                            0,
                            "#0d0887"
                          ],
                          [
                            0.1111111111111111,
                            "#46039f"
                          ],
                          [
                            0.2222222222222222,
                            "#7201a8"
                          ],
                          [
                            0.3333333333333333,
                            "#9c179e"
                          ],
                          [
                            0.4444444444444444,
                            "#bd3786"
                          ],
                          [
                            0.5555555555555556,
                            "#d8576b"
                          ],
                          [
                            0.6666666666666666,
                            "#ed7953"
                          ],
                          [
                            0.7777777777777778,
                            "#fb9f3a"
                          ],
                          [
                            0.8888888888888888,
                            "#fdca26"
                          ],
                          [
                            1,
                            "#f0f921"
                          ]
                        ],
                        "type": "heatmap"
                      }
                    ],
                    "histogram": [
                      {
                        "marker": {
                          "pattern": {
                            "fillmode": "overlay",
                            "size": 10,
                            "solidity": 0.2
                          }
                        },
                        "type": "histogram"
                      }
                    ],
                    "histogram2d": [
                      {
                        "colorbar": {
                          "outlinewidth": 0,
                          "ticks": ""
                        },
                        "colorscale": [
                          [
                            0,
                            "#0d0887"
                          ],
                          [
                            0.1111111111111111,
                            "#46039f"
                          ],
                          [
                            0.2222222222222222,
                            "#7201a8"
                          ],
                          [
                            0.3333333333333333,
                            "#9c179e"
                          ],
                          [
                            0.4444444444444444,
                            "#bd3786"
                          ],
                          [
                            0.5555555555555556,
                            "#d8576b"
                          ],
                          [
                            0.6666666666666666,
                            "#ed7953"
                          ],
                          [
                            0.7777777777777778,
                            "#fb9f3a"
                          ],
                          [
                            0.8888888888888888,
                            "#fdca26"
                          ],
                          [
                            1,
                            "#f0f921"
                          ]
                        ],
                        "type": "histogram2d"
                      }
                    ],
                    "histogram2dcontour": [
                      {
                        "colorbar": {
                          "outlinewidth": 0,
                          "ticks": ""
                        },
                        "colorscale": [
                          [
                            0,
                            "#0d0887"
                          ],
                          [
                            0.1111111111111111,
                            "#46039f"
                          ],
                          [
                            0.2222222222222222,
                            "#7201a8"
                          ],
                          [
                            0.3333333333333333,
                            "#9c179e"
                          ],
                          [
                            0.4444444444444444,
                            "#bd3786"
                          ],
                          [
                            0.5555555555555556,
                            "#d8576b"
                          ],
                          [
                            0.6666666666666666,
                            "#ed7953"
                          ],
                          [
                            0.7777777777777778,
                            "#fb9f3a"
                          ],
                          [
                            0.8888888888888888,
                            "#fdca26"
                          ],
                          [
                            1,
                            "#f0f921"
                          ]
                        ],
                        "type": "histogram2dcontour"
                      }
                    ],
                    "mesh3d": [
                      {
                        "colorbar": {
                          "outlinewidth": 0,
                          "ticks": ""
                        },
                        "type": "mesh3d"
                      }
                    ],
                    "parcoords": [
                      {
                        "line": {
                          "colorbar": {
                            "outlinewidth": 0,
                            "ticks": ""
                          }
                        },
                        "type": "parcoords"
                      }
                    ],
                    "pie": [
                      {
                        "automargin": true,
                        "type": "pie"
                      }
                    ],
                    "scatter": [
                      {
                        "marker": {
                          "line": {
                            "color": "#283442"
                          }
                        },
                        "type": "scatter"
                      }
                    ],
                    "scatter3d": [
                      {
                        "line": {
                          "colorbar": {
                            "outlinewidth": 0,
                            "ticks": ""
                          }
                        },
                        "marker": {
                          "colorbar": {
                            "outlinewidth": 0,
                            "ticks": ""
                          }
                        },
                        "type": "scatter3d"
                      }
                    ],
                    "scattercarpet": [
                      {
                        "marker": {
                          "colorbar": {
                            "outlinewidth": 0,
                            "ticks": ""
                          }
                        },
                        "type": "scattercarpet"
                      }
                    ],
                    "scattergeo": [
                      {
                        "marker": {
                          "colorbar": {
                            "outlinewidth": 0,
                            "ticks": ""
                          }
                        },
                        "type": "scattergeo"
                      }
                    ],
                    "scattergl": [
                      {
                        "marker": {
                          "line": {
                            "color": "#283442"
                          }
                        },
                        "type": "scattergl"
                      }
                    ],
                    "scattermap": [
                      {
                        "marker": {
                          "colorbar": {
                            "outlinewidth": 0,
                            "ticks": ""
                          }
                        },
                        "type": "scattermap"
                      }
                    ],
                    "scattermapbox": [
                      {
                        "marker": {
                          "colorbar": {
                            "outlinewidth": 0,
                            "ticks": ""
                          }
                        },
                        "type": "scattermapbox"
                      }
                    ],
                    "scatterpolar": [
                      {
                        "marker": {
                          "colorbar": {
                            "outlinewidth": 0,
                            "ticks": ""
                          }
                        },
                        "type": "scatterpolar"
                      }
                    ],
                    "scatterpolargl": [
                      {
                        "marker": {
                          "colorbar": {
                            "outlinewidth": 0,
                            "ticks": ""
                          }
                        },
                        "type": "scatterpolargl"
                      }
                    ],
                    "scatterternary": [
                      {
                        "marker": {
                          "colorbar": {
                            "outlinewidth": 0,
                            "ticks": ""
                          }
                        },
                        "type": "scatterternary"
                      }
                    ],
                    "surface": [
                      {
                        "colorbar": {
                          "outlinewidth": 0,
                          "ticks": ""
                        },
                        "colorscale": [
                          [
                            0,
                            "#0d0887"
                          ],
                          [
                            0.1111111111111111,
                            "#46039f"
                          ],
                          [
                            0.2222222222222222,
                            "#7201a8"
                          ],
                          [
                            0.3333333333333333,
                            "#9c179e"
                          ],
                          [
                            0.4444444444444444,
                            "#bd3786"
                          ],
                          [
                            0.5555555555555556,
                            "#d8576b"
                          ],
                          [
                            0.6666666666666666,
                            "#ed7953"
                          ],
                          [
                            0.7777777777777778,
                            "#fb9f3a"
                          ],
                          [
                            0.8888888888888888,
                            "#fdca26"
                          ],
                          [
                            1,
                            "#f0f921"
                          ]
                        ],
                        "type": "surface"
                      }
                    ],
                    "table": [
                      {
                        "cells": {
                          "fill": {
                            "color": "#506784"
                          },
                          "line": {
                            "color": "rgb(17,17,17)"
                          }
                        },
                        "header": {
                          "fill": {
                            "color": "#2a3f5f"
                          },
                          "line": {
                            "color": "rgb(17,17,17)"
                          }
                        },
                        "type": "table"
                      }
                    ]
                  },
                  "layout": {
                    "annotationdefaults": {
                      "arrowcolor": "#f2f5fa",
                      "arrowhead": 0,
                      "arrowwidth": 1
                    },
                    "autotypenumbers": "strict",
                    "coloraxis": {
                      "colorbar": {
                        "outlinewidth": 0,
                        "ticks": ""
                      }
                    },
                    "colorscale": {
                      "diverging": [
                        [
                          0,
                          "#8e0152"
                        ],
                        [
                          0.1,
                          "#c51b7d"
                        ],
                        [
                          0.2,
                          "#de77ae"
                        ],
                        [
                          0.3,
                          "#f1b6da"
                        ],
                        [
                          0.4,
                          "#fde0ef"
                        ],
                        [
                          0.5,
                          "#f7f7f7"
                        ],
                        [
                          0.6,
                          "#e6f5d0"
                        ],
                        [
                          0.7,
                          "#b8e186"
                        ],
                        [
                          0.8,
                          "#7fbc41"
                        ],
                        [
                          0.9,
                          "#4d9221"
                        ],
                        [
                          1,
                          "#276419"
                        ]
                      ],
                      "sequential": [
                        [
                          0,
                          "#0d0887"
                        ],
                        [
                          0.1111111111111111,
                          "#46039f"
                        ],
                        [
                          0.2222222222222222,
                          "#7201a8"
                        ],
                        [
                          0.3333333333333333,
                          "#9c179e"
                        ],
                        [
                          0.4444444444444444,
                          "#bd3786"
                        ],
                        [
                          0.5555555555555556,
                          "#d8576b"
                        ],
                        [
                          0.6666666666666666,
                          "#ed7953"
                        ],
                        [
                          0.7777777777777778,
                          "#fb9f3a"
                        ],
                        [
                          0.8888888888888888,
                          "#fdca26"
                        ],
                        [
                          1,
                          "#f0f921"
                        ]
                      ],
                      "sequentialminus": [
                        [
                          0,
                          "#0d0887"
                        ],
                        [
                          0.1111111111111111,
                          "#46039f"
                        ],
                        [
                          0.2222222222222222,
                          "#7201a8"
                        ],
                        [
                          0.3333333333333333,
                          "#9c179e"
                        ],
                        [
                          0.4444444444444444,
                          "#bd3786"
                        ],
                        [
                          0.5555555555555556,
                          "#d8576b"
                        ],
                        [
                          0.6666666666666666,
                          "#ed7953"
                        ],
                        [
                          0.7777777777777778,
                          "#fb9f3a"
                        ],
                        [
                          0.8888888888888888,
                          "#fdca26"
                        ],
                        [
                          1,
                          "#f0f921"
                        ]
                      ]
                    },
                    "colorway": [
                      "#636efa",
                      "#EF553B",
                      "#00cc96",
                      "#ab63fa",
                      "#FFA15A",
                      "#19d3f3",
                      "#FF6692",
                      "#B6E880",
                      "#FF97FF",
                      "#FECB52"
                    ],
                    "font": {
                      "color": "#f2f5fa"
                    },
                    "geo": {
                      "bgcolor": "rgb(17,17,17)",
                      "lakecolor": "rgb(17,17,17)",
                      "landcolor": "rgb(17,17,17)",
                      "showlakes": true,
                      "showland": true,
                      "subunitcolor": "#506784"
                    },
                    "hoverlabel": {
                      "align": "left"
                    },
                    "hovermode": "closest",
                    "mapbox": {
                      "style": "dark"
                    },
                    "paper_bgcolor": "rgb(17,17,17)",
                    "plot_bgcolor": "rgb(17,17,17)",
                    "polar": {
                      "angularaxis": {
                        "gridcolor": "#506784",
                        "linecolor": "#506784",
                        "ticks": ""
                      },
                      "bgcolor": "rgb(17,17,17)",
                      "radialaxis": {
                        "gridcolor": "#506784",
                        "linecolor": "#506784",
                        "ticks": ""
                      }
                    },
                    "scene": {
                      "xaxis": {
                        "backgroundcolor": "rgb(17,17,17)",
                        "gridcolor": "#506784",
                        "gridwidth": 2,
                        "linecolor": "#506784",
                        "showbackground": true,
                        "ticks": "",
                        "zerolinecolor": "#C8D4E3"
                      },
                      "yaxis": {
                        "backgroundcolor": "rgb(17,17,17)",
                        "gridcolor": "#506784",
                        "gridwidth": 2,
                        "linecolor": "#506784",
                        "showbackground": true,
                        "ticks": "",
                        "zerolinecolor": "#C8D4E3"
                      },
                      "zaxis": {
                        "backgroundcolor": "rgb(17,17,17)",
                        "gridcolor": "#506784",
                        "gridwidth": 2,
                        "linecolor": "#506784",
                        "showbackground": true,
                        "ticks": "",
                        "zerolinecolor": "#C8D4E3"
                      }
                    },
                    "shapedefaults": {
                      "line": {
                        "color": "#f2f5fa"
                      }
                    },
                    "sliderdefaults": {
                      "bgcolor": "#C8D4E3",
                      "bordercolor": "rgb(17,17,17)",
                      "borderwidth": 1,
                      "tickwidth": 0
                    },
                    "ternary": {
                      "aaxis": {
                        "gridcolor": "#506784",
                        "linecolor": "#506784",
                        "ticks": ""
                      },
                      "baxis": {
                        "gridcolor": "#506784",
                        "linecolor": "#506784",
                        "ticks": ""
                      },
                      "bgcolor": "rgb(17,17,17)",
                      "caxis": {
                        "gridcolor": "#506784",
                        "linecolor": "#506784",
                        "ticks": ""
                      }
                    },
                    "title": {
                      "x": 0.05
                    },
                    "updatemenudefaults": {
                      "bgcolor": "#506784",
                      "borderwidth": 0
                    },
                    "xaxis": {
                      "automargin": true,
                      "gridcolor": "#283442",
                      "linecolor": "#506784",
                      "ticks": "",
                      "title": {
                        "standoff": 15
                      },
                      "zerolinecolor": "#283442",
                      "zerolinewidth": 2
                    },
                    "yaxis": {
                      "automargin": true,
                      "gridcolor": "#283442",
                      "linecolor": "#506784",
                      "ticks": "",
                      "title": {
                        "standoff": 15
                      },
                      "zerolinecolor": "#283442",
                      "zerolinewidth": 2
                    }
                  }
                },
                "title": {
                  "text": "<b>Total networth of billionaires in top 10 countries"
                },
                "xaxis": {
                  "anchor": "y",
                  "categoryarray": [
                    "United States",
                    "China",
                    "India",
                    "Germany",
                    "France",
                    "Hong Kong",
                    "Russia",
                    "Canada",
                    "Australia",
                    "United Kingdom"
                  ],
                  "categoryorder": "array",
                  "domain": [
                    0,
                    1
                  ],
                  "title": {
                    "text": "country"
                  }
                },
                "yaxis": {
                  "anchor": "x",
                  "domain": [
                    0,
                    1
                  ],
                  "title": {
                    "text": "networth"
                  }
                }
              }
            }
          },
          "metadata": {},
          "output_type": "display_data"
        }
      ],
      "source": [
        "# total networth of billionaires in top 10 countries\n",
        "country_networth = df.groupby(\n",
        "    'country').sum()[['networth']].sort_values(\n",
        "        'networth', ascending = False).reset_index().head(10)\n",
        "fig=px.scatter(\n",
        "    country_networth,\n",
        "    x ='country',\n",
        "    y = 'networth',\n",
        "    template = 'plotly_dark',\n",
        "    color = 'country',\n",
        "    size = 'networth' ,\n",
        "    opacity = 0.85,\n",
        "    title=\"<b>Total networth of billionaires in top 10 countries\")\n",
        "fig.show()"
      ]
    },
    {
      "cell_type": "markdown",
      "metadata": {
        "id": "iC36gb48JVZ8"
      },
      "source": [
        "Insights\n",
        "\n",
        "- United States has the highest total networth of around 4685.1 B dollars\n",
        "- United Kingdom has the lowest total networth in top 10 countries which is around 199.1 B dollars\n",
        "- China is the second country in top 10 countries with a netowrth of 1938.45 B dollars"
      ]
    },
    {
      "cell_type": "markdown",
      "metadata": {
        "id": "Nq8vM1rjJb-c"
      },
      "source": [
        "What kind of industries does top 5 countries work in?"
      ]
    },
    {
      "cell_type": "markdown",
      "metadata": {
        "id": "EDF9KMeFJc1z"
      },
      "source": [
        "Extracting information from the dataset about top 5 countries and what industries they have billionaires working in"
      ]
    },
    {
      "cell_type": "code",
      "execution_count": 27,
      "metadata": {
        "id": "qqQlpHxE_2Iv"
      },
      "outputs": [],
      "source": [
        "# industries does top 5 countries work in\n",
        "df_us = df[df['country']=='United States']['industry'].value_counts().rename_axis('industry').reset_index(name='United States')\n",
        "df_cn = df[df['country']=='China']['industry'].value_counts().rename_axis('industry').reset_index(name='China')\n",
        "df_in = df[df['country']=='India']['industry'].value_counts().rename_axis('industry').reset_index(name='India')\n",
        "df_ge = df[df['country']=='Germany']['industry'].value_counts().rename_axis('industry').reset_index(name='Germany')\n",
        "df_fr = df[df['country']=='France']['industry'].value_counts().rename_axis('industry').reset_index(name='France')"
      ]
    },
    {
      "cell_type": "code",
      "execution_count": 28,
      "metadata": {
        "id": "8PoZfBnuAUX5"
      },
      "outputs": [],
      "source": [
        "# Merging the extracted dataframes and making a final one to do further analysis\n",
        "df_us_cn = pd.merge(df_us, df_cn, on = 'industry', how = 'left')\n",
        "df_in_ge = pd.merge(df_in, df_ge, on = 'industry', how = 'left')\n",
        "df_1 = pd.merge(df_us_cn, df_in_ge, on = 'industry', how = 'left')\n",
        "df1 = pd.merge(df_1, df_fr, on = 'industry', how = 'left')"
      ]
    },
    {
      "cell_type": "code",
      "execution_count": 29,
      "metadata": {
        "id": "d2z-LpRLAcge"
      },
      "outputs": [],
      "source": [
        "df1 = df1.replace(np.nan,0) # replace nan with 0"
      ]
    },
    {
      "cell_type": "code",
      "execution_count": 30,
      "metadata": {
        "colab": {
          "base_uri": "https://localhost:8080/",
          "height": 637
        },
        "id": "UOYIBSm9AeGF",
        "outputId": "e24ca6d1-eef6-4081-b602-42577087f02b"
      },
      "outputs": [
        {
          "data": {
            "application/vnd.plotly.v1+json": {
              "config": {
                "plotlyServerURL": "https://plot.ly"
              },
              "data": [
                {
                  "hovertemplate": "industry=%{x}<br>United States=%{marker.size}<extra></extra>",
                  "legendgroup": "Finance & Investments ",
                  "marker": {
                    "color": "#636efa",
                    "opacity": 0.85,
                    "size": {
                      "bdata": "wQA=",
                      "dtype": "i2"
                    },
                    "sizemode": "area",
                    "sizeref": 0.4825,
                    "symbol": "circle"
                  },
                  "mode": "markers",
                  "name": "Finance & Investments ",
                  "orientation": "v",
                  "showlegend": true,
                  "type": "scatter",
                  "x": [
                    "Finance & Investments "
                  ],
                  "xaxis": "x",
                  "y": {
                    "bdata": "wQA=",
                    "dtype": "i2"
                  },
                  "yaxis": "y"
                },
                {
                  "hovertemplate": "industry=%{x}<br>United States=%{marker.size}<extra></extra>",
                  "legendgroup": "Technology ",
                  "marker": {
                    "color": "#EF553B",
                    "opacity": 0.85,
                    "size": {
                      "bdata": "iQA=",
                      "dtype": "i2"
                    },
                    "sizemode": "area",
                    "sizeref": 0.4825,
                    "symbol": "circle"
                  },
                  "mode": "markers",
                  "name": "Technology ",
                  "orientation": "v",
                  "showlegend": true,
                  "type": "scatter",
                  "x": [
                    "Technology "
                  ],
                  "xaxis": "x",
                  "y": {
                    "bdata": "iQA=",
                    "dtype": "i2"
                  },
                  "yaxis": "y"
                },
                {
                  "hovertemplate": "industry=%{x}<br>United States=%{marker.size}<extra></extra>",
                  "legendgroup": "Food & Beverage ",
                  "marker": {
                    "color": "#00cc96",
                    "opacity": 0.85,
                    "size": {
                      "bdata": "Pw==",
                      "dtype": "i1"
                    },
                    "sizemode": "area",
                    "sizeref": 0.4825,
                    "symbol": "circle"
                  },
                  "mode": "markers",
                  "name": "Food & Beverage ",
                  "orientation": "v",
                  "showlegend": true,
                  "type": "scatter",
                  "x": [
                    "Food & Beverage "
                  ],
                  "xaxis": "x",
                  "y": {
                    "bdata": "Pw==",
                    "dtype": "i1"
                  },
                  "yaxis": "y"
                },
                {
                  "hovertemplate": "industry=%{x}<br>United States=%{marker.size}<extra></extra>",
                  "legendgroup": "Fashion & Retail ",
                  "marker": {
                    "color": "#ab63fa",
                    "opacity": 0.85,
                    "size": {
                      "bdata": "NQ==",
                      "dtype": "i1"
                    },
                    "sizemode": "area",
                    "sizeref": 0.4825,
                    "symbol": "circle"
                  },
                  "mode": "markers",
                  "name": "Fashion & Retail ",
                  "orientation": "v",
                  "showlegend": true,
                  "type": "scatter",
                  "x": [
                    "Fashion & Retail "
                  ],
                  "xaxis": "x",
                  "y": {
                    "bdata": "NQ==",
                    "dtype": "i1"
                  },
                  "yaxis": "y"
                },
                {
                  "hovertemplate": "industry=%{x}<br>United States=%{marker.size}<extra></extra>",
                  "legendgroup": "Real Estate ",
                  "marker": {
                    "color": "#FFA15A",
                    "opacity": 0.85,
                    "size": {
                      "bdata": "Lg==",
                      "dtype": "i1"
                    },
                    "sizemode": "area",
                    "sizeref": 0.4825,
                    "symbol": "circle"
                  },
                  "mode": "markers",
                  "name": "Real Estate ",
                  "orientation": "v",
                  "showlegend": true,
                  "type": "scatter",
                  "x": [
                    "Real Estate "
                  ],
                  "xaxis": "x",
                  "y": {
                    "bdata": "Lg==",
                    "dtype": "i1"
                  },
                  "yaxis": "y"
                },
                {
                  "hovertemplate": "industry=%{x}<br>United States=%{marker.size}<extra></extra>",
                  "legendgroup": "Media & Entertainment ",
                  "marker": {
                    "color": "#19d3f3",
                    "opacity": 0.85,
                    "size": {
                      "bdata": "KQ==",
                      "dtype": "i1"
                    },
                    "sizemode": "area",
                    "sizeref": 0.4825,
                    "symbol": "circle"
                  },
                  "mode": "markers",
                  "name": "Media & Entertainment ",
                  "orientation": "v",
                  "showlegend": true,
                  "type": "scatter",
                  "x": [
                    "Media & Entertainment "
                  ],
                  "xaxis": "x",
                  "y": {
                    "bdata": "KQ==",
                    "dtype": "i1"
                  },
                  "yaxis": "y"
                },
                {
                  "hovertemplate": "industry=%{x}<br>United States=%{marker.size}<extra></extra>",
                  "legendgroup": "Healthcare ",
                  "marker": {
                    "color": "#FF6692",
                    "opacity": 0.85,
                    "size": {
                      "bdata": "IA==",
                      "dtype": "i1"
                    },
                    "sizemode": "area",
                    "sizeref": 0.4825,
                    "symbol": "circle"
                  },
                  "mode": "markers",
                  "name": "Healthcare ",
                  "orientation": "v",
                  "showlegend": true,
                  "type": "scatter",
                  "x": [
                    "Healthcare "
                  ],
                  "xaxis": "x",
                  "y": {
                    "bdata": "IA==",
                    "dtype": "i1"
                  },
                  "yaxis": "y"
                },
                {
                  "hovertemplate": "industry=%{x}<br>United States=%{marker.size}<extra></extra>",
                  "legendgroup": "Energy ",
                  "marker": {
                    "color": "#B6E880",
                    "opacity": 0.85,
                    "size": {
                      "bdata": "IA==",
                      "dtype": "i1"
                    },
                    "sizemode": "area",
                    "sizeref": 0.4825,
                    "symbol": "circle"
                  },
                  "mode": "markers",
                  "name": "Energy ",
                  "orientation": "v",
                  "showlegend": true,
                  "type": "scatter",
                  "x": [
                    "Energy "
                  ],
                  "xaxis": "x",
                  "y": {
                    "bdata": "IA==",
                    "dtype": "i1"
                  },
                  "yaxis": "y"
                },
                {
                  "hovertemplate": "industry=%{x}<br>United States=%{marker.size}<extra></extra>",
                  "legendgroup": "Manufacturing ",
                  "marker": {
                    "color": "#FF97FF",
                    "opacity": 0.85,
                    "size": {
                      "bdata": "GQ==",
                      "dtype": "i1"
                    },
                    "sizemode": "area",
                    "sizeref": 0.4825,
                    "symbol": "circle"
                  },
                  "mode": "markers",
                  "name": "Manufacturing ",
                  "orientation": "v",
                  "showlegend": true,
                  "type": "scatter",
                  "x": [
                    "Manufacturing "
                  ],
                  "xaxis": "x",
                  "y": {
                    "bdata": "GQ==",
                    "dtype": "i1"
                  },
                  "yaxis": "y"
                },
                {
                  "hovertemplate": "industry=%{x}<br>United States=%{marker.size}<extra></extra>",
                  "legendgroup": "Sports ",
                  "marker": {
                    "color": "#FECB52",
                    "opacity": 0.85,
                    "size": {
                      "bdata": "GA==",
                      "dtype": "i1"
                    },
                    "sizemode": "area",
                    "sizeref": 0.4825,
                    "symbol": "circle"
                  },
                  "mode": "markers",
                  "name": "Sports ",
                  "orientation": "v",
                  "showlegend": true,
                  "type": "scatter",
                  "x": [
                    "Sports "
                  ],
                  "xaxis": "x",
                  "y": {
                    "bdata": "GA==",
                    "dtype": "i1"
                  },
                  "yaxis": "y"
                },
                {
                  "hovertemplate": "industry=%{x}<br>United States=%{marker.size}<extra></extra>",
                  "legendgroup": "Service ",
                  "marker": {
                    "color": "#636efa",
                    "opacity": 0.85,
                    "size": {
                      "bdata": "Eg==",
                      "dtype": "i1"
                    },
                    "sizemode": "area",
                    "sizeref": 0.4825,
                    "symbol": "circle"
                  },
                  "mode": "markers",
                  "name": "Service ",
                  "orientation": "v",
                  "showlegend": true,
                  "type": "scatter",
                  "x": [
                    "Service "
                  ],
                  "xaxis": "x",
                  "y": {
                    "bdata": "Eg==",
                    "dtype": "i1"
                  },
                  "yaxis": "y"
                },
                {
                  "hovertemplate": "industry=%{x}<br>United States=%{marker.size}<extra></extra>",
                  "legendgroup": "Automotive ",
                  "marker": {
                    "color": "#EF553B",
                    "opacity": 0.85,
                    "size": {
                      "bdata": "EA==",
                      "dtype": "i1"
                    },
                    "sizemode": "area",
                    "sizeref": 0.4825,
                    "symbol": "circle"
                  },
                  "mode": "markers",
                  "name": "Automotive ",
                  "orientation": "v",
                  "showlegend": true,
                  "type": "scatter",
                  "x": [
                    "Automotive "
                  ],
                  "xaxis": "x",
                  "y": {
                    "bdata": "EA==",
                    "dtype": "i1"
                  },
                  "yaxis": "y"
                },
                {
                  "hovertemplate": "industry=%{x}<br>United States=%{marker.size}<extra></extra>",
                  "legendgroup": "Diversified ",
                  "marker": {
                    "color": "#00cc96",
                    "opacity": 0.85,
                    "size": {
                      "bdata": "Dw==",
                      "dtype": "i1"
                    },
                    "sizemode": "area",
                    "sizeref": 0.4825,
                    "symbol": "circle"
                  },
                  "mode": "markers",
                  "name": "Diversified ",
                  "orientation": "v",
                  "showlegend": true,
                  "type": "scatter",
                  "x": [
                    "Diversified "
                  ],
                  "xaxis": "x",
                  "y": {
                    "bdata": "Dw==",
                    "dtype": "i1"
                  },
                  "yaxis": "y"
                },
                {
                  "hovertemplate": "industry=%{x}<br>United States=%{marker.size}<extra></extra>",
                  "legendgroup": "Gambling & Casinos ",
                  "marker": {
                    "color": "#ab63fa",
                    "opacity": 0.85,
                    "size": {
                      "bdata": "Bg==",
                      "dtype": "i1"
                    },
                    "sizemode": "area",
                    "sizeref": 0.4825,
                    "symbol": "circle"
                  },
                  "mode": "markers",
                  "name": "Gambling & Casinos ",
                  "orientation": "v",
                  "showlegend": true,
                  "type": "scatter",
                  "x": [
                    "Gambling & Casinos "
                  ],
                  "xaxis": "x",
                  "y": {
                    "bdata": "Bg==",
                    "dtype": "i1"
                  },
                  "yaxis": "y"
                },
                {
                  "hovertemplate": "industry=%{x}<br>United States=%{marker.size}<extra></extra>",
                  "legendgroup": "Logistics ",
                  "marker": {
                    "color": "#FFA15A",
                    "opacity": 0.85,
                    "size": {
                      "bdata": "Bg==",
                      "dtype": "i1"
                    },
                    "sizemode": "area",
                    "sizeref": 0.4825,
                    "symbol": "circle"
                  },
                  "mode": "markers",
                  "name": "Logistics ",
                  "orientation": "v",
                  "showlegend": true,
                  "type": "scatter",
                  "x": [
                    "Logistics "
                  ],
                  "xaxis": "x",
                  "y": {
                    "bdata": "Bg==",
                    "dtype": "i1"
                  },
                  "yaxis": "y"
                },
                {
                  "hovertemplate": "industry=%{x}<br>United States=%{marker.size}<extra></extra>",
                  "legendgroup": "Construction & Engineering ",
                  "marker": {
                    "color": "#19d3f3",
                    "opacity": 0.85,
                    "size": {
                      "bdata": "BQ==",
                      "dtype": "i1"
                    },
                    "sizemode": "area",
                    "sizeref": 0.4825,
                    "symbol": "circle"
                  },
                  "mode": "markers",
                  "name": "Construction & Engineering ",
                  "orientation": "v",
                  "showlegend": true,
                  "type": "scatter",
                  "x": [
                    "Construction & Engineering "
                  ],
                  "xaxis": "x",
                  "y": {
                    "bdata": "BQ==",
                    "dtype": "i1"
                  },
                  "yaxis": "y"
                },
                {
                  "hovertemplate": "industry=%{x}<br>United States=%{marker.size}<extra></extra>",
                  "legendgroup": "Telecom ",
                  "marker": {
                    "color": "#FF6692",
                    "opacity": 0.85,
                    "size": {
                      "bdata": "BQ==",
                      "dtype": "i1"
                    },
                    "sizemode": "area",
                    "sizeref": 0.4825,
                    "symbol": "circle"
                  },
                  "mode": "markers",
                  "name": "Telecom ",
                  "orientation": "v",
                  "showlegend": true,
                  "type": "scatter",
                  "x": [
                    "Telecom "
                  ],
                  "xaxis": "x",
                  "y": {
                    "bdata": "BQ==",
                    "dtype": "i1"
                  },
                  "yaxis": "y"
                },
                {
                  "hovertemplate": "industry=%{x}<br>United States=%{marker.size}<extra></extra>",
                  "legendgroup": "Metals & Mining ",
                  "marker": {
                    "color": "#B6E880",
                    "opacity": 0.85,
                    "size": {
                      "bdata": "Ag==",
                      "dtype": "i1"
                    },
                    "sizemode": "area",
                    "sizeref": 0.4825,
                    "symbol": "circle"
                  },
                  "mode": "markers",
                  "name": "Metals & Mining ",
                  "orientation": "v",
                  "showlegend": true,
                  "type": "scatter",
                  "x": [
                    "Metals & Mining "
                  ],
                  "xaxis": "x",
                  "y": {
                    "bdata": "Ag==",
                    "dtype": "i1"
                  },
                  "yaxis": "y"
                }
              ],
              "layout": {
                "height": 620,
                "legend": {
                  "itemsizing": "constant",
                  "title": {
                    "text": "industry"
                  },
                  "tracegroupgap": 0
                },
                "template": {
                  "data": {
                    "bar": [
                      {
                        "error_x": {
                          "color": "#f2f5fa"
                        },
                        "error_y": {
                          "color": "#f2f5fa"
                        },
                        "marker": {
                          "line": {
                            "color": "rgb(17,17,17)",
                            "width": 0.5
                          },
                          "pattern": {
                            "fillmode": "overlay",
                            "size": 10,
                            "solidity": 0.2
                          }
                        },
                        "type": "bar"
                      }
                    ],
                    "barpolar": [
                      {
                        "marker": {
                          "line": {
                            "color": "rgb(17,17,17)",
                            "width": 0.5
                          },
                          "pattern": {
                            "fillmode": "overlay",
                            "size": 10,
                            "solidity": 0.2
                          }
                        },
                        "type": "barpolar"
                      }
                    ],
                    "carpet": [
                      {
                        "aaxis": {
                          "endlinecolor": "#A2B1C6",
                          "gridcolor": "#506784",
                          "linecolor": "#506784",
                          "minorgridcolor": "#506784",
                          "startlinecolor": "#A2B1C6"
                        },
                        "baxis": {
                          "endlinecolor": "#A2B1C6",
                          "gridcolor": "#506784",
                          "linecolor": "#506784",
                          "minorgridcolor": "#506784",
                          "startlinecolor": "#A2B1C6"
                        },
                        "type": "carpet"
                      }
                    ],
                    "choropleth": [
                      {
                        "colorbar": {
                          "outlinewidth": 0,
                          "ticks": ""
                        },
                        "type": "choropleth"
                      }
                    ],
                    "contour": [
                      {
                        "colorbar": {
                          "outlinewidth": 0,
                          "ticks": ""
                        },
                        "colorscale": [
                          [
                            0,
                            "#0d0887"
                          ],
                          [
                            0.1111111111111111,
                            "#46039f"
                          ],
                          [
                            0.2222222222222222,
                            "#7201a8"
                          ],
                          [
                            0.3333333333333333,
                            "#9c179e"
                          ],
                          [
                            0.4444444444444444,
                            "#bd3786"
                          ],
                          [
                            0.5555555555555556,
                            "#d8576b"
                          ],
                          [
                            0.6666666666666666,
                            "#ed7953"
                          ],
                          [
                            0.7777777777777778,
                            "#fb9f3a"
                          ],
                          [
                            0.8888888888888888,
                            "#fdca26"
                          ],
                          [
                            1,
                            "#f0f921"
                          ]
                        ],
                        "type": "contour"
                      }
                    ],
                    "contourcarpet": [
                      {
                        "colorbar": {
                          "outlinewidth": 0,
                          "ticks": ""
                        },
                        "type": "contourcarpet"
                      }
                    ],
                    "heatmap": [
                      {
                        "colorbar": {
                          "outlinewidth": 0,
                          "ticks": ""
                        },
                        "colorscale": [
                          [
                            0,
                            "#0d0887"
                          ],
                          [
                            0.1111111111111111,
                            "#46039f"
                          ],
                          [
                            0.2222222222222222,
                            "#7201a8"
                          ],
                          [
                            0.3333333333333333,
                            "#9c179e"
                          ],
                          [
                            0.4444444444444444,
                            "#bd3786"
                          ],
                          [
                            0.5555555555555556,
                            "#d8576b"
                          ],
                          [
                            0.6666666666666666,
                            "#ed7953"
                          ],
                          [
                            0.7777777777777778,
                            "#fb9f3a"
                          ],
                          [
                            0.8888888888888888,
                            "#fdca26"
                          ],
                          [
                            1,
                            "#f0f921"
                          ]
                        ],
                        "type": "heatmap"
                      }
                    ],
                    "histogram": [
                      {
                        "marker": {
                          "pattern": {
                            "fillmode": "overlay",
                            "size": 10,
                            "solidity": 0.2
                          }
                        },
                        "type": "histogram"
                      }
                    ],
                    "histogram2d": [
                      {
                        "colorbar": {
                          "outlinewidth": 0,
                          "ticks": ""
                        },
                        "colorscale": [
                          [
                            0,
                            "#0d0887"
                          ],
                          [
                            0.1111111111111111,
                            "#46039f"
                          ],
                          [
                            0.2222222222222222,
                            "#7201a8"
                          ],
                          [
                            0.3333333333333333,
                            "#9c179e"
                          ],
                          [
                            0.4444444444444444,
                            "#bd3786"
                          ],
                          [
                            0.5555555555555556,
                            "#d8576b"
                          ],
                          [
                            0.6666666666666666,
                            "#ed7953"
                          ],
                          [
                            0.7777777777777778,
                            "#fb9f3a"
                          ],
                          [
                            0.8888888888888888,
                            "#fdca26"
                          ],
                          [
                            1,
                            "#f0f921"
                          ]
                        ],
                        "type": "histogram2d"
                      }
                    ],
                    "histogram2dcontour": [
                      {
                        "colorbar": {
                          "outlinewidth": 0,
                          "ticks": ""
                        },
                        "colorscale": [
                          [
                            0,
                            "#0d0887"
                          ],
                          [
                            0.1111111111111111,
                            "#46039f"
                          ],
                          [
                            0.2222222222222222,
                            "#7201a8"
                          ],
                          [
                            0.3333333333333333,
                            "#9c179e"
                          ],
                          [
                            0.4444444444444444,
                            "#bd3786"
                          ],
                          [
                            0.5555555555555556,
                            "#d8576b"
                          ],
                          [
                            0.6666666666666666,
                            "#ed7953"
                          ],
                          [
                            0.7777777777777778,
                            "#fb9f3a"
                          ],
                          [
                            0.8888888888888888,
                            "#fdca26"
                          ],
                          [
                            1,
                            "#f0f921"
                          ]
                        ],
                        "type": "histogram2dcontour"
                      }
                    ],
                    "mesh3d": [
                      {
                        "colorbar": {
                          "outlinewidth": 0,
                          "ticks": ""
                        },
                        "type": "mesh3d"
                      }
                    ],
                    "parcoords": [
                      {
                        "line": {
                          "colorbar": {
                            "outlinewidth": 0,
                            "ticks": ""
                          }
                        },
                        "type": "parcoords"
                      }
                    ],
                    "pie": [
                      {
                        "automargin": true,
                        "type": "pie"
                      }
                    ],
                    "scatter": [
                      {
                        "marker": {
                          "line": {
                            "color": "#283442"
                          }
                        },
                        "type": "scatter"
                      }
                    ],
                    "scatter3d": [
                      {
                        "line": {
                          "colorbar": {
                            "outlinewidth": 0,
                            "ticks": ""
                          }
                        },
                        "marker": {
                          "colorbar": {
                            "outlinewidth": 0,
                            "ticks": ""
                          }
                        },
                        "type": "scatter3d"
                      }
                    ],
                    "scattercarpet": [
                      {
                        "marker": {
                          "colorbar": {
                            "outlinewidth": 0,
                            "ticks": ""
                          }
                        },
                        "type": "scattercarpet"
                      }
                    ],
                    "scattergeo": [
                      {
                        "marker": {
                          "colorbar": {
                            "outlinewidth": 0,
                            "ticks": ""
                          }
                        },
                        "type": "scattergeo"
                      }
                    ],
                    "scattergl": [
                      {
                        "marker": {
                          "line": {
                            "color": "#283442"
                          }
                        },
                        "type": "scattergl"
                      }
                    ],
                    "scattermap": [
                      {
                        "marker": {
                          "colorbar": {
                            "outlinewidth": 0,
                            "ticks": ""
                          }
                        },
                        "type": "scattermap"
                      }
                    ],
                    "scattermapbox": [
                      {
                        "marker": {
                          "colorbar": {
                            "outlinewidth": 0,
                            "ticks": ""
                          }
                        },
                        "type": "scattermapbox"
                      }
                    ],
                    "scatterpolar": [
                      {
                        "marker": {
                          "colorbar": {
                            "outlinewidth": 0,
                            "ticks": ""
                          }
                        },
                        "type": "scatterpolar"
                      }
                    ],
                    "scatterpolargl": [
                      {
                        "marker": {
                          "colorbar": {
                            "outlinewidth": 0,
                            "ticks": ""
                          }
                        },
                        "type": "scatterpolargl"
                      }
                    ],
                    "scatterternary": [
                      {
                        "marker": {
                          "colorbar": {
                            "outlinewidth": 0,
                            "ticks": ""
                          }
                        },
                        "type": "scatterternary"
                      }
                    ],
                    "surface": [
                      {
                        "colorbar": {
                          "outlinewidth": 0,
                          "ticks": ""
                        },
                        "colorscale": [
                          [
                            0,
                            "#0d0887"
                          ],
                          [
                            0.1111111111111111,
                            "#46039f"
                          ],
                          [
                            0.2222222222222222,
                            "#7201a8"
                          ],
                          [
                            0.3333333333333333,
                            "#9c179e"
                          ],
                          [
                            0.4444444444444444,
                            "#bd3786"
                          ],
                          [
                            0.5555555555555556,
                            "#d8576b"
                          ],
                          [
                            0.6666666666666666,
                            "#ed7953"
                          ],
                          [
                            0.7777777777777778,
                            "#fb9f3a"
                          ],
                          [
                            0.8888888888888888,
                            "#fdca26"
                          ],
                          [
                            1,
                            "#f0f921"
                          ]
                        ],
                        "type": "surface"
                      }
                    ],
                    "table": [
                      {
                        "cells": {
                          "fill": {
                            "color": "#506784"
                          },
                          "line": {
                            "color": "rgb(17,17,17)"
                          }
                        },
                        "header": {
                          "fill": {
                            "color": "#2a3f5f"
                          },
                          "line": {
                            "color": "rgb(17,17,17)"
                          }
                        },
                        "type": "table"
                      }
                    ]
                  },
                  "layout": {
                    "annotationdefaults": {
                      "arrowcolor": "#f2f5fa",
                      "arrowhead": 0,
                      "arrowwidth": 1
                    },
                    "autotypenumbers": "strict",
                    "coloraxis": {
                      "colorbar": {
                        "outlinewidth": 0,
                        "ticks": ""
                      }
                    },
                    "colorscale": {
                      "diverging": [
                        [
                          0,
                          "#8e0152"
                        ],
                        [
                          0.1,
                          "#c51b7d"
                        ],
                        [
                          0.2,
                          "#de77ae"
                        ],
                        [
                          0.3,
                          "#f1b6da"
                        ],
                        [
                          0.4,
                          "#fde0ef"
                        ],
                        [
                          0.5,
                          "#f7f7f7"
                        ],
                        [
                          0.6,
                          "#e6f5d0"
                        ],
                        [
                          0.7,
                          "#b8e186"
                        ],
                        [
                          0.8,
                          "#7fbc41"
                        ],
                        [
                          0.9,
                          "#4d9221"
                        ],
                        [
                          1,
                          "#276419"
                        ]
                      ],
                      "sequential": [
                        [
                          0,
                          "#0d0887"
                        ],
                        [
                          0.1111111111111111,
                          "#46039f"
                        ],
                        [
                          0.2222222222222222,
                          "#7201a8"
                        ],
                        [
                          0.3333333333333333,
                          "#9c179e"
                        ],
                        [
                          0.4444444444444444,
                          "#bd3786"
                        ],
                        [
                          0.5555555555555556,
                          "#d8576b"
                        ],
                        [
                          0.6666666666666666,
                          "#ed7953"
                        ],
                        [
                          0.7777777777777778,
                          "#fb9f3a"
                        ],
                        [
                          0.8888888888888888,
                          "#fdca26"
                        ],
                        [
                          1,
                          "#f0f921"
                        ]
                      ],
                      "sequentialminus": [
                        [
                          0,
                          "#0d0887"
                        ],
                        [
                          0.1111111111111111,
                          "#46039f"
                        ],
                        [
                          0.2222222222222222,
                          "#7201a8"
                        ],
                        [
                          0.3333333333333333,
                          "#9c179e"
                        ],
                        [
                          0.4444444444444444,
                          "#bd3786"
                        ],
                        [
                          0.5555555555555556,
                          "#d8576b"
                        ],
                        [
                          0.6666666666666666,
                          "#ed7953"
                        ],
                        [
                          0.7777777777777778,
                          "#fb9f3a"
                        ],
                        [
                          0.8888888888888888,
                          "#fdca26"
                        ],
                        [
                          1,
                          "#f0f921"
                        ]
                      ]
                    },
                    "colorway": [
                      "#636efa",
                      "#EF553B",
                      "#00cc96",
                      "#ab63fa",
                      "#FFA15A",
                      "#19d3f3",
                      "#FF6692",
                      "#B6E880",
                      "#FF97FF",
                      "#FECB52"
                    ],
                    "font": {
                      "color": "#f2f5fa"
                    },
                    "geo": {
                      "bgcolor": "rgb(17,17,17)",
                      "lakecolor": "rgb(17,17,17)",
                      "landcolor": "rgb(17,17,17)",
                      "showlakes": true,
                      "showland": true,
                      "subunitcolor": "#506784"
                    },
                    "hoverlabel": {
                      "align": "left"
                    },
                    "hovermode": "closest",
                    "mapbox": {
                      "style": "dark"
                    },
                    "paper_bgcolor": "rgb(17,17,17)",
                    "plot_bgcolor": "rgb(17,17,17)",
                    "polar": {
                      "angularaxis": {
                        "gridcolor": "#506784",
                        "linecolor": "#506784",
                        "ticks": ""
                      },
                      "bgcolor": "rgb(17,17,17)",
                      "radialaxis": {
                        "gridcolor": "#506784",
                        "linecolor": "#506784",
                        "ticks": ""
                      }
                    },
                    "scene": {
                      "xaxis": {
                        "backgroundcolor": "rgb(17,17,17)",
                        "gridcolor": "#506784",
                        "gridwidth": 2,
                        "linecolor": "#506784",
                        "showbackground": true,
                        "ticks": "",
                        "zerolinecolor": "#C8D4E3"
                      },
                      "yaxis": {
                        "backgroundcolor": "rgb(17,17,17)",
                        "gridcolor": "#506784",
                        "gridwidth": 2,
                        "linecolor": "#506784",
                        "showbackground": true,
                        "ticks": "",
                        "zerolinecolor": "#C8D4E3"
                      },
                      "zaxis": {
                        "backgroundcolor": "rgb(17,17,17)",
                        "gridcolor": "#506784",
                        "gridwidth": 2,
                        "linecolor": "#506784",
                        "showbackground": true,
                        "ticks": "",
                        "zerolinecolor": "#C8D4E3"
                      }
                    },
                    "shapedefaults": {
                      "line": {
                        "color": "#f2f5fa"
                      }
                    },
                    "sliderdefaults": {
                      "bgcolor": "#C8D4E3",
                      "bordercolor": "rgb(17,17,17)",
                      "borderwidth": 1,
                      "tickwidth": 0
                    },
                    "ternary": {
                      "aaxis": {
                        "gridcolor": "#506784",
                        "linecolor": "#506784",
                        "ticks": ""
                      },
                      "baxis": {
                        "gridcolor": "#506784",
                        "linecolor": "#506784",
                        "ticks": ""
                      },
                      "bgcolor": "rgb(17,17,17)",
                      "caxis": {
                        "gridcolor": "#506784",
                        "linecolor": "#506784",
                        "ticks": ""
                      }
                    },
                    "title": {
                      "x": 0.05
                    },
                    "updatemenudefaults": {
                      "bgcolor": "#506784",
                      "borderwidth": 0
                    },
                    "xaxis": {
                      "automargin": true,
                      "gridcolor": "#283442",
                      "linecolor": "#506784",
                      "ticks": "",
                      "title": {
                        "standoff": 15
                      },
                      "zerolinecolor": "#283442",
                      "zerolinewidth": 2
                    },
                    "yaxis": {
                      "automargin": true,
                      "gridcolor": "#283442",
                      "linecolor": "#506784",
                      "ticks": "",
                      "title": {
                        "standoff": 15
                      },
                      "zerolinecolor": "#283442",
                      "zerolinewidth": 2
                    }
                  }
                },
                "title": {
                  "text": "<b>United States networth in all industries"
                },
                "xaxis": {
                  "anchor": "y",
                  "categoryarray": [
                    "Finance & Investments ",
                    "Technology ",
                    "Food & Beverage ",
                    "Fashion & Retail ",
                    "Real Estate ",
                    "Media & Entertainment ",
                    "Healthcare ",
                    "Energy ",
                    "Manufacturing ",
                    "Sports ",
                    "Service ",
                    "Automotive ",
                    "Diversified ",
                    "Gambling & Casinos ",
                    "Logistics ",
                    "Construction & Engineering ",
                    "Telecom ",
                    "Metals & Mining "
                  ],
                  "categoryorder": "array",
                  "domain": [
                    0,
                    1
                  ],
                  "title": {
                    "text": "industry"
                  }
                },
                "yaxis": {
                  "anchor": "x",
                  "domain": [
                    0,
                    1
                  ],
                  "title": {
                    "text": "United States"
                  }
                }
              }
            }
          },
          "metadata": {},
          "output_type": "display_data"
        }
      ],
      "source": [
        "# United States networth in all industries\n",
        "fig = px.scatter(\n",
        "    df1,\n",
        "    x = 'industry',\n",
        "    y = 'United States',\n",
        "    template = 'plotly_dark',\n",
        "    color = 'industry',\n",
        "    size = 'United States',\n",
        "    opacity = 0.85,\n",
        "    title = \"<b>United States networth in all industries\",\n",
        "    height = 620)\n",
        "fig.show()"
      ]
    },
    {
      "cell_type": "markdown",
      "metadata": {
        "id": "ZeGf2Uc2Jkic"
      },
      "source": [
        "Insights\n",
        "\n",
        "- United States has it's major networth coming from the industry of Finance and - Investment which is 193 B dollars.\n",
        "- The second biggest industry of United States is Technology with a networth of 137 B dollars.\n",
        "- Additionaly, Unites States has it's least networth of 2 B dollars coming from the industry of Metals and Mining ."
      ]
    },
    {
      "cell_type": "code",
      "execution_count": 31,
      "metadata": {
        "colab": {
          "base_uri": "https://localhost:8080/",
          "height": 637
        },
        "id": "b0CV2OwYAm3C",
        "outputId": "4411c244-96af-4ffe-d02a-03209bcdc847"
      },
      "outputs": [
        {
          "data": {
            "application/vnd.plotly.v1+json": {
              "config": {
                "plotlyServerURL": "https://plot.ly"
              },
              "data": [
                {
                  "hovertemplate": "industry=%{x}<br>China=%{marker.size}<extra></extra>",
                  "legendgroup": "Finance & Investments ",
                  "marker": {
                    "color": "#636efa",
                    "opacity": 0.85,
                    "size": {
                      "bdata": "AAAAAAAAJEA=",
                      "dtype": "f8"
                    },
                    "sizemode": "area",
                    "sizeref": 0.355,
                    "symbol": "circle"
                  },
                  "mode": "markers",
                  "name": "Finance & Investments ",
                  "orientation": "v",
                  "showlegend": true,
                  "type": "scatter",
                  "x": [
                    "Finance & Investments "
                  ],
                  "xaxis": "x",
                  "y": {
                    "bdata": "AAAAAAAAJEA=",
                    "dtype": "f8"
                  },
                  "yaxis": "y"
                },
                {
                  "hovertemplate": "industry=%{x}<br>China=%{marker.size}<extra></extra>",
                  "legendgroup": "Technology ",
                  "marker": {
                    "color": "#EF553B",
                    "opacity": 0.85,
                    "size": {
                      "bdata": "AAAAAABAVEA=",
                      "dtype": "f8"
                    },
                    "sizemode": "area",
                    "sizeref": 0.355,
                    "symbol": "circle"
                  },
                  "mode": "markers",
                  "name": "Technology ",
                  "orientation": "v",
                  "showlegend": true,
                  "type": "scatter",
                  "x": [
                    "Technology "
                  ],
                  "xaxis": "x",
                  "y": {
                    "bdata": "AAAAAABAVEA=",
                    "dtype": "f8"
                  },
                  "yaxis": "y"
                },
                {
                  "hovertemplate": "industry=%{x}<br>China=%{marker.size}<extra></extra>",
                  "legendgroup": "Food & Beverage ",
                  "marker": {
                    "color": "#00cc96",
                    "opacity": 0.85,
                    "size": {
                      "bdata": "AAAAAACARkA=",
                      "dtype": "f8"
                    },
                    "sizemode": "area",
                    "sizeref": 0.355,
                    "symbol": "circle"
                  },
                  "mode": "markers",
                  "name": "Food & Beverage ",
                  "orientation": "v",
                  "showlegend": true,
                  "type": "scatter",
                  "x": [
                    "Food & Beverage "
                  ],
                  "xaxis": "x",
                  "y": {
                    "bdata": "AAAAAACARkA=",
                    "dtype": "f8"
                  },
                  "yaxis": "y"
                },
                {
                  "hovertemplate": "industry=%{x}<br>China=%{marker.size}<extra></extra>",
                  "legendgroup": "Fashion & Retail ",
                  "marker": {
                    "color": "#ab63fa",
                    "opacity": 0.85,
                    "size": {
                      "bdata": "AAAAAAAAPUA=",
                      "dtype": "f8"
                    },
                    "sizemode": "area",
                    "sizeref": 0.355,
                    "symbol": "circle"
                  },
                  "mode": "markers",
                  "name": "Fashion & Retail ",
                  "orientation": "v",
                  "showlegend": true,
                  "type": "scatter",
                  "x": [
                    "Fashion & Retail "
                  ],
                  "xaxis": "x",
                  "y": {
                    "bdata": "AAAAAAAAPUA=",
                    "dtype": "f8"
                  },
                  "yaxis": "y"
                },
                {
                  "hovertemplate": "industry=%{x}<br>China=%{marker.size}<extra></extra>",
                  "legendgroup": "Real Estate ",
                  "marker": {
                    "color": "#FFA15A",
                    "opacity": 0.85,
                    "size": {
                      "bdata": "AAAAAAAAQEA=",
                      "dtype": "f8"
                    },
                    "sizemode": "area",
                    "sizeref": 0.355,
                    "symbol": "circle"
                  },
                  "mode": "markers",
                  "name": "Real Estate ",
                  "orientation": "v",
                  "showlegend": true,
                  "type": "scatter",
                  "x": [
                    "Real Estate "
                  ],
                  "xaxis": "x",
                  "y": {
                    "bdata": "AAAAAAAAQEA=",
                    "dtype": "f8"
                  },
                  "yaxis": "y"
                },
                {
                  "hovertemplate": "industry=%{x}<br>China=%{marker.size}<extra></extra>",
                  "legendgroup": "Media & Entertainment ",
                  "marker": {
                    "color": "#19d3f3",
                    "opacity": 0.85,
                    "size": {
                      "bdata": "AAAAAAAAJkA=",
                      "dtype": "f8"
                    },
                    "sizemode": "area",
                    "sizeref": 0.355,
                    "symbol": "circle"
                  },
                  "mode": "markers",
                  "name": "Media & Entertainment ",
                  "orientation": "v",
                  "showlegend": true,
                  "type": "scatter",
                  "x": [
                    "Media & Entertainment "
                  ],
                  "xaxis": "x",
                  "y": {
                    "bdata": "AAAAAAAAJkA=",
                    "dtype": "f8"
                  },
                  "yaxis": "y"
                },
                {
                  "hovertemplate": "industry=%{x}<br>China=%{marker.size}<extra></extra>",
                  "legendgroup": "Healthcare ",
                  "marker": {
                    "color": "#FF6692",
                    "opacity": 0.85,
                    "size": {
                      "bdata": "AAAAAABAUUA=",
                      "dtype": "f8"
                    },
                    "sizemode": "area",
                    "sizeref": 0.355,
                    "symbol": "circle"
                  },
                  "mode": "markers",
                  "name": "Healthcare ",
                  "orientation": "v",
                  "showlegend": true,
                  "type": "scatter",
                  "x": [
                    "Healthcare "
                  ],
                  "xaxis": "x",
                  "y": {
                    "bdata": "AAAAAABAUUA=",
                    "dtype": "f8"
                  },
                  "yaxis": "y"
                },
                {
                  "hovertemplate": "industry=%{x}<br>China=%{marker.size}<extra></extra>",
                  "legendgroup": "Energy ",
                  "marker": {
                    "color": "#B6E880",
                    "opacity": 0.85,
                    "size": {
                      "bdata": "AAAAAAAANEA=",
                      "dtype": "f8"
                    },
                    "sizemode": "area",
                    "sizeref": 0.355,
                    "symbol": "circle"
                  },
                  "mode": "markers",
                  "name": "Energy ",
                  "orientation": "v",
                  "showlegend": true,
                  "type": "scatter",
                  "x": [
                    "Energy "
                  ],
                  "xaxis": "x",
                  "y": {
                    "bdata": "AAAAAAAANEA=",
                    "dtype": "f8"
                  },
                  "yaxis": "y"
                },
                {
                  "hovertemplate": "industry=%{x}<br>China=%{marker.size}<extra></extra>",
                  "legendgroup": "Manufacturing ",
                  "marker": {
                    "color": "#FF97FF",
                    "opacity": 0.85,
                    "size": {
                      "bdata": "AAAAAADAYUA=",
                      "dtype": "f8"
                    },
                    "sizemode": "area",
                    "sizeref": 0.355,
                    "symbol": "circle"
                  },
                  "mode": "markers",
                  "name": "Manufacturing ",
                  "orientation": "v",
                  "showlegend": true,
                  "type": "scatter",
                  "x": [
                    "Manufacturing "
                  ],
                  "xaxis": "x",
                  "y": {
                    "bdata": "AAAAAADAYUA=",
                    "dtype": "f8"
                  },
                  "yaxis": "y"
                },
                {
                  "hovertemplate": "industry=%{x}<br>China=%{marker.size}<extra></extra>",
                  "legendgroup": "Sports ",
                  "marker": {
                    "color": "#FECB52",
                    "opacity": 0.85,
                    "size": {
                      "bdata": "AAAAAAAAAAA=",
                      "dtype": "f8"
                    },
                    "sizemode": "area",
                    "sizeref": 0.355,
                    "symbol": "circle"
                  },
                  "mode": "markers",
                  "name": "Sports ",
                  "orientation": "v",
                  "showlegend": true,
                  "type": "scatter",
                  "x": [
                    "Sports "
                  ],
                  "xaxis": "x",
                  "y": {
                    "bdata": "AAAAAAAAAAA=",
                    "dtype": "f8"
                  },
                  "yaxis": "y"
                },
                {
                  "hovertemplate": "industry=%{x}<br>China=%{marker.size}<extra></extra>",
                  "legendgroup": "Service ",
                  "marker": {
                    "color": "#636efa",
                    "opacity": 0.85,
                    "size": {
                      "bdata": "AAAAAAAAIkA=",
                      "dtype": "f8"
                    },
                    "sizemode": "area",
                    "sizeref": 0.355,
                    "symbol": "circle"
                  },
                  "mode": "markers",
                  "name": "Service ",
                  "orientation": "v",
                  "showlegend": true,
                  "type": "scatter",
                  "x": [
                    "Service "
                  ],
                  "xaxis": "x",
                  "y": {
                    "bdata": "AAAAAAAAIkA=",
                    "dtype": "f8"
                  },
                  "yaxis": "y"
                },
                {
                  "hovertemplate": "industry=%{x}<br>China=%{marker.size}<extra></extra>",
                  "legendgroup": "Automotive ",
                  "marker": {
                    "color": "#EF553B",
                    "opacity": 0.85,
                    "size": {
                      "bdata": "AAAAAAAAMUA=",
                      "dtype": "f8"
                    },
                    "sizemode": "area",
                    "sizeref": 0.355,
                    "symbol": "circle"
                  },
                  "mode": "markers",
                  "name": "Automotive ",
                  "orientation": "v",
                  "showlegend": true,
                  "type": "scatter",
                  "x": [
                    "Automotive "
                  ],
                  "xaxis": "x",
                  "y": {
                    "bdata": "AAAAAAAAMUA=",
                    "dtype": "f8"
                  },
                  "yaxis": "y"
                },
                {
                  "hovertemplate": "industry=%{x}<br>China=%{marker.size}<extra></extra>",
                  "legendgroup": "Diversified ",
                  "marker": {
                    "color": "#00cc96",
                    "opacity": 0.85,
                    "size": {
                      "bdata": "AAAAAAAANEA=",
                      "dtype": "f8"
                    },
                    "sizemode": "area",
                    "sizeref": 0.355,
                    "symbol": "circle"
                  },
                  "mode": "markers",
                  "name": "Diversified ",
                  "orientation": "v",
                  "showlegend": true,
                  "type": "scatter",
                  "x": [
                    "Diversified "
                  ],
                  "xaxis": "x",
                  "y": {
                    "bdata": "AAAAAAAANEA=",
                    "dtype": "f8"
                  },
                  "yaxis": "y"
                },
                {
                  "hovertemplate": "industry=%{x}<br>China=%{marker.size}<extra></extra>",
                  "legendgroup": "Gambling & Casinos ",
                  "marker": {
                    "color": "#ab63fa",
                    "opacity": 0.85,
                    "size": {
                      "bdata": "AAAAAAAAAAA=",
                      "dtype": "f8"
                    },
                    "sizemode": "area",
                    "sizeref": 0.355,
                    "symbol": "circle"
                  },
                  "mode": "markers",
                  "name": "Gambling & Casinos ",
                  "orientation": "v",
                  "showlegend": true,
                  "type": "scatter",
                  "x": [
                    "Gambling & Casinos "
                  ],
                  "xaxis": "x",
                  "y": {
                    "bdata": "AAAAAAAAAAA=",
                    "dtype": "f8"
                  },
                  "yaxis": "y"
                },
                {
                  "hovertemplate": "industry=%{x}<br>China=%{marker.size}<extra></extra>",
                  "legendgroup": "Logistics ",
                  "marker": {
                    "color": "#FFA15A",
                    "opacity": 0.85,
                    "size": {
                      "bdata": "AAAAAAAAIEA=",
                      "dtype": "f8"
                    },
                    "sizemode": "area",
                    "sizeref": 0.355,
                    "symbol": "circle"
                  },
                  "mode": "markers",
                  "name": "Logistics ",
                  "orientation": "v",
                  "showlegend": true,
                  "type": "scatter",
                  "x": [
                    "Logistics "
                  ],
                  "xaxis": "x",
                  "y": {
                    "bdata": "AAAAAAAAIEA=",
                    "dtype": "f8"
                  },
                  "yaxis": "y"
                },
                {
                  "hovertemplate": "industry=%{x}<br>China=%{marker.size}<extra></extra>",
                  "legendgroup": "Construction & Engineering ",
                  "marker": {
                    "color": "#19d3f3",
                    "opacity": 0.85,
                    "size": {
                      "bdata": "AAAAAAAAEEA=",
                      "dtype": "f8"
                    },
                    "sizemode": "area",
                    "sizeref": 0.355,
                    "symbol": "circle"
                  },
                  "mode": "markers",
                  "name": "Construction & Engineering ",
                  "orientation": "v",
                  "showlegend": true,
                  "type": "scatter",
                  "x": [
                    "Construction & Engineering "
                  ],
                  "xaxis": "x",
                  "y": {
                    "bdata": "AAAAAAAAEEA=",
                    "dtype": "f8"
                  },
                  "yaxis": "y"
                },
                {
                  "hovertemplate": "industry=%{x}<br>China=%{marker.size}<extra></extra>",
                  "legendgroup": "Telecom ",
                  "marker": {
                    "color": "#FF6692",
                    "opacity": 0.85,
                    "size": {
                      "bdata": "AAAAAAAAFEA=",
                      "dtype": "f8"
                    },
                    "sizemode": "area",
                    "sizeref": 0.355,
                    "symbol": "circle"
                  },
                  "mode": "markers",
                  "name": "Telecom ",
                  "orientation": "v",
                  "showlegend": true,
                  "type": "scatter",
                  "x": [
                    "Telecom "
                  ],
                  "xaxis": "x",
                  "y": {
                    "bdata": "AAAAAAAAFEA=",
                    "dtype": "f8"
                  },
                  "yaxis": "y"
                },
                {
                  "hovertemplate": "industry=%{x}<br>China=%{marker.size}<extra></extra>",
                  "legendgroup": "Metals & Mining ",
                  "marker": {
                    "color": "#B6E880",
                    "opacity": 0.85,
                    "size": {
                      "bdata": "AAAAAAAAKkA=",
                      "dtype": "f8"
                    },
                    "sizemode": "area",
                    "sizeref": 0.355,
                    "symbol": "circle"
                  },
                  "mode": "markers",
                  "name": "Metals & Mining ",
                  "orientation": "v",
                  "showlegend": true,
                  "type": "scatter",
                  "x": [
                    "Metals & Mining "
                  ],
                  "xaxis": "x",
                  "y": {
                    "bdata": "AAAAAAAAKkA=",
                    "dtype": "f8"
                  },
                  "yaxis": "y"
                }
              ],
              "layout": {
                "height": 620,
                "legend": {
                  "itemsizing": "constant",
                  "title": {
                    "text": "industry"
                  },
                  "tracegroupgap": 0
                },
                "template": {
                  "data": {
                    "bar": [
                      {
                        "error_x": {
                          "color": "#f2f5fa"
                        },
                        "error_y": {
                          "color": "#f2f5fa"
                        },
                        "marker": {
                          "line": {
                            "color": "rgb(17,17,17)",
                            "width": 0.5
                          },
                          "pattern": {
                            "fillmode": "overlay",
                            "size": 10,
                            "solidity": 0.2
                          }
                        },
                        "type": "bar"
                      }
                    ],
                    "barpolar": [
                      {
                        "marker": {
                          "line": {
                            "color": "rgb(17,17,17)",
                            "width": 0.5
                          },
                          "pattern": {
                            "fillmode": "overlay",
                            "size": 10,
                            "solidity": 0.2
                          }
                        },
                        "type": "barpolar"
                      }
                    ],
                    "carpet": [
                      {
                        "aaxis": {
                          "endlinecolor": "#A2B1C6",
                          "gridcolor": "#506784",
                          "linecolor": "#506784",
                          "minorgridcolor": "#506784",
                          "startlinecolor": "#A2B1C6"
                        },
                        "baxis": {
                          "endlinecolor": "#A2B1C6",
                          "gridcolor": "#506784",
                          "linecolor": "#506784",
                          "minorgridcolor": "#506784",
                          "startlinecolor": "#A2B1C6"
                        },
                        "type": "carpet"
                      }
                    ],
                    "choropleth": [
                      {
                        "colorbar": {
                          "outlinewidth": 0,
                          "ticks": ""
                        },
                        "type": "choropleth"
                      }
                    ],
                    "contour": [
                      {
                        "colorbar": {
                          "outlinewidth": 0,
                          "ticks": ""
                        },
                        "colorscale": [
                          [
                            0,
                            "#0d0887"
                          ],
                          [
                            0.1111111111111111,
                            "#46039f"
                          ],
                          [
                            0.2222222222222222,
                            "#7201a8"
                          ],
                          [
                            0.3333333333333333,
                            "#9c179e"
                          ],
                          [
                            0.4444444444444444,
                            "#bd3786"
                          ],
                          [
                            0.5555555555555556,
                            "#d8576b"
                          ],
                          [
                            0.6666666666666666,
                            "#ed7953"
                          ],
                          [
                            0.7777777777777778,
                            "#fb9f3a"
                          ],
                          [
                            0.8888888888888888,
                            "#fdca26"
                          ],
                          [
                            1,
                            "#f0f921"
                          ]
                        ],
                        "type": "contour"
                      }
                    ],
                    "contourcarpet": [
                      {
                        "colorbar": {
                          "outlinewidth": 0,
                          "ticks": ""
                        },
                        "type": "contourcarpet"
                      }
                    ],
                    "heatmap": [
                      {
                        "colorbar": {
                          "outlinewidth": 0,
                          "ticks": ""
                        },
                        "colorscale": [
                          [
                            0,
                            "#0d0887"
                          ],
                          [
                            0.1111111111111111,
                            "#46039f"
                          ],
                          [
                            0.2222222222222222,
                            "#7201a8"
                          ],
                          [
                            0.3333333333333333,
                            "#9c179e"
                          ],
                          [
                            0.4444444444444444,
                            "#bd3786"
                          ],
                          [
                            0.5555555555555556,
                            "#d8576b"
                          ],
                          [
                            0.6666666666666666,
                            "#ed7953"
                          ],
                          [
                            0.7777777777777778,
                            "#fb9f3a"
                          ],
                          [
                            0.8888888888888888,
                            "#fdca26"
                          ],
                          [
                            1,
                            "#f0f921"
                          ]
                        ],
                        "type": "heatmap"
                      }
                    ],
                    "histogram": [
                      {
                        "marker": {
                          "pattern": {
                            "fillmode": "overlay",
                            "size": 10,
                            "solidity": 0.2
                          }
                        },
                        "type": "histogram"
                      }
                    ],
                    "histogram2d": [
                      {
                        "colorbar": {
                          "outlinewidth": 0,
                          "ticks": ""
                        },
                        "colorscale": [
                          [
                            0,
                            "#0d0887"
                          ],
                          [
                            0.1111111111111111,
                            "#46039f"
                          ],
                          [
                            0.2222222222222222,
                            "#7201a8"
                          ],
                          [
                            0.3333333333333333,
                            "#9c179e"
                          ],
                          [
                            0.4444444444444444,
                            "#bd3786"
                          ],
                          [
                            0.5555555555555556,
                            "#d8576b"
                          ],
                          [
                            0.6666666666666666,
                            "#ed7953"
                          ],
                          [
                            0.7777777777777778,
                            "#fb9f3a"
                          ],
                          [
                            0.8888888888888888,
                            "#fdca26"
                          ],
                          [
                            1,
                            "#f0f921"
                          ]
                        ],
                        "type": "histogram2d"
                      }
                    ],
                    "histogram2dcontour": [
                      {
                        "colorbar": {
                          "outlinewidth": 0,
                          "ticks": ""
                        },
                        "colorscale": [
                          [
                            0,
                            "#0d0887"
                          ],
                          [
                            0.1111111111111111,
                            "#46039f"
                          ],
                          [
                            0.2222222222222222,
                            "#7201a8"
                          ],
                          [
                            0.3333333333333333,
                            "#9c179e"
                          ],
                          [
                            0.4444444444444444,
                            "#bd3786"
                          ],
                          [
                            0.5555555555555556,
                            "#d8576b"
                          ],
                          [
                            0.6666666666666666,
                            "#ed7953"
                          ],
                          [
                            0.7777777777777778,
                            "#fb9f3a"
                          ],
                          [
                            0.8888888888888888,
                            "#fdca26"
                          ],
                          [
                            1,
                            "#f0f921"
                          ]
                        ],
                        "type": "histogram2dcontour"
                      }
                    ],
                    "mesh3d": [
                      {
                        "colorbar": {
                          "outlinewidth": 0,
                          "ticks": ""
                        },
                        "type": "mesh3d"
                      }
                    ],
                    "parcoords": [
                      {
                        "line": {
                          "colorbar": {
                            "outlinewidth": 0,
                            "ticks": ""
                          }
                        },
                        "type": "parcoords"
                      }
                    ],
                    "pie": [
                      {
                        "automargin": true,
                        "type": "pie"
                      }
                    ],
                    "scatter": [
                      {
                        "marker": {
                          "line": {
                            "color": "#283442"
                          }
                        },
                        "type": "scatter"
                      }
                    ],
                    "scatter3d": [
                      {
                        "line": {
                          "colorbar": {
                            "outlinewidth": 0,
                            "ticks": ""
                          }
                        },
                        "marker": {
                          "colorbar": {
                            "outlinewidth": 0,
                            "ticks": ""
                          }
                        },
                        "type": "scatter3d"
                      }
                    ],
                    "scattercarpet": [
                      {
                        "marker": {
                          "colorbar": {
                            "outlinewidth": 0,
                            "ticks": ""
                          }
                        },
                        "type": "scattercarpet"
                      }
                    ],
                    "scattergeo": [
                      {
                        "marker": {
                          "colorbar": {
                            "outlinewidth": 0,
                            "ticks": ""
                          }
                        },
                        "type": "scattergeo"
                      }
                    ],
                    "scattergl": [
                      {
                        "marker": {
                          "line": {
                            "color": "#283442"
                          }
                        },
                        "type": "scattergl"
                      }
                    ],
                    "scattermap": [
                      {
                        "marker": {
                          "colorbar": {
                            "outlinewidth": 0,
                            "ticks": ""
                          }
                        },
                        "type": "scattermap"
                      }
                    ],
                    "scattermapbox": [
                      {
                        "marker": {
                          "colorbar": {
                            "outlinewidth": 0,
                            "ticks": ""
                          }
                        },
                        "type": "scattermapbox"
                      }
                    ],
                    "scatterpolar": [
                      {
                        "marker": {
                          "colorbar": {
                            "outlinewidth": 0,
                            "ticks": ""
                          }
                        },
                        "type": "scatterpolar"
                      }
                    ],
                    "scatterpolargl": [
                      {
                        "marker": {
                          "colorbar": {
                            "outlinewidth": 0,
                            "ticks": ""
                          }
                        },
                        "type": "scatterpolargl"
                      }
                    ],
                    "scatterternary": [
                      {
                        "marker": {
                          "colorbar": {
                            "outlinewidth": 0,
                            "ticks": ""
                          }
                        },
                        "type": "scatterternary"
                      }
                    ],
                    "surface": [
                      {
                        "colorbar": {
                          "outlinewidth": 0,
                          "ticks": ""
                        },
                        "colorscale": [
                          [
                            0,
                            "#0d0887"
                          ],
                          [
                            0.1111111111111111,
                            "#46039f"
                          ],
                          [
                            0.2222222222222222,
                            "#7201a8"
                          ],
                          [
                            0.3333333333333333,
                            "#9c179e"
                          ],
                          [
                            0.4444444444444444,
                            "#bd3786"
                          ],
                          [
                            0.5555555555555556,
                            "#d8576b"
                          ],
                          [
                            0.6666666666666666,
                            "#ed7953"
                          ],
                          [
                            0.7777777777777778,
                            "#fb9f3a"
                          ],
                          [
                            0.8888888888888888,
                            "#fdca26"
                          ],
                          [
                            1,
                            "#f0f921"
                          ]
                        ],
                        "type": "surface"
                      }
                    ],
                    "table": [
                      {
                        "cells": {
                          "fill": {
                            "color": "#506784"
                          },
                          "line": {
                            "color": "rgb(17,17,17)"
                          }
                        },
                        "header": {
                          "fill": {
                            "color": "#2a3f5f"
                          },
                          "line": {
                            "color": "rgb(17,17,17)"
                          }
                        },
                        "type": "table"
                      }
                    ]
                  },
                  "layout": {
                    "annotationdefaults": {
                      "arrowcolor": "#f2f5fa",
                      "arrowhead": 0,
                      "arrowwidth": 1
                    },
                    "autotypenumbers": "strict",
                    "coloraxis": {
                      "colorbar": {
                        "outlinewidth": 0,
                        "ticks": ""
                      }
                    },
                    "colorscale": {
                      "diverging": [
                        [
                          0,
                          "#8e0152"
                        ],
                        [
                          0.1,
                          "#c51b7d"
                        ],
                        [
                          0.2,
                          "#de77ae"
                        ],
                        [
                          0.3,
                          "#f1b6da"
                        ],
                        [
                          0.4,
                          "#fde0ef"
                        ],
                        [
                          0.5,
                          "#f7f7f7"
                        ],
                        [
                          0.6,
                          "#e6f5d0"
                        ],
                        [
                          0.7,
                          "#b8e186"
                        ],
                        [
                          0.8,
                          "#7fbc41"
                        ],
                        [
                          0.9,
                          "#4d9221"
                        ],
                        [
                          1,
                          "#276419"
                        ]
                      ],
                      "sequential": [
                        [
                          0,
                          "#0d0887"
                        ],
                        [
                          0.1111111111111111,
                          "#46039f"
                        ],
                        [
                          0.2222222222222222,
                          "#7201a8"
                        ],
                        [
                          0.3333333333333333,
                          "#9c179e"
                        ],
                        [
                          0.4444444444444444,
                          "#bd3786"
                        ],
                        [
                          0.5555555555555556,
                          "#d8576b"
                        ],
                        [
                          0.6666666666666666,
                          "#ed7953"
                        ],
                        [
                          0.7777777777777778,
                          "#fb9f3a"
                        ],
                        [
                          0.8888888888888888,
                          "#fdca26"
                        ],
                        [
                          1,
                          "#f0f921"
                        ]
                      ],
                      "sequentialminus": [
                        [
                          0,
                          "#0d0887"
                        ],
                        [
                          0.1111111111111111,
                          "#46039f"
                        ],
                        [
                          0.2222222222222222,
                          "#7201a8"
                        ],
                        [
                          0.3333333333333333,
                          "#9c179e"
                        ],
                        [
                          0.4444444444444444,
                          "#bd3786"
                        ],
                        [
                          0.5555555555555556,
                          "#d8576b"
                        ],
                        [
                          0.6666666666666666,
                          "#ed7953"
                        ],
                        [
                          0.7777777777777778,
                          "#fb9f3a"
                        ],
                        [
                          0.8888888888888888,
                          "#fdca26"
                        ],
                        [
                          1,
                          "#f0f921"
                        ]
                      ]
                    },
                    "colorway": [
                      "#636efa",
                      "#EF553B",
                      "#00cc96",
                      "#ab63fa",
                      "#FFA15A",
                      "#19d3f3",
                      "#FF6692",
                      "#B6E880",
                      "#FF97FF",
                      "#FECB52"
                    ],
                    "font": {
                      "color": "#f2f5fa"
                    },
                    "geo": {
                      "bgcolor": "rgb(17,17,17)",
                      "lakecolor": "rgb(17,17,17)",
                      "landcolor": "rgb(17,17,17)",
                      "showlakes": true,
                      "showland": true,
                      "subunitcolor": "#506784"
                    },
                    "hoverlabel": {
                      "align": "left"
                    },
                    "hovermode": "closest",
                    "mapbox": {
                      "style": "dark"
                    },
                    "paper_bgcolor": "rgb(17,17,17)",
                    "plot_bgcolor": "rgb(17,17,17)",
                    "polar": {
                      "angularaxis": {
                        "gridcolor": "#506784",
                        "linecolor": "#506784",
                        "ticks": ""
                      },
                      "bgcolor": "rgb(17,17,17)",
                      "radialaxis": {
                        "gridcolor": "#506784",
                        "linecolor": "#506784",
                        "ticks": ""
                      }
                    },
                    "scene": {
                      "xaxis": {
                        "backgroundcolor": "rgb(17,17,17)",
                        "gridcolor": "#506784",
                        "gridwidth": 2,
                        "linecolor": "#506784",
                        "showbackground": true,
                        "ticks": "",
                        "zerolinecolor": "#C8D4E3"
                      },
                      "yaxis": {
                        "backgroundcolor": "rgb(17,17,17)",
                        "gridcolor": "#506784",
                        "gridwidth": 2,
                        "linecolor": "#506784",
                        "showbackground": true,
                        "ticks": "",
                        "zerolinecolor": "#C8D4E3"
                      },
                      "zaxis": {
                        "backgroundcolor": "rgb(17,17,17)",
                        "gridcolor": "#506784",
                        "gridwidth": 2,
                        "linecolor": "#506784",
                        "showbackground": true,
                        "ticks": "",
                        "zerolinecolor": "#C8D4E3"
                      }
                    },
                    "shapedefaults": {
                      "line": {
                        "color": "#f2f5fa"
                      }
                    },
                    "sliderdefaults": {
                      "bgcolor": "#C8D4E3",
                      "bordercolor": "rgb(17,17,17)",
                      "borderwidth": 1,
                      "tickwidth": 0
                    },
                    "ternary": {
                      "aaxis": {
                        "gridcolor": "#506784",
                        "linecolor": "#506784",
                        "ticks": ""
                      },
                      "baxis": {
                        "gridcolor": "#506784",
                        "linecolor": "#506784",
                        "ticks": ""
                      },
                      "bgcolor": "rgb(17,17,17)",
                      "caxis": {
                        "gridcolor": "#506784",
                        "linecolor": "#506784",
                        "ticks": ""
                      }
                    },
                    "title": {
                      "x": 0.05
                    },
                    "updatemenudefaults": {
                      "bgcolor": "#506784",
                      "borderwidth": 0
                    },
                    "xaxis": {
                      "automargin": true,
                      "gridcolor": "#283442",
                      "linecolor": "#506784",
                      "ticks": "",
                      "title": {
                        "standoff": 15
                      },
                      "zerolinecolor": "#283442",
                      "zerolinewidth": 2
                    },
                    "yaxis": {
                      "automargin": true,
                      "gridcolor": "#283442",
                      "linecolor": "#506784",
                      "ticks": "",
                      "title": {
                        "standoff": 15
                      },
                      "zerolinecolor": "#283442",
                      "zerolinewidth": 2
                    }
                  }
                },
                "title": {
                  "text": "<b>China networth in all industries"
                },
                "xaxis": {
                  "anchor": "y",
                  "categoryarray": [
                    "Finance & Investments ",
                    "Technology ",
                    "Food & Beverage ",
                    "Fashion & Retail ",
                    "Real Estate ",
                    "Media & Entertainment ",
                    "Healthcare ",
                    "Energy ",
                    "Manufacturing ",
                    "Sports ",
                    "Service ",
                    "Automotive ",
                    "Diversified ",
                    "Gambling & Casinos ",
                    "Logistics ",
                    "Construction & Engineering ",
                    "Telecom ",
                    "Metals & Mining "
                  ],
                  "categoryorder": "array",
                  "domain": [
                    0,
                    1
                  ],
                  "title": {
                    "text": "industry"
                  }
                },
                "yaxis": {
                  "anchor": "x",
                  "domain": [
                    0,
                    1
                  ],
                  "title": {
                    "text": "China"
                  }
                }
              }
            }
          },
          "metadata": {},
          "output_type": "display_data"
        }
      ],
      "source": [
        "# China networth in all industries\n",
        "fig = px.scatter(\n",
        "    df1,\n",
        "    x = 'industry',\n",
        "    y = 'China',\n",
        "    template = 'plotly_dark',\n",
        "    color = 'industry',\n",
        "    size = 'China',\n",
        "    opacity = 0.85,\n",
        "    title = \"<b>China networth in all industries\",\n",
        "    height = 620)\n",
        "fig.show()"
      ]
    },
    {
      "cell_type": "markdown",
      "metadata": {
        "id": "CZ2ciflvJsY7"
      },
      "source": [
        "Insights\n",
        "\n",
        "- China has it's major networth coming from the industry of Manufacturing which is 142 B dollars.\n",
        "- The second biggest industry of China is Technology with a networth of 81 B dollars.\n",
        "- Additionaly, China has it's least networth of 4 B dollars coming from the industry of Construction and Engineering."
      ]
    },
    {
      "cell_type": "code",
      "execution_count": 32,
      "metadata": {
        "colab": {
          "base_uri": "https://localhost:8080/",
          "height": 637
        },
        "id": "r4H2vNvBBCFy",
        "outputId": "c680d530-5c9e-4d5f-8fb6-0ae6c0894932"
      },
      "outputs": [
        {
          "data": {
            "application/vnd.plotly.v1+json": {
              "config": {
                "plotlyServerURL": "https://plot.ly"
              },
              "data": [
                {
                  "hovertemplate": "industry=%{x}<br>India=%{marker.size}<extra></extra>",
                  "legendgroup": "Finance & Investments ",
                  "marker": {
                    "color": "#636efa",
                    "opacity": 0.85,
                    "size": {
                      "bdata": "AAAAAAAAJEA=",
                      "dtype": "f8"
                    },
                    "sizemode": "area",
                    "sizeref": 0.0775,
                    "symbol": "circle"
                  },
                  "mode": "markers",
                  "name": "Finance & Investments ",
                  "orientation": "v",
                  "showlegend": true,
                  "type": "scatter",
                  "x": [
                    "Finance & Investments "
                  ],
                  "xaxis": "x",
                  "y": {
                    "bdata": "AAAAAAAAJEA=",
                    "dtype": "f8"
                  },
                  "yaxis": "y"
                },
                {
                  "hovertemplate": "industry=%{x}<br>India=%{marker.size}<extra></extra>",
                  "legendgroup": "Technology ",
                  "marker": {
                    "color": "#EF553B",
                    "opacity": 0.85,
                    "size": {
                      "bdata": "AAAAAAAAMEA=",
                      "dtype": "f8"
                    },
                    "sizemode": "area",
                    "sizeref": 0.0775,
                    "symbol": "circle"
                  },
                  "mode": "markers",
                  "name": "Technology ",
                  "orientation": "v",
                  "showlegend": true,
                  "type": "scatter",
                  "x": [
                    "Technology "
                  ],
                  "xaxis": "x",
                  "y": {
                    "bdata": "AAAAAAAAMEA=",
                    "dtype": "f8"
                  },
                  "yaxis": "y"
                },
                {
                  "hovertemplate": "industry=%{x}<br>India=%{marker.size}<extra></extra>",
                  "legendgroup": "Food & Beverage ",
                  "marker": {
                    "color": "#00cc96",
                    "opacity": 0.85,
                    "size": {
                      "bdata": "AAAAAAAAJEA=",
                      "dtype": "f8"
                    },
                    "sizemode": "area",
                    "sizeref": 0.0775,
                    "symbol": "circle"
                  },
                  "mode": "markers",
                  "name": "Food & Beverage ",
                  "orientation": "v",
                  "showlegend": true,
                  "type": "scatter",
                  "x": [
                    "Food & Beverage "
                  ],
                  "xaxis": "x",
                  "y": {
                    "bdata": "AAAAAAAAJEA=",
                    "dtype": "f8"
                  },
                  "yaxis": "y"
                },
                {
                  "hovertemplate": "industry=%{x}<br>India=%{marker.size}<extra></extra>",
                  "legendgroup": "Fashion & Retail ",
                  "marker": {
                    "color": "#ab63fa",
                    "opacity": 0.85,
                    "size": {
                      "bdata": "AAAAAAAALkA=",
                      "dtype": "f8"
                    },
                    "sizemode": "area",
                    "sizeref": 0.0775,
                    "symbol": "circle"
                  },
                  "mode": "markers",
                  "name": "Fashion & Retail ",
                  "orientation": "v",
                  "showlegend": true,
                  "type": "scatter",
                  "x": [
                    "Fashion & Retail "
                  ],
                  "xaxis": "x",
                  "y": {
                    "bdata": "AAAAAAAALkA=",
                    "dtype": "f8"
                  },
                  "yaxis": "y"
                },
                {
                  "hovertemplate": "industry=%{x}<br>India=%{marker.size}<extra></extra>",
                  "legendgroup": "Real Estate ",
                  "marker": {
                    "color": "#FFA15A",
                    "opacity": 0.85,
                    "size": {
                      "bdata": "AAAAAAAAIEA=",
                      "dtype": "f8"
                    },
                    "sizemode": "area",
                    "sizeref": 0.0775,
                    "symbol": "circle"
                  },
                  "mode": "markers",
                  "name": "Real Estate ",
                  "orientation": "v",
                  "showlegend": true,
                  "type": "scatter",
                  "x": [
                    "Real Estate "
                  ],
                  "xaxis": "x",
                  "y": {
                    "bdata": "AAAAAAAAIEA=",
                    "dtype": "f8"
                  },
                  "yaxis": "y"
                },
                {
                  "hovertemplate": "industry=%{x}<br>India=%{marker.size}<extra></extra>",
                  "legendgroup": "Media & Entertainment ",
                  "marker": {
                    "color": "#19d3f3",
                    "opacity": 0.85,
                    "size": {
                      "bdata": "AAAAAAAA8D8=",
                      "dtype": "f8"
                    },
                    "sizemode": "area",
                    "sizeref": 0.0775,
                    "symbol": "circle"
                  },
                  "mode": "markers",
                  "name": "Media & Entertainment ",
                  "orientation": "v",
                  "showlegend": true,
                  "type": "scatter",
                  "x": [
                    "Media & Entertainment "
                  ],
                  "xaxis": "x",
                  "y": {
                    "bdata": "AAAAAAAA8D8=",
                    "dtype": "f8"
                  },
                  "yaxis": "y"
                },
                {
                  "hovertemplate": "industry=%{x}<br>India=%{marker.size}<extra></extra>",
                  "legendgroup": "Healthcare ",
                  "marker": {
                    "color": "#FF6692",
                    "opacity": 0.85,
                    "size": {
                      "bdata": "AAAAAAAAPkA=",
                      "dtype": "f8"
                    },
                    "sizemode": "area",
                    "sizeref": 0.0775,
                    "symbol": "circle"
                  },
                  "mode": "markers",
                  "name": "Healthcare ",
                  "orientation": "v",
                  "showlegend": true,
                  "type": "scatter",
                  "x": [
                    "Healthcare "
                  ],
                  "xaxis": "x",
                  "y": {
                    "bdata": "AAAAAAAAPkA=",
                    "dtype": "f8"
                  },
                  "yaxis": "y"
                },
                {
                  "hovertemplate": "industry=%{x}<br>India=%{marker.size}<extra></extra>",
                  "legendgroup": "Energy ",
                  "marker": {
                    "color": "#B6E880",
                    "opacity": 0.85,
                    "size": {
                      "bdata": "AAAAAAAA8D8=",
                      "dtype": "f8"
                    },
                    "sizemode": "area",
                    "sizeref": 0.0775,
                    "symbol": "circle"
                  },
                  "mode": "markers",
                  "name": "Energy ",
                  "orientation": "v",
                  "showlegend": true,
                  "type": "scatter",
                  "x": [
                    "Energy "
                  ],
                  "xaxis": "x",
                  "y": {
                    "bdata": "AAAAAAAA8D8=",
                    "dtype": "f8"
                  },
                  "yaxis": "y"
                },
                {
                  "hovertemplate": "industry=%{x}<br>India=%{marker.size}<extra></extra>",
                  "legendgroup": "Manufacturing ",
                  "marker": {
                    "color": "#FF97FF",
                    "opacity": 0.85,
                    "size": {
                      "bdata": "AAAAAAAAP0A=",
                      "dtype": "f8"
                    },
                    "sizemode": "area",
                    "sizeref": 0.0775,
                    "symbol": "circle"
                  },
                  "mode": "markers",
                  "name": "Manufacturing ",
                  "orientation": "v",
                  "showlegend": true,
                  "type": "scatter",
                  "x": [
                    "Manufacturing "
                  ],
                  "xaxis": "x",
                  "y": {
                    "bdata": "AAAAAAAAP0A=",
                    "dtype": "f8"
                  },
                  "yaxis": "y"
                },
                {
                  "hovertemplate": "industry=%{x}<br>India=%{marker.size}<extra></extra>",
                  "legendgroup": "Sports ",
                  "marker": {
                    "color": "#FECB52",
                    "opacity": 0.85,
                    "size": {
                      "bdata": "AAAAAAAAAAA=",
                      "dtype": "f8"
                    },
                    "sizemode": "area",
                    "sizeref": 0.0775,
                    "symbol": "circle"
                  },
                  "mode": "markers",
                  "name": "Sports ",
                  "orientation": "v",
                  "showlegend": true,
                  "type": "scatter",
                  "x": [
                    "Sports "
                  ],
                  "xaxis": "x",
                  "y": {
                    "bdata": "AAAAAAAAAAA=",
                    "dtype": "f8"
                  },
                  "yaxis": "y"
                },
                {
                  "hovertemplate": "industry=%{x}<br>India=%{marker.size}<extra></extra>",
                  "legendgroup": "Service ",
                  "marker": {
                    "color": "#636efa",
                    "opacity": 0.85,
                    "size": {
                      "bdata": "AAAAAAAAEEA=",
                      "dtype": "f8"
                    },
                    "sizemode": "area",
                    "sizeref": 0.0775,
                    "symbol": "circle"
                  },
                  "mode": "markers",
                  "name": "Service ",
                  "orientation": "v",
                  "showlegend": true,
                  "type": "scatter",
                  "x": [
                    "Service "
                  ],
                  "xaxis": "x",
                  "y": {
                    "bdata": "AAAAAAAAEEA=",
                    "dtype": "f8"
                  },
                  "yaxis": "y"
                },
                {
                  "hovertemplate": "industry=%{x}<br>India=%{marker.size}<extra></extra>",
                  "legendgroup": "Automotive ",
                  "marker": {
                    "color": "#EF553B",
                    "opacity": 0.85,
                    "size": {
                      "bdata": "AAAAAAAAIkA=",
                      "dtype": "f8"
                    },
                    "sizemode": "area",
                    "sizeref": 0.0775,
                    "symbol": "circle"
                  },
                  "mode": "markers",
                  "name": "Automotive ",
                  "orientation": "v",
                  "showlegend": true,
                  "type": "scatter",
                  "x": [
                    "Automotive "
                  ],
                  "xaxis": "x",
                  "y": {
                    "bdata": "AAAAAAAAIkA=",
                    "dtype": "f8"
                  },
                  "yaxis": "y"
                },
                {
                  "hovertemplate": "industry=%{x}<br>India=%{marker.size}<extra></extra>",
                  "legendgroup": "Diversified ",
                  "marker": {
                    "color": "#00cc96",
                    "opacity": 0.85,
                    "size": {
                      "bdata": "AAAAAAAAMEA=",
                      "dtype": "f8"
                    },
                    "sizemode": "area",
                    "sizeref": 0.0775,
                    "symbol": "circle"
                  },
                  "mode": "markers",
                  "name": "Diversified ",
                  "orientation": "v",
                  "showlegend": true,
                  "type": "scatter",
                  "x": [
                    "Diversified "
                  ],
                  "xaxis": "x",
                  "y": {
                    "bdata": "AAAAAAAAMEA=",
                    "dtype": "f8"
                  },
                  "yaxis": "y"
                },
                {
                  "hovertemplate": "industry=%{x}<br>India=%{marker.size}<extra></extra>",
                  "legendgroup": "Gambling & Casinos ",
                  "marker": {
                    "color": "#ab63fa",
                    "opacity": 0.85,
                    "size": {
                      "bdata": "AAAAAAAAAAA=",
                      "dtype": "f8"
                    },
                    "sizemode": "area",
                    "sizeref": 0.0775,
                    "symbol": "circle"
                  },
                  "mode": "markers",
                  "name": "Gambling & Casinos ",
                  "orientation": "v",
                  "showlegend": true,
                  "type": "scatter",
                  "x": [
                    "Gambling & Casinos "
                  ],
                  "xaxis": "x",
                  "y": {
                    "bdata": "AAAAAAAAAAA=",
                    "dtype": "f8"
                  },
                  "yaxis": "y"
                },
                {
                  "hovertemplate": "industry=%{x}<br>India=%{marker.size}<extra></extra>",
                  "legendgroup": "Logistics ",
                  "marker": {
                    "color": "#FFA15A",
                    "opacity": 0.85,
                    "size": {
                      "bdata": "AAAAAAAA8D8=",
                      "dtype": "f8"
                    },
                    "sizemode": "area",
                    "sizeref": 0.0775,
                    "symbol": "circle"
                  },
                  "mode": "markers",
                  "name": "Logistics ",
                  "orientation": "v",
                  "showlegend": true,
                  "type": "scatter",
                  "x": [
                    "Logistics "
                  ],
                  "xaxis": "x",
                  "y": {
                    "bdata": "AAAAAAAA8D8=",
                    "dtype": "f8"
                  },
                  "yaxis": "y"
                },
                {
                  "hovertemplate": "industry=%{x}<br>India=%{marker.size}<extra></extra>",
                  "legendgroup": "Construction & Engineering ",
                  "marker": {
                    "color": "#19d3f3",
                    "opacity": 0.85,
                    "size": {
                      "bdata": "AAAAAAAAFEA=",
                      "dtype": "f8"
                    },
                    "sizemode": "area",
                    "sizeref": 0.0775,
                    "symbol": "circle"
                  },
                  "mode": "markers",
                  "name": "Construction & Engineering ",
                  "orientation": "v",
                  "showlegend": true,
                  "type": "scatter",
                  "x": [
                    "Construction & Engineering "
                  ],
                  "xaxis": "x",
                  "y": {
                    "bdata": "AAAAAAAAFEA=",
                    "dtype": "f8"
                  },
                  "yaxis": "y"
                },
                {
                  "hovertemplate": "industry=%{x}<br>India=%{marker.size}<extra></extra>",
                  "legendgroup": "Telecom ",
                  "marker": {
                    "color": "#FF6692",
                    "opacity": 0.85,
                    "size": {
                      "bdata": "AAAAAAAA8D8=",
                      "dtype": "f8"
                    },
                    "sizemode": "area",
                    "sizeref": 0.0775,
                    "symbol": "circle"
                  },
                  "mode": "markers",
                  "name": "Telecom ",
                  "orientation": "v",
                  "showlegend": true,
                  "type": "scatter",
                  "x": [
                    "Telecom "
                  ],
                  "xaxis": "x",
                  "y": {
                    "bdata": "AAAAAAAA8D8=",
                    "dtype": "f8"
                  },
                  "yaxis": "y"
                },
                {
                  "hovertemplate": "industry=%{x}<br>India=%{marker.size}<extra></extra>",
                  "legendgroup": "Metals & Mining ",
                  "marker": {
                    "color": "#B6E880",
                    "opacity": 0.85,
                    "size": {
                      "bdata": "AAAAAAAACEA=",
                      "dtype": "f8"
                    },
                    "sizemode": "area",
                    "sizeref": 0.0775,
                    "symbol": "circle"
                  },
                  "mode": "markers",
                  "name": "Metals & Mining ",
                  "orientation": "v",
                  "showlegend": true,
                  "type": "scatter",
                  "x": [
                    "Metals & Mining "
                  ],
                  "xaxis": "x",
                  "y": {
                    "bdata": "AAAAAAAACEA=",
                    "dtype": "f8"
                  },
                  "yaxis": "y"
                }
              ],
              "layout": {
                "height": 620,
                "legend": {
                  "itemsizing": "constant",
                  "title": {
                    "text": "industry"
                  },
                  "tracegroupgap": 0
                },
                "template": {
                  "data": {
                    "bar": [
                      {
                        "error_x": {
                          "color": "#f2f5fa"
                        },
                        "error_y": {
                          "color": "#f2f5fa"
                        },
                        "marker": {
                          "line": {
                            "color": "rgb(17,17,17)",
                            "width": 0.5
                          },
                          "pattern": {
                            "fillmode": "overlay",
                            "size": 10,
                            "solidity": 0.2
                          }
                        },
                        "type": "bar"
                      }
                    ],
                    "barpolar": [
                      {
                        "marker": {
                          "line": {
                            "color": "rgb(17,17,17)",
                            "width": 0.5
                          },
                          "pattern": {
                            "fillmode": "overlay",
                            "size": 10,
                            "solidity": 0.2
                          }
                        },
                        "type": "barpolar"
                      }
                    ],
                    "carpet": [
                      {
                        "aaxis": {
                          "endlinecolor": "#A2B1C6",
                          "gridcolor": "#506784",
                          "linecolor": "#506784",
                          "minorgridcolor": "#506784",
                          "startlinecolor": "#A2B1C6"
                        },
                        "baxis": {
                          "endlinecolor": "#A2B1C6",
                          "gridcolor": "#506784",
                          "linecolor": "#506784",
                          "minorgridcolor": "#506784",
                          "startlinecolor": "#A2B1C6"
                        },
                        "type": "carpet"
                      }
                    ],
                    "choropleth": [
                      {
                        "colorbar": {
                          "outlinewidth": 0,
                          "ticks": ""
                        },
                        "type": "choropleth"
                      }
                    ],
                    "contour": [
                      {
                        "colorbar": {
                          "outlinewidth": 0,
                          "ticks": ""
                        },
                        "colorscale": [
                          [
                            0,
                            "#0d0887"
                          ],
                          [
                            0.1111111111111111,
                            "#46039f"
                          ],
                          [
                            0.2222222222222222,
                            "#7201a8"
                          ],
                          [
                            0.3333333333333333,
                            "#9c179e"
                          ],
                          [
                            0.4444444444444444,
                            "#bd3786"
                          ],
                          [
                            0.5555555555555556,
                            "#d8576b"
                          ],
                          [
                            0.6666666666666666,
                            "#ed7953"
                          ],
                          [
                            0.7777777777777778,
                            "#fb9f3a"
                          ],
                          [
                            0.8888888888888888,
                            "#fdca26"
                          ],
                          [
                            1,
                            "#f0f921"
                          ]
                        ],
                        "type": "contour"
                      }
                    ],
                    "contourcarpet": [
                      {
                        "colorbar": {
                          "outlinewidth": 0,
                          "ticks": ""
                        },
                        "type": "contourcarpet"
                      }
                    ],
                    "heatmap": [
                      {
                        "colorbar": {
                          "outlinewidth": 0,
                          "ticks": ""
                        },
                        "colorscale": [
                          [
                            0,
                            "#0d0887"
                          ],
                          [
                            0.1111111111111111,
                            "#46039f"
                          ],
                          [
                            0.2222222222222222,
                            "#7201a8"
                          ],
                          [
                            0.3333333333333333,
                            "#9c179e"
                          ],
                          [
                            0.4444444444444444,
                            "#bd3786"
                          ],
                          [
                            0.5555555555555556,
                            "#d8576b"
                          ],
                          [
                            0.6666666666666666,
                            "#ed7953"
                          ],
                          [
                            0.7777777777777778,
                            "#fb9f3a"
                          ],
                          [
                            0.8888888888888888,
                            "#fdca26"
                          ],
                          [
                            1,
                            "#f0f921"
                          ]
                        ],
                        "type": "heatmap"
                      }
                    ],
                    "histogram": [
                      {
                        "marker": {
                          "pattern": {
                            "fillmode": "overlay",
                            "size": 10,
                            "solidity": 0.2
                          }
                        },
                        "type": "histogram"
                      }
                    ],
                    "histogram2d": [
                      {
                        "colorbar": {
                          "outlinewidth": 0,
                          "ticks": ""
                        },
                        "colorscale": [
                          [
                            0,
                            "#0d0887"
                          ],
                          [
                            0.1111111111111111,
                            "#46039f"
                          ],
                          [
                            0.2222222222222222,
                            "#7201a8"
                          ],
                          [
                            0.3333333333333333,
                            "#9c179e"
                          ],
                          [
                            0.4444444444444444,
                            "#bd3786"
                          ],
                          [
                            0.5555555555555556,
                            "#d8576b"
                          ],
                          [
                            0.6666666666666666,
                            "#ed7953"
                          ],
                          [
                            0.7777777777777778,
                            "#fb9f3a"
                          ],
                          [
                            0.8888888888888888,
                            "#fdca26"
                          ],
                          [
                            1,
                            "#f0f921"
                          ]
                        ],
                        "type": "histogram2d"
                      }
                    ],
                    "histogram2dcontour": [
                      {
                        "colorbar": {
                          "outlinewidth": 0,
                          "ticks": ""
                        },
                        "colorscale": [
                          [
                            0,
                            "#0d0887"
                          ],
                          [
                            0.1111111111111111,
                            "#46039f"
                          ],
                          [
                            0.2222222222222222,
                            "#7201a8"
                          ],
                          [
                            0.3333333333333333,
                            "#9c179e"
                          ],
                          [
                            0.4444444444444444,
                            "#bd3786"
                          ],
                          [
                            0.5555555555555556,
                            "#d8576b"
                          ],
                          [
                            0.6666666666666666,
                            "#ed7953"
                          ],
                          [
                            0.7777777777777778,
                            "#fb9f3a"
                          ],
                          [
                            0.8888888888888888,
                            "#fdca26"
                          ],
                          [
                            1,
                            "#f0f921"
                          ]
                        ],
                        "type": "histogram2dcontour"
                      }
                    ],
                    "mesh3d": [
                      {
                        "colorbar": {
                          "outlinewidth": 0,
                          "ticks": ""
                        },
                        "type": "mesh3d"
                      }
                    ],
                    "parcoords": [
                      {
                        "line": {
                          "colorbar": {
                            "outlinewidth": 0,
                            "ticks": ""
                          }
                        },
                        "type": "parcoords"
                      }
                    ],
                    "pie": [
                      {
                        "automargin": true,
                        "type": "pie"
                      }
                    ],
                    "scatter": [
                      {
                        "marker": {
                          "line": {
                            "color": "#283442"
                          }
                        },
                        "type": "scatter"
                      }
                    ],
                    "scatter3d": [
                      {
                        "line": {
                          "colorbar": {
                            "outlinewidth": 0,
                            "ticks": ""
                          }
                        },
                        "marker": {
                          "colorbar": {
                            "outlinewidth": 0,
                            "ticks": ""
                          }
                        },
                        "type": "scatter3d"
                      }
                    ],
                    "scattercarpet": [
                      {
                        "marker": {
                          "colorbar": {
                            "outlinewidth": 0,
                            "ticks": ""
                          }
                        },
                        "type": "scattercarpet"
                      }
                    ],
                    "scattergeo": [
                      {
                        "marker": {
                          "colorbar": {
                            "outlinewidth": 0,
                            "ticks": ""
                          }
                        },
                        "type": "scattergeo"
                      }
                    ],
                    "scattergl": [
                      {
                        "marker": {
                          "line": {
                            "color": "#283442"
                          }
                        },
                        "type": "scattergl"
                      }
                    ],
                    "scattermap": [
                      {
                        "marker": {
                          "colorbar": {
                            "outlinewidth": 0,
                            "ticks": ""
                          }
                        },
                        "type": "scattermap"
                      }
                    ],
                    "scattermapbox": [
                      {
                        "marker": {
                          "colorbar": {
                            "outlinewidth": 0,
                            "ticks": ""
                          }
                        },
                        "type": "scattermapbox"
                      }
                    ],
                    "scatterpolar": [
                      {
                        "marker": {
                          "colorbar": {
                            "outlinewidth": 0,
                            "ticks": ""
                          }
                        },
                        "type": "scatterpolar"
                      }
                    ],
                    "scatterpolargl": [
                      {
                        "marker": {
                          "colorbar": {
                            "outlinewidth": 0,
                            "ticks": ""
                          }
                        },
                        "type": "scatterpolargl"
                      }
                    ],
                    "scatterternary": [
                      {
                        "marker": {
                          "colorbar": {
                            "outlinewidth": 0,
                            "ticks": ""
                          }
                        },
                        "type": "scatterternary"
                      }
                    ],
                    "surface": [
                      {
                        "colorbar": {
                          "outlinewidth": 0,
                          "ticks": ""
                        },
                        "colorscale": [
                          [
                            0,
                            "#0d0887"
                          ],
                          [
                            0.1111111111111111,
                            "#46039f"
                          ],
                          [
                            0.2222222222222222,
                            "#7201a8"
                          ],
                          [
                            0.3333333333333333,
                            "#9c179e"
                          ],
                          [
                            0.4444444444444444,
                            "#bd3786"
                          ],
                          [
                            0.5555555555555556,
                            "#d8576b"
                          ],
                          [
                            0.6666666666666666,
                            "#ed7953"
                          ],
                          [
                            0.7777777777777778,
                            "#fb9f3a"
                          ],
                          [
                            0.8888888888888888,
                            "#fdca26"
                          ],
                          [
                            1,
                            "#f0f921"
                          ]
                        ],
                        "type": "surface"
                      }
                    ],
                    "table": [
                      {
                        "cells": {
                          "fill": {
                            "color": "#506784"
                          },
                          "line": {
                            "color": "rgb(17,17,17)"
                          }
                        },
                        "header": {
                          "fill": {
                            "color": "#2a3f5f"
                          },
                          "line": {
                            "color": "rgb(17,17,17)"
                          }
                        },
                        "type": "table"
                      }
                    ]
                  },
                  "layout": {
                    "annotationdefaults": {
                      "arrowcolor": "#f2f5fa",
                      "arrowhead": 0,
                      "arrowwidth": 1
                    },
                    "autotypenumbers": "strict",
                    "coloraxis": {
                      "colorbar": {
                        "outlinewidth": 0,
                        "ticks": ""
                      }
                    },
                    "colorscale": {
                      "diverging": [
                        [
                          0,
                          "#8e0152"
                        ],
                        [
                          0.1,
                          "#c51b7d"
                        ],
                        [
                          0.2,
                          "#de77ae"
                        ],
                        [
                          0.3,
                          "#f1b6da"
                        ],
                        [
                          0.4,
                          "#fde0ef"
                        ],
                        [
                          0.5,
                          "#f7f7f7"
                        ],
                        [
                          0.6,
                          "#e6f5d0"
                        ],
                        [
                          0.7,
                          "#b8e186"
                        ],
                        [
                          0.8,
                          "#7fbc41"
                        ],
                        [
                          0.9,
                          "#4d9221"
                        ],
                        [
                          1,
                          "#276419"
                        ]
                      ],
                      "sequential": [
                        [
                          0,
                          "#0d0887"
                        ],
                        [
                          0.1111111111111111,
                          "#46039f"
                        ],
                        [
                          0.2222222222222222,
                          "#7201a8"
                        ],
                        [
                          0.3333333333333333,
                          "#9c179e"
                        ],
                        [
                          0.4444444444444444,
                          "#bd3786"
                        ],
                        [
                          0.5555555555555556,
                          "#d8576b"
                        ],
                        [
                          0.6666666666666666,
                          "#ed7953"
                        ],
                        [
                          0.7777777777777778,
                          "#fb9f3a"
                        ],
                        [
                          0.8888888888888888,
                          "#fdca26"
                        ],
                        [
                          1,
                          "#f0f921"
                        ]
                      ],
                      "sequentialminus": [
                        [
                          0,
                          "#0d0887"
                        ],
                        [
                          0.1111111111111111,
                          "#46039f"
                        ],
                        [
                          0.2222222222222222,
                          "#7201a8"
                        ],
                        [
                          0.3333333333333333,
                          "#9c179e"
                        ],
                        [
                          0.4444444444444444,
                          "#bd3786"
                        ],
                        [
                          0.5555555555555556,
                          "#d8576b"
                        ],
                        [
                          0.6666666666666666,
                          "#ed7953"
                        ],
                        [
                          0.7777777777777778,
                          "#fb9f3a"
                        ],
                        [
                          0.8888888888888888,
                          "#fdca26"
                        ],
                        [
                          1,
                          "#f0f921"
                        ]
                      ]
                    },
                    "colorway": [
                      "#636efa",
                      "#EF553B",
                      "#00cc96",
                      "#ab63fa",
                      "#FFA15A",
                      "#19d3f3",
                      "#FF6692",
                      "#B6E880",
                      "#FF97FF",
                      "#FECB52"
                    ],
                    "font": {
                      "color": "#f2f5fa"
                    },
                    "geo": {
                      "bgcolor": "rgb(17,17,17)",
                      "lakecolor": "rgb(17,17,17)",
                      "landcolor": "rgb(17,17,17)",
                      "showlakes": true,
                      "showland": true,
                      "subunitcolor": "#506784"
                    },
                    "hoverlabel": {
                      "align": "left"
                    },
                    "hovermode": "closest",
                    "mapbox": {
                      "style": "dark"
                    },
                    "paper_bgcolor": "rgb(17,17,17)",
                    "plot_bgcolor": "rgb(17,17,17)",
                    "polar": {
                      "angularaxis": {
                        "gridcolor": "#506784",
                        "linecolor": "#506784",
                        "ticks": ""
                      },
                      "bgcolor": "rgb(17,17,17)",
                      "radialaxis": {
                        "gridcolor": "#506784",
                        "linecolor": "#506784",
                        "ticks": ""
                      }
                    },
                    "scene": {
                      "xaxis": {
                        "backgroundcolor": "rgb(17,17,17)",
                        "gridcolor": "#506784",
                        "gridwidth": 2,
                        "linecolor": "#506784",
                        "showbackground": true,
                        "ticks": "",
                        "zerolinecolor": "#C8D4E3"
                      },
                      "yaxis": {
                        "backgroundcolor": "rgb(17,17,17)",
                        "gridcolor": "#506784",
                        "gridwidth": 2,
                        "linecolor": "#506784",
                        "showbackground": true,
                        "ticks": "",
                        "zerolinecolor": "#C8D4E3"
                      },
                      "zaxis": {
                        "backgroundcolor": "rgb(17,17,17)",
                        "gridcolor": "#506784",
                        "gridwidth": 2,
                        "linecolor": "#506784",
                        "showbackground": true,
                        "ticks": "",
                        "zerolinecolor": "#C8D4E3"
                      }
                    },
                    "shapedefaults": {
                      "line": {
                        "color": "#f2f5fa"
                      }
                    },
                    "sliderdefaults": {
                      "bgcolor": "#C8D4E3",
                      "bordercolor": "rgb(17,17,17)",
                      "borderwidth": 1,
                      "tickwidth": 0
                    },
                    "ternary": {
                      "aaxis": {
                        "gridcolor": "#506784",
                        "linecolor": "#506784",
                        "ticks": ""
                      },
                      "baxis": {
                        "gridcolor": "#506784",
                        "linecolor": "#506784",
                        "ticks": ""
                      },
                      "bgcolor": "rgb(17,17,17)",
                      "caxis": {
                        "gridcolor": "#506784",
                        "linecolor": "#506784",
                        "ticks": ""
                      }
                    },
                    "title": {
                      "x": 0.05
                    },
                    "updatemenudefaults": {
                      "bgcolor": "#506784",
                      "borderwidth": 0
                    },
                    "xaxis": {
                      "automargin": true,
                      "gridcolor": "#283442",
                      "linecolor": "#506784",
                      "ticks": "",
                      "title": {
                        "standoff": 15
                      },
                      "zerolinecolor": "#283442",
                      "zerolinewidth": 2
                    },
                    "yaxis": {
                      "automargin": true,
                      "gridcolor": "#283442",
                      "linecolor": "#506784",
                      "ticks": "",
                      "title": {
                        "standoff": 15
                      },
                      "zerolinecolor": "#283442",
                      "zerolinewidth": 2
                    }
                  }
                },
                "title": {
                  "text": "<b>India networth in all industries"
                },
                "xaxis": {
                  "anchor": "y",
                  "categoryarray": [
                    "Finance & Investments ",
                    "Technology ",
                    "Food & Beverage ",
                    "Fashion & Retail ",
                    "Real Estate ",
                    "Media & Entertainment ",
                    "Healthcare ",
                    "Energy ",
                    "Manufacturing ",
                    "Sports ",
                    "Service ",
                    "Automotive ",
                    "Diversified ",
                    "Gambling & Casinos ",
                    "Logistics ",
                    "Construction & Engineering ",
                    "Telecom ",
                    "Metals & Mining "
                  ],
                  "categoryorder": "array",
                  "domain": [
                    0,
                    1
                  ],
                  "title": {
                    "text": "industry"
                  }
                },
                "yaxis": {
                  "anchor": "x",
                  "domain": [
                    0,
                    1
                  ],
                  "title": {
                    "text": "India"
                  }
                }
              }
            }
          },
          "metadata": {},
          "output_type": "display_data"
        }
      ],
      "source": [
        "# India networth in all industries\n",
        "fig = px.scatter(\n",
        "    df1,\n",
        "    x = 'industry',\n",
        "    y = 'India',\n",
        "    template = 'plotly_dark',\n",
        "    color = 'industry',\n",
        "    size = 'India',\n",
        "    opacity = 0.85,\n",
        "    title = \"<b>India networth in all industries\",\n",
        "    height = 620)\n",
        "fig.show()"
      ]
    },
    {
      "cell_type": "markdown",
      "metadata": {
        "id": "msSfeunlJvx6"
      },
      "source": [
        "Insights\n",
        "\n",
        "- India has it's major networth coming from the industry of Manufacturing which is 31 B dollars.\n",
        "- The second biggest industry of India is Healthcare with a networth of 30 B dollars.\n",
        "- Additionaly, India has it's least networth of 1 B dollars coming from many different industries such as Telcom."
      ]
    },
    {
      "cell_type": "code",
      "execution_count": 33,
      "metadata": {
        "colab": {
          "base_uri": "https://localhost:8080/",
          "height": 637
        },
        "id": "Clku0ITEBG4p",
        "outputId": "89f589de-c0a4-4039-ca15-5418a443098d"
      },
      "outputs": [
        {
          "data": {
            "application/vnd.plotly.v1+json": {
              "config": {
                "plotlyServerURL": "https://plot.ly"
              },
              "data": [
                {
                  "hovertemplate": "industry=%{x}<br>Germany=%{marker.size}<extra></extra>",
                  "legendgroup": "Finance & Investments ",
                  "marker": {
                    "color": "#636efa",
                    "opacity": 0.85,
                    "size": {
                      "bdata": "AAAAAAAAKEA=",
                      "dtype": "f8"
                    },
                    "sizemode": "area",
                    "sizeref": 0.0725,
                    "symbol": "circle"
                  },
                  "mode": "markers",
                  "name": "Finance & Investments ",
                  "orientation": "v",
                  "showlegend": true,
                  "type": "scatter",
                  "x": [
                    "Finance & Investments "
                  ],
                  "xaxis": "x",
                  "y": {
                    "bdata": "AAAAAAAAKEA=",
                    "dtype": "f8"
                  },
                  "yaxis": "y"
                },
                {
                  "hovertemplate": "industry=%{x}<br>Germany=%{marker.size}<extra></extra>",
                  "legendgroup": "Technology ",
                  "marker": {
                    "color": "#EF553B",
                    "opacity": 0.85,
                    "size": {
                      "bdata": "AAAAAAAAJkA=",
                      "dtype": "f8"
                    },
                    "sizemode": "area",
                    "sizeref": 0.0725,
                    "symbol": "circle"
                  },
                  "mode": "markers",
                  "name": "Technology ",
                  "orientation": "v",
                  "showlegend": true,
                  "type": "scatter",
                  "x": [
                    "Technology "
                  ],
                  "xaxis": "x",
                  "y": {
                    "bdata": "AAAAAAAAJkA=",
                    "dtype": "f8"
                  },
                  "yaxis": "y"
                },
                {
                  "hovertemplate": "industry=%{x}<br>Germany=%{marker.size}<extra></extra>",
                  "legendgroup": "Food & Beverage ",
                  "marker": {
                    "color": "#00cc96",
                    "opacity": 0.85,
                    "size": {
                      "bdata": "AAAAAAAAIEA=",
                      "dtype": "f8"
                    },
                    "sizemode": "area",
                    "sizeref": 0.0725,
                    "symbol": "circle"
                  },
                  "mode": "markers",
                  "name": "Food & Beverage ",
                  "orientation": "v",
                  "showlegend": true,
                  "type": "scatter",
                  "x": [
                    "Food & Beverage "
                  ],
                  "xaxis": "x",
                  "y": {
                    "bdata": "AAAAAAAAIEA=",
                    "dtype": "f8"
                  },
                  "yaxis": "y"
                },
                {
                  "hovertemplate": "industry=%{x}<br>Germany=%{marker.size}<extra></extra>",
                  "legendgroup": "Fashion & Retail ",
                  "marker": {
                    "color": "#ab63fa",
                    "opacity": 0.85,
                    "size": {
                      "bdata": "AAAAAAAAPUA=",
                      "dtype": "f8"
                    },
                    "sizemode": "area",
                    "sizeref": 0.0725,
                    "symbol": "circle"
                  },
                  "mode": "markers",
                  "name": "Fashion & Retail ",
                  "orientation": "v",
                  "showlegend": true,
                  "type": "scatter",
                  "x": [
                    "Fashion & Retail "
                  ],
                  "xaxis": "x",
                  "y": {
                    "bdata": "AAAAAAAAPUA=",
                    "dtype": "f8"
                  },
                  "yaxis": "y"
                },
                {
                  "hovertemplate": "industry=%{x}<br>Germany=%{marker.size}<extra></extra>",
                  "legendgroup": "Real Estate ",
                  "marker": {
                    "color": "#FFA15A",
                    "opacity": 0.85,
                    "size": {
                      "bdata": "AAAAAAAAEEA=",
                      "dtype": "f8"
                    },
                    "sizemode": "area",
                    "sizeref": 0.0725,
                    "symbol": "circle"
                  },
                  "mode": "markers",
                  "name": "Real Estate ",
                  "orientation": "v",
                  "showlegend": true,
                  "type": "scatter",
                  "x": [
                    "Real Estate "
                  ],
                  "xaxis": "x",
                  "y": {
                    "bdata": "AAAAAAAAEEA=",
                    "dtype": "f8"
                  },
                  "yaxis": "y"
                },
                {
                  "hovertemplate": "industry=%{x}<br>Germany=%{marker.size}<extra></extra>",
                  "legendgroup": "Media & Entertainment ",
                  "marker": {
                    "color": "#19d3f3",
                    "opacity": 0.85,
                    "size": {
                      "bdata": "AAAAAAAAHEA=",
                      "dtype": "f8"
                    },
                    "sizemode": "area",
                    "sizeref": 0.0725,
                    "symbol": "circle"
                  },
                  "mode": "markers",
                  "name": "Media & Entertainment ",
                  "orientation": "v",
                  "showlegend": true,
                  "type": "scatter",
                  "x": [
                    "Media & Entertainment "
                  ],
                  "xaxis": "x",
                  "y": {
                    "bdata": "AAAAAAAAHEA=",
                    "dtype": "f8"
                  },
                  "yaxis": "y"
                },
                {
                  "hovertemplate": "industry=%{x}<br>Germany=%{marker.size}<extra></extra>",
                  "legendgroup": "Healthcare ",
                  "marker": {
                    "color": "#FF6692",
                    "opacity": 0.85,
                    "size": {
                      "bdata": "AAAAAAAANUA=",
                      "dtype": "f8"
                    },
                    "sizemode": "area",
                    "sizeref": 0.0725,
                    "symbol": "circle"
                  },
                  "mode": "markers",
                  "name": "Healthcare ",
                  "orientation": "v",
                  "showlegend": true,
                  "type": "scatter",
                  "x": [
                    "Healthcare "
                  ],
                  "xaxis": "x",
                  "y": {
                    "bdata": "AAAAAAAANUA=",
                    "dtype": "f8"
                  },
                  "yaxis": "y"
                },
                {
                  "hovertemplate": "industry=%{x}<br>Germany=%{marker.size}<extra></extra>",
                  "legendgroup": "Energy ",
                  "marker": {
                    "color": "#B6E880",
                    "opacity": 0.85,
                    "size": {
                      "bdata": "AAAAAAAA8D8=",
                      "dtype": "f8"
                    },
                    "sizemode": "area",
                    "sizeref": 0.0725,
                    "symbol": "circle"
                  },
                  "mode": "markers",
                  "name": "Energy ",
                  "orientation": "v",
                  "showlegend": true,
                  "type": "scatter",
                  "x": [
                    "Energy "
                  ],
                  "xaxis": "x",
                  "y": {
                    "bdata": "AAAAAAAA8D8=",
                    "dtype": "f8"
                  },
                  "yaxis": "y"
                },
                {
                  "hovertemplate": "industry=%{x}<br>Germany=%{marker.size}<extra></extra>",
                  "legendgroup": "Manufacturing ",
                  "marker": {
                    "color": "#FF97FF",
                    "opacity": 0.85,
                    "size": {
                      "bdata": "AAAAAAAAN0A=",
                      "dtype": "f8"
                    },
                    "sizemode": "area",
                    "sizeref": 0.0725,
                    "symbol": "circle"
                  },
                  "mode": "markers",
                  "name": "Manufacturing ",
                  "orientation": "v",
                  "showlegend": true,
                  "type": "scatter",
                  "x": [
                    "Manufacturing "
                  ],
                  "xaxis": "x",
                  "y": {
                    "bdata": "AAAAAAAAN0A=",
                    "dtype": "f8"
                  },
                  "yaxis": "y"
                },
                {
                  "hovertemplate": "industry=%{x}<br>Germany=%{marker.size}<extra></extra>",
                  "legendgroup": "Sports ",
                  "marker": {
                    "color": "#FECB52",
                    "opacity": 0.85,
                    "size": {
                      "bdata": "AAAAAAAAAAA=",
                      "dtype": "f8"
                    },
                    "sizemode": "area",
                    "sizeref": 0.0725,
                    "symbol": "circle"
                  },
                  "mode": "markers",
                  "name": "Sports ",
                  "orientation": "v",
                  "showlegend": true,
                  "type": "scatter",
                  "x": [
                    "Sports "
                  ],
                  "xaxis": "x",
                  "y": {
                    "bdata": "AAAAAAAAAAA=",
                    "dtype": "f8"
                  },
                  "yaxis": "y"
                },
                {
                  "hovertemplate": "industry=%{x}<br>Germany=%{marker.size}<extra></extra>",
                  "legendgroup": "Service ",
                  "marker": {
                    "color": "#636efa",
                    "opacity": 0.85,
                    "size": {
                      "bdata": "AAAAAAAA8D8=",
                      "dtype": "f8"
                    },
                    "sizemode": "area",
                    "sizeref": 0.0725,
                    "symbol": "circle"
                  },
                  "mode": "markers",
                  "name": "Service ",
                  "orientation": "v",
                  "showlegend": true,
                  "type": "scatter",
                  "x": [
                    "Service "
                  ],
                  "xaxis": "x",
                  "y": {
                    "bdata": "AAAAAAAA8D8=",
                    "dtype": "f8"
                  },
                  "yaxis": "y"
                },
                {
                  "hovertemplate": "industry=%{x}<br>Germany=%{marker.size}<extra></extra>",
                  "legendgroup": "Automotive ",
                  "marker": {
                    "color": "#EF553B",
                    "opacity": 0.85,
                    "size": {
                      "bdata": "AAAAAAAAIEA=",
                      "dtype": "f8"
                    },
                    "sizemode": "area",
                    "sizeref": 0.0725,
                    "symbol": "circle"
                  },
                  "mode": "markers",
                  "name": "Automotive ",
                  "orientation": "v",
                  "showlegend": true,
                  "type": "scatter",
                  "x": [
                    "Automotive "
                  ],
                  "xaxis": "x",
                  "y": {
                    "bdata": "AAAAAAAAIEA=",
                    "dtype": "f8"
                  },
                  "yaxis": "y"
                },
                {
                  "hovertemplate": "industry=%{x}<br>Germany=%{marker.size}<extra></extra>",
                  "legendgroup": "Diversified ",
                  "marker": {
                    "color": "#00cc96",
                    "opacity": 0.85,
                    "size": {
                      "bdata": "AAAAAAAA8D8=",
                      "dtype": "f8"
                    },
                    "sizemode": "area",
                    "sizeref": 0.0725,
                    "symbol": "circle"
                  },
                  "mode": "markers",
                  "name": "Diversified ",
                  "orientation": "v",
                  "showlegend": true,
                  "type": "scatter",
                  "x": [
                    "Diversified "
                  ],
                  "xaxis": "x",
                  "y": {
                    "bdata": "AAAAAAAA8D8=",
                    "dtype": "f8"
                  },
                  "yaxis": "y"
                },
                {
                  "hovertemplate": "industry=%{x}<br>Germany=%{marker.size}<extra></extra>",
                  "legendgroup": "Gambling & Casinos ",
                  "marker": {
                    "color": "#ab63fa",
                    "opacity": 0.85,
                    "size": {
                      "bdata": "AAAAAAAAAAA=",
                      "dtype": "f8"
                    },
                    "sizemode": "area",
                    "sizeref": 0.0725,
                    "symbol": "circle"
                  },
                  "mode": "markers",
                  "name": "Gambling & Casinos ",
                  "orientation": "v",
                  "showlegend": true,
                  "type": "scatter",
                  "x": [
                    "Gambling & Casinos "
                  ],
                  "xaxis": "x",
                  "y": {
                    "bdata": "AAAAAAAAAAA=",
                    "dtype": "f8"
                  },
                  "yaxis": "y"
                },
                {
                  "hovertemplate": "industry=%{x}<br>Germany=%{marker.size}<extra></extra>",
                  "legendgroup": "Logistics ",
                  "marker": {
                    "color": "#FFA15A",
                    "opacity": 0.85,
                    "size": {
                      "bdata": "AAAAAAAA8D8=",
                      "dtype": "f8"
                    },
                    "sizemode": "area",
                    "sizeref": 0.0725,
                    "symbol": "circle"
                  },
                  "mode": "markers",
                  "name": "Logistics ",
                  "orientation": "v",
                  "showlegend": true,
                  "type": "scatter",
                  "x": [
                    "Logistics "
                  ],
                  "xaxis": "x",
                  "y": {
                    "bdata": "AAAAAAAA8D8=",
                    "dtype": "f8"
                  },
                  "yaxis": "y"
                },
                {
                  "hovertemplate": "industry=%{x}<br>Germany=%{marker.size}<extra></extra>",
                  "legendgroup": "Construction & Engineering ",
                  "marker": {
                    "color": "#19d3f3",
                    "opacity": 0.85,
                    "size": {
                      "bdata": "AAAAAAAA8D8=",
                      "dtype": "f8"
                    },
                    "sizemode": "area",
                    "sizeref": 0.0725,
                    "symbol": "circle"
                  },
                  "mode": "markers",
                  "name": "Construction & Engineering ",
                  "orientation": "v",
                  "showlegend": true,
                  "type": "scatter",
                  "x": [
                    "Construction & Engineering "
                  ],
                  "xaxis": "x",
                  "y": {
                    "bdata": "AAAAAAAA8D8=",
                    "dtype": "f8"
                  },
                  "yaxis": "y"
                },
                {
                  "hovertemplate": "industry=%{x}<br>Germany=%{marker.size}<extra></extra>",
                  "legendgroup": "Telecom ",
                  "marker": {
                    "color": "#FF6692",
                    "opacity": 0.85,
                    "size": {
                      "bdata": "AAAAAAAAAAA=",
                      "dtype": "f8"
                    },
                    "sizemode": "area",
                    "sizeref": 0.0725,
                    "symbol": "circle"
                  },
                  "mode": "markers",
                  "name": "Telecom ",
                  "orientation": "v",
                  "showlegend": true,
                  "type": "scatter",
                  "x": [
                    "Telecom "
                  ],
                  "xaxis": "x",
                  "y": {
                    "bdata": "AAAAAAAAAAA=",
                    "dtype": "f8"
                  },
                  "yaxis": "y"
                },
                {
                  "hovertemplate": "industry=%{x}<br>Germany=%{marker.size}<extra></extra>",
                  "legendgroup": "Metals & Mining ",
                  "marker": {
                    "color": "#B6E880",
                    "opacity": 0.85,
                    "size": {
                      "bdata": "AAAAAAAAAAA=",
                      "dtype": "f8"
                    },
                    "sizemode": "area",
                    "sizeref": 0.0725,
                    "symbol": "circle"
                  },
                  "mode": "markers",
                  "name": "Metals & Mining ",
                  "orientation": "v",
                  "showlegend": true,
                  "type": "scatter",
                  "x": [
                    "Metals & Mining "
                  ],
                  "xaxis": "x",
                  "y": {
                    "bdata": "AAAAAAAAAAA=",
                    "dtype": "f8"
                  },
                  "yaxis": "y"
                }
              ],
              "layout": {
                "height": 620,
                "legend": {
                  "itemsizing": "constant",
                  "title": {
                    "text": "industry"
                  },
                  "tracegroupgap": 0
                },
                "template": {
                  "data": {
                    "bar": [
                      {
                        "error_x": {
                          "color": "#f2f5fa"
                        },
                        "error_y": {
                          "color": "#f2f5fa"
                        },
                        "marker": {
                          "line": {
                            "color": "rgb(17,17,17)",
                            "width": 0.5
                          },
                          "pattern": {
                            "fillmode": "overlay",
                            "size": 10,
                            "solidity": 0.2
                          }
                        },
                        "type": "bar"
                      }
                    ],
                    "barpolar": [
                      {
                        "marker": {
                          "line": {
                            "color": "rgb(17,17,17)",
                            "width": 0.5
                          },
                          "pattern": {
                            "fillmode": "overlay",
                            "size": 10,
                            "solidity": 0.2
                          }
                        },
                        "type": "barpolar"
                      }
                    ],
                    "carpet": [
                      {
                        "aaxis": {
                          "endlinecolor": "#A2B1C6",
                          "gridcolor": "#506784",
                          "linecolor": "#506784",
                          "minorgridcolor": "#506784",
                          "startlinecolor": "#A2B1C6"
                        },
                        "baxis": {
                          "endlinecolor": "#A2B1C6",
                          "gridcolor": "#506784",
                          "linecolor": "#506784",
                          "minorgridcolor": "#506784",
                          "startlinecolor": "#A2B1C6"
                        },
                        "type": "carpet"
                      }
                    ],
                    "choropleth": [
                      {
                        "colorbar": {
                          "outlinewidth": 0,
                          "ticks": ""
                        },
                        "type": "choropleth"
                      }
                    ],
                    "contour": [
                      {
                        "colorbar": {
                          "outlinewidth": 0,
                          "ticks": ""
                        },
                        "colorscale": [
                          [
                            0,
                            "#0d0887"
                          ],
                          [
                            0.1111111111111111,
                            "#46039f"
                          ],
                          [
                            0.2222222222222222,
                            "#7201a8"
                          ],
                          [
                            0.3333333333333333,
                            "#9c179e"
                          ],
                          [
                            0.4444444444444444,
                            "#bd3786"
                          ],
                          [
                            0.5555555555555556,
                            "#d8576b"
                          ],
                          [
                            0.6666666666666666,
                            "#ed7953"
                          ],
                          [
                            0.7777777777777778,
                            "#fb9f3a"
                          ],
                          [
                            0.8888888888888888,
                            "#fdca26"
                          ],
                          [
                            1,
                            "#f0f921"
                          ]
                        ],
                        "type": "contour"
                      }
                    ],
                    "contourcarpet": [
                      {
                        "colorbar": {
                          "outlinewidth": 0,
                          "ticks": ""
                        },
                        "type": "contourcarpet"
                      }
                    ],
                    "heatmap": [
                      {
                        "colorbar": {
                          "outlinewidth": 0,
                          "ticks": ""
                        },
                        "colorscale": [
                          [
                            0,
                            "#0d0887"
                          ],
                          [
                            0.1111111111111111,
                            "#46039f"
                          ],
                          [
                            0.2222222222222222,
                            "#7201a8"
                          ],
                          [
                            0.3333333333333333,
                            "#9c179e"
                          ],
                          [
                            0.4444444444444444,
                            "#bd3786"
                          ],
                          [
                            0.5555555555555556,
                            "#d8576b"
                          ],
                          [
                            0.6666666666666666,
                            "#ed7953"
                          ],
                          [
                            0.7777777777777778,
                            "#fb9f3a"
                          ],
                          [
                            0.8888888888888888,
                            "#fdca26"
                          ],
                          [
                            1,
                            "#f0f921"
                          ]
                        ],
                        "type": "heatmap"
                      }
                    ],
                    "histogram": [
                      {
                        "marker": {
                          "pattern": {
                            "fillmode": "overlay",
                            "size": 10,
                            "solidity": 0.2
                          }
                        },
                        "type": "histogram"
                      }
                    ],
                    "histogram2d": [
                      {
                        "colorbar": {
                          "outlinewidth": 0,
                          "ticks": ""
                        },
                        "colorscale": [
                          [
                            0,
                            "#0d0887"
                          ],
                          [
                            0.1111111111111111,
                            "#46039f"
                          ],
                          [
                            0.2222222222222222,
                            "#7201a8"
                          ],
                          [
                            0.3333333333333333,
                            "#9c179e"
                          ],
                          [
                            0.4444444444444444,
                            "#bd3786"
                          ],
                          [
                            0.5555555555555556,
                            "#d8576b"
                          ],
                          [
                            0.6666666666666666,
                            "#ed7953"
                          ],
                          [
                            0.7777777777777778,
                            "#fb9f3a"
                          ],
                          [
                            0.8888888888888888,
                            "#fdca26"
                          ],
                          [
                            1,
                            "#f0f921"
                          ]
                        ],
                        "type": "histogram2d"
                      }
                    ],
                    "histogram2dcontour": [
                      {
                        "colorbar": {
                          "outlinewidth": 0,
                          "ticks": ""
                        },
                        "colorscale": [
                          [
                            0,
                            "#0d0887"
                          ],
                          [
                            0.1111111111111111,
                            "#46039f"
                          ],
                          [
                            0.2222222222222222,
                            "#7201a8"
                          ],
                          [
                            0.3333333333333333,
                            "#9c179e"
                          ],
                          [
                            0.4444444444444444,
                            "#bd3786"
                          ],
                          [
                            0.5555555555555556,
                            "#d8576b"
                          ],
                          [
                            0.6666666666666666,
                            "#ed7953"
                          ],
                          [
                            0.7777777777777778,
                            "#fb9f3a"
                          ],
                          [
                            0.8888888888888888,
                            "#fdca26"
                          ],
                          [
                            1,
                            "#f0f921"
                          ]
                        ],
                        "type": "histogram2dcontour"
                      }
                    ],
                    "mesh3d": [
                      {
                        "colorbar": {
                          "outlinewidth": 0,
                          "ticks": ""
                        },
                        "type": "mesh3d"
                      }
                    ],
                    "parcoords": [
                      {
                        "line": {
                          "colorbar": {
                            "outlinewidth": 0,
                            "ticks": ""
                          }
                        },
                        "type": "parcoords"
                      }
                    ],
                    "pie": [
                      {
                        "automargin": true,
                        "type": "pie"
                      }
                    ],
                    "scatter": [
                      {
                        "marker": {
                          "line": {
                            "color": "#283442"
                          }
                        },
                        "type": "scatter"
                      }
                    ],
                    "scatter3d": [
                      {
                        "line": {
                          "colorbar": {
                            "outlinewidth": 0,
                            "ticks": ""
                          }
                        },
                        "marker": {
                          "colorbar": {
                            "outlinewidth": 0,
                            "ticks": ""
                          }
                        },
                        "type": "scatter3d"
                      }
                    ],
                    "scattercarpet": [
                      {
                        "marker": {
                          "colorbar": {
                            "outlinewidth": 0,
                            "ticks": ""
                          }
                        },
                        "type": "scattercarpet"
                      }
                    ],
                    "scattergeo": [
                      {
                        "marker": {
                          "colorbar": {
                            "outlinewidth": 0,
                            "ticks": ""
                          }
                        },
                        "type": "scattergeo"
                      }
                    ],
                    "scattergl": [
                      {
                        "marker": {
                          "line": {
                            "color": "#283442"
                          }
                        },
                        "type": "scattergl"
                      }
                    ],
                    "scattermap": [
                      {
                        "marker": {
                          "colorbar": {
                            "outlinewidth": 0,
                            "ticks": ""
                          }
                        },
                        "type": "scattermap"
                      }
                    ],
                    "scattermapbox": [
                      {
                        "marker": {
                          "colorbar": {
                            "outlinewidth": 0,
                            "ticks": ""
                          }
                        },
                        "type": "scattermapbox"
                      }
                    ],
                    "scatterpolar": [
                      {
                        "marker": {
                          "colorbar": {
                            "outlinewidth": 0,
                            "ticks": ""
                          }
                        },
                        "type": "scatterpolar"
                      }
                    ],
                    "scatterpolargl": [
                      {
                        "marker": {
                          "colorbar": {
                            "outlinewidth": 0,
                            "ticks": ""
                          }
                        },
                        "type": "scatterpolargl"
                      }
                    ],
                    "scatterternary": [
                      {
                        "marker": {
                          "colorbar": {
                            "outlinewidth": 0,
                            "ticks": ""
                          }
                        },
                        "type": "scatterternary"
                      }
                    ],
                    "surface": [
                      {
                        "colorbar": {
                          "outlinewidth": 0,
                          "ticks": ""
                        },
                        "colorscale": [
                          [
                            0,
                            "#0d0887"
                          ],
                          [
                            0.1111111111111111,
                            "#46039f"
                          ],
                          [
                            0.2222222222222222,
                            "#7201a8"
                          ],
                          [
                            0.3333333333333333,
                            "#9c179e"
                          ],
                          [
                            0.4444444444444444,
                            "#bd3786"
                          ],
                          [
                            0.5555555555555556,
                            "#d8576b"
                          ],
                          [
                            0.6666666666666666,
                            "#ed7953"
                          ],
                          [
                            0.7777777777777778,
                            "#fb9f3a"
                          ],
                          [
                            0.8888888888888888,
                            "#fdca26"
                          ],
                          [
                            1,
                            "#f0f921"
                          ]
                        ],
                        "type": "surface"
                      }
                    ],
                    "table": [
                      {
                        "cells": {
                          "fill": {
                            "color": "#506784"
                          },
                          "line": {
                            "color": "rgb(17,17,17)"
                          }
                        },
                        "header": {
                          "fill": {
                            "color": "#2a3f5f"
                          },
                          "line": {
                            "color": "rgb(17,17,17)"
                          }
                        },
                        "type": "table"
                      }
                    ]
                  },
                  "layout": {
                    "annotationdefaults": {
                      "arrowcolor": "#f2f5fa",
                      "arrowhead": 0,
                      "arrowwidth": 1
                    },
                    "autotypenumbers": "strict",
                    "coloraxis": {
                      "colorbar": {
                        "outlinewidth": 0,
                        "ticks": ""
                      }
                    },
                    "colorscale": {
                      "diverging": [
                        [
                          0,
                          "#8e0152"
                        ],
                        [
                          0.1,
                          "#c51b7d"
                        ],
                        [
                          0.2,
                          "#de77ae"
                        ],
                        [
                          0.3,
                          "#f1b6da"
                        ],
                        [
                          0.4,
                          "#fde0ef"
                        ],
                        [
                          0.5,
                          "#f7f7f7"
                        ],
                        [
                          0.6,
                          "#e6f5d0"
                        ],
                        [
                          0.7,
                          "#b8e186"
                        ],
                        [
                          0.8,
                          "#7fbc41"
                        ],
                        [
                          0.9,
                          "#4d9221"
                        ],
                        [
                          1,
                          "#276419"
                        ]
                      ],
                      "sequential": [
                        [
                          0,
                          "#0d0887"
                        ],
                        [
                          0.1111111111111111,
                          "#46039f"
                        ],
                        [
                          0.2222222222222222,
                          "#7201a8"
                        ],
                        [
                          0.3333333333333333,
                          "#9c179e"
                        ],
                        [
                          0.4444444444444444,
                          "#bd3786"
                        ],
                        [
                          0.5555555555555556,
                          "#d8576b"
                        ],
                        [
                          0.6666666666666666,
                          "#ed7953"
                        ],
                        [
                          0.7777777777777778,
                          "#fb9f3a"
                        ],
                        [
                          0.8888888888888888,
                          "#fdca26"
                        ],
                        [
                          1,
                          "#f0f921"
                        ]
                      ],
                      "sequentialminus": [
                        [
                          0,
                          "#0d0887"
                        ],
                        [
                          0.1111111111111111,
                          "#46039f"
                        ],
                        [
                          0.2222222222222222,
                          "#7201a8"
                        ],
                        [
                          0.3333333333333333,
                          "#9c179e"
                        ],
                        [
                          0.4444444444444444,
                          "#bd3786"
                        ],
                        [
                          0.5555555555555556,
                          "#d8576b"
                        ],
                        [
                          0.6666666666666666,
                          "#ed7953"
                        ],
                        [
                          0.7777777777777778,
                          "#fb9f3a"
                        ],
                        [
                          0.8888888888888888,
                          "#fdca26"
                        ],
                        [
                          1,
                          "#f0f921"
                        ]
                      ]
                    },
                    "colorway": [
                      "#636efa",
                      "#EF553B",
                      "#00cc96",
                      "#ab63fa",
                      "#FFA15A",
                      "#19d3f3",
                      "#FF6692",
                      "#B6E880",
                      "#FF97FF",
                      "#FECB52"
                    ],
                    "font": {
                      "color": "#f2f5fa"
                    },
                    "geo": {
                      "bgcolor": "rgb(17,17,17)",
                      "lakecolor": "rgb(17,17,17)",
                      "landcolor": "rgb(17,17,17)",
                      "showlakes": true,
                      "showland": true,
                      "subunitcolor": "#506784"
                    },
                    "hoverlabel": {
                      "align": "left"
                    },
                    "hovermode": "closest",
                    "mapbox": {
                      "style": "dark"
                    },
                    "paper_bgcolor": "rgb(17,17,17)",
                    "plot_bgcolor": "rgb(17,17,17)",
                    "polar": {
                      "angularaxis": {
                        "gridcolor": "#506784",
                        "linecolor": "#506784",
                        "ticks": ""
                      },
                      "bgcolor": "rgb(17,17,17)",
                      "radialaxis": {
                        "gridcolor": "#506784",
                        "linecolor": "#506784",
                        "ticks": ""
                      }
                    },
                    "scene": {
                      "xaxis": {
                        "backgroundcolor": "rgb(17,17,17)",
                        "gridcolor": "#506784",
                        "gridwidth": 2,
                        "linecolor": "#506784",
                        "showbackground": true,
                        "ticks": "",
                        "zerolinecolor": "#C8D4E3"
                      },
                      "yaxis": {
                        "backgroundcolor": "rgb(17,17,17)",
                        "gridcolor": "#506784",
                        "gridwidth": 2,
                        "linecolor": "#506784",
                        "showbackground": true,
                        "ticks": "",
                        "zerolinecolor": "#C8D4E3"
                      },
                      "zaxis": {
                        "backgroundcolor": "rgb(17,17,17)",
                        "gridcolor": "#506784",
                        "gridwidth": 2,
                        "linecolor": "#506784",
                        "showbackground": true,
                        "ticks": "",
                        "zerolinecolor": "#C8D4E3"
                      }
                    },
                    "shapedefaults": {
                      "line": {
                        "color": "#f2f5fa"
                      }
                    },
                    "sliderdefaults": {
                      "bgcolor": "#C8D4E3",
                      "bordercolor": "rgb(17,17,17)",
                      "borderwidth": 1,
                      "tickwidth": 0
                    },
                    "ternary": {
                      "aaxis": {
                        "gridcolor": "#506784",
                        "linecolor": "#506784",
                        "ticks": ""
                      },
                      "baxis": {
                        "gridcolor": "#506784",
                        "linecolor": "#506784",
                        "ticks": ""
                      },
                      "bgcolor": "rgb(17,17,17)",
                      "caxis": {
                        "gridcolor": "#506784",
                        "linecolor": "#506784",
                        "ticks": ""
                      }
                    },
                    "title": {
                      "x": 0.05
                    },
                    "updatemenudefaults": {
                      "bgcolor": "#506784",
                      "borderwidth": 0
                    },
                    "xaxis": {
                      "automargin": true,
                      "gridcolor": "#283442",
                      "linecolor": "#506784",
                      "ticks": "",
                      "title": {
                        "standoff": 15
                      },
                      "zerolinecolor": "#283442",
                      "zerolinewidth": 2
                    },
                    "yaxis": {
                      "automargin": true,
                      "gridcolor": "#283442",
                      "linecolor": "#506784",
                      "ticks": "",
                      "title": {
                        "standoff": 15
                      },
                      "zerolinecolor": "#283442",
                      "zerolinewidth": 2
                    }
                  }
                },
                "title": {
                  "text": "<b>Germany networth in all industries"
                },
                "xaxis": {
                  "anchor": "y",
                  "categoryarray": [
                    "Finance & Investments ",
                    "Technology ",
                    "Food & Beverage ",
                    "Fashion & Retail ",
                    "Real Estate ",
                    "Media & Entertainment ",
                    "Healthcare ",
                    "Energy ",
                    "Manufacturing ",
                    "Sports ",
                    "Service ",
                    "Automotive ",
                    "Diversified ",
                    "Gambling & Casinos ",
                    "Logistics ",
                    "Construction & Engineering ",
                    "Telecom ",
                    "Metals & Mining "
                  ],
                  "categoryorder": "array",
                  "domain": [
                    0,
                    1
                  ],
                  "title": {
                    "text": "industry"
                  }
                },
                "yaxis": {
                  "anchor": "x",
                  "domain": [
                    0,
                    1
                  ],
                  "title": {
                    "text": "Germany"
                  }
                }
              }
            }
          },
          "metadata": {},
          "output_type": "display_data"
        }
      ],
      "source": [
        "# Germany networth in all industries\n",
        "fig = px.scatter(\n",
        "    df1,\n",
        "    x = 'industry',\n",
        "    y = 'Germany',\n",
        "    template = 'plotly_dark',\n",
        "    color = 'industry',\n",
        "    size = 'Germany',\n",
        "    opacity = 0.85,\n",
        "    title = \"<b>Germany networth in all industries\",\n",
        "    height = 620)\n",
        "fig.show()"
      ]
    },
    {
      "cell_type": "markdown",
      "metadata": {
        "id": "UQZ97bmWJ0WV"
      },
      "source": [
        "Insights\n",
        "\n",
        "- Germany has it's major networth coming from the industry of Fashion and Retail which is 29 B dollars.\n",
        "- The second biggest industry of Germany is Manufacturing with a networth of 23 B dollars.\n",
        "- Additionaly, Germany has it's least networth of 1 B dollars coming from many different industries such as Energy."
      ]
    },
    {
      "cell_type": "code",
      "execution_count": 34,
      "metadata": {
        "colab": {
          "base_uri": "https://localhost:8080/",
          "height": 637
        },
        "id": "wKqIJ7E9BTRv",
        "outputId": "18899e67-098e-4f71-948f-ec2b67ce22e6"
      },
      "outputs": [
        {
          "data": {
            "application/vnd.plotly.v1+json": {
              "config": {
                "plotlyServerURL": "https://plot.ly"
              },
              "data": [
                {
                  "hovertemplate": "industry=%{x}<br>France=%{marker.size}<extra></extra>",
                  "legendgroup": "Finance & Investments ",
                  "marker": {
                    "color": "#636efa",
                    "opacity": 0.85,
                    "size": {
                      "bdata": "AAAAAAAAEEA=",
                      "dtype": "f8"
                    },
                    "sizemode": "area",
                    "sizeref": 0.02,
                    "symbol": "circle"
                  },
                  "mode": "markers",
                  "name": "Finance & Investments ",
                  "orientation": "v",
                  "showlegend": true,
                  "type": "scatter",
                  "x": [
                    "Finance & Investments "
                  ],
                  "xaxis": "x",
                  "y": {
                    "bdata": "AAAAAAAAEEA=",
                    "dtype": "f8"
                  },
                  "yaxis": "y"
                },
                {
                  "hovertemplate": "industry=%{x}<br>France=%{marker.size}<extra></extra>",
                  "legendgroup": "Technology ",
                  "marker": {
                    "color": "#EF553B",
                    "opacity": 0.85,
                    "size": {
                      "bdata": "AAAAAAAAAEA=",
                      "dtype": "f8"
                    },
                    "sizemode": "area",
                    "sizeref": 0.02,
                    "symbol": "circle"
                  },
                  "mode": "markers",
                  "name": "Technology ",
                  "orientation": "v",
                  "showlegend": true,
                  "type": "scatter",
                  "x": [
                    "Technology "
                  ],
                  "xaxis": "x",
                  "y": {
                    "bdata": "AAAAAAAAAEA=",
                    "dtype": "f8"
                  },
                  "yaxis": "y"
                },
                {
                  "hovertemplate": "industry=%{x}<br>France=%{marker.size}<extra></extra>",
                  "legendgroup": "Food & Beverage ",
                  "marker": {
                    "color": "#00cc96",
                    "opacity": 0.85,
                    "size": {
                      "bdata": "AAAAAAAAGEA=",
                      "dtype": "f8"
                    },
                    "sizemode": "area",
                    "sizeref": 0.02,
                    "symbol": "circle"
                  },
                  "mode": "markers",
                  "name": "Food & Beverage ",
                  "orientation": "v",
                  "showlegend": true,
                  "type": "scatter",
                  "x": [
                    "Food & Beverage "
                  ],
                  "xaxis": "x",
                  "y": {
                    "bdata": "AAAAAAAAGEA=",
                    "dtype": "f8"
                  },
                  "yaxis": "y"
                },
                {
                  "hovertemplate": "industry=%{x}<br>France=%{marker.size}<extra></extra>",
                  "legendgroup": "Fashion & Retail ",
                  "marker": {
                    "color": "#ab63fa",
                    "opacity": 0.85,
                    "size": {
                      "bdata": "AAAAAAAAIEA=",
                      "dtype": "f8"
                    },
                    "sizemode": "area",
                    "sizeref": 0.02,
                    "symbol": "circle"
                  },
                  "mode": "markers",
                  "name": "Fashion & Retail ",
                  "orientation": "v",
                  "showlegend": true,
                  "type": "scatter",
                  "x": [
                    "Fashion & Retail "
                  ],
                  "xaxis": "x",
                  "y": {
                    "bdata": "AAAAAAAAIEA=",
                    "dtype": "f8"
                  },
                  "yaxis": "y"
                },
                {
                  "hovertemplate": "industry=%{x}<br>France=%{marker.size}<extra></extra>",
                  "legendgroup": "Real Estate ",
                  "marker": {
                    "color": "#FFA15A",
                    "opacity": 0.85,
                    "size": {
                      "bdata": "AAAAAAAA8D8=",
                      "dtype": "f8"
                    },
                    "sizemode": "area",
                    "sizeref": 0.02,
                    "symbol": "circle"
                  },
                  "mode": "markers",
                  "name": "Real Estate ",
                  "orientation": "v",
                  "showlegend": true,
                  "type": "scatter",
                  "x": [
                    "Real Estate "
                  ],
                  "xaxis": "x",
                  "y": {
                    "bdata": "AAAAAAAA8D8=",
                    "dtype": "f8"
                  },
                  "yaxis": "y"
                },
                {
                  "hovertemplate": "industry=%{x}<br>France=%{marker.size}<extra></extra>",
                  "legendgroup": "Media & Entertainment ",
                  "marker": {
                    "color": "#19d3f3",
                    "opacity": 0.85,
                    "size": {
                      "bdata": "AAAAAAAAAAA=",
                      "dtype": "f8"
                    },
                    "sizemode": "area",
                    "sizeref": 0.02,
                    "symbol": "circle"
                  },
                  "mode": "markers",
                  "name": "Media & Entertainment ",
                  "orientation": "v",
                  "showlegend": true,
                  "type": "scatter",
                  "x": [
                    "Media & Entertainment "
                  ],
                  "xaxis": "x",
                  "y": {
                    "bdata": "AAAAAAAAAAA=",
                    "dtype": "f8"
                  },
                  "yaxis": "y"
                },
                {
                  "hovertemplate": "industry=%{x}<br>France=%{marker.size}<extra></extra>",
                  "legendgroup": "Healthcare ",
                  "marker": {
                    "color": "#FF6692",
                    "opacity": 0.85,
                    "size": {
                      "bdata": "AAAAAAAAHEA=",
                      "dtype": "f8"
                    },
                    "sizemode": "area",
                    "sizeref": 0.02,
                    "symbol": "circle"
                  },
                  "mode": "markers",
                  "name": "Healthcare ",
                  "orientation": "v",
                  "showlegend": true,
                  "type": "scatter",
                  "x": [
                    "Healthcare "
                  ],
                  "xaxis": "x",
                  "y": {
                    "bdata": "AAAAAAAAHEA=",
                    "dtype": "f8"
                  },
                  "yaxis": "y"
                },
                {
                  "hovertemplate": "industry=%{x}<br>France=%{marker.size}<extra></extra>",
                  "legendgroup": "Energy ",
                  "marker": {
                    "color": "#B6E880",
                    "opacity": 0.85,
                    "size": {
                      "bdata": "AAAAAAAA8D8=",
                      "dtype": "f8"
                    },
                    "sizemode": "area",
                    "sizeref": 0.02,
                    "symbol": "circle"
                  },
                  "mode": "markers",
                  "name": "Energy ",
                  "orientation": "v",
                  "showlegend": true,
                  "type": "scatter",
                  "x": [
                    "Energy "
                  ],
                  "xaxis": "x",
                  "y": {
                    "bdata": "AAAAAAAA8D8=",
                    "dtype": "f8"
                  },
                  "yaxis": "y"
                },
                {
                  "hovertemplate": "industry=%{x}<br>France=%{marker.size}<extra></extra>",
                  "legendgroup": "Manufacturing ",
                  "marker": {
                    "color": "#FF97FF",
                    "opacity": 0.85,
                    "size": {
                      "bdata": "AAAAAAAA8D8=",
                      "dtype": "f8"
                    },
                    "sizemode": "area",
                    "sizeref": 0.02,
                    "symbol": "circle"
                  },
                  "mode": "markers",
                  "name": "Manufacturing ",
                  "orientation": "v",
                  "showlegend": true,
                  "type": "scatter",
                  "x": [
                    "Manufacturing "
                  ],
                  "xaxis": "x",
                  "y": {
                    "bdata": "AAAAAAAA8D8=",
                    "dtype": "f8"
                  },
                  "yaxis": "y"
                },
                {
                  "hovertemplate": "industry=%{x}<br>France=%{marker.size}<extra></extra>",
                  "legendgroup": "Sports ",
                  "marker": {
                    "color": "#FECB52",
                    "opacity": 0.85,
                    "size": {
                      "bdata": "AAAAAAAAAAA=",
                      "dtype": "f8"
                    },
                    "sizemode": "area",
                    "sizeref": 0.02,
                    "symbol": "circle"
                  },
                  "mode": "markers",
                  "name": "Sports ",
                  "orientation": "v",
                  "showlegend": true,
                  "type": "scatter",
                  "x": [
                    "Sports "
                  ],
                  "xaxis": "x",
                  "y": {
                    "bdata": "AAAAAAAAAAA=",
                    "dtype": "f8"
                  },
                  "yaxis": "y"
                },
                {
                  "hovertemplate": "industry=%{x}<br>France=%{marker.size}<extra></extra>",
                  "legendgroup": "Service ",
                  "marker": {
                    "color": "#636efa",
                    "opacity": 0.85,
                    "size": {
                      "bdata": "AAAAAAAAAEA=",
                      "dtype": "f8"
                    },
                    "sizemode": "area",
                    "sizeref": 0.02,
                    "symbol": "circle"
                  },
                  "mode": "markers",
                  "name": "Service ",
                  "orientation": "v",
                  "showlegend": true,
                  "type": "scatter",
                  "x": [
                    "Service "
                  ],
                  "xaxis": "x",
                  "y": {
                    "bdata": "AAAAAAAAAEA=",
                    "dtype": "f8"
                  },
                  "yaxis": "y"
                },
                {
                  "hovertemplate": "industry=%{x}<br>France=%{marker.size}<extra></extra>",
                  "legendgroup": "Automotive ",
                  "marker": {
                    "color": "#EF553B",
                    "opacity": 0.85,
                    "size": {
                      "bdata": "AAAAAAAA8D8=",
                      "dtype": "f8"
                    },
                    "sizemode": "area",
                    "sizeref": 0.02,
                    "symbol": "circle"
                  },
                  "mode": "markers",
                  "name": "Automotive ",
                  "orientation": "v",
                  "showlegend": true,
                  "type": "scatter",
                  "x": [
                    "Automotive "
                  ],
                  "xaxis": "x",
                  "y": {
                    "bdata": "AAAAAAAA8D8=",
                    "dtype": "f8"
                  },
                  "yaxis": "y"
                },
                {
                  "hovertemplate": "industry=%{x}<br>France=%{marker.size}<extra></extra>",
                  "legendgroup": "Diversified ",
                  "marker": {
                    "color": "#00cc96",
                    "opacity": 0.85,
                    "size": {
                      "bdata": "AAAAAAAACEA=",
                      "dtype": "f8"
                    },
                    "sizemode": "area",
                    "sizeref": 0.02,
                    "symbol": "circle"
                  },
                  "mode": "markers",
                  "name": "Diversified ",
                  "orientation": "v",
                  "showlegend": true,
                  "type": "scatter",
                  "x": [
                    "Diversified "
                  ],
                  "xaxis": "x",
                  "y": {
                    "bdata": "AAAAAAAACEA=",
                    "dtype": "f8"
                  },
                  "yaxis": "y"
                },
                {
                  "hovertemplate": "industry=%{x}<br>France=%{marker.size}<extra></extra>",
                  "legendgroup": "Gambling & Casinos ",
                  "marker": {
                    "color": "#ab63fa",
                    "opacity": 0.85,
                    "size": {
                      "bdata": "AAAAAAAAAAA=",
                      "dtype": "f8"
                    },
                    "sizemode": "area",
                    "sizeref": 0.02,
                    "symbol": "circle"
                  },
                  "mode": "markers",
                  "name": "Gambling & Casinos ",
                  "orientation": "v",
                  "showlegend": true,
                  "type": "scatter",
                  "x": [
                    "Gambling & Casinos "
                  ],
                  "xaxis": "x",
                  "y": {
                    "bdata": "AAAAAAAAAAA=",
                    "dtype": "f8"
                  },
                  "yaxis": "y"
                },
                {
                  "hovertemplate": "industry=%{x}<br>France=%{marker.size}<extra></extra>",
                  "legendgroup": "Logistics ",
                  "marker": {
                    "color": "#FFA15A",
                    "opacity": 0.85,
                    "size": {
                      "bdata": "AAAAAAAAAEA=",
                      "dtype": "f8"
                    },
                    "sizemode": "area",
                    "sizeref": 0.02,
                    "symbol": "circle"
                  },
                  "mode": "markers",
                  "name": "Logistics ",
                  "orientation": "v",
                  "showlegend": true,
                  "type": "scatter",
                  "x": [
                    "Logistics "
                  ],
                  "xaxis": "x",
                  "y": {
                    "bdata": "AAAAAAAAAEA=",
                    "dtype": "f8"
                  },
                  "yaxis": "y"
                },
                {
                  "hovertemplate": "industry=%{x}<br>France=%{marker.size}<extra></extra>",
                  "legendgroup": "Construction & Engineering ",
                  "marker": {
                    "color": "#19d3f3",
                    "opacity": 0.85,
                    "size": {
                      "bdata": "AAAAAAAACEA=",
                      "dtype": "f8"
                    },
                    "sizemode": "area",
                    "sizeref": 0.02,
                    "symbol": "circle"
                  },
                  "mode": "markers",
                  "name": "Construction & Engineering ",
                  "orientation": "v",
                  "showlegend": true,
                  "type": "scatter",
                  "x": [
                    "Construction & Engineering "
                  ],
                  "xaxis": "x",
                  "y": {
                    "bdata": "AAAAAAAACEA=",
                    "dtype": "f8"
                  },
                  "yaxis": "y"
                },
                {
                  "hovertemplate": "industry=%{x}<br>France=%{marker.size}<extra></extra>",
                  "legendgroup": "Telecom ",
                  "marker": {
                    "color": "#FF6692",
                    "opacity": 0.85,
                    "size": {
                      "bdata": "AAAAAAAAAEA=",
                      "dtype": "f8"
                    },
                    "sizemode": "area",
                    "sizeref": 0.02,
                    "symbol": "circle"
                  },
                  "mode": "markers",
                  "name": "Telecom ",
                  "orientation": "v",
                  "showlegend": true,
                  "type": "scatter",
                  "x": [
                    "Telecom "
                  ],
                  "xaxis": "x",
                  "y": {
                    "bdata": "AAAAAAAAAEA=",
                    "dtype": "f8"
                  },
                  "yaxis": "y"
                },
                {
                  "hovertemplate": "industry=%{x}<br>France=%{marker.size}<extra></extra>",
                  "legendgroup": "Metals & Mining ",
                  "marker": {
                    "color": "#B6E880",
                    "opacity": 0.85,
                    "size": {
                      "bdata": "AAAAAAAAAAA=",
                      "dtype": "f8"
                    },
                    "sizemode": "area",
                    "sizeref": 0.02,
                    "symbol": "circle"
                  },
                  "mode": "markers",
                  "name": "Metals & Mining ",
                  "orientation": "v",
                  "showlegend": true,
                  "type": "scatter",
                  "x": [
                    "Metals & Mining "
                  ],
                  "xaxis": "x",
                  "y": {
                    "bdata": "AAAAAAAAAAA=",
                    "dtype": "f8"
                  },
                  "yaxis": "y"
                }
              ],
              "layout": {
                "height": 620,
                "legend": {
                  "itemsizing": "constant",
                  "title": {
                    "text": "industry"
                  },
                  "tracegroupgap": 0
                },
                "template": {
                  "data": {
                    "bar": [
                      {
                        "error_x": {
                          "color": "#f2f5fa"
                        },
                        "error_y": {
                          "color": "#f2f5fa"
                        },
                        "marker": {
                          "line": {
                            "color": "rgb(17,17,17)",
                            "width": 0.5
                          },
                          "pattern": {
                            "fillmode": "overlay",
                            "size": 10,
                            "solidity": 0.2
                          }
                        },
                        "type": "bar"
                      }
                    ],
                    "barpolar": [
                      {
                        "marker": {
                          "line": {
                            "color": "rgb(17,17,17)",
                            "width": 0.5
                          },
                          "pattern": {
                            "fillmode": "overlay",
                            "size": 10,
                            "solidity": 0.2
                          }
                        },
                        "type": "barpolar"
                      }
                    ],
                    "carpet": [
                      {
                        "aaxis": {
                          "endlinecolor": "#A2B1C6",
                          "gridcolor": "#506784",
                          "linecolor": "#506784",
                          "minorgridcolor": "#506784",
                          "startlinecolor": "#A2B1C6"
                        },
                        "baxis": {
                          "endlinecolor": "#A2B1C6",
                          "gridcolor": "#506784",
                          "linecolor": "#506784",
                          "minorgridcolor": "#506784",
                          "startlinecolor": "#A2B1C6"
                        },
                        "type": "carpet"
                      }
                    ],
                    "choropleth": [
                      {
                        "colorbar": {
                          "outlinewidth": 0,
                          "ticks": ""
                        },
                        "type": "choropleth"
                      }
                    ],
                    "contour": [
                      {
                        "colorbar": {
                          "outlinewidth": 0,
                          "ticks": ""
                        },
                        "colorscale": [
                          [
                            0,
                            "#0d0887"
                          ],
                          [
                            0.1111111111111111,
                            "#46039f"
                          ],
                          [
                            0.2222222222222222,
                            "#7201a8"
                          ],
                          [
                            0.3333333333333333,
                            "#9c179e"
                          ],
                          [
                            0.4444444444444444,
                            "#bd3786"
                          ],
                          [
                            0.5555555555555556,
                            "#d8576b"
                          ],
                          [
                            0.6666666666666666,
                            "#ed7953"
                          ],
                          [
                            0.7777777777777778,
                            "#fb9f3a"
                          ],
                          [
                            0.8888888888888888,
                            "#fdca26"
                          ],
                          [
                            1,
                            "#f0f921"
                          ]
                        ],
                        "type": "contour"
                      }
                    ],
                    "contourcarpet": [
                      {
                        "colorbar": {
                          "outlinewidth": 0,
                          "ticks": ""
                        },
                        "type": "contourcarpet"
                      }
                    ],
                    "heatmap": [
                      {
                        "colorbar": {
                          "outlinewidth": 0,
                          "ticks": ""
                        },
                        "colorscale": [
                          [
                            0,
                            "#0d0887"
                          ],
                          [
                            0.1111111111111111,
                            "#46039f"
                          ],
                          [
                            0.2222222222222222,
                            "#7201a8"
                          ],
                          [
                            0.3333333333333333,
                            "#9c179e"
                          ],
                          [
                            0.4444444444444444,
                            "#bd3786"
                          ],
                          [
                            0.5555555555555556,
                            "#d8576b"
                          ],
                          [
                            0.6666666666666666,
                            "#ed7953"
                          ],
                          [
                            0.7777777777777778,
                            "#fb9f3a"
                          ],
                          [
                            0.8888888888888888,
                            "#fdca26"
                          ],
                          [
                            1,
                            "#f0f921"
                          ]
                        ],
                        "type": "heatmap"
                      }
                    ],
                    "histogram": [
                      {
                        "marker": {
                          "pattern": {
                            "fillmode": "overlay",
                            "size": 10,
                            "solidity": 0.2
                          }
                        },
                        "type": "histogram"
                      }
                    ],
                    "histogram2d": [
                      {
                        "colorbar": {
                          "outlinewidth": 0,
                          "ticks": ""
                        },
                        "colorscale": [
                          [
                            0,
                            "#0d0887"
                          ],
                          [
                            0.1111111111111111,
                            "#46039f"
                          ],
                          [
                            0.2222222222222222,
                            "#7201a8"
                          ],
                          [
                            0.3333333333333333,
                            "#9c179e"
                          ],
                          [
                            0.4444444444444444,
                            "#bd3786"
                          ],
                          [
                            0.5555555555555556,
                            "#d8576b"
                          ],
                          [
                            0.6666666666666666,
                            "#ed7953"
                          ],
                          [
                            0.7777777777777778,
                            "#fb9f3a"
                          ],
                          [
                            0.8888888888888888,
                            "#fdca26"
                          ],
                          [
                            1,
                            "#f0f921"
                          ]
                        ],
                        "type": "histogram2d"
                      }
                    ],
                    "histogram2dcontour": [
                      {
                        "colorbar": {
                          "outlinewidth": 0,
                          "ticks": ""
                        },
                        "colorscale": [
                          [
                            0,
                            "#0d0887"
                          ],
                          [
                            0.1111111111111111,
                            "#46039f"
                          ],
                          [
                            0.2222222222222222,
                            "#7201a8"
                          ],
                          [
                            0.3333333333333333,
                            "#9c179e"
                          ],
                          [
                            0.4444444444444444,
                            "#bd3786"
                          ],
                          [
                            0.5555555555555556,
                            "#d8576b"
                          ],
                          [
                            0.6666666666666666,
                            "#ed7953"
                          ],
                          [
                            0.7777777777777778,
                            "#fb9f3a"
                          ],
                          [
                            0.8888888888888888,
                            "#fdca26"
                          ],
                          [
                            1,
                            "#f0f921"
                          ]
                        ],
                        "type": "histogram2dcontour"
                      }
                    ],
                    "mesh3d": [
                      {
                        "colorbar": {
                          "outlinewidth": 0,
                          "ticks": ""
                        },
                        "type": "mesh3d"
                      }
                    ],
                    "parcoords": [
                      {
                        "line": {
                          "colorbar": {
                            "outlinewidth": 0,
                            "ticks": ""
                          }
                        },
                        "type": "parcoords"
                      }
                    ],
                    "pie": [
                      {
                        "automargin": true,
                        "type": "pie"
                      }
                    ],
                    "scatter": [
                      {
                        "marker": {
                          "line": {
                            "color": "#283442"
                          }
                        },
                        "type": "scatter"
                      }
                    ],
                    "scatter3d": [
                      {
                        "line": {
                          "colorbar": {
                            "outlinewidth": 0,
                            "ticks": ""
                          }
                        },
                        "marker": {
                          "colorbar": {
                            "outlinewidth": 0,
                            "ticks": ""
                          }
                        },
                        "type": "scatter3d"
                      }
                    ],
                    "scattercarpet": [
                      {
                        "marker": {
                          "colorbar": {
                            "outlinewidth": 0,
                            "ticks": ""
                          }
                        },
                        "type": "scattercarpet"
                      }
                    ],
                    "scattergeo": [
                      {
                        "marker": {
                          "colorbar": {
                            "outlinewidth": 0,
                            "ticks": ""
                          }
                        },
                        "type": "scattergeo"
                      }
                    ],
                    "scattergl": [
                      {
                        "marker": {
                          "line": {
                            "color": "#283442"
                          }
                        },
                        "type": "scattergl"
                      }
                    ],
                    "scattermap": [
                      {
                        "marker": {
                          "colorbar": {
                            "outlinewidth": 0,
                            "ticks": ""
                          }
                        },
                        "type": "scattermap"
                      }
                    ],
                    "scattermapbox": [
                      {
                        "marker": {
                          "colorbar": {
                            "outlinewidth": 0,
                            "ticks": ""
                          }
                        },
                        "type": "scattermapbox"
                      }
                    ],
                    "scatterpolar": [
                      {
                        "marker": {
                          "colorbar": {
                            "outlinewidth": 0,
                            "ticks": ""
                          }
                        },
                        "type": "scatterpolar"
                      }
                    ],
                    "scatterpolargl": [
                      {
                        "marker": {
                          "colorbar": {
                            "outlinewidth": 0,
                            "ticks": ""
                          }
                        },
                        "type": "scatterpolargl"
                      }
                    ],
                    "scatterternary": [
                      {
                        "marker": {
                          "colorbar": {
                            "outlinewidth": 0,
                            "ticks": ""
                          }
                        },
                        "type": "scatterternary"
                      }
                    ],
                    "surface": [
                      {
                        "colorbar": {
                          "outlinewidth": 0,
                          "ticks": ""
                        },
                        "colorscale": [
                          [
                            0,
                            "#0d0887"
                          ],
                          [
                            0.1111111111111111,
                            "#46039f"
                          ],
                          [
                            0.2222222222222222,
                            "#7201a8"
                          ],
                          [
                            0.3333333333333333,
                            "#9c179e"
                          ],
                          [
                            0.4444444444444444,
                            "#bd3786"
                          ],
                          [
                            0.5555555555555556,
                            "#d8576b"
                          ],
                          [
                            0.6666666666666666,
                            "#ed7953"
                          ],
                          [
                            0.7777777777777778,
                            "#fb9f3a"
                          ],
                          [
                            0.8888888888888888,
                            "#fdca26"
                          ],
                          [
                            1,
                            "#f0f921"
                          ]
                        ],
                        "type": "surface"
                      }
                    ],
                    "table": [
                      {
                        "cells": {
                          "fill": {
                            "color": "#506784"
                          },
                          "line": {
                            "color": "rgb(17,17,17)"
                          }
                        },
                        "header": {
                          "fill": {
                            "color": "#2a3f5f"
                          },
                          "line": {
                            "color": "rgb(17,17,17)"
                          }
                        },
                        "type": "table"
                      }
                    ]
                  },
                  "layout": {
                    "annotationdefaults": {
                      "arrowcolor": "#f2f5fa",
                      "arrowhead": 0,
                      "arrowwidth": 1
                    },
                    "autotypenumbers": "strict",
                    "coloraxis": {
                      "colorbar": {
                        "outlinewidth": 0,
                        "ticks": ""
                      }
                    },
                    "colorscale": {
                      "diverging": [
                        [
                          0,
                          "#8e0152"
                        ],
                        [
                          0.1,
                          "#c51b7d"
                        ],
                        [
                          0.2,
                          "#de77ae"
                        ],
                        [
                          0.3,
                          "#f1b6da"
                        ],
                        [
                          0.4,
                          "#fde0ef"
                        ],
                        [
                          0.5,
                          "#f7f7f7"
                        ],
                        [
                          0.6,
                          "#e6f5d0"
                        ],
                        [
                          0.7,
                          "#b8e186"
                        ],
                        [
                          0.8,
                          "#7fbc41"
                        ],
                        [
                          0.9,
                          "#4d9221"
                        ],
                        [
                          1,
                          "#276419"
                        ]
                      ],
                      "sequential": [
                        [
                          0,
                          "#0d0887"
                        ],
                        [
                          0.1111111111111111,
                          "#46039f"
                        ],
                        [
                          0.2222222222222222,
                          "#7201a8"
                        ],
                        [
                          0.3333333333333333,
                          "#9c179e"
                        ],
                        [
                          0.4444444444444444,
                          "#bd3786"
                        ],
                        [
                          0.5555555555555556,
                          "#d8576b"
                        ],
                        [
                          0.6666666666666666,
                          "#ed7953"
                        ],
                        [
                          0.7777777777777778,
                          "#fb9f3a"
                        ],
                        [
                          0.8888888888888888,
                          "#fdca26"
                        ],
                        [
                          1,
                          "#f0f921"
                        ]
                      ],
                      "sequentialminus": [
                        [
                          0,
                          "#0d0887"
                        ],
                        [
                          0.1111111111111111,
                          "#46039f"
                        ],
                        [
                          0.2222222222222222,
                          "#7201a8"
                        ],
                        [
                          0.3333333333333333,
                          "#9c179e"
                        ],
                        [
                          0.4444444444444444,
                          "#bd3786"
                        ],
                        [
                          0.5555555555555556,
                          "#d8576b"
                        ],
                        [
                          0.6666666666666666,
                          "#ed7953"
                        ],
                        [
                          0.7777777777777778,
                          "#fb9f3a"
                        ],
                        [
                          0.8888888888888888,
                          "#fdca26"
                        ],
                        [
                          1,
                          "#f0f921"
                        ]
                      ]
                    },
                    "colorway": [
                      "#636efa",
                      "#EF553B",
                      "#00cc96",
                      "#ab63fa",
                      "#FFA15A",
                      "#19d3f3",
                      "#FF6692",
                      "#B6E880",
                      "#FF97FF",
                      "#FECB52"
                    ],
                    "font": {
                      "color": "#f2f5fa"
                    },
                    "geo": {
                      "bgcolor": "rgb(17,17,17)",
                      "lakecolor": "rgb(17,17,17)",
                      "landcolor": "rgb(17,17,17)",
                      "showlakes": true,
                      "showland": true,
                      "subunitcolor": "#506784"
                    },
                    "hoverlabel": {
                      "align": "left"
                    },
                    "hovermode": "closest",
                    "mapbox": {
                      "style": "dark"
                    },
                    "paper_bgcolor": "rgb(17,17,17)",
                    "plot_bgcolor": "rgb(17,17,17)",
                    "polar": {
                      "angularaxis": {
                        "gridcolor": "#506784",
                        "linecolor": "#506784",
                        "ticks": ""
                      },
                      "bgcolor": "rgb(17,17,17)",
                      "radialaxis": {
                        "gridcolor": "#506784",
                        "linecolor": "#506784",
                        "ticks": ""
                      }
                    },
                    "scene": {
                      "xaxis": {
                        "backgroundcolor": "rgb(17,17,17)",
                        "gridcolor": "#506784",
                        "gridwidth": 2,
                        "linecolor": "#506784",
                        "showbackground": true,
                        "ticks": "",
                        "zerolinecolor": "#C8D4E3"
                      },
                      "yaxis": {
                        "backgroundcolor": "rgb(17,17,17)",
                        "gridcolor": "#506784",
                        "gridwidth": 2,
                        "linecolor": "#506784",
                        "showbackground": true,
                        "ticks": "",
                        "zerolinecolor": "#C8D4E3"
                      },
                      "zaxis": {
                        "backgroundcolor": "rgb(17,17,17)",
                        "gridcolor": "#506784",
                        "gridwidth": 2,
                        "linecolor": "#506784",
                        "showbackground": true,
                        "ticks": "",
                        "zerolinecolor": "#C8D4E3"
                      }
                    },
                    "shapedefaults": {
                      "line": {
                        "color": "#f2f5fa"
                      }
                    },
                    "sliderdefaults": {
                      "bgcolor": "#C8D4E3",
                      "bordercolor": "rgb(17,17,17)",
                      "borderwidth": 1,
                      "tickwidth": 0
                    },
                    "ternary": {
                      "aaxis": {
                        "gridcolor": "#506784",
                        "linecolor": "#506784",
                        "ticks": ""
                      },
                      "baxis": {
                        "gridcolor": "#506784",
                        "linecolor": "#506784",
                        "ticks": ""
                      },
                      "bgcolor": "rgb(17,17,17)",
                      "caxis": {
                        "gridcolor": "#506784",
                        "linecolor": "#506784",
                        "ticks": ""
                      }
                    },
                    "title": {
                      "x": 0.05
                    },
                    "updatemenudefaults": {
                      "bgcolor": "#506784",
                      "borderwidth": 0
                    },
                    "xaxis": {
                      "automargin": true,
                      "gridcolor": "#283442",
                      "linecolor": "#506784",
                      "ticks": "",
                      "title": {
                        "standoff": 15
                      },
                      "zerolinecolor": "#283442",
                      "zerolinewidth": 2
                    },
                    "yaxis": {
                      "automargin": true,
                      "gridcolor": "#283442",
                      "linecolor": "#506784",
                      "ticks": "",
                      "title": {
                        "standoff": 15
                      },
                      "zerolinecolor": "#283442",
                      "zerolinewidth": 2
                    }
                  }
                },
                "title": {
                  "text": "<b>France networth in all industries"
                },
                "xaxis": {
                  "anchor": "y",
                  "categoryarray": [
                    "Finance & Investments ",
                    "Technology ",
                    "Food & Beverage ",
                    "Fashion & Retail ",
                    "Real Estate ",
                    "Media & Entertainment ",
                    "Healthcare ",
                    "Energy ",
                    "Manufacturing ",
                    "Sports ",
                    "Service ",
                    "Automotive ",
                    "Diversified ",
                    "Gambling & Casinos ",
                    "Logistics ",
                    "Construction & Engineering ",
                    "Telecom ",
                    "Metals & Mining "
                  ],
                  "categoryorder": "array",
                  "domain": [
                    0,
                    1
                  ],
                  "title": {
                    "text": "industry"
                  }
                },
                "yaxis": {
                  "anchor": "x",
                  "domain": [
                    0,
                    1
                  ],
                  "title": {
                    "text": "France"
                  }
                }
              }
            }
          },
          "metadata": {},
          "output_type": "display_data"
        }
      ],
      "source": [
        "# France networth in all industries\n",
        "fig = px.scatter(\n",
        "    df1,\n",
        "    x = 'industry',\n",
        "    y = 'France',\n",
        "    template = 'plotly_dark',\n",
        "    color = 'industry',\n",
        "    size = 'France',\n",
        "    opacity = 0.85,\n",
        "    title = \"<b>France networth in all industries\",\n",
        "    height = 620)\n",
        "fig.show()"
      ]
    },
    {
      "cell_type": "markdown",
      "metadata": {
        "id": "xBFgc1mMJ5bW"
      },
      "source": [
        "Insights\n",
        "\n",
        "- France has it's major networth coming from the industry of Fashiona and Retail which is 8 B dollars.\n",
        "- The second biggest industry of France is Healhtcare with a networth of 7 B dollars.\n",
        "- Additionaly, France has it's least networth of 1 B dollars coming from many industries such as Automative."
      ]
    },
    {
      "cell_type": "markdown",
      "metadata": {
        "id": "XK-Z3eXCBZgc"
      },
      "source": [
        "## Analysis according to source"
      ]
    },
    {
      "cell_type": "markdown",
      "metadata": {
        "id": "tEfC7dePJ-1b"
      },
      "source": [
        "What source does top 10 young billionaires have?"
      ]
    },
    {
      "cell_type": "code",
      "execution_count": 35,
      "metadata": {
        "colab": {
          "base_uri": "https://localhost:8080/",
          "height": 542
        },
        "id": "sv-NLDkQBVip",
        "outputId": "cd1fcc42-7d92-4e1f-afb0-4cf660370335"
      },
      "outputs": [
        {
          "data": {
            "application/vnd.plotly.v1+json": {
              "config": {
                "plotlyServerURL": "https://plot.ly"
              },
              "data": [
                {
                  "hovertemplate": "source=drugstores<br>name=%{x}<br>networth=%{y}<extra></extra>",
                  "legendgroup": "drugstores",
                  "marker": {
                    "color": "#636efa",
                    "opacity": 0.8,
                    "pattern": {
                      "shape": ""
                    }
                  },
                  "name": "drugstores",
                  "orientation": "v",
                  "showlegend": true,
                  "textposition": "auto",
                  "type": "bar",
                  "x": [
                    "Kevin David Lehmann "
                  ],
                  "xaxis": "x",
                  "y": {
                    "bdata": "MzMzMzMzA0A=",
                    "dtype": "f8"
                  },
                  "yaxis": "y"
                },
                {
                  "hovertemplate": "source=fintech<br>name=%{x}<br>networth=%{y}<extra></extra>",
                  "legendgroup": "fintech",
                  "marker": {
                    "color": "#EF553B",
                    "opacity": 0.8,
                    "pattern": {
                      "shape": ""
                    }
                  },
                  "name": "fintech",
                  "orientation": "v",
                  "showlegend": true,
                  "textposition": "auto",
                  "type": "bar",
                  "x": [
                    "Pedro Franceschi ",
                    "Henrique Dubugras "
                  ],
                  "xaxis": "x",
                  "y": {
                    "bdata": "AAAAAAAA+D8AAAAAAAD4Pw==",
                    "dtype": "f8"
                  },
                  "yaxis": "y"
                },
                {
                  "hovertemplate": "source=chemicals<br>name=%{x}<br>networth=%{y}<extra></extra>",
                  "legendgroup": "chemicals",
                  "marker": {
                    "color": "#00cc96",
                    "opacity": 0.8,
                    "pattern": {
                      "shape": ""
                    }
                  },
                  "name": "chemicals",
                  "orientation": "v",
                  "showlegend": true,
                  "textposition": "auto",
                  "type": "bar",
                  "x": [
                    "Wang Zelong "
                  ],
                  "xaxis": "x",
                  "y": {
                    "bdata": "AAAAAAAA+D8=",
                    "dtype": "f8"
                  },
                  "yaxis": "y"
                },
                {
                  "hovertemplate": "source=investments<br>name=%{x}<br>networth=%{y}<extra></extra>",
                  "legendgroup": "investments",
                  "marker": {
                    "color": "#ab63fa",
                    "opacity": 0.8,
                    "pattern": {
                      "shape": ""
                    }
                  },
                  "name": "investments",
                  "orientation": "v",
                  "showlegend": true,
                  "textposition": "auto",
                  "type": "bar",
                  "x": [
                    "Alexandra Andresen ",
                    "Katharina Andresen "
                  ],
                  "xaxis": "x",
                  "y": {
                    "bdata": "zczMzMzM9D/NzMzMzMz0Pw==",
                    "dtype": "f8"
                  },
                  "yaxis": "y"
                },
                {
                  "hovertemplate": "source=sensors★<br>name=%{x}<br>networth=%{y}<extra></extra>",
                  "legendgroup": "sensors★",
                  "marker": {
                    "color": "#FFA15A",
                    "opacity": 0.8,
                    "pattern": {
                      "shape": ""
                    }
                  },
                  "name": "sensors★",
                  "orientation": "v",
                  "showlegend": true,
                  "textposition": "auto",
                  "type": "bar",
                  "x": [
                    "Austin Russell "
                  ],
                  "xaxis": "x",
                  "y": {
                    "bdata": "mpmZmZmZ+T8=",
                    "dtype": "f8"
                  },
                  "yaxis": "y"
                },
                {
                  "hovertemplate": "source=e-commerce software<br>name=%{x}<br>networth=%{y}<extra></extra>",
                  "legendgroup": "e-commerce software",
                  "marker": {
                    "color": "#19d3f3",
                    "opacity": 0.8,
                    "pattern": {
                      "shape": ""
                    }
                  },
                  "name": "e-commerce software",
                  "orientation": "v",
                  "showlegend": true,
                  "textposition": "auto",
                  "type": "bar",
                  "x": [
                    "Ryan Breslow "
                  ],
                  "xaxis": "x",
                  "y": {
                    "bdata": "AAAAAAAAAEA=",
                    "dtype": "f8"
                  },
                  "yaxis": "y"
                },
                {
                  "hovertemplate": "source=fish farming<br>name=%{x}<br>networth=%{y}<extra></extra>",
                  "legendgroup": "fish farming",
                  "marker": {
                    "color": "#FF6692",
                    "opacity": 0.8,
                    "pattern": {
                      "shape": ""
                    }
                  },
                  "name": "fish farming",
                  "orientation": "v",
                  "showlegend": true,
                  "textposition": "auto",
                  "type": "bar",
                  "x": [
                    "Gustav Magnar Witzoe "
                  ],
                  "xaxis": "x",
                  "y": {
                    "bdata": "AAAAAAAAEkA=",
                    "dtype": "f8"
                  },
                  "yaxis": "y"
                },
                {
                  "hovertemplate": "source=cryptocurrency exchange<br>name=%{x}<br>networth=%{y}<extra></extra>",
                  "legendgroup": "cryptocurrency exchange",
                  "marker": {
                    "color": "#B6E880",
                    "opacity": 0.8,
                    "pattern": {
                      "shape": ""
                    }
                  },
                  "name": "cryptocurrency exchange",
                  "orientation": "v",
                  "showlegend": true,
                  "textposition": "auto",
                  "type": "bar",
                  "x": [
                    "Gary Wang "
                  ],
                  "xaxis": "x",
                  "y": {
                    "bdata": "mpmZmZmZF0A=",
                    "dtype": "f8"
                  },
                  "yaxis": "y"
                }
              ],
              "layout": {
                "barmode": "relative",
                "legend": {
                  "title": {
                    "text": "source"
                  },
                  "tracegroupgap": 0
                },
                "template": {
                  "data": {
                    "bar": [
                      {
                        "error_x": {
                          "color": "#f2f5fa"
                        },
                        "error_y": {
                          "color": "#f2f5fa"
                        },
                        "marker": {
                          "line": {
                            "color": "rgb(17,17,17)",
                            "width": 0.5
                          },
                          "pattern": {
                            "fillmode": "overlay",
                            "size": 10,
                            "solidity": 0.2
                          }
                        },
                        "type": "bar"
                      }
                    ],
                    "barpolar": [
                      {
                        "marker": {
                          "line": {
                            "color": "rgb(17,17,17)",
                            "width": 0.5
                          },
                          "pattern": {
                            "fillmode": "overlay",
                            "size": 10,
                            "solidity": 0.2
                          }
                        },
                        "type": "barpolar"
                      }
                    ],
                    "carpet": [
                      {
                        "aaxis": {
                          "endlinecolor": "#A2B1C6",
                          "gridcolor": "#506784",
                          "linecolor": "#506784",
                          "minorgridcolor": "#506784",
                          "startlinecolor": "#A2B1C6"
                        },
                        "baxis": {
                          "endlinecolor": "#A2B1C6",
                          "gridcolor": "#506784",
                          "linecolor": "#506784",
                          "minorgridcolor": "#506784",
                          "startlinecolor": "#A2B1C6"
                        },
                        "type": "carpet"
                      }
                    ],
                    "choropleth": [
                      {
                        "colorbar": {
                          "outlinewidth": 0,
                          "ticks": ""
                        },
                        "type": "choropleth"
                      }
                    ],
                    "contour": [
                      {
                        "colorbar": {
                          "outlinewidth": 0,
                          "ticks": ""
                        },
                        "colorscale": [
                          [
                            0,
                            "#0d0887"
                          ],
                          [
                            0.1111111111111111,
                            "#46039f"
                          ],
                          [
                            0.2222222222222222,
                            "#7201a8"
                          ],
                          [
                            0.3333333333333333,
                            "#9c179e"
                          ],
                          [
                            0.4444444444444444,
                            "#bd3786"
                          ],
                          [
                            0.5555555555555556,
                            "#d8576b"
                          ],
                          [
                            0.6666666666666666,
                            "#ed7953"
                          ],
                          [
                            0.7777777777777778,
                            "#fb9f3a"
                          ],
                          [
                            0.8888888888888888,
                            "#fdca26"
                          ],
                          [
                            1,
                            "#f0f921"
                          ]
                        ],
                        "type": "contour"
                      }
                    ],
                    "contourcarpet": [
                      {
                        "colorbar": {
                          "outlinewidth": 0,
                          "ticks": ""
                        },
                        "type": "contourcarpet"
                      }
                    ],
                    "heatmap": [
                      {
                        "colorbar": {
                          "outlinewidth": 0,
                          "ticks": ""
                        },
                        "colorscale": [
                          [
                            0,
                            "#0d0887"
                          ],
                          [
                            0.1111111111111111,
                            "#46039f"
                          ],
                          [
                            0.2222222222222222,
                            "#7201a8"
                          ],
                          [
                            0.3333333333333333,
                            "#9c179e"
                          ],
                          [
                            0.4444444444444444,
                            "#bd3786"
                          ],
                          [
                            0.5555555555555556,
                            "#d8576b"
                          ],
                          [
                            0.6666666666666666,
                            "#ed7953"
                          ],
                          [
                            0.7777777777777778,
                            "#fb9f3a"
                          ],
                          [
                            0.8888888888888888,
                            "#fdca26"
                          ],
                          [
                            1,
                            "#f0f921"
                          ]
                        ],
                        "type": "heatmap"
                      }
                    ],
                    "histogram": [
                      {
                        "marker": {
                          "pattern": {
                            "fillmode": "overlay",
                            "size": 10,
                            "solidity": 0.2
                          }
                        },
                        "type": "histogram"
                      }
                    ],
                    "histogram2d": [
                      {
                        "colorbar": {
                          "outlinewidth": 0,
                          "ticks": ""
                        },
                        "colorscale": [
                          [
                            0,
                            "#0d0887"
                          ],
                          [
                            0.1111111111111111,
                            "#46039f"
                          ],
                          [
                            0.2222222222222222,
                            "#7201a8"
                          ],
                          [
                            0.3333333333333333,
                            "#9c179e"
                          ],
                          [
                            0.4444444444444444,
                            "#bd3786"
                          ],
                          [
                            0.5555555555555556,
                            "#d8576b"
                          ],
                          [
                            0.6666666666666666,
                            "#ed7953"
                          ],
                          [
                            0.7777777777777778,
                            "#fb9f3a"
                          ],
                          [
                            0.8888888888888888,
                            "#fdca26"
                          ],
                          [
                            1,
                            "#f0f921"
                          ]
                        ],
                        "type": "histogram2d"
                      }
                    ],
                    "histogram2dcontour": [
                      {
                        "colorbar": {
                          "outlinewidth": 0,
                          "ticks": ""
                        },
                        "colorscale": [
                          [
                            0,
                            "#0d0887"
                          ],
                          [
                            0.1111111111111111,
                            "#46039f"
                          ],
                          [
                            0.2222222222222222,
                            "#7201a8"
                          ],
                          [
                            0.3333333333333333,
                            "#9c179e"
                          ],
                          [
                            0.4444444444444444,
                            "#bd3786"
                          ],
                          [
                            0.5555555555555556,
                            "#d8576b"
                          ],
                          [
                            0.6666666666666666,
                            "#ed7953"
                          ],
                          [
                            0.7777777777777778,
                            "#fb9f3a"
                          ],
                          [
                            0.8888888888888888,
                            "#fdca26"
                          ],
                          [
                            1,
                            "#f0f921"
                          ]
                        ],
                        "type": "histogram2dcontour"
                      }
                    ],
                    "mesh3d": [
                      {
                        "colorbar": {
                          "outlinewidth": 0,
                          "ticks": ""
                        },
                        "type": "mesh3d"
                      }
                    ],
                    "parcoords": [
                      {
                        "line": {
                          "colorbar": {
                            "outlinewidth": 0,
                            "ticks": ""
                          }
                        },
                        "type": "parcoords"
                      }
                    ],
                    "pie": [
                      {
                        "automargin": true,
                        "type": "pie"
                      }
                    ],
                    "scatter": [
                      {
                        "marker": {
                          "line": {
                            "color": "#283442"
                          }
                        },
                        "type": "scatter"
                      }
                    ],
                    "scatter3d": [
                      {
                        "line": {
                          "colorbar": {
                            "outlinewidth": 0,
                            "ticks": ""
                          }
                        },
                        "marker": {
                          "colorbar": {
                            "outlinewidth": 0,
                            "ticks": ""
                          }
                        },
                        "type": "scatter3d"
                      }
                    ],
                    "scattercarpet": [
                      {
                        "marker": {
                          "colorbar": {
                            "outlinewidth": 0,
                            "ticks": ""
                          }
                        },
                        "type": "scattercarpet"
                      }
                    ],
                    "scattergeo": [
                      {
                        "marker": {
                          "colorbar": {
                            "outlinewidth": 0,
                            "ticks": ""
                          }
                        },
                        "type": "scattergeo"
                      }
                    ],
                    "scattergl": [
                      {
                        "marker": {
                          "line": {
                            "color": "#283442"
                          }
                        },
                        "type": "scattergl"
                      }
                    ],
                    "scattermap": [
                      {
                        "marker": {
                          "colorbar": {
                            "outlinewidth": 0,
                            "ticks": ""
                          }
                        },
                        "type": "scattermap"
                      }
                    ],
                    "scattermapbox": [
                      {
                        "marker": {
                          "colorbar": {
                            "outlinewidth": 0,
                            "ticks": ""
                          }
                        },
                        "type": "scattermapbox"
                      }
                    ],
                    "scatterpolar": [
                      {
                        "marker": {
                          "colorbar": {
                            "outlinewidth": 0,
                            "ticks": ""
                          }
                        },
                        "type": "scatterpolar"
                      }
                    ],
                    "scatterpolargl": [
                      {
                        "marker": {
                          "colorbar": {
                            "outlinewidth": 0,
                            "ticks": ""
                          }
                        },
                        "type": "scatterpolargl"
                      }
                    ],
                    "scatterternary": [
                      {
                        "marker": {
                          "colorbar": {
                            "outlinewidth": 0,
                            "ticks": ""
                          }
                        },
                        "type": "scatterternary"
                      }
                    ],
                    "surface": [
                      {
                        "colorbar": {
                          "outlinewidth": 0,
                          "ticks": ""
                        },
                        "colorscale": [
                          [
                            0,
                            "#0d0887"
                          ],
                          [
                            0.1111111111111111,
                            "#46039f"
                          ],
                          [
                            0.2222222222222222,
                            "#7201a8"
                          ],
                          [
                            0.3333333333333333,
                            "#9c179e"
                          ],
                          [
                            0.4444444444444444,
                            "#bd3786"
                          ],
                          [
                            0.5555555555555556,
                            "#d8576b"
                          ],
                          [
                            0.6666666666666666,
                            "#ed7953"
                          ],
                          [
                            0.7777777777777778,
                            "#fb9f3a"
                          ],
                          [
                            0.8888888888888888,
                            "#fdca26"
                          ],
                          [
                            1,
                            "#f0f921"
                          ]
                        ],
                        "type": "surface"
                      }
                    ],
                    "table": [
                      {
                        "cells": {
                          "fill": {
                            "color": "#506784"
                          },
                          "line": {
                            "color": "rgb(17,17,17)"
                          }
                        },
                        "header": {
                          "fill": {
                            "color": "#2a3f5f"
                          },
                          "line": {
                            "color": "rgb(17,17,17)"
                          }
                        },
                        "type": "table"
                      }
                    ]
                  },
                  "layout": {
                    "annotationdefaults": {
                      "arrowcolor": "#f2f5fa",
                      "arrowhead": 0,
                      "arrowwidth": 1
                    },
                    "autotypenumbers": "strict",
                    "coloraxis": {
                      "colorbar": {
                        "outlinewidth": 0,
                        "ticks": ""
                      }
                    },
                    "colorscale": {
                      "diverging": [
                        [
                          0,
                          "#8e0152"
                        ],
                        [
                          0.1,
                          "#c51b7d"
                        ],
                        [
                          0.2,
                          "#de77ae"
                        ],
                        [
                          0.3,
                          "#f1b6da"
                        ],
                        [
                          0.4,
                          "#fde0ef"
                        ],
                        [
                          0.5,
                          "#f7f7f7"
                        ],
                        [
                          0.6,
                          "#e6f5d0"
                        ],
                        [
                          0.7,
                          "#b8e186"
                        ],
                        [
                          0.8,
                          "#7fbc41"
                        ],
                        [
                          0.9,
                          "#4d9221"
                        ],
                        [
                          1,
                          "#276419"
                        ]
                      ],
                      "sequential": [
                        [
                          0,
                          "#0d0887"
                        ],
                        [
                          0.1111111111111111,
                          "#46039f"
                        ],
                        [
                          0.2222222222222222,
                          "#7201a8"
                        ],
                        [
                          0.3333333333333333,
                          "#9c179e"
                        ],
                        [
                          0.4444444444444444,
                          "#bd3786"
                        ],
                        [
                          0.5555555555555556,
                          "#d8576b"
                        ],
                        [
                          0.6666666666666666,
                          "#ed7953"
                        ],
                        [
                          0.7777777777777778,
                          "#fb9f3a"
                        ],
                        [
                          0.8888888888888888,
                          "#fdca26"
                        ],
                        [
                          1,
                          "#f0f921"
                        ]
                      ],
                      "sequentialminus": [
                        [
                          0,
                          "#0d0887"
                        ],
                        [
                          0.1111111111111111,
                          "#46039f"
                        ],
                        [
                          0.2222222222222222,
                          "#7201a8"
                        ],
                        [
                          0.3333333333333333,
                          "#9c179e"
                        ],
                        [
                          0.4444444444444444,
                          "#bd3786"
                        ],
                        [
                          0.5555555555555556,
                          "#d8576b"
                        ],
                        [
                          0.6666666666666666,
                          "#ed7953"
                        ],
                        [
                          0.7777777777777778,
                          "#fb9f3a"
                        ],
                        [
                          0.8888888888888888,
                          "#fdca26"
                        ],
                        [
                          1,
                          "#f0f921"
                        ]
                      ]
                    },
                    "colorway": [
                      "#636efa",
                      "#EF553B",
                      "#00cc96",
                      "#ab63fa",
                      "#FFA15A",
                      "#19d3f3",
                      "#FF6692",
                      "#B6E880",
                      "#FF97FF",
                      "#FECB52"
                    ],
                    "font": {
                      "color": "#f2f5fa"
                    },
                    "geo": {
                      "bgcolor": "rgb(17,17,17)",
                      "lakecolor": "rgb(17,17,17)",
                      "landcolor": "rgb(17,17,17)",
                      "showlakes": true,
                      "showland": true,
                      "subunitcolor": "#506784"
                    },
                    "hoverlabel": {
                      "align": "left"
                    },
                    "hovermode": "closest",
                    "mapbox": {
                      "style": "dark"
                    },
                    "paper_bgcolor": "rgb(17,17,17)",
                    "plot_bgcolor": "rgb(17,17,17)",
                    "polar": {
                      "angularaxis": {
                        "gridcolor": "#506784",
                        "linecolor": "#506784",
                        "ticks": ""
                      },
                      "bgcolor": "rgb(17,17,17)",
                      "radialaxis": {
                        "gridcolor": "#506784",
                        "linecolor": "#506784",
                        "ticks": ""
                      }
                    },
                    "scene": {
                      "xaxis": {
                        "backgroundcolor": "rgb(17,17,17)",
                        "gridcolor": "#506784",
                        "gridwidth": 2,
                        "linecolor": "#506784",
                        "showbackground": true,
                        "ticks": "",
                        "zerolinecolor": "#C8D4E3"
                      },
                      "yaxis": {
                        "backgroundcolor": "rgb(17,17,17)",
                        "gridcolor": "#506784",
                        "gridwidth": 2,
                        "linecolor": "#506784",
                        "showbackground": true,
                        "ticks": "",
                        "zerolinecolor": "#C8D4E3"
                      },
                      "zaxis": {
                        "backgroundcolor": "rgb(17,17,17)",
                        "gridcolor": "#506784",
                        "gridwidth": 2,
                        "linecolor": "#506784",
                        "showbackground": true,
                        "ticks": "",
                        "zerolinecolor": "#C8D4E3"
                      }
                    },
                    "shapedefaults": {
                      "line": {
                        "color": "#f2f5fa"
                      }
                    },
                    "sliderdefaults": {
                      "bgcolor": "#C8D4E3",
                      "bordercolor": "rgb(17,17,17)",
                      "borderwidth": 1,
                      "tickwidth": 0
                    },
                    "ternary": {
                      "aaxis": {
                        "gridcolor": "#506784",
                        "linecolor": "#506784",
                        "ticks": ""
                      },
                      "baxis": {
                        "gridcolor": "#506784",
                        "linecolor": "#506784",
                        "ticks": ""
                      },
                      "bgcolor": "rgb(17,17,17)",
                      "caxis": {
                        "gridcolor": "#506784",
                        "linecolor": "#506784",
                        "ticks": ""
                      }
                    },
                    "title": {
                      "x": 0.05
                    },
                    "updatemenudefaults": {
                      "bgcolor": "#506784",
                      "borderwidth": 0
                    },
                    "xaxis": {
                      "automargin": true,
                      "gridcolor": "#283442",
                      "linecolor": "#506784",
                      "ticks": "",
                      "title": {
                        "standoff": 15
                      },
                      "zerolinecolor": "#283442",
                      "zerolinewidth": 2
                    },
                    "yaxis": {
                      "automargin": true,
                      "gridcolor": "#283442",
                      "linecolor": "#506784",
                      "ticks": "",
                      "title": {
                        "standoff": 15
                      },
                      "zerolinecolor": "#283442",
                      "zerolinewidth": 2
                    }
                  }
                },
                "title": {
                  "text": "<b>Top 10 youngest billionairs and their sources"
                },
                "xaxis": {
                  "anchor": "y",
                  "domain": [
                    0,
                    1
                  ],
                  "title": {
                    "text": "name"
                  }
                },
                "yaxis": {
                  "anchor": "x",
                  "domain": [
                    0,
                    1
                  ],
                  "title": {
                    "text": "networth"
                  }
                }
              }
            }
          },
          "metadata": {},
          "output_type": "display_data"
        }
      ],
      "source": [
        "# Top 10 youngest billionairs and their sources\n",
        "fig = px.bar(df.sort_values(\n",
        "    'age',\n",
        "    ascending = True)[:10],\n",
        "    x = 'name',\n",
        "    y = 'networth',\n",
        "    template = 'plotly_dark',\n",
        "    color = 'source',\n",
        "    opacity = 0.8,\n",
        "    title = '<b>Top 10 youngest billionairs and their sources')\n",
        "fig.show()"
      ]
    },
    {
      "cell_type": "markdown",
      "metadata": {
        "id": "7-xKwXLsJ_2c"
      },
      "source": [
        "Insights\n",
        "\n",
        "- The youngest billionaire Kevin David Lehmann has it's networth in the source of DrugStores.\n",
        "- The richest billionaire in top 10 youngest billionaires is Gary Wang and have it's networth coming from Crypto Currency Exchange source.\n",
        "- The second richest billionaire in top 10 youngest billionaires is Gustav Magnar Witzoe have it's networth coming from Fish Farming source."
      ]
    },
    {
      "cell_type": "markdown",
      "metadata": {
        "id": "SLCFSmSWKHsq"
      },
      "source": [
        "What industry does top 10 oldest billionaires belong to?"
      ]
    },
    {
      "cell_type": "code",
      "execution_count": 36,
      "metadata": {
        "colab": {
          "base_uri": "https://localhost:8080/",
          "height": 542
        },
        "id": "wSxA7LuaDMhK",
        "outputId": "5c22e20b-1337-4a6a-dc83-415a7ddce7c1"
      },
      "outputs": [
        {
          "data": {
            "application/vnd.plotly.v1+json": {
              "config": {
                "plotlyServerURL": "https://plot.ly"
              },
              "data": [
                {
                  "hovertemplate": "source=insurance<br>name=%{x}<br>networth=%{y}<extra></extra>",
                  "legendgroup": "insurance",
                  "marker": {
                    "color": "#636efa",
                    "opacity": 0.8,
                    "pattern": {
                      "shape": ""
                    }
                  },
                  "name": "insurance",
                  "orientation": "v",
                  "showlegend": true,
                  "textposition": "auto",
                  "type": "bar",
                  "x": [
                    "George Joseph "
                  ],
                  "xaxis": "x",
                  "y": {
                    "bdata": "zczMzMzM/D8=",
                    "dtype": "f8"
                  },
                  "yaxis": "y"
                },
                {
                  "hovertemplate": "source=Berkshire Hathaway<br>name=%{x}<br>networth=%{y}<extra></extra>",
                  "legendgroup": "Berkshire Hathaway",
                  "marker": {
                    "color": "#EF553B",
                    "opacity": 0.8,
                    "pattern": {
                      "shape": ""
                    }
                  },
                  "name": "Berkshire Hathaway",
                  "orientation": "v",
                  "showlegend": true,
                  "textposition": "auto",
                  "type": "bar",
                  "x": [
                    "Charles Munger "
                  ],
                  "xaxis": "x",
                  "y": {
                    "bdata": "AAAAAAAABEA=",
                    "dtype": "f8"
                  },
                  "yaxis": "y"
                },
                {
                  "hovertemplate": "source=Dole, real estate<br>name=%{x}<br>networth=%{y}<extra></extra>",
                  "legendgroup": "Dole, real estate",
                  "marker": {
                    "color": "#00cc96",
                    "opacity": 0.8,
                    "pattern": {
                      "shape": ""
                    }
                  },
                  "name": "Dole, real estate",
                  "orientation": "v",
                  "showlegend": true,
                  "textposition": "auto",
                  "type": "bar",
                  "x": [
                    "David Murdock "
                  ],
                  "xaxis": "x",
                  "y": {
                    "bdata": "ZmZmZmZmAkA=",
                    "dtype": "f8"
                  },
                  "yaxis": "y"
                },
                {
                  "hovertemplate": "source=palm oil, shipping, property<br>name=%{x}<br>networth=%{y}<extra></extra>",
                  "legendgroup": "palm oil, shipping, property",
                  "marker": {
                    "color": "#ab63fa",
                    "opacity": 0.8,
                    "pattern": {
                      "shape": ""
                    }
                  },
                  "name": "palm oil, shipping, property",
                  "orientation": "v",
                  "showlegend": true,
                  "textposition": "auto",
                  "type": "bar",
                  "x": [
                    "Robert Kuok "
                  ],
                  "xaxis": "x",
                  "y": {
                    "bdata": "ZmZmZmZmJ0A=",
                    "dtype": "f8"
                  },
                  "yaxis": "y"
                },
                {
                  "hovertemplate": "source=Slim-Fast<br>name=%{x}<br>networth=%{y}<extra></extra>",
                  "legendgroup": "Slim-Fast",
                  "marker": {
                    "color": "#FFA15A",
                    "opacity": 0.8,
                    "pattern": {
                      "shape": ""
                    }
                  },
                  "name": "Slim-Fast",
                  "orientation": "v",
                  "showlegend": true,
                  "textposition": "auto",
                  "type": "bar",
                  "x": [
                    "S. Daniel Abraham "
                  ],
                  "xaxis": "x",
                  "y": {
                    "bdata": "AAAAAAAAAEA=",
                    "dtype": "f8"
                  },
                  "yaxis": "y"
                },
                {
                  "hovertemplate": "source=mining, banking<br>name=%{x}<br>networth=%{y}<extra></extra>",
                  "legendgroup": "mining, banking",
                  "marker": {
                    "color": "#19d3f3",
                    "opacity": 0.8,
                    "pattern": {
                      "shape": ""
                    }
                  },
                  "name": "mining, banking",
                  "orientation": "v",
                  "showlegend": true,
                  "textposition": "auto",
                  "type": "bar",
                  "x": [
                    "Ana Maria Brescia Cafferata "
                  ],
                  "xaxis": "x",
                  "y": {
                    "bdata": "AAAAAAAA+D8=",
                    "dtype": "f8"
                  },
                  "yaxis": "y"
                },
                {
                  "hovertemplate": "source=retail<br>name=%{x}<br>networth=%{y}<extra></extra>",
                  "legendgroup": "retail",
                  "marker": {
                    "color": "#FF6692",
                    "opacity": 0.8,
                    "pattern": {
                      "shape": ""
                    }
                  },
                  "name": "retail",
                  "orientation": "v",
                  "showlegend": true,
                  "textposition": "auto",
                  "type": "bar",
                  "x": [
                    "Masatoshi Ito ",
                    "Nobutoshi Shimamura "
                  ],
                  "xaxis": "x",
                  "y": {
                    "bdata": "ZmZmZmZmEkDNzMzMzMz0Pw==",
                    "dtype": "f8"
                  },
                  "yaxis": "y"
                },
                {
                  "hovertemplate": "source=chemicals<br>name=%{x}<br>networth=%{y}<extra></extra>",
                  "legendgroup": "chemicals",
                  "marker": {
                    "color": "#B6E880",
                    "opacity": 0.8,
                    "pattern": {
                      "shape": ""
                    }
                  },
                  "name": "chemicals",
                  "orientation": "v",
                  "showlegend": true,
                  "textposition": "auto",
                  "type": "bar",
                  "x": [
                    "John Farber "
                  ],
                  "xaxis": "x",
                  "y": {
                    "bdata": "AAAAAAAA+D8=",
                    "dtype": "f8"
                  },
                  "yaxis": "y"
                },
                {
                  "hovertemplate": "source=money management<br>name=%{x}<br>networth=%{y}<extra></extra>",
                  "legendgroup": "money management",
                  "marker": {
                    "color": "#FF97FF",
                    "opacity": 0.8,
                    "pattern": {
                      "shape": ""
                    }
                  },
                  "name": "money management",
                  "orientation": "v",
                  "showlegend": true,
                  "textposition": "auto",
                  "type": "bar",
                  "x": [
                    "Stephen Jarislowsky "
                  ],
                  "xaxis": "x",
                  "y": {
                    "bdata": "zczMzMzM/D8=",
                    "dtype": "f8"
                  },
                  "yaxis": "y"
                }
              ],
              "layout": {
                "barmode": "relative",
                "legend": {
                  "title": {
                    "text": "source"
                  },
                  "tracegroupgap": 0
                },
                "template": {
                  "data": {
                    "bar": [
                      {
                        "error_x": {
                          "color": "#f2f5fa"
                        },
                        "error_y": {
                          "color": "#f2f5fa"
                        },
                        "marker": {
                          "line": {
                            "color": "rgb(17,17,17)",
                            "width": 0.5
                          },
                          "pattern": {
                            "fillmode": "overlay",
                            "size": 10,
                            "solidity": 0.2
                          }
                        },
                        "type": "bar"
                      }
                    ],
                    "barpolar": [
                      {
                        "marker": {
                          "line": {
                            "color": "rgb(17,17,17)",
                            "width": 0.5
                          },
                          "pattern": {
                            "fillmode": "overlay",
                            "size": 10,
                            "solidity": 0.2
                          }
                        },
                        "type": "barpolar"
                      }
                    ],
                    "carpet": [
                      {
                        "aaxis": {
                          "endlinecolor": "#A2B1C6",
                          "gridcolor": "#506784",
                          "linecolor": "#506784",
                          "minorgridcolor": "#506784",
                          "startlinecolor": "#A2B1C6"
                        },
                        "baxis": {
                          "endlinecolor": "#A2B1C6",
                          "gridcolor": "#506784",
                          "linecolor": "#506784",
                          "minorgridcolor": "#506784",
                          "startlinecolor": "#A2B1C6"
                        },
                        "type": "carpet"
                      }
                    ],
                    "choropleth": [
                      {
                        "colorbar": {
                          "outlinewidth": 0,
                          "ticks": ""
                        },
                        "type": "choropleth"
                      }
                    ],
                    "contour": [
                      {
                        "colorbar": {
                          "outlinewidth": 0,
                          "ticks": ""
                        },
                        "colorscale": [
                          [
                            0,
                            "#0d0887"
                          ],
                          [
                            0.1111111111111111,
                            "#46039f"
                          ],
                          [
                            0.2222222222222222,
                            "#7201a8"
                          ],
                          [
                            0.3333333333333333,
                            "#9c179e"
                          ],
                          [
                            0.4444444444444444,
                            "#bd3786"
                          ],
                          [
                            0.5555555555555556,
                            "#d8576b"
                          ],
                          [
                            0.6666666666666666,
                            "#ed7953"
                          ],
                          [
                            0.7777777777777778,
                            "#fb9f3a"
                          ],
                          [
                            0.8888888888888888,
                            "#fdca26"
                          ],
                          [
                            1,
                            "#f0f921"
                          ]
                        ],
                        "type": "contour"
                      }
                    ],
                    "contourcarpet": [
                      {
                        "colorbar": {
                          "outlinewidth": 0,
                          "ticks": ""
                        },
                        "type": "contourcarpet"
                      }
                    ],
                    "heatmap": [
                      {
                        "colorbar": {
                          "outlinewidth": 0,
                          "ticks": ""
                        },
                        "colorscale": [
                          [
                            0,
                            "#0d0887"
                          ],
                          [
                            0.1111111111111111,
                            "#46039f"
                          ],
                          [
                            0.2222222222222222,
                            "#7201a8"
                          ],
                          [
                            0.3333333333333333,
                            "#9c179e"
                          ],
                          [
                            0.4444444444444444,
                            "#bd3786"
                          ],
                          [
                            0.5555555555555556,
                            "#d8576b"
                          ],
                          [
                            0.6666666666666666,
                            "#ed7953"
                          ],
                          [
                            0.7777777777777778,
                            "#fb9f3a"
                          ],
                          [
                            0.8888888888888888,
                            "#fdca26"
                          ],
                          [
                            1,
                            "#f0f921"
                          ]
                        ],
                        "type": "heatmap"
                      }
                    ],
                    "histogram": [
                      {
                        "marker": {
                          "pattern": {
                            "fillmode": "overlay",
                            "size": 10,
                            "solidity": 0.2
                          }
                        },
                        "type": "histogram"
                      }
                    ],
                    "histogram2d": [
                      {
                        "colorbar": {
                          "outlinewidth": 0,
                          "ticks": ""
                        },
                        "colorscale": [
                          [
                            0,
                            "#0d0887"
                          ],
                          [
                            0.1111111111111111,
                            "#46039f"
                          ],
                          [
                            0.2222222222222222,
                            "#7201a8"
                          ],
                          [
                            0.3333333333333333,
                            "#9c179e"
                          ],
                          [
                            0.4444444444444444,
                            "#bd3786"
                          ],
                          [
                            0.5555555555555556,
                            "#d8576b"
                          ],
                          [
                            0.6666666666666666,
                            "#ed7953"
                          ],
                          [
                            0.7777777777777778,
                            "#fb9f3a"
                          ],
                          [
                            0.8888888888888888,
                            "#fdca26"
                          ],
                          [
                            1,
                            "#f0f921"
                          ]
                        ],
                        "type": "histogram2d"
                      }
                    ],
                    "histogram2dcontour": [
                      {
                        "colorbar": {
                          "outlinewidth": 0,
                          "ticks": ""
                        },
                        "colorscale": [
                          [
                            0,
                            "#0d0887"
                          ],
                          [
                            0.1111111111111111,
                            "#46039f"
                          ],
                          [
                            0.2222222222222222,
                            "#7201a8"
                          ],
                          [
                            0.3333333333333333,
                            "#9c179e"
                          ],
                          [
                            0.4444444444444444,
                            "#bd3786"
                          ],
                          [
                            0.5555555555555556,
                            "#d8576b"
                          ],
                          [
                            0.6666666666666666,
                            "#ed7953"
                          ],
                          [
                            0.7777777777777778,
                            "#fb9f3a"
                          ],
                          [
                            0.8888888888888888,
                            "#fdca26"
                          ],
                          [
                            1,
                            "#f0f921"
                          ]
                        ],
                        "type": "histogram2dcontour"
                      }
                    ],
                    "mesh3d": [
                      {
                        "colorbar": {
                          "outlinewidth": 0,
                          "ticks": ""
                        },
                        "type": "mesh3d"
                      }
                    ],
                    "parcoords": [
                      {
                        "line": {
                          "colorbar": {
                            "outlinewidth": 0,
                            "ticks": ""
                          }
                        },
                        "type": "parcoords"
                      }
                    ],
                    "pie": [
                      {
                        "automargin": true,
                        "type": "pie"
                      }
                    ],
                    "scatter": [
                      {
                        "marker": {
                          "line": {
                            "color": "#283442"
                          }
                        },
                        "type": "scatter"
                      }
                    ],
                    "scatter3d": [
                      {
                        "line": {
                          "colorbar": {
                            "outlinewidth": 0,
                            "ticks": ""
                          }
                        },
                        "marker": {
                          "colorbar": {
                            "outlinewidth": 0,
                            "ticks": ""
                          }
                        },
                        "type": "scatter3d"
                      }
                    ],
                    "scattercarpet": [
                      {
                        "marker": {
                          "colorbar": {
                            "outlinewidth": 0,
                            "ticks": ""
                          }
                        },
                        "type": "scattercarpet"
                      }
                    ],
                    "scattergeo": [
                      {
                        "marker": {
                          "colorbar": {
                            "outlinewidth": 0,
                            "ticks": ""
                          }
                        },
                        "type": "scattergeo"
                      }
                    ],
                    "scattergl": [
                      {
                        "marker": {
                          "line": {
                            "color": "#283442"
                          }
                        },
                        "type": "scattergl"
                      }
                    ],
                    "scattermap": [
                      {
                        "marker": {
                          "colorbar": {
                            "outlinewidth": 0,
                            "ticks": ""
                          }
                        },
                        "type": "scattermap"
                      }
                    ],
                    "scattermapbox": [
                      {
                        "marker": {
                          "colorbar": {
                            "outlinewidth": 0,
                            "ticks": ""
                          }
                        },
                        "type": "scattermapbox"
                      }
                    ],
                    "scatterpolar": [
                      {
                        "marker": {
                          "colorbar": {
                            "outlinewidth": 0,
                            "ticks": ""
                          }
                        },
                        "type": "scatterpolar"
                      }
                    ],
                    "scatterpolargl": [
                      {
                        "marker": {
                          "colorbar": {
                            "outlinewidth": 0,
                            "ticks": ""
                          }
                        },
                        "type": "scatterpolargl"
                      }
                    ],
                    "scatterternary": [
                      {
                        "marker": {
                          "colorbar": {
                            "outlinewidth": 0,
                            "ticks": ""
                          }
                        },
                        "type": "scatterternary"
                      }
                    ],
                    "surface": [
                      {
                        "colorbar": {
                          "outlinewidth": 0,
                          "ticks": ""
                        },
                        "colorscale": [
                          [
                            0,
                            "#0d0887"
                          ],
                          [
                            0.1111111111111111,
                            "#46039f"
                          ],
                          [
                            0.2222222222222222,
                            "#7201a8"
                          ],
                          [
                            0.3333333333333333,
                            "#9c179e"
                          ],
                          [
                            0.4444444444444444,
                            "#bd3786"
                          ],
                          [
                            0.5555555555555556,
                            "#d8576b"
                          ],
                          [
                            0.6666666666666666,
                            "#ed7953"
                          ],
                          [
                            0.7777777777777778,
                            "#fb9f3a"
                          ],
                          [
                            0.8888888888888888,
                            "#fdca26"
                          ],
                          [
                            1,
                            "#f0f921"
                          ]
                        ],
                        "type": "surface"
                      }
                    ],
                    "table": [
                      {
                        "cells": {
                          "fill": {
                            "color": "#506784"
                          },
                          "line": {
                            "color": "rgb(17,17,17)"
                          }
                        },
                        "header": {
                          "fill": {
                            "color": "#2a3f5f"
                          },
                          "line": {
                            "color": "rgb(17,17,17)"
                          }
                        },
                        "type": "table"
                      }
                    ]
                  },
                  "layout": {
                    "annotationdefaults": {
                      "arrowcolor": "#f2f5fa",
                      "arrowhead": 0,
                      "arrowwidth": 1
                    },
                    "autotypenumbers": "strict",
                    "coloraxis": {
                      "colorbar": {
                        "outlinewidth": 0,
                        "ticks": ""
                      }
                    },
                    "colorscale": {
                      "diverging": [
                        [
                          0,
                          "#8e0152"
                        ],
                        [
                          0.1,
                          "#c51b7d"
                        ],
                        [
                          0.2,
                          "#de77ae"
                        ],
                        [
                          0.3,
                          "#f1b6da"
                        ],
                        [
                          0.4,
                          "#fde0ef"
                        ],
                        [
                          0.5,
                          "#f7f7f7"
                        ],
                        [
                          0.6,
                          "#e6f5d0"
                        ],
                        [
                          0.7,
                          "#b8e186"
                        ],
                        [
                          0.8,
                          "#7fbc41"
                        ],
                        [
                          0.9,
                          "#4d9221"
                        ],
                        [
                          1,
                          "#276419"
                        ]
                      ],
                      "sequential": [
                        [
                          0,
                          "#0d0887"
                        ],
                        [
                          0.1111111111111111,
                          "#46039f"
                        ],
                        [
                          0.2222222222222222,
                          "#7201a8"
                        ],
                        [
                          0.3333333333333333,
                          "#9c179e"
                        ],
                        [
                          0.4444444444444444,
                          "#bd3786"
                        ],
                        [
                          0.5555555555555556,
                          "#d8576b"
                        ],
                        [
                          0.6666666666666666,
                          "#ed7953"
                        ],
                        [
                          0.7777777777777778,
                          "#fb9f3a"
                        ],
                        [
                          0.8888888888888888,
                          "#fdca26"
                        ],
                        [
                          1,
                          "#f0f921"
                        ]
                      ],
                      "sequentialminus": [
                        [
                          0,
                          "#0d0887"
                        ],
                        [
                          0.1111111111111111,
                          "#46039f"
                        ],
                        [
                          0.2222222222222222,
                          "#7201a8"
                        ],
                        [
                          0.3333333333333333,
                          "#9c179e"
                        ],
                        [
                          0.4444444444444444,
                          "#bd3786"
                        ],
                        [
                          0.5555555555555556,
                          "#d8576b"
                        ],
                        [
                          0.6666666666666666,
                          "#ed7953"
                        ],
                        [
                          0.7777777777777778,
                          "#fb9f3a"
                        ],
                        [
                          0.8888888888888888,
                          "#fdca26"
                        ],
                        [
                          1,
                          "#f0f921"
                        ]
                      ]
                    },
                    "colorway": [
                      "#636efa",
                      "#EF553B",
                      "#00cc96",
                      "#ab63fa",
                      "#FFA15A",
                      "#19d3f3",
                      "#FF6692",
                      "#B6E880",
                      "#FF97FF",
                      "#FECB52"
                    ],
                    "font": {
                      "color": "#f2f5fa"
                    },
                    "geo": {
                      "bgcolor": "rgb(17,17,17)",
                      "lakecolor": "rgb(17,17,17)",
                      "landcolor": "rgb(17,17,17)",
                      "showlakes": true,
                      "showland": true,
                      "subunitcolor": "#506784"
                    },
                    "hoverlabel": {
                      "align": "left"
                    },
                    "hovermode": "closest",
                    "mapbox": {
                      "style": "dark"
                    },
                    "paper_bgcolor": "rgb(17,17,17)",
                    "plot_bgcolor": "rgb(17,17,17)",
                    "polar": {
                      "angularaxis": {
                        "gridcolor": "#506784",
                        "linecolor": "#506784",
                        "ticks": ""
                      },
                      "bgcolor": "rgb(17,17,17)",
                      "radialaxis": {
                        "gridcolor": "#506784",
                        "linecolor": "#506784",
                        "ticks": ""
                      }
                    },
                    "scene": {
                      "xaxis": {
                        "backgroundcolor": "rgb(17,17,17)",
                        "gridcolor": "#506784",
                        "gridwidth": 2,
                        "linecolor": "#506784",
                        "showbackground": true,
                        "ticks": "",
                        "zerolinecolor": "#C8D4E3"
                      },
                      "yaxis": {
                        "backgroundcolor": "rgb(17,17,17)",
                        "gridcolor": "#506784",
                        "gridwidth": 2,
                        "linecolor": "#506784",
                        "showbackground": true,
                        "ticks": "",
                        "zerolinecolor": "#C8D4E3"
                      },
                      "zaxis": {
                        "backgroundcolor": "rgb(17,17,17)",
                        "gridcolor": "#506784",
                        "gridwidth": 2,
                        "linecolor": "#506784",
                        "showbackground": true,
                        "ticks": "",
                        "zerolinecolor": "#C8D4E3"
                      }
                    },
                    "shapedefaults": {
                      "line": {
                        "color": "#f2f5fa"
                      }
                    },
                    "sliderdefaults": {
                      "bgcolor": "#C8D4E3",
                      "bordercolor": "rgb(17,17,17)",
                      "borderwidth": 1,
                      "tickwidth": 0
                    },
                    "ternary": {
                      "aaxis": {
                        "gridcolor": "#506784",
                        "linecolor": "#506784",
                        "ticks": ""
                      },
                      "baxis": {
                        "gridcolor": "#506784",
                        "linecolor": "#506784",
                        "ticks": ""
                      },
                      "bgcolor": "rgb(17,17,17)",
                      "caxis": {
                        "gridcolor": "#506784",
                        "linecolor": "#506784",
                        "ticks": ""
                      }
                    },
                    "title": {
                      "x": 0.05
                    },
                    "updatemenudefaults": {
                      "bgcolor": "#506784",
                      "borderwidth": 0
                    },
                    "xaxis": {
                      "automargin": true,
                      "gridcolor": "#283442",
                      "linecolor": "#506784",
                      "ticks": "",
                      "title": {
                        "standoff": 15
                      },
                      "zerolinecolor": "#283442",
                      "zerolinewidth": 2
                    },
                    "yaxis": {
                      "automargin": true,
                      "gridcolor": "#283442",
                      "linecolor": "#506784",
                      "ticks": "",
                      "title": {
                        "standoff": 15
                      },
                      "zerolinecolor": "#283442",
                      "zerolinewidth": 2
                    }
                  }
                },
                "title": {
                  "text": "<b>Top 10 oldest billionairs and their sources"
                },
                "xaxis": {
                  "anchor": "y",
                  "domain": [
                    0,
                    1
                  ],
                  "title": {
                    "text": "name"
                  }
                },
                "yaxis": {
                  "anchor": "x",
                  "domain": [
                    0,
                    1
                  ],
                  "title": {
                    "text": "networth"
                  }
                }
              }
            }
          },
          "metadata": {},
          "output_type": "display_data"
        }
      ],
      "source": [
        "# total networth of billionaires in top 10 sources\n",
        "fig = px.bar(df.sort_values(\n",
        "    'age',\n",
        "    ascending = False)[:10],\n",
        "    x = 'name',\n",
        "    y = 'networth',\n",
        "    template = 'plotly_dark',\n",
        "    color = 'source',\n",
        "    opacity = 0.8,\n",
        "    title = '<b>Top 10 oldest billionairs and their sources')\n",
        "fig.show()"
      ]
    },
    {
      "cell_type": "markdown",
      "metadata": {
        "id": "Y9N5g24jKLvE"
      },
      "source": [
        "Insights\n",
        "\n",
        "- The oldest billionaire George Joseph has it's networth in the source of Insurance.\n",
        "- The richest billionaire in top 10 oldest billionaires is Robert Kuok and have it's networth coming from Palm oil, shiping and property source.\n",
        "- The second richest billionaire in top 10 oldest billionaires is Masatoshi Ito have it's networth coming from Retail source."
      ]
    },
    {
      "cell_type": "markdown",
      "metadata": {
        "id": "uMjuLvTBKOeb"
      },
      "source": [
        "What is the total networth of billionaires in top 10 sources?"
      ]
    },
    {
      "cell_type": "code",
      "execution_count": 37,
      "metadata": {
        "colab": {
          "base_uri": "https://localhost:8080/",
          "height": 542
        },
        "id": "EtTHODsDD74H",
        "outputId": "fed32d8d-33b0-45c1-c8b4-426de25b549a"
      },
      "outputs": [
        {
          "data": {
            "application/vnd.plotly.v1+json": {
              "config": {
                "plotlyServerURL": "https://plot.ly"
              },
              "data": [
                {
                  "hovertemplate": "source=%{x}<br>networth=%{marker.size}<extra></extra>",
                  "legendgroup": "real estate",
                  "marker": {
                    "color": "#636efa",
                    "opacity": 0.85,
                    "size": {
                      "bdata": "ZmZmZmbugUA=",
                      "dtype": "f8"
                    },
                    "sizemode": "area",
                    "sizeref": 1.4344999999999999,
                    "symbol": "circle"
                  },
                  "mode": "markers",
                  "name": "real estate",
                  "orientation": "v",
                  "showlegend": true,
                  "type": "scatter",
                  "x": [
                    "real estate"
                  ],
                  "xaxis": "x",
                  "y": {
                    "bdata": "ZmZmZmbugUA=",
                    "dtype": "f8"
                  },
                  "yaxis": "y"
                },
                {
                  "hovertemplate": "source=%{x}<br>networth=%{marker.size}<extra></extra>",
                  "legendgroup": "diversified",
                  "marker": {
                    "color": "#EF553B",
                    "opacity": 0.85,
                    "size": {
                      "bdata": "AAAAAADgd0A=",
                      "dtype": "f8"
                    },
                    "sizemode": "area",
                    "sizeref": 1.4344999999999999,
                    "symbol": "circle"
                  },
                  "mode": "markers",
                  "name": "diversified",
                  "orientation": "v",
                  "showlegend": true,
                  "type": "scatter",
                  "x": [
                    "diversified"
                  ],
                  "xaxis": "x",
                  "y": {
                    "bdata": "AAAAAADgd0A=",
                    "dtype": "f8"
                  },
                  "yaxis": "y"
                },
                {
                  "hovertemplate": "source=%{x}<br>networth=%{marker.size}<extra></extra>",
                  "legendgroup": "investments",
                  "marker": {
                    "color": "#00cc96",
                    "opacity": 0.85,
                    "size": {
                      "bdata": "zczMzMxkdkA=",
                      "dtype": "f8"
                    },
                    "sizemode": "area",
                    "sizeref": 1.4344999999999999,
                    "symbol": "circle"
                  },
                  "mode": "markers",
                  "name": "investments",
                  "orientation": "v",
                  "showlegend": true,
                  "type": "scatter",
                  "x": [
                    "investments"
                  ],
                  "xaxis": "x",
                  "y": {
                    "bdata": "zczMzMxkdkA=",
                    "dtype": "f8"
                  },
                  "yaxis": "y"
                },
                {
                  "hovertemplate": "source=%{x}<br>networth=%{marker.size}<extra></extra>",
                  "legendgroup": "software",
                  "marker": {
                    "color": "#ab63fa",
                    "opacity": 0.85,
                    "size": {
                      "bdata": "MzMzMzMbckA=",
                      "dtype": "f8"
                    },
                    "sizemode": "area",
                    "sizeref": 1.4344999999999999,
                    "symbol": "circle"
                  },
                  "mode": "markers",
                  "name": "software",
                  "orientation": "v",
                  "showlegend": true,
                  "type": "scatter",
                  "x": [
                    "software"
                  ],
                  "xaxis": "x",
                  "y": {
                    "bdata": "MzMzMzMbckA=",
                    "dtype": "f8"
                  },
                  "yaxis": "y"
                },
                {
                  "hovertemplate": "source=%{x}<br>networth=%{marker.size}<extra></extra>",
                  "legendgroup": "pharmaceuticals",
                  "marker": {
                    "color": "#FFA15A",
                    "opacity": 0.85,
                    "size": {
                      "bdata": "ZmZmZmbGcUA=",
                      "dtype": "f8"
                    },
                    "sizemode": "area",
                    "sizeref": 1.4344999999999999,
                    "symbol": "circle"
                  },
                  "mode": "markers",
                  "name": "pharmaceuticals",
                  "orientation": "v",
                  "showlegend": true,
                  "type": "scatter",
                  "x": [
                    "pharmaceuticals"
                  ],
                  "xaxis": "x",
                  "y": {
                    "bdata": "ZmZmZmbGcUA=",
                    "dtype": "f8"
                  },
                  "yaxis": "y"
                },
                {
                  "hovertemplate": "source=%{x}<br>networth=%{marker.size}<extra></extra>",
                  "legendgroup": "hedge funds",
                  "marker": {
                    "color": "#19d3f3",
                    "opacity": 0.85,
                    "size": {
                      "bdata": "mpmZmZn5cEA=",
                      "dtype": "f8"
                    },
                    "sizemode": "area",
                    "sizeref": 1.4344999999999999,
                    "symbol": "circle"
                  },
                  "mode": "markers",
                  "name": "hedge funds",
                  "orientation": "v",
                  "showlegend": true,
                  "type": "scatter",
                  "x": [
                    "hedge funds"
                  ],
                  "xaxis": "x",
                  "y": {
                    "bdata": "mpmZmZn5cEA=",
                    "dtype": "f8"
                  },
                  "yaxis": "y"
                },
                {
                  "hovertemplate": "source=%{x}<br>networth=%{marker.size}<extra></extra>",
                  "legendgroup": "Google",
                  "marker": {
                    "color": "#FF6692",
                    "opacity": 0.85,
                    "size": {
                      "bdata": "ZmZmZmZOcEA=",
                      "dtype": "f8"
                    },
                    "sizemode": "area",
                    "sizeref": 1.4344999999999999,
                    "symbol": "circle"
                  },
                  "mode": "markers",
                  "name": "Google",
                  "orientation": "v",
                  "showlegend": true,
                  "type": "scatter",
                  "x": [
                    "Google"
                  ],
                  "xaxis": "x",
                  "y": {
                    "bdata": "ZmZmZmZOcEA=",
                    "dtype": "f8"
                  },
                  "yaxis": "y"
                },
                {
                  "hovertemplate": "source=%{x}<br>networth=%{marker.size}<extra></extra>",
                  "legendgroup": "Walmart",
                  "marker": {
                    "color": "#B6E880",
                    "opacity": 0.85,
                    "size": {
                      "bdata": "AAAAAADAbUA=",
                      "dtype": "f8"
                    },
                    "sizemode": "area",
                    "sizeref": 1.4344999999999999,
                    "symbol": "circle"
                  },
                  "mode": "markers",
                  "name": "Walmart",
                  "orientation": "v",
                  "showlegend": true,
                  "type": "scatter",
                  "x": [
                    "Walmart"
                  ],
                  "xaxis": "x",
                  "y": {
                    "bdata": "AAAAAADAbUA=",
                    "dtype": "f8"
                  },
                  "yaxis": "y"
                },
                {
                  "hovertemplate": "source=%{x}<br>networth=%{marker.size}<extra></extra>",
                  "legendgroup": "Microsoft",
                  "marker": {
                    "color": "#FF97FF",
                    "opacity": 0.85,
                    "size": {
                      "bdata": "zczMzMwMbUA=",
                      "dtype": "f8"
                    },
                    "sizemode": "area",
                    "sizeref": 1.4344999999999999,
                    "symbol": "circle"
                  },
                  "mode": "markers",
                  "name": "Microsoft",
                  "orientation": "v",
                  "showlegend": true,
                  "type": "scatter",
                  "x": [
                    "Microsoft"
                  ],
                  "xaxis": "x",
                  "y": {
                    "bdata": "zczMzMwMbUA=",
                    "dtype": "f8"
                  },
                  "yaxis": "y"
                },
                {
                  "hovertemplate": "source=%{x}<br>networth=%{marker.size}<extra></extra>",
                  "legendgroup": "Tesla, SpaceX",
                  "marker": {
                    "color": "#FECB52",
                    "opacity": 0.85,
                    "size": {
                      "bdata": "AAAAAABga0A=",
                      "dtype": "f8"
                    },
                    "sizemode": "area",
                    "sizeref": 1.4344999999999999,
                    "symbol": "circle"
                  },
                  "mode": "markers",
                  "name": "Tesla, SpaceX",
                  "orientation": "v",
                  "showlegend": true,
                  "type": "scatter",
                  "x": [
                    "Tesla, SpaceX"
                  ],
                  "xaxis": "x",
                  "y": {
                    "bdata": "AAAAAABga0A=",
                    "dtype": "f8"
                  },
                  "yaxis": "y"
                }
              ],
              "layout": {
                "legend": {
                  "itemsizing": "constant",
                  "title": {
                    "text": "source"
                  },
                  "tracegroupgap": 0
                },
                "template": {
                  "data": {
                    "bar": [
                      {
                        "error_x": {
                          "color": "#f2f5fa"
                        },
                        "error_y": {
                          "color": "#f2f5fa"
                        },
                        "marker": {
                          "line": {
                            "color": "rgb(17,17,17)",
                            "width": 0.5
                          },
                          "pattern": {
                            "fillmode": "overlay",
                            "size": 10,
                            "solidity": 0.2
                          }
                        },
                        "type": "bar"
                      }
                    ],
                    "barpolar": [
                      {
                        "marker": {
                          "line": {
                            "color": "rgb(17,17,17)",
                            "width": 0.5
                          },
                          "pattern": {
                            "fillmode": "overlay",
                            "size": 10,
                            "solidity": 0.2
                          }
                        },
                        "type": "barpolar"
                      }
                    ],
                    "carpet": [
                      {
                        "aaxis": {
                          "endlinecolor": "#A2B1C6",
                          "gridcolor": "#506784",
                          "linecolor": "#506784",
                          "minorgridcolor": "#506784",
                          "startlinecolor": "#A2B1C6"
                        },
                        "baxis": {
                          "endlinecolor": "#A2B1C6",
                          "gridcolor": "#506784",
                          "linecolor": "#506784",
                          "minorgridcolor": "#506784",
                          "startlinecolor": "#A2B1C6"
                        },
                        "type": "carpet"
                      }
                    ],
                    "choropleth": [
                      {
                        "colorbar": {
                          "outlinewidth": 0,
                          "ticks": ""
                        },
                        "type": "choropleth"
                      }
                    ],
                    "contour": [
                      {
                        "colorbar": {
                          "outlinewidth": 0,
                          "ticks": ""
                        },
                        "colorscale": [
                          [
                            0,
                            "#0d0887"
                          ],
                          [
                            0.1111111111111111,
                            "#46039f"
                          ],
                          [
                            0.2222222222222222,
                            "#7201a8"
                          ],
                          [
                            0.3333333333333333,
                            "#9c179e"
                          ],
                          [
                            0.4444444444444444,
                            "#bd3786"
                          ],
                          [
                            0.5555555555555556,
                            "#d8576b"
                          ],
                          [
                            0.6666666666666666,
                            "#ed7953"
                          ],
                          [
                            0.7777777777777778,
                            "#fb9f3a"
                          ],
                          [
                            0.8888888888888888,
                            "#fdca26"
                          ],
                          [
                            1,
                            "#f0f921"
                          ]
                        ],
                        "type": "contour"
                      }
                    ],
                    "contourcarpet": [
                      {
                        "colorbar": {
                          "outlinewidth": 0,
                          "ticks": ""
                        },
                        "type": "contourcarpet"
                      }
                    ],
                    "heatmap": [
                      {
                        "colorbar": {
                          "outlinewidth": 0,
                          "ticks": ""
                        },
                        "colorscale": [
                          [
                            0,
                            "#0d0887"
                          ],
                          [
                            0.1111111111111111,
                            "#46039f"
                          ],
                          [
                            0.2222222222222222,
                            "#7201a8"
                          ],
                          [
                            0.3333333333333333,
                            "#9c179e"
                          ],
                          [
                            0.4444444444444444,
                            "#bd3786"
                          ],
                          [
                            0.5555555555555556,
                            "#d8576b"
                          ],
                          [
                            0.6666666666666666,
                            "#ed7953"
                          ],
                          [
                            0.7777777777777778,
                            "#fb9f3a"
                          ],
                          [
                            0.8888888888888888,
                            "#fdca26"
                          ],
                          [
                            1,
                            "#f0f921"
                          ]
                        ],
                        "type": "heatmap"
                      }
                    ],
                    "histogram": [
                      {
                        "marker": {
                          "pattern": {
                            "fillmode": "overlay",
                            "size": 10,
                            "solidity": 0.2
                          }
                        },
                        "type": "histogram"
                      }
                    ],
                    "histogram2d": [
                      {
                        "colorbar": {
                          "outlinewidth": 0,
                          "ticks": ""
                        },
                        "colorscale": [
                          [
                            0,
                            "#0d0887"
                          ],
                          [
                            0.1111111111111111,
                            "#46039f"
                          ],
                          [
                            0.2222222222222222,
                            "#7201a8"
                          ],
                          [
                            0.3333333333333333,
                            "#9c179e"
                          ],
                          [
                            0.4444444444444444,
                            "#bd3786"
                          ],
                          [
                            0.5555555555555556,
                            "#d8576b"
                          ],
                          [
                            0.6666666666666666,
                            "#ed7953"
                          ],
                          [
                            0.7777777777777778,
                            "#fb9f3a"
                          ],
                          [
                            0.8888888888888888,
                            "#fdca26"
                          ],
                          [
                            1,
                            "#f0f921"
                          ]
                        ],
                        "type": "histogram2d"
                      }
                    ],
                    "histogram2dcontour": [
                      {
                        "colorbar": {
                          "outlinewidth": 0,
                          "ticks": ""
                        },
                        "colorscale": [
                          [
                            0,
                            "#0d0887"
                          ],
                          [
                            0.1111111111111111,
                            "#46039f"
                          ],
                          [
                            0.2222222222222222,
                            "#7201a8"
                          ],
                          [
                            0.3333333333333333,
                            "#9c179e"
                          ],
                          [
                            0.4444444444444444,
                            "#bd3786"
                          ],
                          [
                            0.5555555555555556,
                            "#d8576b"
                          ],
                          [
                            0.6666666666666666,
                            "#ed7953"
                          ],
                          [
                            0.7777777777777778,
                            "#fb9f3a"
                          ],
                          [
                            0.8888888888888888,
                            "#fdca26"
                          ],
                          [
                            1,
                            "#f0f921"
                          ]
                        ],
                        "type": "histogram2dcontour"
                      }
                    ],
                    "mesh3d": [
                      {
                        "colorbar": {
                          "outlinewidth": 0,
                          "ticks": ""
                        },
                        "type": "mesh3d"
                      }
                    ],
                    "parcoords": [
                      {
                        "line": {
                          "colorbar": {
                            "outlinewidth": 0,
                            "ticks": ""
                          }
                        },
                        "type": "parcoords"
                      }
                    ],
                    "pie": [
                      {
                        "automargin": true,
                        "type": "pie"
                      }
                    ],
                    "scatter": [
                      {
                        "marker": {
                          "line": {
                            "color": "#283442"
                          }
                        },
                        "type": "scatter"
                      }
                    ],
                    "scatter3d": [
                      {
                        "line": {
                          "colorbar": {
                            "outlinewidth": 0,
                            "ticks": ""
                          }
                        },
                        "marker": {
                          "colorbar": {
                            "outlinewidth": 0,
                            "ticks": ""
                          }
                        },
                        "type": "scatter3d"
                      }
                    ],
                    "scattercarpet": [
                      {
                        "marker": {
                          "colorbar": {
                            "outlinewidth": 0,
                            "ticks": ""
                          }
                        },
                        "type": "scattercarpet"
                      }
                    ],
                    "scattergeo": [
                      {
                        "marker": {
                          "colorbar": {
                            "outlinewidth": 0,
                            "ticks": ""
                          }
                        },
                        "type": "scattergeo"
                      }
                    ],
                    "scattergl": [
                      {
                        "marker": {
                          "line": {
                            "color": "#283442"
                          }
                        },
                        "type": "scattergl"
                      }
                    ],
                    "scattermap": [
                      {
                        "marker": {
                          "colorbar": {
                            "outlinewidth": 0,
                            "ticks": ""
                          }
                        },
                        "type": "scattermap"
                      }
                    ],
                    "scattermapbox": [
                      {
                        "marker": {
                          "colorbar": {
                            "outlinewidth": 0,
                            "ticks": ""
                          }
                        },
                        "type": "scattermapbox"
                      }
                    ],
                    "scatterpolar": [
                      {
                        "marker": {
                          "colorbar": {
                            "outlinewidth": 0,
                            "ticks": ""
                          }
                        },
                        "type": "scatterpolar"
                      }
                    ],
                    "scatterpolargl": [
                      {
                        "marker": {
                          "colorbar": {
                            "outlinewidth": 0,
                            "ticks": ""
                          }
                        },
                        "type": "scatterpolargl"
                      }
                    ],
                    "scatterternary": [
                      {
                        "marker": {
                          "colorbar": {
                            "outlinewidth": 0,
                            "ticks": ""
                          }
                        },
                        "type": "scatterternary"
                      }
                    ],
                    "surface": [
                      {
                        "colorbar": {
                          "outlinewidth": 0,
                          "ticks": ""
                        },
                        "colorscale": [
                          [
                            0,
                            "#0d0887"
                          ],
                          [
                            0.1111111111111111,
                            "#46039f"
                          ],
                          [
                            0.2222222222222222,
                            "#7201a8"
                          ],
                          [
                            0.3333333333333333,
                            "#9c179e"
                          ],
                          [
                            0.4444444444444444,
                            "#bd3786"
                          ],
                          [
                            0.5555555555555556,
                            "#d8576b"
                          ],
                          [
                            0.6666666666666666,
                            "#ed7953"
                          ],
                          [
                            0.7777777777777778,
                            "#fb9f3a"
                          ],
                          [
                            0.8888888888888888,
                            "#fdca26"
                          ],
                          [
                            1,
                            "#f0f921"
                          ]
                        ],
                        "type": "surface"
                      }
                    ],
                    "table": [
                      {
                        "cells": {
                          "fill": {
                            "color": "#506784"
                          },
                          "line": {
                            "color": "rgb(17,17,17)"
                          }
                        },
                        "header": {
                          "fill": {
                            "color": "#2a3f5f"
                          },
                          "line": {
                            "color": "rgb(17,17,17)"
                          }
                        },
                        "type": "table"
                      }
                    ]
                  },
                  "layout": {
                    "annotationdefaults": {
                      "arrowcolor": "#f2f5fa",
                      "arrowhead": 0,
                      "arrowwidth": 1
                    },
                    "autotypenumbers": "strict",
                    "coloraxis": {
                      "colorbar": {
                        "outlinewidth": 0,
                        "ticks": ""
                      }
                    },
                    "colorscale": {
                      "diverging": [
                        [
                          0,
                          "#8e0152"
                        ],
                        [
                          0.1,
                          "#c51b7d"
                        ],
                        [
                          0.2,
                          "#de77ae"
                        ],
                        [
                          0.3,
                          "#f1b6da"
                        ],
                        [
                          0.4,
                          "#fde0ef"
                        ],
                        [
                          0.5,
                          "#f7f7f7"
                        ],
                        [
                          0.6,
                          "#e6f5d0"
                        ],
                        [
                          0.7,
                          "#b8e186"
                        ],
                        [
                          0.8,
                          "#7fbc41"
                        ],
                        [
                          0.9,
                          "#4d9221"
                        ],
                        [
                          1,
                          "#276419"
                        ]
                      ],
                      "sequential": [
                        [
                          0,
                          "#0d0887"
                        ],
                        [
                          0.1111111111111111,
                          "#46039f"
                        ],
                        [
                          0.2222222222222222,
                          "#7201a8"
                        ],
                        [
                          0.3333333333333333,
                          "#9c179e"
                        ],
                        [
                          0.4444444444444444,
                          "#bd3786"
                        ],
                        [
                          0.5555555555555556,
                          "#d8576b"
                        ],
                        [
                          0.6666666666666666,
                          "#ed7953"
                        ],
                        [
                          0.7777777777777778,
                          "#fb9f3a"
                        ],
                        [
                          0.8888888888888888,
                          "#fdca26"
                        ],
                        [
                          1,
                          "#f0f921"
                        ]
                      ],
                      "sequentialminus": [
                        [
                          0,
                          "#0d0887"
                        ],
                        [
                          0.1111111111111111,
                          "#46039f"
                        ],
                        [
                          0.2222222222222222,
                          "#7201a8"
                        ],
                        [
                          0.3333333333333333,
                          "#9c179e"
                        ],
                        [
                          0.4444444444444444,
                          "#bd3786"
                        ],
                        [
                          0.5555555555555556,
                          "#d8576b"
                        ],
                        [
                          0.6666666666666666,
                          "#ed7953"
                        ],
                        [
                          0.7777777777777778,
                          "#fb9f3a"
                        ],
                        [
                          0.8888888888888888,
                          "#fdca26"
                        ],
                        [
                          1,
                          "#f0f921"
                        ]
                      ]
                    },
                    "colorway": [
                      "#636efa",
                      "#EF553B",
                      "#00cc96",
                      "#ab63fa",
                      "#FFA15A",
                      "#19d3f3",
                      "#FF6692",
                      "#B6E880",
                      "#FF97FF",
                      "#FECB52"
                    ],
                    "font": {
                      "color": "#f2f5fa"
                    },
                    "geo": {
                      "bgcolor": "rgb(17,17,17)",
                      "lakecolor": "rgb(17,17,17)",
                      "landcolor": "rgb(17,17,17)",
                      "showlakes": true,
                      "showland": true,
                      "subunitcolor": "#506784"
                    },
                    "hoverlabel": {
                      "align": "left"
                    },
                    "hovermode": "closest",
                    "mapbox": {
                      "style": "dark"
                    },
                    "paper_bgcolor": "rgb(17,17,17)",
                    "plot_bgcolor": "rgb(17,17,17)",
                    "polar": {
                      "angularaxis": {
                        "gridcolor": "#506784",
                        "linecolor": "#506784",
                        "ticks": ""
                      },
                      "bgcolor": "rgb(17,17,17)",
                      "radialaxis": {
                        "gridcolor": "#506784",
                        "linecolor": "#506784",
                        "ticks": ""
                      }
                    },
                    "scene": {
                      "xaxis": {
                        "backgroundcolor": "rgb(17,17,17)",
                        "gridcolor": "#506784",
                        "gridwidth": 2,
                        "linecolor": "#506784",
                        "showbackground": true,
                        "ticks": "",
                        "zerolinecolor": "#C8D4E3"
                      },
                      "yaxis": {
                        "backgroundcolor": "rgb(17,17,17)",
                        "gridcolor": "#506784",
                        "gridwidth": 2,
                        "linecolor": "#506784",
                        "showbackground": true,
                        "ticks": "",
                        "zerolinecolor": "#C8D4E3"
                      },
                      "zaxis": {
                        "backgroundcolor": "rgb(17,17,17)",
                        "gridcolor": "#506784",
                        "gridwidth": 2,
                        "linecolor": "#506784",
                        "showbackground": true,
                        "ticks": "",
                        "zerolinecolor": "#C8D4E3"
                      }
                    },
                    "shapedefaults": {
                      "line": {
                        "color": "#f2f5fa"
                      }
                    },
                    "sliderdefaults": {
                      "bgcolor": "#C8D4E3",
                      "bordercolor": "rgb(17,17,17)",
                      "borderwidth": 1,
                      "tickwidth": 0
                    },
                    "ternary": {
                      "aaxis": {
                        "gridcolor": "#506784",
                        "linecolor": "#506784",
                        "ticks": ""
                      },
                      "baxis": {
                        "gridcolor": "#506784",
                        "linecolor": "#506784",
                        "ticks": ""
                      },
                      "bgcolor": "rgb(17,17,17)",
                      "caxis": {
                        "gridcolor": "#506784",
                        "linecolor": "#506784",
                        "ticks": ""
                      }
                    },
                    "title": {
                      "x": 0.05
                    },
                    "updatemenudefaults": {
                      "bgcolor": "#506784",
                      "borderwidth": 0
                    },
                    "xaxis": {
                      "automargin": true,
                      "gridcolor": "#283442",
                      "linecolor": "#506784",
                      "ticks": "",
                      "title": {
                        "standoff": 15
                      },
                      "zerolinecolor": "#283442",
                      "zerolinewidth": 2
                    },
                    "yaxis": {
                      "automargin": true,
                      "gridcolor": "#283442",
                      "linecolor": "#506784",
                      "ticks": "",
                      "title": {
                        "standoff": 15
                      },
                      "zerolinecolor": "#283442",
                      "zerolinewidth": 2
                    }
                  }
                },
                "title": {
                  "text": "<b>Total networth of billionaires in top 10 sources"
                },
                "xaxis": {
                  "anchor": "y",
                  "categoryarray": [
                    "real estate",
                    "diversified",
                    "investments",
                    "software",
                    "pharmaceuticals",
                    "hedge funds",
                    "Google",
                    "Walmart",
                    "Microsoft",
                    "Tesla, SpaceX"
                  ],
                  "categoryorder": "array",
                  "domain": [
                    0,
                    1
                  ],
                  "title": {
                    "text": "source"
                  }
                },
                "yaxis": {
                  "anchor": "x",
                  "domain": [
                    0,
                    1
                  ],
                  "title": {
                    "text": "networth"
                  }
                }
              }
            }
          },
          "metadata": {},
          "output_type": "display_data"
        }
      ],
      "source": [
        "# total networth of billionaires in top 10 sources\n",
        "source_networth =df.groupby(\n",
        "    'source').sum()[['networth']].sort_values('networth', ascending = False).reset_index().head(10)\n",
        "fig=px.scatter(\n",
        "    source_networth,\n",
        "    x ='source',\n",
        "    y = 'networth',\n",
        "    template = 'plotly_dark',\n",
        "    color = 'source',\n",
        "    size = 'networth' ,\n",
        "    opacity = 0.85,\n",
        "    title=\"<b>Total networth of billionaires in top 10 sources\")\n",
        "fig.show()"
      ]
    },
    {
      "cell_type": "markdown",
      "metadata": {
        "id": "7_XFnapAKR-c"
      },
      "source": [
        "Insights\n",
        "\n",
        "- Real estate source has the highest total networth of around 573.8 B dollars\n",
        "- Diversified is the second source with a networth of 382 B dollars\n",
        "- Tesla, SpaceX has the lowest total networth in top 10 sources which is 219 B dollars"
      ]
    },
    {
      "cell_type": "markdown",
      "metadata": {
        "id": "5zc9hljpF9bz"
      },
      "source": [
        "### Analysis according to industry"
      ]
    },
    {
      "cell_type": "markdown",
      "metadata": {
        "id": "cbEbQGOgKb8c"
      },
      "source": [
        "What industry does top 10 young billionaires belong to?"
      ]
    },
    {
      "cell_type": "code",
      "execution_count": 38,
      "metadata": {
        "colab": {
          "base_uri": "https://localhost:8080/",
          "height": 542
        },
        "id": "xIdvcOqdE2Fy",
        "outputId": "9c1cfde6-75d8-464c-c353-b752c35d36e8"
      },
      "outputs": [
        {
          "data": {
            "application/vnd.plotly.v1+json": {
              "config": {
                "plotlyServerURL": "https://plot.ly"
              },
              "data": [
                {
                  "hovertemplate": "industry=Fashion & Retail <br>name=%{x}<br>networth=%{y}<extra></extra>",
                  "legendgroup": "Fashion & Retail ",
                  "marker": {
                    "color": "#636efa",
                    "opacity": 0.8,
                    "pattern": {
                      "shape": ""
                    }
                  },
                  "name": "Fashion & Retail ",
                  "orientation": "v",
                  "showlegend": true,
                  "textposition": "auto",
                  "type": "bar",
                  "x": [
                    "Kevin David Lehmann "
                  ],
                  "xaxis": "x",
                  "y": {
                    "bdata": "MzMzMzMzA0A=",
                    "dtype": "f8"
                  },
                  "yaxis": "y"
                },
                {
                  "hovertemplate": "industry=Finance & Investments <br>name=%{x}<br>networth=%{y}<extra></extra>",
                  "legendgroup": "Finance & Investments ",
                  "marker": {
                    "color": "#EF553B",
                    "opacity": 0.8,
                    "pattern": {
                      "shape": ""
                    }
                  },
                  "name": "Finance & Investments ",
                  "orientation": "v",
                  "showlegend": true,
                  "textposition": "auto",
                  "type": "bar",
                  "x": [
                    "Pedro Franceschi ",
                    "Henrique Dubugras ",
                    "Gary Wang "
                  ],
                  "xaxis": "x",
                  "y": {
                    "bdata": "AAAAAAAA+D8AAAAAAAD4P5qZmZmZmRdA",
                    "dtype": "f8"
                  },
                  "yaxis": "y"
                },
                {
                  "hovertemplate": "industry=Metals & Mining <br>name=%{x}<br>networth=%{y}<extra></extra>",
                  "legendgroup": "Metals & Mining ",
                  "marker": {
                    "color": "#00cc96",
                    "opacity": 0.8,
                    "pattern": {
                      "shape": ""
                    }
                  },
                  "name": "Metals & Mining ",
                  "orientation": "v",
                  "showlegend": true,
                  "textposition": "auto",
                  "type": "bar",
                  "x": [
                    "Wang Zelong "
                  ],
                  "xaxis": "x",
                  "y": {
                    "bdata": "AAAAAAAA+D8=",
                    "dtype": "f8"
                  },
                  "yaxis": "y"
                },
                {
                  "hovertemplate": "industry=Diversified <br>name=%{x}<br>networth=%{y}<extra></extra>",
                  "legendgroup": "Diversified ",
                  "marker": {
                    "color": "#ab63fa",
                    "opacity": 0.8,
                    "pattern": {
                      "shape": ""
                    }
                  },
                  "name": "Diversified ",
                  "orientation": "v",
                  "showlegend": true,
                  "textposition": "auto",
                  "type": "bar",
                  "x": [
                    "Alexandra Andresen ",
                    "Katharina Andresen "
                  ],
                  "xaxis": "x",
                  "y": {
                    "bdata": "zczMzMzM9D/NzMzMzMz0Pw==",
                    "dtype": "f8"
                  },
                  "yaxis": "y"
                },
                {
                  "hovertemplate": "industry=Automotive <br>name=%{x}<br>networth=%{y}<extra></extra>",
                  "legendgroup": "Automotive ",
                  "marker": {
                    "color": "#FFA15A",
                    "opacity": 0.8,
                    "pattern": {
                      "shape": ""
                    }
                  },
                  "name": "Automotive ",
                  "orientation": "v",
                  "showlegend": true,
                  "textposition": "auto",
                  "type": "bar",
                  "x": [
                    "Austin Russell "
                  ],
                  "xaxis": "x",
                  "y": {
                    "bdata": "mpmZmZmZ+T8=",
                    "dtype": "f8"
                  },
                  "yaxis": "y"
                },
                {
                  "hovertemplate": "industry=Technology <br>name=%{x}<br>networth=%{y}<extra></extra>",
                  "legendgroup": "Technology ",
                  "marker": {
                    "color": "#19d3f3",
                    "opacity": 0.8,
                    "pattern": {
                      "shape": ""
                    }
                  },
                  "name": "Technology ",
                  "orientation": "v",
                  "showlegend": true,
                  "textposition": "auto",
                  "type": "bar",
                  "x": [
                    "Ryan Breslow "
                  ],
                  "xaxis": "x",
                  "y": {
                    "bdata": "AAAAAAAAAEA=",
                    "dtype": "f8"
                  },
                  "yaxis": "y"
                },
                {
                  "hovertemplate": "industry=Food & Beverage <br>name=%{x}<br>networth=%{y}<extra></extra>",
                  "legendgroup": "Food & Beverage ",
                  "marker": {
                    "color": "#FF6692",
                    "opacity": 0.8,
                    "pattern": {
                      "shape": ""
                    }
                  },
                  "name": "Food & Beverage ",
                  "orientation": "v",
                  "showlegend": true,
                  "textposition": "auto",
                  "type": "bar",
                  "x": [
                    "Gustav Magnar Witzoe "
                  ],
                  "xaxis": "x",
                  "y": {
                    "bdata": "AAAAAAAAEkA=",
                    "dtype": "f8"
                  },
                  "yaxis": "y"
                }
              ],
              "layout": {
                "barmode": "relative",
                "legend": {
                  "title": {
                    "text": "industry"
                  },
                  "tracegroupgap": 0
                },
                "template": {
                  "data": {
                    "bar": [
                      {
                        "error_x": {
                          "color": "#f2f5fa"
                        },
                        "error_y": {
                          "color": "#f2f5fa"
                        },
                        "marker": {
                          "line": {
                            "color": "rgb(17,17,17)",
                            "width": 0.5
                          },
                          "pattern": {
                            "fillmode": "overlay",
                            "size": 10,
                            "solidity": 0.2
                          }
                        },
                        "type": "bar"
                      }
                    ],
                    "barpolar": [
                      {
                        "marker": {
                          "line": {
                            "color": "rgb(17,17,17)",
                            "width": 0.5
                          },
                          "pattern": {
                            "fillmode": "overlay",
                            "size": 10,
                            "solidity": 0.2
                          }
                        },
                        "type": "barpolar"
                      }
                    ],
                    "carpet": [
                      {
                        "aaxis": {
                          "endlinecolor": "#A2B1C6",
                          "gridcolor": "#506784",
                          "linecolor": "#506784",
                          "minorgridcolor": "#506784",
                          "startlinecolor": "#A2B1C6"
                        },
                        "baxis": {
                          "endlinecolor": "#A2B1C6",
                          "gridcolor": "#506784",
                          "linecolor": "#506784",
                          "minorgridcolor": "#506784",
                          "startlinecolor": "#A2B1C6"
                        },
                        "type": "carpet"
                      }
                    ],
                    "choropleth": [
                      {
                        "colorbar": {
                          "outlinewidth": 0,
                          "ticks": ""
                        },
                        "type": "choropleth"
                      }
                    ],
                    "contour": [
                      {
                        "colorbar": {
                          "outlinewidth": 0,
                          "ticks": ""
                        },
                        "colorscale": [
                          [
                            0,
                            "#0d0887"
                          ],
                          [
                            0.1111111111111111,
                            "#46039f"
                          ],
                          [
                            0.2222222222222222,
                            "#7201a8"
                          ],
                          [
                            0.3333333333333333,
                            "#9c179e"
                          ],
                          [
                            0.4444444444444444,
                            "#bd3786"
                          ],
                          [
                            0.5555555555555556,
                            "#d8576b"
                          ],
                          [
                            0.6666666666666666,
                            "#ed7953"
                          ],
                          [
                            0.7777777777777778,
                            "#fb9f3a"
                          ],
                          [
                            0.8888888888888888,
                            "#fdca26"
                          ],
                          [
                            1,
                            "#f0f921"
                          ]
                        ],
                        "type": "contour"
                      }
                    ],
                    "contourcarpet": [
                      {
                        "colorbar": {
                          "outlinewidth": 0,
                          "ticks": ""
                        },
                        "type": "contourcarpet"
                      }
                    ],
                    "heatmap": [
                      {
                        "colorbar": {
                          "outlinewidth": 0,
                          "ticks": ""
                        },
                        "colorscale": [
                          [
                            0,
                            "#0d0887"
                          ],
                          [
                            0.1111111111111111,
                            "#46039f"
                          ],
                          [
                            0.2222222222222222,
                            "#7201a8"
                          ],
                          [
                            0.3333333333333333,
                            "#9c179e"
                          ],
                          [
                            0.4444444444444444,
                            "#bd3786"
                          ],
                          [
                            0.5555555555555556,
                            "#d8576b"
                          ],
                          [
                            0.6666666666666666,
                            "#ed7953"
                          ],
                          [
                            0.7777777777777778,
                            "#fb9f3a"
                          ],
                          [
                            0.8888888888888888,
                            "#fdca26"
                          ],
                          [
                            1,
                            "#f0f921"
                          ]
                        ],
                        "type": "heatmap"
                      }
                    ],
                    "histogram": [
                      {
                        "marker": {
                          "pattern": {
                            "fillmode": "overlay",
                            "size": 10,
                            "solidity": 0.2
                          }
                        },
                        "type": "histogram"
                      }
                    ],
                    "histogram2d": [
                      {
                        "colorbar": {
                          "outlinewidth": 0,
                          "ticks": ""
                        },
                        "colorscale": [
                          [
                            0,
                            "#0d0887"
                          ],
                          [
                            0.1111111111111111,
                            "#46039f"
                          ],
                          [
                            0.2222222222222222,
                            "#7201a8"
                          ],
                          [
                            0.3333333333333333,
                            "#9c179e"
                          ],
                          [
                            0.4444444444444444,
                            "#bd3786"
                          ],
                          [
                            0.5555555555555556,
                            "#d8576b"
                          ],
                          [
                            0.6666666666666666,
                            "#ed7953"
                          ],
                          [
                            0.7777777777777778,
                            "#fb9f3a"
                          ],
                          [
                            0.8888888888888888,
                            "#fdca26"
                          ],
                          [
                            1,
                            "#f0f921"
                          ]
                        ],
                        "type": "histogram2d"
                      }
                    ],
                    "histogram2dcontour": [
                      {
                        "colorbar": {
                          "outlinewidth": 0,
                          "ticks": ""
                        },
                        "colorscale": [
                          [
                            0,
                            "#0d0887"
                          ],
                          [
                            0.1111111111111111,
                            "#46039f"
                          ],
                          [
                            0.2222222222222222,
                            "#7201a8"
                          ],
                          [
                            0.3333333333333333,
                            "#9c179e"
                          ],
                          [
                            0.4444444444444444,
                            "#bd3786"
                          ],
                          [
                            0.5555555555555556,
                            "#d8576b"
                          ],
                          [
                            0.6666666666666666,
                            "#ed7953"
                          ],
                          [
                            0.7777777777777778,
                            "#fb9f3a"
                          ],
                          [
                            0.8888888888888888,
                            "#fdca26"
                          ],
                          [
                            1,
                            "#f0f921"
                          ]
                        ],
                        "type": "histogram2dcontour"
                      }
                    ],
                    "mesh3d": [
                      {
                        "colorbar": {
                          "outlinewidth": 0,
                          "ticks": ""
                        },
                        "type": "mesh3d"
                      }
                    ],
                    "parcoords": [
                      {
                        "line": {
                          "colorbar": {
                            "outlinewidth": 0,
                            "ticks": ""
                          }
                        },
                        "type": "parcoords"
                      }
                    ],
                    "pie": [
                      {
                        "automargin": true,
                        "type": "pie"
                      }
                    ],
                    "scatter": [
                      {
                        "marker": {
                          "line": {
                            "color": "#283442"
                          }
                        },
                        "type": "scatter"
                      }
                    ],
                    "scatter3d": [
                      {
                        "line": {
                          "colorbar": {
                            "outlinewidth": 0,
                            "ticks": ""
                          }
                        },
                        "marker": {
                          "colorbar": {
                            "outlinewidth": 0,
                            "ticks": ""
                          }
                        },
                        "type": "scatter3d"
                      }
                    ],
                    "scattercarpet": [
                      {
                        "marker": {
                          "colorbar": {
                            "outlinewidth": 0,
                            "ticks": ""
                          }
                        },
                        "type": "scattercarpet"
                      }
                    ],
                    "scattergeo": [
                      {
                        "marker": {
                          "colorbar": {
                            "outlinewidth": 0,
                            "ticks": ""
                          }
                        },
                        "type": "scattergeo"
                      }
                    ],
                    "scattergl": [
                      {
                        "marker": {
                          "line": {
                            "color": "#283442"
                          }
                        },
                        "type": "scattergl"
                      }
                    ],
                    "scattermap": [
                      {
                        "marker": {
                          "colorbar": {
                            "outlinewidth": 0,
                            "ticks": ""
                          }
                        },
                        "type": "scattermap"
                      }
                    ],
                    "scattermapbox": [
                      {
                        "marker": {
                          "colorbar": {
                            "outlinewidth": 0,
                            "ticks": ""
                          }
                        },
                        "type": "scattermapbox"
                      }
                    ],
                    "scatterpolar": [
                      {
                        "marker": {
                          "colorbar": {
                            "outlinewidth": 0,
                            "ticks": ""
                          }
                        },
                        "type": "scatterpolar"
                      }
                    ],
                    "scatterpolargl": [
                      {
                        "marker": {
                          "colorbar": {
                            "outlinewidth": 0,
                            "ticks": ""
                          }
                        },
                        "type": "scatterpolargl"
                      }
                    ],
                    "scatterternary": [
                      {
                        "marker": {
                          "colorbar": {
                            "outlinewidth": 0,
                            "ticks": ""
                          }
                        },
                        "type": "scatterternary"
                      }
                    ],
                    "surface": [
                      {
                        "colorbar": {
                          "outlinewidth": 0,
                          "ticks": ""
                        },
                        "colorscale": [
                          [
                            0,
                            "#0d0887"
                          ],
                          [
                            0.1111111111111111,
                            "#46039f"
                          ],
                          [
                            0.2222222222222222,
                            "#7201a8"
                          ],
                          [
                            0.3333333333333333,
                            "#9c179e"
                          ],
                          [
                            0.4444444444444444,
                            "#bd3786"
                          ],
                          [
                            0.5555555555555556,
                            "#d8576b"
                          ],
                          [
                            0.6666666666666666,
                            "#ed7953"
                          ],
                          [
                            0.7777777777777778,
                            "#fb9f3a"
                          ],
                          [
                            0.8888888888888888,
                            "#fdca26"
                          ],
                          [
                            1,
                            "#f0f921"
                          ]
                        ],
                        "type": "surface"
                      }
                    ],
                    "table": [
                      {
                        "cells": {
                          "fill": {
                            "color": "#506784"
                          },
                          "line": {
                            "color": "rgb(17,17,17)"
                          }
                        },
                        "header": {
                          "fill": {
                            "color": "#2a3f5f"
                          },
                          "line": {
                            "color": "rgb(17,17,17)"
                          }
                        },
                        "type": "table"
                      }
                    ]
                  },
                  "layout": {
                    "annotationdefaults": {
                      "arrowcolor": "#f2f5fa",
                      "arrowhead": 0,
                      "arrowwidth": 1
                    },
                    "autotypenumbers": "strict",
                    "coloraxis": {
                      "colorbar": {
                        "outlinewidth": 0,
                        "ticks": ""
                      }
                    },
                    "colorscale": {
                      "diverging": [
                        [
                          0,
                          "#8e0152"
                        ],
                        [
                          0.1,
                          "#c51b7d"
                        ],
                        [
                          0.2,
                          "#de77ae"
                        ],
                        [
                          0.3,
                          "#f1b6da"
                        ],
                        [
                          0.4,
                          "#fde0ef"
                        ],
                        [
                          0.5,
                          "#f7f7f7"
                        ],
                        [
                          0.6,
                          "#e6f5d0"
                        ],
                        [
                          0.7,
                          "#b8e186"
                        ],
                        [
                          0.8,
                          "#7fbc41"
                        ],
                        [
                          0.9,
                          "#4d9221"
                        ],
                        [
                          1,
                          "#276419"
                        ]
                      ],
                      "sequential": [
                        [
                          0,
                          "#0d0887"
                        ],
                        [
                          0.1111111111111111,
                          "#46039f"
                        ],
                        [
                          0.2222222222222222,
                          "#7201a8"
                        ],
                        [
                          0.3333333333333333,
                          "#9c179e"
                        ],
                        [
                          0.4444444444444444,
                          "#bd3786"
                        ],
                        [
                          0.5555555555555556,
                          "#d8576b"
                        ],
                        [
                          0.6666666666666666,
                          "#ed7953"
                        ],
                        [
                          0.7777777777777778,
                          "#fb9f3a"
                        ],
                        [
                          0.8888888888888888,
                          "#fdca26"
                        ],
                        [
                          1,
                          "#f0f921"
                        ]
                      ],
                      "sequentialminus": [
                        [
                          0,
                          "#0d0887"
                        ],
                        [
                          0.1111111111111111,
                          "#46039f"
                        ],
                        [
                          0.2222222222222222,
                          "#7201a8"
                        ],
                        [
                          0.3333333333333333,
                          "#9c179e"
                        ],
                        [
                          0.4444444444444444,
                          "#bd3786"
                        ],
                        [
                          0.5555555555555556,
                          "#d8576b"
                        ],
                        [
                          0.6666666666666666,
                          "#ed7953"
                        ],
                        [
                          0.7777777777777778,
                          "#fb9f3a"
                        ],
                        [
                          0.8888888888888888,
                          "#fdca26"
                        ],
                        [
                          1,
                          "#f0f921"
                        ]
                      ]
                    },
                    "colorway": [
                      "#636efa",
                      "#EF553B",
                      "#00cc96",
                      "#ab63fa",
                      "#FFA15A",
                      "#19d3f3",
                      "#FF6692",
                      "#B6E880",
                      "#FF97FF",
                      "#FECB52"
                    ],
                    "font": {
                      "color": "#f2f5fa"
                    },
                    "geo": {
                      "bgcolor": "rgb(17,17,17)",
                      "lakecolor": "rgb(17,17,17)",
                      "landcolor": "rgb(17,17,17)",
                      "showlakes": true,
                      "showland": true,
                      "subunitcolor": "#506784"
                    },
                    "hoverlabel": {
                      "align": "left"
                    },
                    "hovermode": "closest",
                    "mapbox": {
                      "style": "dark"
                    },
                    "paper_bgcolor": "rgb(17,17,17)",
                    "plot_bgcolor": "rgb(17,17,17)",
                    "polar": {
                      "angularaxis": {
                        "gridcolor": "#506784",
                        "linecolor": "#506784",
                        "ticks": ""
                      },
                      "bgcolor": "rgb(17,17,17)",
                      "radialaxis": {
                        "gridcolor": "#506784",
                        "linecolor": "#506784",
                        "ticks": ""
                      }
                    },
                    "scene": {
                      "xaxis": {
                        "backgroundcolor": "rgb(17,17,17)",
                        "gridcolor": "#506784",
                        "gridwidth": 2,
                        "linecolor": "#506784",
                        "showbackground": true,
                        "ticks": "",
                        "zerolinecolor": "#C8D4E3"
                      },
                      "yaxis": {
                        "backgroundcolor": "rgb(17,17,17)",
                        "gridcolor": "#506784",
                        "gridwidth": 2,
                        "linecolor": "#506784",
                        "showbackground": true,
                        "ticks": "",
                        "zerolinecolor": "#C8D4E3"
                      },
                      "zaxis": {
                        "backgroundcolor": "rgb(17,17,17)",
                        "gridcolor": "#506784",
                        "gridwidth": 2,
                        "linecolor": "#506784",
                        "showbackground": true,
                        "ticks": "",
                        "zerolinecolor": "#C8D4E3"
                      }
                    },
                    "shapedefaults": {
                      "line": {
                        "color": "#f2f5fa"
                      }
                    },
                    "sliderdefaults": {
                      "bgcolor": "#C8D4E3",
                      "bordercolor": "rgb(17,17,17)",
                      "borderwidth": 1,
                      "tickwidth": 0
                    },
                    "ternary": {
                      "aaxis": {
                        "gridcolor": "#506784",
                        "linecolor": "#506784",
                        "ticks": ""
                      },
                      "baxis": {
                        "gridcolor": "#506784",
                        "linecolor": "#506784",
                        "ticks": ""
                      },
                      "bgcolor": "rgb(17,17,17)",
                      "caxis": {
                        "gridcolor": "#506784",
                        "linecolor": "#506784",
                        "ticks": ""
                      }
                    },
                    "title": {
                      "x": 0.05
                    },
                    "updatemenudefaults": {
                      "bgcolor": "#506784",
                      "borderwidth": 0
                    },
                    "xaxis": {
                      "automargin": true,
                      "gridcolor": "#283442",
                      "linecolor": "#506784",
                      "ticks": "",
                      "title": {
                        "standoff": 15
                      },
                      "zerolinecolor": "#283442",
                      "zerolinewidth": 2
                    },
                    "yaxis": {
                      "automargin": true,
                      "gridcolor": "#283442",
                      "linecolor": "#506784",
                      "ticks": "",
                      "title": {
                        "standoff": 15
                      },
                      "zerolinecolor": "#283442",
                      "zerolinewidth": 2
                    }
                  }
                },
                "title": {
                  "text": "<b>Top 10 youngest billionairs and the industries"
                },
                "xaxis": {
                  "anchor": "y",
                  "domain": [
                    0,
                    1
                  ],
                  "title": {
                    "text": "name"
                  }
                },
                "yaxis": {
                  "anchor": "x",
                  "domain": [
                    0,
                    1
                  ],
                  "title": {
                    "text": "networth"
                  }
                }
              }
            }
          },
          "metadata": {},
          "output_type": "display_data"
        }
      ],
      "source": [
        "# Top 10 youngest billionairs and the industries\n",
        "fig = px.bar(df.sort_values(\n",
        "    'age',\n",
        "    ascending = True)[:10],\n",
        "    x = 'name',\n",
        "    y = 'networth',\n",
        "    template = 'plotly_dark',\n",
        "    color = 'industry',\n",
        "    opacity = 0.8,\n",
        "    title = '<b>Top 10 youngest billionairs and the industries')\n",
        "fig.show()"
      ]
    },
    {
      "cell_type": "markdown",
      "metadata": {
        "id": "lswlhVejKd6k"
      },
      "source": [
        "Insights\n",
        "\n",
        "- Most of the top 10 young billionaires work in the industry of Finance and Investment.\n",
        "- The youngest billionaire Kevin David Lehmann has it's networth in the industry of Fashion and Retail.\n",
        "- The second richest billionaire in top 10 youngest billionaires is Gustav Magnar Witzoe have it's networth coming from Food and Beverage industry."
      ]
    },
    {
      "cell_type": "markdown",
      "metadata": {
        "id": "2l_FZrg9KiQj"
      },
      "source": [
        "What industry does top 10 oldest billionaires belong to?"
      ]
    },
    {
      "cell_type": "code",
      "execution_count": 39,
      "metadata": {
        "colab": {
          "base_uri": "https://localhost:8080/",
          "height": 542
        },
        "id": "Sk6AVkRKGKNC",
        "outputId": "fdf9d45d-572c-4af7-a4d5-53a0154bf33d"
      },
      "outputs": [
        {
          "data": {
            "application/vnd.plotly.v1+json": {
              "config": {
                "plotlyServerURL": "https://plot.ly"
              },
              "data": [
                {
                  "hovertemplate": "industry=Finance & Investments <br>name=%{x}<br>networth=%{y}<extra></extra>",
                  "legendgroup": "Finance & Investments ",
                  "marker": {
                    "color": "#636efa",
                    "opacity": 0.8,
                    "pattern": {
                      "shape": ""
                    }
                  },
                  "name": "Finance & Investments ",
                  "orientation": "v",
                  "showlegend": true,
                  "textposition": "auto",
                  "type": "bar",
                  "x": [
                    "George Joseph ",
                    "Charles Munger ",
                    "Stephen Jarislowsky "
                  ],
                  "xaxis": "x",
                  "y": {
                    "bdata": "zczMzMzM/D8AAAAAAAAEQM3MzMzMzPw/",
                    "dtype": "f8"
                  },
                  "yaxis": "y"
                },
                {
                  "hovertemplate": "industry=Food & Beverage <br>name=%{x}<br>networth=%{y}<extra></extra>",
                  "legendgroup": "Food & Beverage ",
                  "marker": {
                    "color": "#EF553B",
                    "opacity": 0.8,
                    "pattern": {
                      "shape": ""
                    }
                  },
                  "name": "Food & Beverage ",
                  "orientation": "v",
                  "showlegend": true,
                  "textposition": "auto",
                  "type": "bar",
                  "x": [
                    "David Murdock ",
                    "S. Daniel Abraham "
                  ],
                  "xaxis": "x",
                  "y": {
                    "bdata": "ZmZmZmZmAkAAAAAAAAAAQA==",
                    "dtype": "f8"
                  },
                  "yaxis": "y"
                },
                {
                  "hovertemplate": "industry=Diversified <br>name=%{x}<br>networth=%{y}<extra></extra>",
                  "legendgroup": "Diversified ",
                  "marker": {
                    "color": "#00cc96",
                    "opacity": 0.8,
                    "pattern": {
                      "shape": ""
                    }
                  },
                  "name": "Diversified ",
                  "orientation": "v",
                  "showlegend": true,
                  "textposition": "auto",
                  "type": "bar",
                  "x": [
                    "Robert Kuok ",
                    "Ana Maria Brescia Cafferata "
                  ],
                  "xaxis": "x",
                  "y": {
                    "bdata": "ZmZmZmZmJ0AAAAAAAAD4Pw==",
                    "dtype": "f8"
                  },
                  "yaxis": "y"
                },
                {
                  "hovertemplate": "industry=Fashion & Retail <br>name=%{x}<br>networth=%{y}<extra></extra>",
                  "legendgroup": "Fashion & Retail ",
                  "marker": {
                    "color": "#ab63fa",
                    "opacity": 0.8,
                    "pattern": {
                      "shape": ""
                    }
                  },
                  "name": "Fashion & Retail ",
                  "orientation": "v",
                  "showlegend": true,
                  "textposition": "auto",
                  "type": "bar",
                  "x": [
                    "Masatoshi Ito ",
                    "Nobutoshi Shimamura "
                  ],
                  "xaxis": "x",
                  "y": {
                    "bdata": "ZmZmZmZmEkDNzMzMzMz0Pw==",
                    "dtype": "f8"
                  },
                  "yaxis": "y"
                },
                {
                  "hovertemplate": "industry=Manufacturing <br>name=%{x}<br>networth=%{y}<extra></extra>",
                  "legendgroup": "Manufacturing ",
                  "marker": {
                    "color": "#FFA15A",
                    "opacity": 0.8,
                    "pattern": {
                      "shape": ""
                    }
                  },
                  "name": "Manufacturing ",
                  "orientation": "v",
                  "showlegend": true,
                  "textposition": "auto",
                  "type": "bar",
                  "x": [
                    "John Farber "
                  ],
                  "xaxis": "x",
                  "y": {
                    "bdata": "AAAAAAAA+D8=",
                    "dtype": "f8"
                  },
                  "yaxis": "y"
                }
              ],
              "layout": {
                "barmode": "relative",
                "legend": {
                  "title": {
                    "text": "industry"
                  },
                  "tracegroupgap": 0
                },
                "template": {
                  "data": {
                    "bar": [
                      {
                        "error_x": {
                          "color": "#f2f5fa"
                        },
                        "error_y": {
                          "color": "#f2f5fa"
                        },
                        "marker": {
                          "line": {
                            "color": "rgb(17,17,17)",
                            "width": 0.5
                          },
                          "pattern": {
                            "fillmode": "overlay",
                            "size": 10,
                            "solidity": 0.2
                          }
                        },
                        "type": "bar"
                      }
                    ],
                    "barpolar": [
                      {
                        "marker": {
                          "line": {
                            "color": "rgb(17,17,17)",
                            "width": 0.5
                          },
                          "pattern": {
                            "fillmode": "overlay",
                            "size": 10,
                            "solidity": 0.2
                          }
                        },
                        "type": "barpolar"
                      }
                    ],
                    "carpet": [
                      {
                        "aaxis": {
                          "endlinecolor": "#A2B1C6",
                          "gridcolor": "#506784",
                          "linecolor": "#506784",
                          "minorgridcolor": "#506784",
                          "startlinecolor": "#A2B1C6"
                        },
                        "baxis": {
                          "endlinecolor": "#A2B1C6",
                          "gridcolor": "#506784",
                          "linecolor": "#506784",
                          "minorgridcolor": "#506784",
                          "startlinecolor": "#A2B1C6"
                        },
                        "type": "carpet"
                      }
                    ],
                    "choropleth": [
                      {
                        "colorbar": {
                          "outlinewidth": 0,
                          "ticks": ""
                        },
                        "type": "choropleth"
                      }
                    ],
                    "contour": [
                      {
                        "colorbar": {
                          "outlinewidth": 0,
                          "ticks": ""
                        },
                        "colorscale": [
                          [
                            0,
                            "#0d0887"
                          ],
                          [
                            0.1111111111111111,
                            "#46039f"
                          ],
                          [
                            0.2222222222222222,
                            "#7201a8"
                          ],
                          [
                            0.3333333333333333,
                            "#9c179e"
                          ],
                          [
                            0.4444444444444444,
                            "#bd3786"
                          ],
                          [
                            0.5555555555555556,
                            "#d8576b"
                          ],
                          [
                            0.6666666666666666,
                            "#ed7953"
                          ],
                          [
                            0.7777777777777778,
                            "#fb9f3a"
                          ],
                          [
                            0.8888888888888888,
                            "#fdca26"
                          ],
                          [
                            1,
                            "#f0f921"
                          ]
                        ],
                        "type": "contour"
                      }
                    ],
                    "contourcarpet": [
                      {
                        "colorbar": {
                          "outlinewidth": 0,
                          "ticks": ""
                        },
                        "type": "contourcarpet"
                      }
                    ],
                    "heatmap": [
                      {
                        "colorbar": {
                          "outlinewidth": 0,
                          "ticks": ""
                        },
                        "colorscale": [
                          [
                            0,
                            "#0d0887"
                          ],
                          [
                            0.1111111111111111,
                            "#46039f"
                          ],
                          [
                            0.2222222222222222,
                            "#7201a8"
                          ],
                          [
                            0.3333333333333333,
                            "#9c179e"
                          ],
                          [
                            0.4444444444444444,
                            "#bd3786"
                          ],
                          [
                            0.5555555555555556,
                            "#d8576b"
                          ],
                          [
                            0.6666666666666666,
                            "#ed7953"
                          ],
                          [
                            0.7777777777777778,
                            "#fb9f3a"
                          ],
                          [
                            0.8888888888888888,
                            "#fdca26"
                          ],
                          [
                            1,
                            "#f0f921"
                          ]
                        ],
                        "type": "heatmap"
                      }
                    ],
                    "histogram": [
                      {
                        "marker": {
                          "pattern": {
                            "fillmode": "overlay",
                            "size": 10,
                            "solidity": 0.2
                          }
                        },
                        "type": "histogram"
                      }
                    ],
                    "histogram2d": [
                      {
                        "colorbar": {
                          "outlinewidth": 0,
                          "ticks": ""
                        },
                        "colorscale": [
                          [
                            0,
                            "#0d0887"
                          ],
                          [
                            0.1111111111111111,
                            "#46039f"
                          ],
                          [
                            0.2222222222222222,
                            "#7201a8"
                          ],
                          [
                            0.3333333333333333,
                            "#9c179e"
                          ],
                          [
                            0.4444444444444444,
                            "#bd3786"
                          ],
                          [
                            0.5555555555555556,
                            "#d8576b"
                          ],
                          [
                            0.6666666666666666,
                            "#ed7953"
                          ],
                          [
                            0.7777777777777778,
                            "#fb9f3a"
                          ],
                          [
                            0.8888888888888888,
                            "#fdca26"
                          ],
                          [
                            1,
                            "#f0f921"
                          ]
                        ],
                        "type": "histogram2d"
                      }
                    ],
                    "histogram2dcontour": [
                      {
                        "colorbar": {
                          "outlinewidth": 0,
                          "ticks": ""
                        },
                        "colorscale": [
                          [
                            0,
                            "#0d0887"
                          ],
                          [
                            0.1111111111111111,
                            "#46039f"
                          ],
                          [
                            0.2222222222222222,
                            "#7201a8"
                          ],
                          [
                            0.3333333333333333,
                            "#9c179e"
                          ],
                          [
                            0.4444444444444444,
                            "#bd3786"
                          ],
                          [
                            0.5555555555555556,
                            "#d8576b"
                          ],
                          [
                            0.6666666666666666,
                            "#ed7953"
                          ],
                          [
                            0.7777777777777778,
                            "#fb9f3a"
                          ],
                          [
                            0.8888888888888888,
                            "#fdca26"
                          ],
                          [
                            1,
                            "#f0f921"
                          ]
                        ],
                        "type": "histogram2dcontour"
                      }
                    ],
                    "mesh3d": [
                      {
                        "colorbar": {
                          "outlinewidth": 0,
                          "ticks": ""
                        },
                        "type": "mesh3d"
                      }
                    ],
                    "parcoords": [
                      {
                        "line": {
                          "colorbar": {
                            "outlinewidth": 0,
                            "ticks": ""
                          }
                        },
                        "type": "parcoords"
                      }
                    ],
                    "pie": [
                      {
                        "automargin": true,
                        "type": "pie"
                      }
                    ],
                    "scatter": [
                      {
                        "marker": {
                          "line": {
                            "color": "#283442"
                          }
                        },
                        "type": "scatter"
                      }
                    ],
                    "scatter3d": [
                      {
                        "line": {
                          "colorbar": {
                            "outlinewidth": 0,
                            "ticks": ""
                          }
                        },
                        "marker": {
                          "colorbar": {
                            "outlinewidth": 0,
                            "ticks": ""
                          }
                        },
                        "type": "scatter3d"
                      }
                    ],
                    "scattercarpet": [
                      {
                        "marker": {
                          "colorbar": {
                            "outlinewidth": 0,
                            "ticks": ""
                          }
                        },
                        "type": "scattercarpet"
                      }
                    ],
                    "scattergeo": [
                      {
                        "marker": {
                          "colorbar": {
                            "outlinewidth": 0,
                            "ticks": ""
                          }
                        },
                        "type": "scattergeo"
                      }
                    ],
                    "scattergl": [
                      {
                        "marker": {
                          "line": {
                            "color": "#283442"
                          }
                        },
                        "type": "scattergl"
                      }
                    ],
                    "scattermap": [
                      {
                        "marker": {
                          "colorbar": {
                            "outlinewidth": 0,
                            "ticks": ""
                          }
                        },
                        "type": "scattermap"
                      }
                    ],
                    "scattermapbox": [
                      {
                        "marker": {
                          "colorbar": {
                            "outlinewidth": 0,
                            "ticks": ""
                          }
                        },
                        "type": "scattermapbox"
                      }
                    ],
                    "scatterpolar": [
                      {
                        "marker": {
                          "colorbar": {
                            "outlinewidth": 0,
                            "ticks": ""
                          }
                        },
                        "type": "scatterpolar"
                      }
                    ],
                    "scatterpolargl": [
                      {
                        "marker": {
                          "colorbar": {
                            "outlinewidth": 0,
                            "ticks": ""
                          }
                        },
                        "type": "scatterpolargl"
                      }
                    ],
                    "scatterternary": [
                      {
                        "marker": {
                          "colorbar": {
                            "outlinewidth": 0,
                            "ticks": ""
                          }
                        },
                        "type": "scatterternary"
                      }
                    ],
                    "surface": [
                      {
                        "colorbar": {
                          "outlinewidth": 0,
                          "ticks": ""
                        },
                        "colorscale": [
                          [
                            0,
                            "#0d0887"
                          ],
                          [
                            0.1111111111111111,
                            "#46039f"
                          ],
                          [
                            0.2222222222222222,
                            "#7201a8"
                          ],
                          [
                            0.3333333333333333,
                            "#9c179e"
                          ],
                          [
                            0.4444444444444444,
                            "#bd3786"
                          ],
                          [
                            0.5555555555555556,
                            "#d8576b"
                          ],
                          [
                            0.6666666666666666,
                            "#ed7953"
                          ],
                          [
                            0.7777777777777778,
                            "#fb9f3a"
                          ],
                          [
                            0.8888888888888888,
                            "#fdca26"
                          ],
                          [
                            1,
                            "#f0f921"
                          ]
                        ],
                        "type": "surface"
                      }
                    ],
                    "table": [
                      {
                        "cells": {
                          "fill": {
                            "color": "#506784"
                          },
                          "line": {
                            "color": "rgb(17,17,17)"
                          }
                        },
                        "header": {
                          "fill": {
                            "color": "#2a3f5f"
                          },
                          "line": {
                            "color": "rgb(17,17,17)"
                          }
                        },
                        "type": "table"
                      }
                    ]
                  },
                  "layout": {
                    "annotationdefaults": {
                      "arrowcolor": "#f2f5fa",
                      "arrowhead": 0,
                      "arrowwidth": 1
                    },
                    "autotypenumbers": "strict",
                    "coloraxis": {
                      "colorbar": {
                        "outlinewidth": 0,
                        "ticks": ""
                      }
                    },
                    "colorscale": {
                      "diverging": [
                        [
                          0,
                          "#8e0152"
                        ],
                        [
                          0.1,
                          "#c51b7d"
                        ],
                        [
                          0.2,
                          "#de77ae"
                        ],
                        [
                          0.3,
                          "#f1b6da"
                        ],
                        [
                          0.4,
                          "#fde0ef"
                        ],
                        [
                          0.5,
                          "#f7f7f7"
                        ],
                        [
                          0.6,
                          "#e6f5d0"
                        ],
                        [
                          0.7,
                          "#b8e186"
                        ],
                        [
                          0.8,
                          "#7fbc41"
                        ],
                        [
                          0.9,
                          "#4d9221"
                        ],
                        [
                          1,
                          "#276419"
                        ]
                      ],
                      "sequential": [
                        [
                          0,
                          "#0d0887"
                        ],
                        [
                          0.1111111111111111,
                          "#46039f"
                        ],
                        [
                          0.2222222222222222,
                          "#7201a8"
                        ],
                        [
                          0.3333333333333333,
                          "#9c179e"
                        ],
                        [
                          0.4444444444444444,
                          "#bd3786"
                        ],
                        [
                          0.5555555555555556,
                          "#d8576b"
                        ],
                        [
                          0.6666666666666666,
                          "#ed7953"
                        ],
                        [
                          0.7777777777777778,
                          "#fb9f3a"
                        ],
                        [
                          0.8888888888888888,
                          "#fdca26"
                        ],
                        [
                          1,
                          "#f0f921"
                        ]
                      ],
                      "sequentialminus": [
                        [
                          0,
                          "#0d0887"
                        ],
                        [
                          0.1111111111111111,
                          "#46039f"
                        ],
                        [
                          0.2222222222222222,
                          "#7201a8"
                        ],
                        [
                          0.3333333333333333,
                          "#9c179e"
                        ],
                        [
                          0.4444444444444444,
                          "#bd3786"
                        ],
                        [
                          0.5555555555555556,
                          "#d8576b"
                        ],
                        [
                          0.6666666666666666,
                          "#ed7953"
                        ],
                        [
                          0.7777777777777778,
                          "#fb9f3a"
                        ],
                        [
                          0.8888888888888888,
                          "#fdca26"
                        ],
                        [
                          1,
                          "#f0f921"
                        ]
                      ]
                    },
                    "colorway": [
                      "#636efa",
                      "#EF553B",
                      "#00cc96",
                      "#ab63fa",
                      "#FFA15A",
                      "#19d3f3",
                      "#FF6692",
                      "#B6E880",
                      "#FF97FF",
                      "#FECB52"
                    ],
                    "font": {
                      "color": "#f2f5fa"
                    },
                    "geo": {
                      "bgcolor": "rgb(17,17,17)",
                      "lakecolor": "rgb(17,17,17)",
                      "landcolor": "rgb(17,17,17)",
                      "showlakes": true,
                      "showland": true,
                      "subunitcolor": "#506784"
                    },
                    "hoverlabel": {
                      "align": "left"
                    },
                    "hovermode": "closest",
                    "mapbox": {
                      "style": "dark"
                    },
                    "paper_bgcolor": "rgb(17,17,17)",
                    "plot_bgcolor": "rgb(17,17,17)",
                    "polar": {
                      "angularaxis": {
                        "gridcolor": "#506784",
                        "linecolor": "#506784",
                        "ticks": ""
                      },
                      "bgcolor": "rgb(17,17,17)",
                      "radialaxis": {
                        "gridcolor": "#506784",
                        "linecolor": "#506784",
                        "ticks": ""
                      }
                    },
                    "scene": {
                      "xaxis": {
                        "backgroundcolor": "rgb(17,17,17)",
                        "gridcolor": "#506784",
                        "gridwidth": 2,
                        "linecolor": "#506784",
                        "showbackground": true,
                        "ticks": "",
                        "zerolinecolor": "#C8D4E3"
                      },
                      "yaxis": {
                        "backgroundcolor": "rgb(17,17,17)",
                        "gridcolor": "#506784",
                        "gridwidth": 2,
                        "linecolor": "#506784",
                        "showbackground": true,
                        "ticks": "",
                        "zerolinecolor": "#C8D4E3"
                      },
                      "zaxis": {
                        "backgroundcolor": "rgb(17,17,17)",
                        "gridcolor": "#506784",
                        "gridwidth": 2,
                        "linecolor": "#506784",
                        "showbackground": true,
                        "ticks": "",
                        "zerolinecolor": "#C8D4E3"
                      }
                    },
                    "shapedefaults": {
                      "line": {
                        "color": "#f2f5fa"
                      }
                    },
                    "sliderdefaults": {
                      "bgcolor": "#C8D4E3",
                      "bordercolor": "rgb(17,17,17)",
                      "borderwidth": 1,
                      "tickwidth": 0
                    },
                    "ternary": {
                      "aaxis": {
                        "gridcolor": "#506784",
                        "linecolor": "#506784",
                        "ticks": ""
                      },
                      "baxis": {
                        "gridcolor": "#506784",
                        "linecolor": "#506784",
                        "ticks": ""
                      },
                      "bgcolor": "rgb(17,17,17)",
                      "caxis": {
                        "gridcolor": "#506784",
                        "linecolor": "#506784",
                        "ticks": ""
                      }
                    },
                    "title": {
                      "x": 0.05
                    },
                    "updatemenudefaults": {
                      "bgcolor": "#506784",
                      "borderwidth": 0
                    },
                    "xaxis": {
                      "automargin": true,
                      "gridcolor": "#283442",
                      "linecolor": "#506784",
                      "ticks": "",
                      "title": {
                        "standoff": 15
                      },
                      "zerolinecolor": "#283442",
                      "zerolinewidth": 2
                    },
                    "yaxis": {
                      "automargin": true,
                      "gridcolor": "#283442",
                      "linecolor": "#506784",
                      "ticks": "",
                      "title": {
                        "standoff": 15
                      },
                      "zerolinecolor": "#283442",
                      "zerolinewidth": 2
                    }
                  }
                },
                "title": {
                  "text": "<b>Top 10 oldest billionairs and their industries"
                },
                "xaxis": {
                  "anchor": "y",
                  "domain": [
                    0,
                    1
                  ],
                  "title": {
                    "text": "name"
                  }
                },
                "yaxis": {
                  "anchor": "x",
                  "domain": [
                    0,
                    1
                  ],
                  "title": {
                    "text": "networth"
                  }
                }
              }
            }
          },
          "metadata": {},
          "output_type": "display_data"
        }
      ],
      "source": [
        "# Top 10 oldest billionairs and their industries\n",
        "fig = px.bar(df.sort_values(\n",
        "    'age',\n",
        "    ascending = False)[:10],\n",
        "    x = 'name',\n",
        "    y = 'networth',\n",
        "    template = 'plotly_dark',\n",
        "    color = 'industry',\n",
        "    opacity = 0.8,\n",
        "    title = '<b>Top 10 oldest billionairs and their industries')\n",
        "fig.show()"
      ]
    },
    {
      "cell_type": "markdown",
      "metadata": {
        "id": "D3FPhEr-Kjfd"
      },
      "source": [
        "Insights\n",
        "\n",
        "- Most of the top 10 oldest billionaires work in the industry of Finance and Investment.\n",
        "- The oldest billionaire George Joseph has it's networth in the industry of Finance and Investment.\n",
        "- The richest billionaire in top 10 oldest billionaires is Robert Kuok have it's networth coming from Diversified industry."
      ]
    },
    {
      "cell_type": "markdown",
      "metadata": {
        "id": "g3udIzv3KnYM"
      },
      "source": [
        "What is the total networth of billionaires in top 10 industries?"
      ]
    },
    {
      "cell_type": "code",
      "execution_count": 40,
      "metadata": {
        "colab": {
          "base_uri": "https://localhost:8080/",
          "height": 542
        },
        "id": "3W2Cvni1Gb5f",
        "outputId": "621365ca-12ef-4199-a54d-417cc5c581f1"
      },
      "outputs": [
        {
          "data": {
            "application/vnd.plotly.v1+json": {
              "config": {
                "plotlyServerURL": "https://plot.ly"
              },
              "data": [
                {
                  "hovertemplate": "industry=%{x}<br>networth=%{marker.size}<extra></extra>",
                  "legendgroup": "Technology ",
                  "marker": {
                    "color": "#636efa",
                    "opacity": 0.85,
                    "size": {
                      "bdata": "zczMzMzwoEA=",
                      "dtype": "f8"
                    },
                    "sizemode": "area",
                    "sizeref": 5.421,
                    "symbol": "circle"
                  },
                  "mode": "markers",
                  "name": "Technology ",
                  "orientation": "v",
                  "showlegend": true,
                  "type": "scatter",
                  "x": [
                    "Technology "
                  ],
                  "xaxis": "x",
                  "y": {
                    "bdata": "zczMzMzwoEA=",
                    "dtype": "f8"
                  },
                  "yaxis": "y"
                },
                {
                  "hovertemplate": "industry=%{x}<br>networth=%{marker.size}<extra></extra>",
                  "legendgroup": "Finance & Investments ",
                  "marker": {
                    "color": "#EF553B",
                    "opacity": 0.85,
                    "size": {
                      "bdata": "MzMzMzMZm0A=",
                      "dtype": "f8"
                    },
                    "sizemode": "area",
                    "sizeref": 5.421,
                    "symbol": "circle"
                  },
                  "mode": "markers",
                  "name": "Finance & Investments ",
                  "orientation": "v",
                  "showlegend": true,
                  "type": "scatter",
                  "x": [
                    "Finance & Investments "
                  ],
                  "xaxis": "x",
                  "y": {
                    "bdata": "MzMzMzMZm0A=",
                    "dtype": "f8"
                  },
                  "yaxis": "y"
                },
                {
                  "hovertemplate": "industry=%{x}<br>networth=%{marker.size}<extra></extra>",
                  "legendgroup": "Fashion & Retail ",
                  "marker": {
                    "color": "#00cc96",
                    "opacity": 0.85,
                    "size": {
                      "bdata": "zczMzMw0mUA=",
                      "dtype": "f8"
                    },
                    "sizemode": "area",
                    "sizeref": 5.421,
                    "symbol": "circle"
                  },
                  "mode": "markers",
                  "name": "Fashion & Retail ",
                  "orientation": "v",
                  "showlegend": true,
                  "type": "scatter",
                  "x": [
                    "Fashion & Retail "
                  ],
                  "xaxis": "x",
                  "y": {
                    "bdata": "zczMzMw0mUA=",
                    "dtype": "f8"
                  },
                  "yaxis": "y"
                },
                {
                  "hovertemplate": "industry=%{x}<br>networth=%{marker.size}<extra></extra>",
                  "legendgroup": "Manufacturing ",
                  "marker": {
                    "color": "#ab63fa",
                    "opacity": 0.85,
                    "size": {
                      "bdata": "MzMzMzPfkEA=",
                      "dtype": "f8"
                    },
                    "sizemode": "area",
                    "sizeref": 5.421,
                    "symbol": "circle"
                  },
                  "mode": "markers",
                  "name": "Manufacturing ",
                  "orientation": "v",
                  "showlegend": true,
                  "type": "scatter",
                  "x": [
                    "Manufacturing "
                  ],
                  "xaxis": "x",
                  "y": {
                    "bdata": "MzMzMzPfkEA=",
                    "dtype": "f8"
                  },
                  "yaxis": "y"
                },
                {
                  "hovertemplate": "industry=%{x}<br>networth=%{marker.size}<extra></extra>",
                  "legendgroup": "Diversified ",
                  "marker": {
                    "color": "#FFA15A",
                    "opacity": 0.85,
                    "size": {
                      "bdata": "AAAAAABcjUA=",
                      "dtype": "f8"
                    },
                    "sizemode": "area",
                    "sizeref": 5.421,
                    "symbol": "circle"
                  },
                  "mode": "markers",
                  "name": "Diversified ",
                  "orientation": "v",
                  "showlegend": true,
                  "type": "scatter",
                  "x": [
                    "Diversified "
                  ],
                  "xaxis": "x",
                  "y": {
                    "bdata": "AAAAAABcjUA=",
                    "dtype": "f8"
                  },
                  "yaxis": "y"
                },
                {
                  "hovertemplate": "industry=%{x}<br>networth=%{marker.size}<extra></extra>",
                  "legendgroup": "Food & Beverage ",
                  "marker": {
                    "color": "#19d3f3",
                    "opacity": 0.85,
                    "size": {
                      "bdata": "zczMzMwqjUA=",
                      "dtype": "f8"
                    },
                    "sizemode": "area",
                    "sizeref": 5.421,
                    "symbol": "circle"
                  },
                  "mode": "markers",
                  "name": "Food & Beverage ",
                  "orientation": "v",
                  "showlegend": true,
                  "type": "scatter",
                  "x": [
                    "Food & Beverage "
                  ],
                  "xaxis": "x",
                  "y": {
                    "bdata": "zczMzMwqjUA=",
                    "dtype": "f8"
                  },
                  "yaxis": "y"
                },
                {
                  "hovertemplate": "industry=%{x}<br>networth=%{marker.size}<extra></extra>",
                  "legendgroup": "Healthcare ",
                  "marker": {
                    "color": "#FF6692",
                    "opacity": 0.85,
                    "size": {
                      "bdata": "MzMzMzMnhkA=",
                      "dtype": "f8"
                    },
                    "sizemode": "area",
                    "sizeref": 5.421,
                    "symbol": "circle"
                  },
                  "mode": "markers",
                  "name": "Healthcare ",
                  "orientation": "v",
                  "showlegend": true,
                  "type": "scatter",
                  "x": [
                    "Healthcare "
                  ],
                  "xaxis": "x",
                  "y": {
                    "bdata": "MzMzMzMnhkA=",
                    "dtype": "f8"
                  },
                  "yaxis": "y"
                },
                {
                  "hovertemplate": "industry=%{x}<br>networth=%{marker.size}<extra></extra>",
                  "legendgroup": "Real Estate ",
                  "marker": {
                    "color": "#B6E880",
                    "opacity": 0.85,
                    "size": {
                      "bdata": "ZmZmZmZuhUA=",
                      "dtype": "f8"
                    },
                    "sizemode": "area",
                    "sizeref": 5.421,
                    "symbol": "circle"
                  },
                  "mode": "markers",
                  "name": "Real Estate ",
                  "orientation": "v",
                  "showlegend": true,
                  "type": "scatter",
                  "x": [
                    "Real Estate "
                  ],
                  "xaxis": "x",
                  "y": {
                    "bdata": "ZmZmZmZuhUA=",
                    "dtype": "f8"
                  },
                  "yaxis": "y"
                },
                {
                  "hovertemplate": "industry=%{x}<br>networth=%{marker.size}<extra></extra>",
                  "legendgroup": "Automotive ",
                  "marker": {
                    "color": "#FF97FF",
                    "opacity": 0.85,
                    "size": {
                      "bdata": "zczMzMw0gkA=",
                      "dtype": "f8"
                    },
                    "sizemode": "area",
                    "sizeref": 5.421,
                    "symbol": "circle"
                  },
                  "mode": "markers",
                  "name": "Automotive ",
                  "orientation": "v",
                  "showlegend": true,
                  "type": "scatter",
                  "x": [
                    "Automotive "
                  ],
                  "xaxis": "x",
                  "y": {
                    "bdata": "zczMzMw0gkA=",
                    "dtype": "f8"
                  },
                  "yaxis": "y"
                },
                {
                  "hovertemplate": "industry=%{x}<br>networth=%{marker.size}<extra></extra>",
                  "legendgroup": "Media & Entertainment ",
                  "marker": {
                    "color": "#FECB52",
                    "opacity": 0.85,
                    "size": {
                      "bdata": "mpmZmZnZfkA=",
                      "dtype": "f8"
                    },
                    "sizemode": "area",
                    "sizeref": 5.421,
                    "symbol": "circle"
                  },
                  "mode": "markers",
                  "name": "Media & Entertainment ",
                  "orientation": "v",
                  "showlegend": true,
                  "type": "scatter",
                  "x": [
                    "Media & Entertainment "
                  ],
                  "xaxis": "x",
                  "y": {
                    "bdata": "mpmZmZnZfkA=",
                    "dtype": "f8"
                  },
                  "yaxis": "y"
                }
              ],
              "layout": {
                "legend": {
                  "itemsizing": "constant",
                  "title": {
                    "text": "industry"
                  },
                  "tracegroupgap": 0
                },
                "template": {
                  "data": {
                    "bar": [
                      {
                        "error_x": {
                          "color": "#f2f5fa"
                        },
                        "error_y": {
                          "color": "#f2f5fa"
                        },
                        "marker": {
                          "line": {
                            "color": "rgb(17,17,17)",
                            "width": 0.5
                          },
                          "pattern": {
                            "fillmode": "overlay",
                            "size": 10,
                            "solidity": 0.2
                          }
                        },
                        "type": "bar"
                      }
                    ],
                    "barpolar": [
                      {
                        "marker": {
                          "line": {
                            "color": "rgb(17,17,17)",
                            "width": 0.5
                          },
                          "pattern": {
                            "fillmode": "overlay",
                            "size": 10,
                            "solidity": 0.2
                          }
                        },
                        "type": "barpolar"
                      }
                    ],
                    "carpet": [
                      {
                        "aaxis": {
                          "endlinecolor": "#A2B1C6",
                          "gridcolor": "#506784",
                          "linecolor": "#506784",
                          "minorgridcolor": "#506784",
                          "startlinecolor": "#A2B1C6"
                        },
                        "baxis": {
                          "endlinecolor": "#A2B1C6",
                          "gridcolor": "#506784",
                          "linecolor": "#506784",
                          "minorgridcolor": "#506784",
                          "startlinecolor": "#A2B1C6"
                        },
                        "type": "carpet"
                      }
                    ],
                    "choropleth": [
                      {
                        "colorbar": {
                          "outlinewidth": 0,
                          "ticks": ""
                        },
                        "type": "choropleth"
                      }
                    ],
                    "contour": [
                      {
                        "colorbar": {
                          "outlinewidth": 0,
                          "ticks": ""
                        },
                        "colorscale": [
                          [
                            0,
                            "#0d0887"
                          ],
                          [
                            0.1111111111111111,
                            "#46039f"
                          ],
                          [
                            0.2222222222222222,
                            "#7201a8"
                          ],
                          [
                            0.3333333333333333,
                            "#9c179e"
                          ],
                          [
                            0.4444444444444444,
                            "#bd3786"
                          ],
                          [
                            0.5555555555555556,
                            "#d8576b"
                          ],
                          [
                            0.6666666666666666,
                            "#ed7953"
                          ],
                          [
                            0.7777777777777778,
                            "#fb9f3a"
                          ],
                          [
                            0.8888888888888888,
                            "#fdca26"
                          ],
                          [
                            1,
                            "#f0f921"
                          ]
                        ],
                        "type": "contour"
                      }
                    ],
                    "contourcarpet": [
                      {
                        "colorbar": {
                          "outlinewidth": 0,
                          "ticks": ""
                        },
                        "type": "contourcarpet"
                      }
                    ],
                    "heatmap": [
                      {
                        "colorbar": {
                          "outlinewidth": 0,
                          "ticks": ""
                        },
                        "colorscale": [
                          [
                            0,
                            "#0d0887"
                          ],
                          [
                            0.1111111111111111,
                            "#46039f"
                          ],
                          [
                            0.2222222222222222,
                            "#7201a8"
                          ],
                          [
                            0.3333333333333333,
                            "#9c179e"
                          ],
                          [
                            0.4444444444444444,
                            "#bd3786"
                          ],
                          [
                            0.5555555555555556,
                            "#d8576b"
                          ],
                          [
                            0.6666666666666666,
                            "#ed7953"
                          ],
                          [
                            0.7777777777777778,
                            "#fb9f3a"
                          ],
                          [
                            0.8888888888888888,
                            "#fdca26"
                          ],
                          [
                            1,
                            "#f0f921"
                          ]
                        ],
                        "type": "heatmap"
                      }
                    ],
                    "histogram": [
                      {
                        "marker": {
                          "pattern": {
                            "fillmode": "overlay",
                            "size": 10,
                            "solidity": 0.2
                          }
                        },
                        "type": "histogram"
                      }
                    ],
                    "histogram2d": [
                      {
                        "colorbar": {
                          "outlinewidth": 0,
                          "ticks": ""
                        },
                        "colorscale": [
                          [
                            0,
                            "#0d0887"
                          ],
                          [
                            0.1111111111111111,
                            "#46039f"
                          ],
                          [
                            0.2222222222222222,
                            "#7201a8"
                          ],
                          [
                            0.3333333333333333,
                            "#9c179e"
                          ],
                          [
                            0.4444444444444444,
                            "#bd3786"
                          ],
                          [
                            0.5555555555555556,
                            "#d8576b"
                          ],
                          [
                            0.6666666666666666,
                            "#ed7953"
                          ],
                          [
                            0.7777777777777778,
                            "#fb9f3a"
                          ],
                          [
                            0.8888888888888888,
                            "#fdca26"
                          ],
                          [
                            1,
                            "#f0f921"
                          ]
                        ],
                        "type": "histogram2d"
                      }
                    ],
                    "histogram2dcontour": [
                      {
                        "colorbar": {
                          "outlinewidth": 0,
                          "ticks": ""
                        },
                        "colorscale": [
                          [
                            0,
                            "#0d0887"
                          ],
                          [
                            0.1111111111111111,
                            "#46039f"
                          ],
                          [
                            0.2222222222222222,
                            "#7201a8"
                          ],
                          [
                            0.3333333333333333,
                            "#9c179e"
                          ],
                          [
                            0.4444444444444444,
                            "#bd3786"
                          ],
                          [
                            0.5555555555555556,
                            "#d8576b"
                          ],
                          [
                            0.6666666666666666,
                            "#ed7953"
                          ],
                          [
                            0.7777777777777778,
                            "#fb9f3a"
                          ],
                          [
                            0.8888888888888888,
                            "#fdca26"
                          ],
                          [
                            1,
                            "#f0f921"
                          ]
                        ],
                        "type": "histogram2dcontour"
                      }
                    ],
                    "mesh3d": [
                      {
                        "colorbar": {
                          "outlinewidth": 0,
                          "ticks": ""
                        },
                        "type": "mesh3d"
                      }
                    ],
                    "parcoords": [
                      {
                        "line": {
                          "colorbar": {
                            "outlinewidth": 0,
                            "ticks": ""
                          }
                        },
                        "type": "parcoords"
                      }
                    ],
                    "pie": [
                      {
                        "automargin": true,
                        "type": "pie"
                      }
                    ],
                    "scatter": [
                      {
                        "marker": {
                          "line": {
                            "color": "#283442"
                          }
                        },
                        "type": "scatter"
                      }
                    ],
                    "scatter3d": [
                      {
                        "line": {
                          "colorbar": {
                            "outlinewidth": 0,
                            "ticks": ""
                          }
                        },
                        "marker": {
                          "colorbar": {
                            "outlinewidth": 0,
                            "ticks": ""
                          }
                        },
                        "type": "scatter3d"
                      }
                    ],
                    "scattercarpet": [
                      {
                        "marker": {
                          "colorbar": {
                            "outlinewidth": 0,
                            "ticks": ""
                          }
                        },
                        "type": "scattercarpet"
                      }
                    ],
                    "scattergeo": [
                      {
                        "marker": {
                          "colorbar": {
                            "outlinewidth": 0,
                            "ticks": ""
                          }
                        },
                        "type": "scattergeo"
                      }
                    ],
                    "scattergl": [
                      {
                        "marker": {
                          "line": {
                            "color": "#283442"
                          }
                        },
                        "type": "scattergl"
                      }
                    ],
                    "scattermap": [
                      {
                        "marker": {
                          "colorbar": {
                            "outlinewidth": 0,
                            "ticks": ""
                          }
                        },
                        "type": "scattermap"
                      }
                    ],
                    "scattermapbox": [
                      {
                        "marker": {
                          "colorbar": {
                            "outlinewidth": 0,
                            "ticks": ""
                          }
                        },
                        "type": "scattermapbox"
                      }
                    ],
                    "scatterpolar": [
                      {
                        "marker": {
                          "colorbar": {
                            "outlinewidth": 0,
                            "ticks": ""
                          }
                        },
                        "type": "scatterpolar"
                      }
                    ],
                    "scatterpolargl": [
                      {
                        "marker": {
                          "colorbar": {
                            "outlinewidth": 0,
                            "ticks": ""
                          }
                        },
                        "type": "scatterpolargl"
                      }
                    ],
                    "scatterternary": [
                      {
                        "marker": {
                          "colorbar": {
                            "outlinewidth": 0,
                            "ticks": ""
                          }
                        },
                        "type": "scatterternary"
                      }
                    ],
                    "surface": [
                      {
                        "colorbar": {
                          "outlinewidth": 0,
                          "ticks": ""
                        },
                        "colorscale": [
                          [
                            0,
                            "#0d0887"
                          ],
                          [
                            0.1111111111111111,
                            "#46039f"
                          ],
                          [
                            0.2222222222222222,
                            "#7201a8"
                          ],
                          [
                            0.3333333333333333,
                            "#9c179e"
                          ],
                          [
                            0.4444444444444444,
                            "#bd3786"
                          ],
                          [
                            0.5555555555555556,
                            "#d8576b"
                          ],
                          [
                            0.6666666666666666,
                            "#ed7953"
                          ],
                          [
                            0.7777777777777778,
                            "#fb9f3a"
                          ],
                          [
                            0.8888888888888888,
                            "#fdca26"
                          ],
                          [
                            1,
                            "#f0f921"
                          ]
                        ],
                        "type": "surface"
                      }
                    ],
                    "table": [
                      {
                        "cells": {
                          "fill": {
                            "color": "#506784"
                          },
                          "line": {
                            "color": "rgb(17,17,17)"
                          }
                        },
                        "header": {
                          "fill": {
                            "color": "#2a3f5f"
                          },
                          "line": {
                            "color": "rgb(17,17,17)"
                          }
                        },
                        "type": "table"
                      }
                    ]
                  },
                  "layout": {
                    "annotationdefaults": {
                      "arrowcolor": "#f2f5fa",
                      "arrowhead": 0,
                      "arrowwidth": 1
                    },
                    "autotypenumbers": "strict",
                    "coloraxis": {
                      "colorbar": {
                        "outlinewidth": 0,
                        "ticks": ""
                      }
                    },
                    "colorscale": {
                      "diverging": [
                        [
                          0,
                          "#8e0152"
                        ],
                        [
                          0.1,
                          "#c51b7d"
                        ],
                        [
                          0.2,
                          "#de77ae"
                        ],
                        [
                          0.3,
                          "#f1b6da"
                        ],
                        [
                          0.4,
                          "#fde0ef"
                        ],
                        [
                          0.5,
                          "#f7f7f7"
                        ],
                        [
                          0.6,
                          "#e6f5d0"
                        ],
                        [
                          0.7,
                          "#b8e186"
                        ],
                        [
                          0.8,
                          "#7fbc41"
                        ],
                        [
                          0.9,
                          "#4d9221"
                        ],
                        [
                          1,
                          "#276419"
                        ]
                      ],
                      "sequential": [
                        [
                          0,
                          "#0d0887"
                        ],
                        [
                          0.1111111111111111,
                          "#46039f"
                        ],
                        [
                          0.2222222222222222,
                          "#7201a8"
                        ],
                        [
                          0.3333333333333333,
                          "#9c179e"
                        ],
                        [
                          0.4444444444444444,
                          "#bd3786"
                        ],
                        [
                          0.5555555555555556,
                          "#d8576b"
                        ],
                        [
                          0.6666666666666666,
                          "#ed7953"
                        ],
                        [
                          0.7777777777777778,
                          "#fb9f3a"
                        ],
                        [
                          0.8888888888888888,
                          "#fdca26"
                        ],
                        [
                          1,
                          "#f0f921"
                        ]
                      ],
                      "sequentialminus": [
                        [
                          0,
                          "#0d0887"
                        ],
                        [
                          0.1111111111111111,
                          "#46039f"
                        ],
                        [
                          0.2222222222222222,
                          "#7201a8"
                        ],
                        [
                          0.3333333333333333,
                          "#9c179e"
                        ],
                        [
                          0.4444444444444444,
                          "#bd3786"
                        ],
                        [
                          0.5555555555555556,
                          "#d8576b"
                        ],
                        [
                          0.6666666666666666,
                          "#ed7953"
                        ],
                        [
                          0.7777777777777778,
                          "#fb9f3a"
                        ],
                        [
                          0.8888888888888888,
                          "#fdca26"
                        ],
                        [
                          1,
                          "#f0f921"
                        ]
                      ]
                    },
                    "colorway": [
                      "#636efa",
                      "#EF553B",
                      "#00cc96",
                      "#ab63fa",
                      "#FFA15A",
                      "#19d3f3",
                      "#FF6692",
                      "#B6E880",
                      "#FF97FF",
                      "#FECB52"
                    ],
                    "font": {
                      "color": "#f2f5fa"
                    },
                    "geo": {
                      "bgcolor": "rgb(17,17,17)",
                      "lakecolor": "rgb(17,17,17)",
                      "landcolor": "rgb(17,17,17)",
                      "showlakes": true,
                      "showland": true,
                      "subunitcolor": "#506784"
                    },
                    "hoverlabel": {
                      "align": "left"
                    },
                    "hovermode": "closest",
                    "mapbox": {
                      "style": "dark"
                    },
                    "paper_bgcolor": "rgb(17,17,17)",
                    "plot_bgcolor": "rgb(17,17,17)",
                    "polar": {
                      "angularaxis": {
                        "gridcolor": "#506784",
                        "linecolor": "#506784",
                        "ticks": ""
                      },
                      "bgcolor": "rgb(17,17,17)",
                      "radialaxis": {
                        "gridcolor": "#506784",
                        "linecolor": "#506784",
                        "ticks": ""
                      }
                    },
                    "scene": {
                      "xaxis": {
                        "backgroundcolor": "rgb(17,17,17)",
                        "gridcolor": "#506784",
                        "gridwidth": 2,
                        "linecolor": "#506784",
                        "showbackground": true,
                        "ticks": "",
                        "zerolinecolor": "#C8D4E3"
                      },
                      "yaxis": {
                        "backgroundcolor": "rgb(17,17,17)",
                        "gridcolor": "#506784",
                        "gridwidth": 2,
                        "linecolor": "#506784",
                        "showbackground": true,
                        "ticks": "",
                        "zerolinecolor": "#C8D4E3"
                      },
                      "zaxis": {
                        "backgroundcolor": "rgb(17,17,17)",
                        "gridcolor": "#506784",
                        "gridwidth": 2,
                        "linecolor": "#506784",
                        "showbackground": true,
                        "ticks": "",
                        "zerolinecolor": "#C8D4E3"
                      }
                    },
                    "shapedefaults": {
                      "line": {
                        "color": "#f2f5fa"
                      }
                    },
                    "sliderdefaults": {
                      "bgcolor": "#C8D4E3",
                      "bordercolor": "rgb(17,17,17)",
                      "borderwidth": 1,
                      "tickwidth": 0
                    },
                    "ternary": {
                      "aaxis": {
                        "gridcolor": "#506784",
                        "linecolor": "#506784",
                        "ticks": ""
                      },
                      "baxis": {
                        "gridcolor": "#506784",
                        "linecolor": "#506784",
                        "ticks": ""
                      },
                      "bgcolor": "rgb(17,17,17)",
                      "caxis": {
                        "gridcolor": "#506784",
                        "linecolor": "#506784",
                        "ticks": ""
                      }
                    },
                    "title": {
                      "x": 0.05
                    },
                    "updatemenudefaults": {
                      "bgcolor": "#506784",
                      "borderwidth": 0
                    },
                    "xaxis": {
                      "automargin": true,
                      "gridcolor": "#283442",
                      "linecolor": "#506784",
                      "ticks": "",
                      "title": {
                        "standoff": 15
                      },
                      "zerolinecolor": "#283442",
                      "zerolinewidth": 2
                    },
                    "yaxis": {
                      "automargin": true,
                      "gridcolor": "#283442",
                      "linecolor": "#506784",
                      "ticks": "",
                      "title": {
                        "standoff": 15
                      },
                      "zerolinecolor": "#283442",
                      "zerolinewidth": 2
                    }
                  }
                },
                "title": {
                  "text": "<b>Total networth of billionaires in top 10 industries"
                },
                "xaxis": {
                  "anchor": "y",
                  "categoryarray": [
                    "Technology ",
                    "Finance & Investments ",
                    "Fashion & Retail ",
                    "Manufacturing ",
                    "Diversified ",
                    "Food & Beverage ",
                    "Healthcare ",
                    "Real Estate ",
                    "Automotive ",
                    "Media & Entertainment "
                  ],
                  "categoryorder": "array",
                  "domain": [
                    0,
                    1
                  ],
                  "title": {
                    "text": "industry"
                  }
                },
                "yaxis": {
                  "anchor": "x",
                  "domain": [
                    0,
                    1
                  ],
                  "title": {
                    "text": "networth"
                  }
                }
              }
            }
          },
          "metadata": {},
          "output_type": "display_data"
        }
      ],
      "source": [
        "# Total networth of billionaires in top 10 industries\n",
        "industry_networth = df.groupby(\n",
        "    'industry').sum()[['networth']].sort_values(\n",
        "        'networth', ascending = False).reset_index().head(10)\n",
        "fig=px.scatter(\n",
        "    industry_networth,\n",
        "    x ='industry',\n",
        "    y = 'networth',\n",
        "    template = 'plotly_dark',\n",
        "    color = 'industry',\n",
        "    size = 'networth' ,\n",
        "    opacity = 0.85,\n",
        "    title=\"<b>Total networth of billionaires in top 10 industries\")\n",
        "fig.show()"
      ]
    },
    {
      "cell_type": "markdown",
      "metadata": {
        "id": "raEDQHZDKq3z"
      },
      "source": [
        "Insights\n",
        "\n",
        "- Technology industry has the highest total networth of around 2168.4 B dollars\n",
        "- Finance and Investment is the second source in industries with a networth of 1734.3 B dollars\n",
        "- Media and Entertainment has the lowest total networth in top 10 industries which is 496.3 B dollars"
      ]
    },
    {
      "cell_type": "markdown",
      "metadata": {
        "id": "xuYuTwHcHDjb"
      },
      "source": [
        "## Conclusion"
      ]
    },
    {
      "cell_type": "markdown",
      "metadata": {
        "id": "YojFhKg0HFD5"
      },
      "source": [
        "### Richest\n",
        "\n",
        "- The richest billionaire is Elon Mustk from United States with a networth of 219 B dollars with an age of 50 years. His source of networth is Tesla and SpaceX and he mainly focused on the industry of Automative\n",
        "\n",
        "### Youngest\n",
        "\n",
        "- The youngest billionaire is Kevin David Lehmann from Germany with a networth of 2.4 B dollars with an age of 19 years. His source of networth is Drugstores and he mainly focused on the industry of Fashion and Retail\n",
        "\n",
        "### Oldest\n",
        "\n",
        "- The oldest billionaire is George Joseph from United States with a networth of 1.8 B dollars with an age of 100 years. His source of networth is Insurance and he mainly focused on the industry of Fincance and Investment\n",
        "\n",
        "### Country\n",
        "\n",
        "- Most of the top 10 billionaires are from United States and the total networth of all the billionaires in this countryy is 4685.1 B dollars. It's highest networth is in the industry of Fincance and Investment and additonaly, it's the only country to be doing business in Gambling and Casinos\n",
        "\n",
        "### Industry\n",
        "\n",
        "- The industry of Technology is the one having the highest total networth of around 2168.4 B dollars. Furthermore, most of the top 10 billionaires have their networth in this industry.\n",
        "\n",
        "### Source\n",
        "\n",
        "- The source of Real state is the one having the highest total networth of around 573.8 B dollars. However, none of the top 10 billionaires have their networth in this source."
      ]
    }
  ],
  "metadata": {
    "colab": {
      "provenance": []
    },
    "kernelspec": {
      "display_name": "Python 3",
      "name": "python3"
    },
    "language_info": {
      "codemirror_mode": {
        "name": "ipython",
        "version": 3
      },
      "file_extension": ".py",
      "mimetype": "text/x-python",
      "name": "python",
      "nbconvert_exporter": "python",
      "pygments_lexer": "ipython3",
      "version": "3.13.5"
    }
  },
  "nbformat": 4,
  "nbformat_minor": 0
}
